{
 "cells": [
  {
   "cell_type": "code",
   "execution_count": 5,
   "id": "6d98a81c-71ff-4925-b948-c12d3ce970b7",
   "metadata": {},
   "outputs": [
    {
     "data": {
      "text/plain": [
       "<enumerate at 0x291206633d0>"
      ]
     },
     "execution_count": 5,
     "metadata": {},
     "output_type": "execute_result"
    }
   ],
   "source": [
    "#help(enumerate)\n",
    "s='python'\n",
    "enumerate(s)"
   ]
  },
  {
   "cell_type": "code",
   "execution_count": 9,
   "id": "cfe57cc6-4897-4983-851d-da0a3ab6b831",
   "metadata": {},
   "outputs": [
    {
     "name": "stdout",
     "output_type": "stream",
     "text": [
      "(0, 'p')\n",
      "(1, 'y')\n",
      "(2, 't')\n",
      "(3, 'h')\n",
      "(4, 'o')\n",
      "(5, 'n')\n"
     ]
    },
    {
     "ename": "StopIteration",
     "evalue": "",
     "output_type": "error",
     "traceback": [
      "\u001b[1;31m---------------------------------------------------------------------------\u001b[0m",
      "\u001b[1;31mStopIteration\u001b[0m                             Traceback (most recent call last)",
      "Cell \u001b[1;32mIn[9], line 8\u001b[0m\n\u001b[0;32m      6\u001b[0m \u001b[38;5;28mprint\u001b[39m(\u001b[38;5;28mnext\u001b[39m(genobj))\n\u001b[0;32m      7\u001b[0m \u001b[38;5;28mprint\u001b[39m(\u001b[38;5;28mnext\u001b[39m(genobj))\n\u001b[1;32m----> 8\u001b[0m \u001b[38;5;28mprint\u001b[39m(\u001b[38;5;28mnext\u001b[39m(genobj))\n",
      "\u001b[1;31mStopIteration\u001b[0m: "
     ]
    }
   ],
   "source": [
    "genobj = enumerate(s)\n",
    "print(next(genobj))\n",
    "print(next(genobj))\n",
    "print(next(genobj))\n",
    "print(next(genobj))\n",
    "print(next(genobj))\n",
    "print(next(genobj))\n",
    "print(next(genobj))"
   ]
  },
  {
   "cell_type": "code",
   "execution_count": 11,
   "id": "dd04db52-7c46-4f15-989c-944a1440cceb",
   "metadata": {},
   "outputs": [
    {
     "name": "stdout",
     "output_type": "stream",
     "text": [
      "(0, 'p')\n",
      "(1, 'y')\n",
      "(2, 't')\n",
      "(3, 'h')\n",
      "(4, 'o')\n",
      "(5, 'n')\n"
     ]
    }
   ],
   "source": [
    "genobj = enumerate(s) # enumerate(s,start=0)\n",
    "for var in genobj:\n",
    "    print(var)"
   ]
  },
  {
   "cell_type": "code",
   "execution_count": 13,
   "id": "ae1e74c9-7b2d-4658-966b-f7dd1b3db920",
   "metadata": {},
   "outputs": [
    {
     "name": "stdout",
     "output_type": "stream",
     "text": [
      "(5, 'p')\n",
      "(6, 'y')\n",
      "(7, 't')\n",
      "(8, 'h')\n",
      "(9, 'o')\n",
      "(10, 'n')\n"
     ]
    }
   ],
   "source": [
    "genobj = enumerate(s,5)\n",
    "for var in genobj:\n",
    "    print(var)"
   ]
  },
  {
   "cell_type": "code",
   "execution_count": 15,
   "id": "96ed1e0b-b72f-47b1-b5cf-352bf6447d10",
   "metadata": {},
   "outputs": [
    {
     "name": "stdout",
     "output_type": "stream",
     "text": [
      "(100, 'p')\n",
      "(101, 'y')\n",
      "(102, 't')\n",
      "(103, 'h')\n",
      "(104, 'o')\n",
      "(105, 'n')\n"
     ]
    }
   ],
   "source": [
    "genobj = enumerate(s,100)\n",
    "for var in genobj:\n",
    "    print(var)"
   ]
  },
  {
   "cell_type": "code",
   "execution_count": 19,
   "id": "28c6dd4f-7f10-43a8-b04b-a80389bda87f",
   "metadata": {},
   "outputs": [
    {
     "name": "stdout",
     "output_type": "stream",
     "text": [
      "(0, 'eid,ename,edept,eplace,ecost\\n')\n",
      "(1, '101,ram,sales,pune,1000\\n')\n",
      "(2, '102,leo,prod,bglore,2000\\n')\n",
      "(3, '103,anu,HR,hyd,3000\\n')\n",
      "(4, '104,paul,sales,bglore,3200\\n')\n",
      "(5, '423,zio,sales,pune,3420\\n')\n",
      "(6, '142,anu,prod,chennai,4300\\n')\n",
      "(7, '949,karthik,sales,bglore,3100\\n')\n",
      "(8, '848,tom,hr,chennai,3940\\n')\n",
      "(9, '931,vijay,prod,chennai,3411')\n"
     ]
    }
   ],
   "source": [
    "for var in enumerate(open('emp.csv')):\n",
    "    print(var)"
   ]
  },
  {
   "cell_type": "code",
   "execution_count": 21,
   "id": "4653e5d7-2b8a-4545-98b2-0bc23ae68be1",
   "metadata": {},
   "outputs": [
    {
     "name": "stdout",
     "output_type": "stream",
     "text": [
      "(1, 'eid,ename,edept,eplace,ecost\\n')\n",
      "(2, '101,ram,sales,pune,1000\\n')\n",
      "(3, '102,leo,prod,bglore,2000\\n')\n",
      "(4, '103,anu,HR,hyd,3000\\n')\n",
      "(5, '104,paul,sales,bglore,3200\\n')\n",
      "(6, '423,zio,sales,pune,3420\\n')\n",
      "(7, '142,anu,prod,chennai,4300\\n')\n",
      "(8, '949,karthik,sales,bglore,3100\\n')\n",
      "(9, '848,tom,hr,chennai,3940\\n')\n",
      "(10, '931,vijay,prod,chennai,3411')\n"
     ]
    }
   ],
   "source": [
    "for var in enumerate(open('emp.csv'),1):\n",
    "    print(var)"
   ]
  },
  {
   "cell_type": "code",
   "execution_count": 23,
   "id": "5521fcd8-c1d0-41aa-b93c-b32c1f432b30",
   "metadata": {},
   "outputs": [
    {
     "name": "stdout",
     "output_type": "stream",
     "text": [
      "1 eid,ename,edept,eplace,ecost\n",
      "2 101,ram,sales,pune,1000\n",
      "3 102,leo,prod,bglore,2000\n",
      "4 103,anu,HR,hyd,3000\n",
      "5 104,paul,sales,bglore,3200\n",
      "6 423,zio,sales,pune,3420\n",
      "7 142,anu,prod,chennai,4300\n",
      "8 949,karthik,sales,bglore,3100\n",
      "9 848,tom,hr,chennai,3940\n",
      "10 931,vijay,prod,chennai,3411\n"
     ]
    }
   ],
   "source": [
    "for var in enumerate(open('emp.csv'),1):\n",
    "    line,data = var # multiple initialization\n",
    "    print(line,data.strip()) # remove \\n chars"
   ]
  },
  {
   "cell_type": "code",
   "execution_count": 25,
   "id": "77112e2c-960e-4d97-8611-5de39857b986",
   "metadata": {},
   "outputs": [
    {
     "data": {
      "text/plain": [
       "['D1', 'D2']"
      ]
     },
     "execution_count": 25,
     "metadata": {},
     "output_type": "execute_result"
    }
   ],
   "source": [
    "def fx():\n",
    "    return ['D1','D2']\n",
    "\n",
    "def fy():\n",
    "    return 'STDOUT','STDERR'\n",
    "\n",
    "fx()"
   ]
  },
  {
   "cell_type": "code",
   "execution_count": 27,
   "id": "ffbd9487-4811-4718-9811-22098ba98215",
   "metadata": {},
   "outputs": [
    {
     "name": "stdout",
     "output_type": "stream",
     "text": [
      "D1\n",
      "D2\n"
     ]
    }
   ],
   "source": [
    "v1,v2 = fx()\n",
    "print(v1)\n",
    "print(v2)"
   ]
  },
  {
   "cell_type": "code",
   "execution_count": 29,
   "id": "c311dfc2-0a1d-448f-9f59-f9648f46889d",
   "metadata": {},
   "outputs": [
    {
     "data": {
      "text/plain": [
       "('STDOUT', 'STDERR')"
      ]
     },
     "execution_count": 29,
     "metadata": {},
     "output_type": "execute_result"
    }
   ],
   "source": [
    "fy()"
   ]
  },
  {
   "cell_type": "code",
   "execution_count": 33,
   "id": "0d075998-7ecd-4ffd-a484-e42c0940d1a6",
   "metadata": {},
   "outputs": [
    {
     "name": "stdout",
     "output_type": "stream",
     "text": [
      "5 104,paul,sales,bglore,3200\n",
      "6 423,zio,sales,pune,3420\n",
      "7 142,anu,prod,chennai,4300\n"
     ]
    }
   ],
   "source": [
    "for var in enumerate(open('emp.csv'),1):\n",
    "    line,data = var # multiple initialization\n",
    "    if(line >=5 and line <= 7):\n",
    "        print(line,data.strip()) # remove \\n chars"
   ]
  },
  {
   "cell_type": "code",
   "execution_count": 35,
   "id": "5fd6f463-b05c-451d-b7a3-a3ca8cfbed6a",
   "metadata": {},
   "outputs": [
    {
     "name": "stdout",
     "output_type": "stream",
     "text": [
      "1 eid,ename,edept,eplace,ecost\n",
      "2 101,ram,sales,pune,1000\n",
      "3 102,leo,prod,bglore,2000\n",
      "4 103,anu,HR,hyd,3000\n",
      "8 949,karthik,sales,bglore,3100\n",
      "9 848,tom,hr,chennai,3940\n",
      "10 931,vijay,prod,chennai,3411\n"
     ]
    }
   ],
   "source": [
    "for var in enumerate(open('emp.csv'),1):\n",
    "    line,data = var # multiple initialization\n",
    "    if not(line >=5 and line <= 7):\n",
    "        print(line,data.strip()) # remove \\n chars"
   ]
  },
  {
   "cell_type": "code",
   "execution_count": 41,
   "id": "433d11bd-c063-4346-9e75-3dde137aec8c",
   "metadata": {},
   "outputs": [],
   "source": [
    "#for var in open('emp.csv'):\n",
    "#    print(var)\n",
    "\n",
    "#list(open('emp.csv'))"
   ]
  },
  {
   "cell_type": "code",
   "execution_count": null,
   "id": "ae454c7e-ef3c-43ba-8c37-d7c6642e4e3b",
   "metadata": {},
   "outputs": [],
   "source": [
    "regular expression\n",
    "--------------------\n",
    " |-> search    - search a pattern\n",
    " |-> substitute - replace \n",
    "     \n",
    " |-> split  - split data into multiple values(columns)\n",
    "\n",
    "import re\n",
    "re.search() =>re.search('pattern_string','input_string',re.I) -> ack ->bool(ack) ->True / None\n",
    "                Vs\n",
    "re.findall() =>re.findall('pattern_string','input_string',re.I) ->[result] /[]\n",
    "\n",
    "Regx\n",
    "-----\n",
    "BRE - Single pattern           Vs   ERE  - Multiple pattern\n",
    "^                                     |   ->pattern1|pattern2 ->any one pattern is matched ->OK\n",
    "$                                     ()  ->(pattern1)(pattern2) ->both pattern should match\n",
    "^pattern$                             +   -> 1 or more  \n",
    ".                                     {}  -> <pattern>{n} -> ntimes => ab{3}c =>abbbc //OK \n",
    "                                                             abc abbc abbbbc //Notmatched\n",
    ".*                                           <pattern>{n,} ->minimum 'n' times \n",
    "[] ^[] []$ [^ ]                                              ab{3,}c => abbbc abbbbbbbbbbbbbbbbbbc //OK\n",
    "^$ -> empty                                  <pattern>{n,m} ->minimum 'n' times and maximum 'm' times\n",
    "                                                            ab{3,5}c ->abbbc abbbbc abbbbbc //OK\n",
    "                                                            abc abbc abbbbbbc//Not-matched\n",
    "[aA]run -> arun Arun //OK\n",
    "[aAv][rR]un ->arun aRun Arun ARun vrun vRun //OK\n",
    "[a-z] - match any lowercase chars\n",
    "[A-Z] - match any uppercase chars\n",
    "[a-zA-Z] - match any alpha \n",
    "[0-9] - match any digits      <== \\d\n",
    "[a-zA-Z0-9] - match any alpha numeric <== \\w\n",
    "\n",
    "[abc] - search pattern 'a' 'b' 'c' any where from input_string  d[a]y - matched \n",
    "^[abc] - search pattern line starts with 'a'                    \n",
    "         search pattern line starts with 'b'\n",
    "         search pattern line starts with 'c'\n",
    "[^abc] - NOT MATCHING 'a' 'b' 'c'\n",
    "[^a-z] - Not matching any lowercase chars\n",
    "space => \\s"
   ]
  },
  {
   "cell_type": "code",
   "execution_count": 43,
   "id": "5469538d-733a-4342-9b6c-5678c09b28f3",
   "metadata": {},
   "outputs": [
    {
     "data": {
      "text/plain": [
       "<re.Match object; span=(8, 13), match='sales'>"
      ]
     },
     "execution_count": 43,
     "metadata": {},
     "output_type": "execute_result"
    }
   ],
   "source": [
    "import re\n",
    "re.search('sales','101,raj,sales,pune,1000')"
   ]
  },
  {
   "cell_type": "code",
   "execution_count": 45,
   "id": "12e347a7-3440-4e7a-b01b-6173e6623e1e",
   "metadata": {},
   "outputs": [],
   "source": [
    "re.search('QA','101,raj,sales,pune,1000')"
   ]
  },
  {
   "cell_type": "code",
   "execution_count": 47,
   "id": "dbec595b-054d-45a1-92c1-742a8488eba8",
   "metadata": {},
   "outputs": [
    {
     "data": {
      "text/plain": [
       "True"
      ]
     },
     "execution_count": 47,
     "metadata": {},
     "output_type": "execute_result"
    }
   ],
   "source": [
    "bool(re.search('sales','101,raj,sales,pune,1000'))"
   ]
  },
  {
   "cell_type": "code",
   "execution_count": 49,
   "id": "154dc4c1-ae5c-4568-822b-88829f1ff841",
   "metadata": {},
   "outputs": [
    {
     "data": {
      "text/plain": [
       "False"
      ]
     },
     "execution_count": 49,
     "metadata": {},
     "output_type": "execute_result"
    }
   ],
   "source": [
    "bool(re.search('QA','101,raj,sales,pune,1000'))"
   ]
  },
  {
   "cell_type": "code",
   "execution_count": 51,
   "id": "4fd304d0-8801-488c-8667-bf82e868f4c7",
   "metadata": {},
   "outputs": [],
   "source": [
    "re.search('SALES','sales')"
   ]
  },
  {
   "cell_type": "code",
   "execution_count": 53,
   "id": "fa9cb968-7c20-482c-8b69-50a92e6af95e",
   "metadata": {},
   "outputs": [
    {
     "data": {
      "text/plain": [
       "<re.Match object; span=(0, 5), match='sales'>"
      ]
     },
     "execution_count": 53,
     "metadata": {},
     "output_type": "execute_result"
    }
   ],
   "source": [
    "re.search('SALES','sales',re.I) # re.IGNORECASE"
   ]
  },
  {
   "cell_type": "raw",
   "id": "5803e27f-78ea-4d20-b655-7eabc5740511",
   "metadata": {},
   "source": [
    "# grep pattern inputFileName - commandline - linux\n",
    "# findstr pattern inputFileName - commandline - winx\n",
    "\n",
    "open a file  -----------------------\n",
    "read a content - line by line ------\n",
    "search a pattern ------------------------\n",
    "display matched pattern lines only - if only"
   ]
  },
  {
   "cell_type": "code",
   "execution_count": 57,
   "id": "4de46cd7-48c5-42d0-a884-0ac5779edfeb",
   "metadata": {},
   "outputs": [
    {
     "name": "stdout",
     "output_type": "stream",
     "text": [
      "101,ram,sales,pune,1000\n",
      "102,leo,prod,bglore,2000\n",
      "104,paul,sales,bglore,3200\n",
      "423,zio,sales,pune,3420\n",
      "142,anu,prod,chennai,4300\n",
      "949,karthik,sales,bglore,3100\n",
      "931,vijay,prod,chennai,3411\n"
     ]
    }
   ],
   "source": [
    "fobj = open('emp.csv')\n",
    "L = fobj.readlines()\n",
    "fobj.close()\n",
    "\n",
    "for var in L:\n",
    "    if(re.search('sales|prod|DBA|CRM',var,re.I)):\n",
    "        print(var.strip()) # remove \\n"
   ]
  },
  {
   "cell_type": "code",
   "execution_count": 59,
   "id": "33680188-a06d-4016-8dbd-16ec5a9e7c71",
   "metadata": {},
   "outputs": [
    {
     "name": "stdout",
     "output_type": "stream",
     "text": [
      "101,ram,sales,pune,1000\n",
      "102,leo,prod,bglore,2000\n",
      "104,paul,sales,bglore,3200\n",
      "423,zio,sales,pune,3420\n",
      "142,anu,prod,chennai,4300\n",
      "949,karthik,sales,bglore,3100\n",
      "931,vijay,prod,chennai,3411\n"
     ]
    }
   ],
   "source": [
    "for var in open('emp.csv'):\n",
    "    if(re.search('sales|prod|DBA|CRM',var,re.I)):\n",
    "        print(var.strip())"
   ]
  },
  {
   "cell_type": "code",
   "execution_count": 61,
   "id": "3d118ca3-0419-4109-bc4e-62e8e807ca55",
   "metadata": {},
   "outputs": [
    {
     "name": "stdout",
     "output_type": "stream",
     "text": [
      "949,karthik,sales,bglore,3100\n",
      "848,tom,hr,chennai,3940\n",
      "931,vijay,prod,chennai,3411\n"
     ]
    }
   ],
   "source": [
    "for var in open('emp.csv'):\n",
    "    if(re.search('^[89]',var,re.I)): # searching a pattern line starts with '8' <or> '9'\n",
    "        print(var.strip())"
   ]
  },
  {
   "cell_type": "code",
   "execution_count": 65,
   "id": "83cb2f66-6309-4c1e-a6fd-3c57c8857209",
   "metadata": {},
   "outputs": [
    {
     "data": {
      "text/plain": [
       "['101,ram,sales,pune,1000',\n",
       " '102,leo,prod,bglore,2000',\n",
       " '104,paul,sales,bglore,3200',\n",
       " '423,zio,sales,pune,3420',\n",
       " '142,anu,prod,chennai,4300',\n",
       " '949,karthik,sales,bglore,3100',\n",
       " '931,vijay,prod,chennai,3411']"
      ]
     },
     "execution_count": 65,
     "metadata": {},
     "output_type": "execute_result"
    }
   ],
   "source": [
    "L=[]\n",
    "for var in open('emp.csv'):\n",
    "    if(re.search('sales|prod|DBA|CRM',var,re.I)):\n",
    "        L.append(var.strip())\n",
    "\n",
    "L"
   ]
  },
  {
   "cell_type": "code",
   "execution_count": 63,
   "id": "589ac553-8da4-4467-b470-3001bc354179",
   "metadata": {},
   "outputs": [
    {
     "data": {
      "text/plain": [
       "['101,ram,sales,pune,1000',\n",
       " '102,leo,prod,bglore,2000',\n",
       " '104,paul,sales,bglore,3200',\n",
       " '423,zio,sales,pune,3420',\n",
       " '142,anu,prod,chennai,4300',\n",
       " '949,karthik,sales,bglore,3100',\n",
       " '931,vijay,prod,chennai,3411']"
      ]
     },
     "execution_count": 63,
     "metadata": {},
     "output_type": "execute_result"
    }
   ],
   "source": [
    "# L=[]\n",
    "# for var in open('emp.csv'):\n",
    "#    if(re.search('sales|prod|DBA|CRM',var,re.I)):\n",
    "#        L.append(var.strip())\n",
    "\n",
    "# [value for iterable if condition]\n",
    "\n",
    "[var.strip() for var in open('emp.csv') if(re.search('sales|prod|CRM|DBA',var,re.I))]"
   ]
  },
  {
   "cell_type": "code",
   "execution_count": 67,
   "id": "b80e1cca-b140-4ce4-a5a1-f5f8828a7595",
   "metadata": {},
   "outputs": [],
   "source": [
    "# read a csv file\n",
    "# filter list of emp's dept wise\n",
    "# each dept - key - initialize dept values to dict\n",
    "\n",
    "d={} # empty dict\n",
    "\n",
    "sales,prod,HR,others = [],[],[],[] # multiple initialization\n",
    "\n",
    "for var in open('emp.csv'):\n",
    "    if(re.search('sales',var,re.I)):\n",
    "        sales.append(var.strip())\n",
    "    elif(re.search('prod',var,re.I)):\n",
    "        prod.append(var.strip())\n",
    "    elif(re.search('HR',var,re.I)):\n",
    "        HR.append(var.strip())\n",
    "    else:\n",
    "        others.append(var.strip())"
   ]
  },
  {
   "cell_type": "code",
   "execution_count": 69,
   "id": "85d1e931-3de0-4037-94a3-7861e2e6b089",
   "metadata": {},
   "outputs": [
    {
     "data": {
      "text/plain": [
       "['101,ram,sales,pune,1000',\n",
       " '104,paul,sales,bglore,3200',\n",
       " '423,zio,sales,pune,3420',\n",
       " '949,karthik,sales,bglore,3100']"
      ]
     },
     "execution_count": 69,
     "metadata": {},
     "output_type": "execute_result"
    }
   ],
   "source": [
    "sales"
   ]
  },
  {
   "cell_type": "code",
   "execution_count": 71,
   "id": "95bb3490-348d-4dcc-b190-218a4d097bdd",
   "metadata": {},
   "outputs": [
    {
     "data": {
      "text/plain": [
       "['102,leo,prod,bglore,2000',\n",
       " '142,anu,prod,chennai,4300',\n",
       " '931,vijay,prod,chennai,3411']"
      ]
     },
     "execution_count": 71,
     "metadata": {},
     "output_type": "execute_result"
    }
   ],
   "source": [
    "prod"
   ]
  },
  {
   "cell_type": "code",
   "execution_count": 73,
   "id": "77e3de7d-680d-4079-b358-741292bc8ca3",
   "metadata": {},
   "outputs": [
    {
     "data": {
      "text/plain": [
       "['103,anu,HR,hyd,3000', '848,tom,hr,chennai,3940']"
      ]
     },
     "execution_count": 73,
     "metadata": {},
     "output_type": "execute_result"
    }
   ],
   "source": [
    "HR"
   ]
  },
  {
   "cell_type": "code",
   "execution_count": 75,
   "id": "07eb920d-290a-4c81-81c9-f0a8f39c98b5",
   "metadata": {},
   "outputs": [
    {
     "data": {
      "text/plain": [
       "['eid,ename,edept,eplace,ecost']"
      ]
     },
     "execution_count": 75,
     "metadata": {},
     "output_type": "execute_result"
    }
   ],
   "source": [
    "others"
   ]
  },
  {
   "cell_type": "code",
   "execution_count": 77,
   "id": "a2cdd901-32a5-48a0-bfc1-85c8c97f02bc",
   "metadata": {},
   "outputs": [
    {
     "data": {
      "text/plain": [
       "{'SALES': ['101,ram,sales,pune,1000',\n",
       "  '104,paul,sales,bglore,3200',\n",
       "  '423,zio,sales,pune,3420',\n",
       "  '949,karthik,sales,bglore,3100'],\n",
       " 'PROD': ['102,leo,prod,bglore,2000',\n",
       "  '142,anu,prod,chennai,4300',\n",
       "  '931,vijay,prod,chennai,3411'],\n",
       " 'HR': ['103,anu,HR,hyd,3000', '848,tom,hr,chennai,3940']}"
      ]
     },
     "execution_count": 77,
     "metadata": {},
     "output_type": "execute_result"
    }
   ],
   "source": [
    "d['SALES']=sales\n",
    "d['PROD']=prod\n",
    "d['HR']=HR\n",
    "d"
   ]
  },
  {
   "cell_type": "code",
   "execution_count": 79,
   "id": "fb02d883-45e8-4c61-8699-d20eaed5dc94",
   "metadata": {},
   "outputs": [
    {
     "data": {
      "text/plain": [
       "'{\"SALES\": [\"101,ram,sales,pune,1000\", \"104,paul,sales,bglore,3200\", \"423,zio,sales,pune,3420\", \"949,karthik,sales,bglore,3100\"], \"PROD\": [\"102,leo,prod,bglore,2000\", \"142,anu,prod,chennai,4300\", \"931,vijay,prod,chennai,3411\"], \"HR\": [\"103,anu,HR,hyd,3000\", \"848,tom,hr,chennai,3940\"]}'"
      ]
     },
     "execution_count": 79,
     "metadata": {},
     "output_type": "execute_result"
    }
   ],
   "source": [
    "import json\n",
    "json.dumps(d) # convert to json - json object"
   ]
  },
  {
   "cell_type": "code",
   "execution_count": 81,
   "id": "daeb73b9-c871-42ec-978a-242f7d45db09",
   "metadata": {},
   "outputs": [
    {
     "data": {
      "text/plain": [
       "{'SALES': ['101,ram,sales,pune,1000',\n",
       "  '104,paul,sales,bglore,3200',\n",
       "  '423,zio,sales,pune,3420',\n",
       "  '949,karthik,sales,bglore,3100'],\n",
       " 'PROD': ['102,leo,prod,bglore,2000',\n",
       "  '142,anu,prod,chennai,4300',\n",
       "  '931,vijay,prod,chennai,3411'],\n",
       " 'HR': ['103,anu,HR,hyd,3000', '848,tom,hr,chennai,3940']}"
      ]
     },
     "execution_count": 81,
     "metadata": {},
     "output_type": "execute_result"
    }
   ],
   "source": [
    "jd = json.dumps(d)\n",
    "json.loads(jd) # from json to python"
   ]
  },
  {
   "cell_type": "code",
   "execution_count": 83,
   "id": "b9e784c8-28e1-4e32-97bf-9c1aa2d00379",
   "metadata": {},
   "outputs": [
    {
     "data": {
      "text/plain": [
       "'raj,QA,pune'"
      ]
     },
     "execution_count": 83,
     "metadata": {},
     "output_type": "execute_result"
    }
   ],
   "source": [
    "#re.sub('oldpattern_String','replaceString','inputString',<count>,re.I) ->string\n",
    "#          (Regx)                                                         \n",
    "re.sub('sales','QA','raj,sales,pune')"
   ]
  },
  {
   "cell_type": "code",
   "execution_count": 85,
   "id": "f994744c-408e-4097-9f93-0a7a0065f673",
   "metadata": {},
   "outputs": [
    {
     "data": {
      "text/plain": [
       "'raj,sales,pune'"
      ]
     },
     "execution_count": 85,
     "metadata": {},
     "output_type": "execute_result"
    }
   ],
   "source": [
    "re.sub('HR','QA','raj,sales,pune')"
   ]
  },
  {
   "cell_type": "code",
   "execution_count": 87,
   "id": "222710ee-89e0-454b-85dc-df8611c8f0aa",
   "metadata": {},
   "outputs": [
    {
     "data": {
      "text/plain": [
       "'raj,,pune'"
      ]
     },
     "execution_count": 87,
     "metadata": {},
     "output_type": "execute_result"
    }
   ],
   "source": [
    "re.sub('sales','','raj,sales,pune') # delete a sales word"
   ]
  },
  {
   "cell_type": "code",
   "execution_count": 89,
   "id": "c3ad1c71-a501-4ed0-9f34-ef539d4b09f8",
   "metadata": {},
   "outputs": [
    {
     "data": {
      "text/plain": [
       "'raj,pune'"
      ]
     },
     "execution_count": 89,
     "metadata": {},
     "output_type": "execute_result"
    }
   ],
   "source": [
    "re.sub('sales.','','raj,sales,pune')"
   ]
  },
  {
   "cell_type": "code",
   "execution_count": 91,
   "id": "1a8ec3cb-bded-422d-ad78-aecb90ac8504",
   "metadata": {},
   "outputs": [
    {
     "data": {
      "text/plain": [
       "'***,raj,***,pune,***,SALES'"
      ]
     },
     "execution_count": 91,
     "metadata": {},
     "output_type": "execute_result"
    }
   ],
   "source": [
    "re.sub('sales','***','sales,raj,sales,pune,sales,SALES')"
   ]
  },
  {
   "cell_type": "code",
   "execution_count": 93,
   "id": "97210194-124e-4915-9d5f-384d3420211a",
   "metadata": {},
   "outputs": [
    {
     "data": {
      "text/plain": [
       "'***,raj,sales,pune,sales,SALES'"
      ]
     },
     "execution_count": 93,
     "metadata": {},
     "output_type": "execute_result"
    }
   ],
   "source": [
    "re.sub('sales','***','sales,raj,sales,pune,sales,SALES',1)"
   ]
  },
  {
   "cell_type": "code",
   "execution_count": 95,
   "id": "4f1f4743-6300-4a4e-a976-f83ce747b641",
   "metadata": {},
   "outputs": [
    {
     "data": {
      "text/plain": [
       "'***,raj,***,pune,sales,SALES'"
      ]
     },
     "execution_count": 95,
     "metadata": {},
     "output_type": "execute_result"
    }
   ],
   "source": [
    "re.sub('sales','***','sales,raj,sales,pune,sales,SALES',2)"
   ]
  },
  {
   "cell_type": "code",
   "execution_count": 97,
   "id": "c3421831-3811-49c5-b2ce-946f21879768",
   "metadata": {},
   "outputs": [
    {
     "data": {
      "text/plain": [
       "'***,raj,***,pune,sales,SALES'"
      ]
     },
     "execution_count": 97,
     "metadata": {},
     "output_type": "execute_result"
    }
   ],
   "source": [
    "re.sub('sales','***','sales,raj,sales,pune,sales,SALES',2,re.I)"
   ]
  },
  {
   "cell_type": "code",
   "execution_count": 99,
   "id": "b438551a-7731-488b-9b9e-a90b9e522ed3",
   "metadata": {},
   "outputs": [
    {
     "data": {
      "text/plain": [
       "'***,raj,***,pune,***,***'"
      ]
     },
     "execution_count": 99,
     "metadata": {},
     "output_type": "execute_result"
    }
   ],
   "source": [
    "re.sub('sales','***','sales,raj,sales,pune,sales,SALES',0,re.I)"
   ]
  },
  {
   "cell_type": "code",
   "execution_count": 101,
   "id": "eedf2873-5ec9-44a1-93c6-829bf6d7a88a",
   "metadata": {},
   "outputs": [
    {
     "data": {
      "text/plain": [
       "['root', 'x', 'bin', 'bash']"
      ]
     },
     "execution_count": 101,
     "metadata": {},
     "output_type": "execute_result"
    }
   ],
   "source": [
    "s='root:x:bin:bash'\n",
    "s.split(':')"
   ]
  },
  {
   "cell_type": "code",
   "execution_count": 103,
   "id": "54af1a9c-b576-4b1f-a6e8-431a073244d8",
   "metadata": {},
   "outputs": [
    {
     "data": {
      "text/plain": [
       "['root', 'x,bin~bash']"
      ]
     },
     "execution_count": 103,
     "metadata": {},
     "output_type": "execute_result"
    }
   ],
   "source": [
    "s='root:x,bin~bash'\n",
    "s.split(':')"
   ]
  },
  {
   "cell_type": "code",
   "execution_count": 105,
   "id": "8846c9cb-3218-401e-9fdc-a973997af651",
   "metadata": {},
   "outputs": [
    {
     "data": {
      "text/plain": [
       "['root:x', 'bin~bash']"
      ]
     },
     "execution_count": 105,
     "metadata": {},
     "output_type": "execute_result"
    }
   ],
   "source": [
    "s.split(',')"
   ]
  },
  {
   "cell_type": "code",
   "execution_count": 111,
   "id": "d3fa152e-bb1a-4868-91b1-9be5a6762047",
   "metadata": {},
   "outputs": [
    {
     "name": "stderr",
     "output_type": "stream",
     "text": [
      "<>:2: SyntaxWarning: invalid escape sequence '\\w'\n",
      "<>:2: SyntaxWarning: invalid escape sequence '\\w'\n",
      "C:\\Users\\theeba\\AppData\\Local\\Temp\\ipykernel_11008\\1129780942.py:2: SyntaxWarning: invalid escape sequence '\\w'\n",
      "  re.split('[^\\w\\s]',s)\n"
     ]
    },
    {
     "data": {
      "text/plain": [
       "['root', 'x', 'bin', 'bash']"
      ]
     },
     "execution_count": 111,
     "metadata": {},
     "output_type": "execute_result"
    }
   ],
   "source": [
    "#re.split('pattern_string','input_string') ->list\n",
    "re.split('[^\\w\\s]',s)"
   ]
  },
  {
   "cell_type": "code",
   "execution_count": 115,
   "id": "2f4d5812-d653-4558-991d-8457b35e0266",
   "metadata": {},
   "outputs": [
    {
     "data": {
      "text/plain": [
       "['root', 'x', 'bin', 'bash']"
      ]
     },
     "execution_count": 115,
     "metadata": {},
     "output_type": "execute_result"
    }
   ],
   "source": [
    "re.split('[^a-zA-Z0-9]',s)"
   ]
  },
  {
   "cell_type": "code",
   "execution_count": null,
   "id": "cfc2e60d-d32a-45c9-9d84-3c9d2272ac12",
   "metadata": {},
   "outputs": [],
   "source": [
    "# class - type template/blueprint of an object\n",
    "# object - value / real entity - each object having own memory/state\n",
    "\n",
    "class className:\n",
    "    '''attributes'''\n",
    "    va = 10\n",
    "    vb = 1.24\n",
    "    vc = 'data'\n",
    "    vd = ['D1','D2']\n",
    "    ....//attributes\n",
    "\n",
    "python user defined class - mutable - we can add new attribute \n",
    "                                      we can modify an existing attribute \n",
    "                                      we can delete an existing attribute\n",
    "---------------------------------------------//like dict \n",
    "How to access class attributes?\n",
    "className.<attribute>"
   ]
  },
  {
   "cell_type": "code",
   "execution_count": 117,
   "id": "0fcc39c3-2459-4aa7-8aec-ca08f26abef2",
   "metadata": {},
   "outputs": [
    {
     "name": "stdout",
     "output_type": "stream",
     "text": [
      "101 pA\n"
     ]
    }
   ],
   "source": [
    "class product:\n",
    "    pid = 101\n",
    "    pname = 'pA'\n",
    "\n",
    "print(product.pid,product.pname)"
   ]
  },
  {
   "cell_type": "code",
   "execution_count": 119,
   "id": "943129fc-a849-4b70-b90e-690562dacf42",
   "metadata": {},
   "outputs": [],
   "source": [
    "product.pname = 'HDD' # we can modify"
   ]
  },
  {
   "cell_type": "code",
   "execution_count": 121,
   "id": "ea9b48e8-dd0d-4f28-9980-e14bf81b2696",
   "metadata": {},
   "outputs": [
    {
     "name": "stdout",
     "output_type": "stream",
     "text": [
      "101 HDD\n"
     ]
    }
   ],
   "source": [
    "print(product.pid,product.pname)"
   ]
  },
  {
   "cell_type": "code",
   "execution_count": 123,
   "id": "0b064976-d24b-4809-a4ce-d2734bce319d",
   "metadata": {},
   "outputs": [
    {
     "ename": "AttributeError",
     "evalue": "type object 'product' has no attribute 'pcost'",
     "output_type": "error",
     "traceback": [
      "\u001b[1;31m---------------------------------------------------------------------------\u001b[0m",
      "\u001b[1;31mAttributeError\u001b[0m                            Traceback (most recent call last)",
      "Cell \u001b[1;32mIn[123], line 1\u001b[0m\n\u001b[1;32m----> 1\u001b[0m product\u001b[38;5;241m.\u001b[39mpcost\n",
      "\u001b[1;31mAttributeError\u001b[0m: type object 'product' has no attribute 'pcost'"
     ]
    }
   ],
   "source": [
    "product.pcost"
   ]
  },
  {
   "cell_type": "code",
   "execution_count": 125,
   "id": "b1a91130-c082-416a-838a-81fdc326c4c7",
   "metadata": {},
   "outputs": [],
   "source": [
    "product.pcost = 1000 # we can add new attribute"
   ]
  },
  {
   "cell_type": "code",
   "execution_count": 127,
   "id": "b6d6bd34-2971-4d40-8466-31ea0682ca83",
   "metadata": {},
   "outputs": [
    {
     "data": {
      "text/plain": [
       "1000"
      ]
     },
     "execution_count": 127,
     "metadata": {},
     "output_type": "execute_result"
    }
   ],
   "source": [
    "product.pcost"
   ]
  },
  {
   "cell_type": "raw",
   "id": "c7f674db-348d-4af9-925e-d2b989e25112",
   "metadata": {},
   "source": [
    " +------------------------+\n",
    " | [ ]  |   |   [ ]  [  ] | <== blueprint sheet - class\n",
    " |    (white)             |\n",
    " +------------------------+\n",
    "\n",
    "+--------+  +---------+\n",
    "|[]||[][]|  |[]||[][] |\n",
    "|(white) |  |(white)  |\n",
    "+--------+  +---------+\n",
    " Building1   Building2    ....  BuildingN <== object\n",
    " |              |                 |\n",
    "1st main       2nd main          Nth main <== Address(memory)\n",
    "\n",
    "classname() <== create a new object"
   ]
  },
  {
   "cell_type": "code",
   "execution_count": 129,
   "id": "bb59c8cd-70c4-4423-b0cf-d7740adf6f81",
   "metadata": {},
   "outputs": [
    {
     "name": "stdout",
     "output_type": "stream",
     "text": [
      "<class 'type'>\n",
      "<class 'type'>\n",
      "<class 'type'>\n",
      "<class 'type'>\n",
      "<class 'type'>\n",
      "<class 'type'>\n"
     ]
    }
   ],
   "source": [
    "class box:\n",
    "    pass\n",
    "\n",
    "print(type(box))\n",
    "print(type(int))\n",
    "print(type(float))\n",
    "print(type(str))\n",
    "print(type(bool))\n",
    "print(type(list))"
   ]
  },
  {
   "cell_type": "code",
   "execution_count": 133,
   "id": "d8317d94-3e77-4d45-a463-48de998c0271",
   "metadata": {},
   "outputs": [
    {
     "data": {
      "text/plain": [
       "cgi.FieldStorage"
      ]
     },
     "execution_count": 133,
     "metadata": {},
     "output_type": "execute_result"
    }
   ],
   "source": [
    "import cgi\n",
    "cgi.FieldStorage"
   ]
  },
  {
   "cell_type": "code",
   "execution_count": 135,
   "id": "6d00664d-f79a-49a7-b995-3c2062622d21",
   "metadata": {},
   "outputs": [
    {
     "ename": "AttributeError",
     "evalue": "type object 'FieldStorage' has no attribute 'web'",
     "output_type": "error",
     "traceback": [
      "\u001b[1;31m---------------------------------------------------------------------------\u001b[0m",
      "\u001b[1;31mAttributeError\u001b[0m                            Traceback (most recent call last)",
      "Cell \u001b[1;32mIn[135], line 1\u001b[0m\n\u001b[1;32m----> 1\u001b[0m cgi\u001b[38;5;241m.\u001b[39mFieldStorage\u001b[38;5;241m.\u001b[39mweb\n",
      "\u001b[1;31mAttributeError\u001b[0m: type object 'FieldStorage' has no attribute 'web'"
     ]
    }
   ],
   "source": [
    "cgi.FieldStorage.web"
   ]
  },
  {
   "cell_type": "code",
   "execution_count": 137,
   "id": "d0240510-707b-4cd6-a135-6404ac51a883",
   "metadata": {},
   "outputs": [],
   "source": [
    "cgi.FieldStorage.web='https://localhost:8080'"
   ]
  },
  {
   "cell_type": "raw",
   "id": "2e377dac-4e40-4de9-9c4a-f495cbae3aac",
   "metadata": {},
   "source": [
    "cgi.py\n",
    "class FieldStorage:\n",
    "    web = 'https://localhost:8080'"
   ]
  },
  {
   "attachments": {
    "c90f4b8f-8e74-4b14-9103-643a2cd24cb6.png": {
     "image/png": "[encoded data removed]"
    }
   },
   "cell_type": "markdown",
   "id": "3cddaad2-9f46-473f-8179-9966fdd79813",
   "metadata": {},
   "source": [
    "![image.png](attachment:c90f4b8f-8e74-4b14-9103-643a2cd24cb6.png)"
   ]
  },
  {
   "cell_type": "code",
   "execution_count": 140,
   "id": "6ec113c1-694e-45cb-9e7b-8ee7124b0786",
   "metadata": {},
   "outputs": [],
   "source": [
    "class enrollment:\n",
    "    name = ''\n",
    "    dob = ''\n",
    "\n",
    "obj1 = enrollment()\n",
    "obj1.name = 'arun'\n",
    "obj1.dob = '1st Jan'\n",
    "\n",
    "obj2 = enrollment()\n",
    "obj2.name = 'vijay'\n",
    "obj2.dob = '2nd Feb'\n",
    "\n",
    "obj3 = enrollment()\n",
    "obj3.name = 'anu'\n",
    "obj3.dob = '3rd Feb'"
   ]
  },
  {
   "cell_type": "code",
   "execution_count": 142,
   "id": "5d6ce424-d2d7-4b31-8274-5334550e0abc",
   "metadata": {},
   "outputs": [
    {
     "name": "stdout",
     "output_type": "stream",
     "text": [
      "arun vijay anu\n"
     ]
    }
   ],
   "source": [
    "print(obj1.name,obj2.name,obj3.name)"
   ]
  },
  {
   "cell_type": "code",
   "execution_count": 144,
   "id": "d5c48e51-2a96-4ee4-a44c-283208497513",
   "metadata": {},
   "outputs": [],
   "source": [
    "enrollment.place = ''"
   ]
  },
  {
   "cell_type": "code",
   "execution_count": 146,
   "id": "4efd1bcf-bf54-4f77-9683-747188db2ffb",
   "metadata": {},
   "outputs": [],
   "source": [
    "obj1.place = 'City1'\n",
    "obj2.place = 'City2'\n",
    "obj3.place = 'City3'"
   ]
  },
  {
   "cell_type": "code",
   "execution_count": 148,
   "id": "235554fe-207d-40f2-8cad-0b79528cdf59",
   "metadata": {},
   "outputs": [
    {
     "name": "stdout",
     "output_type": "stream",
     "text": [
      "arun 1st Jan City1\n"
     ]
    }
   ],
   "source": [
    "print(obj1.name,obj1.dob,obj1.place)"
   ]
  },
  {
   "cell_type": "code",
   "execution_count": 150,
   "id": "1a470bab-4a1a-4566-85c4-e33cc979f4fc",
   "metadata": {},
   "outputs": [
    {
     "name": "stdout",
     "output_type": "stream",
     "text": [
      "<class 'function'>\n"
     ]
    }
   ],
   "source": [
    "def fx():\n",
    "    pass\n",
    "\n",
    "print(type(fx))"
   ]
  },
  {
   "cell_type": "code",
   "execution_count": 152,
   "id": "32e43e42-5508-4485-ae38-01c1ea48d63a",
   "metadata": {},
   "outputs": [
    {
     "name": "stdout",
     "output_type": "stream",
     "text": [
      "<class 'method'>\n"
     ]
    }
   ],
   "source": [
    "class box:\n",
    "    def fy():\n",
    "        pass\n",
    "\n",
    "obj = box()\n",
    "print(type(obj.fy))"
   ]
  },
  {
   "cell_type": "code",
   "execution_count": 154,
   "id": "25762627-335d-4f6c-8010-32b32a82ef55",
   "metadata": {},
   "outputs": [
    {
     "ename": "TypeError",
     "evalue": "box.fy() takes 0 positional arguments but 1 was given",
     "output_type": "error",
     "traceback": [
      "\u001b[1;31m---------------------------------------------------------------------------\u001b[0m",
      "\u001b[1;31mTypeError\u001b[0m                                 Traceback (most recent call last)",
      "Cell \u001b[1;32mIn[154], line 6\u001b[0m\n\u001b[0;32m      3\u001b[0m         \u001b[38;5;28mprint\u001b[39m(\u001b[38;5;124m\"\u001b[39m\u001b[38;5;124mOK\u001b[39m\u001b[38;5;124m\"\u001b[39m)\n\u001b[0;32m      5\u001b[0m obj \u001b[38;5;241m=\u001b[39m box()\n\u001b[1;32m----> 6\u001b[0m obj\u001b[38;5;241m.\u001b[39mfy()\n",
      "\u001b[1;31mTypeError\u001b[0m: box.fy() takes 0 positional arguments but 1 was given"
     ]
    }
   ],
   "source": [
    "class box:\n",
    "    def fy():\n",
    "        print(\"OK\")\n",
    "\n",
    "obj = box()\n",
    "obj.fy() # methodCall"
   ]
  },
  {
   "cell_type": "code",
   "execution_count": 158,
   "id": "fd69d9af-0d76-4a7b-99b3-3d477cdf364f",
   "metadata": {},
   "outputs": [
    {
     "ename": "TypeError",
     "evalue": "f1() takes 0 positional arguments but 1 was given",
     "output_type": "error",
     "traceback": [
      "\u001b[1;31m---------------------------------------------------------------------------\u001b[0m",
      "\u001b[1;31mTypeError\u001b[0m                                 Traceback (most recent call last)",
      "Cell \u001b[1;32mIn[158], line 4\u001b[0m\n\u001b[0;32m      1\u001b[0m \u001b[38;5;28;01mdef\u001b[39;00m \u001b[38;5;21mf1\u001b[39m():\n\u001b[0;32m      2\u001b[0m     \u001b[38;5;28mprint\u001b[39m(\u001b[38;5;124m\"\u001b[39m\u001b[38;5;124mOK\u001b[39m\u001b[38;5;124m\"\u001b[39m)\n\u001b[1;32m----> 4\u001b[0m f1(\u001b[38;5;241m10\u001b[39m)\n",
      "\u001b[1;31mTypeError\u001b[0m: f1() takes 0 positional arguments but 1 was given"
     ]
    }
   ],
   "source": [
    "def f1():\n",
    "    print(\"OK\")\n",
    "\n",
    "f1(10)"
   ]
  },
  {
   "cell_type": "code",
   "execution_count": 164,
   "id": "14f4930a-5364-4720-9c2d-4acb1a0b6ea4",
   "metadata": {},
   "outputs": [
    {
     "name": "stdout",
     "output_type": "stream",
     "text": [
      "self= <__main__.box object at 0x00000291218CA330>\n",
      "obj= <__main__.box object at 0x00000291218CA330>\n"
     ]
    }
   ],
   "source": [
    "class box:\n",
    "    def fy(self):\n",
    "        print(\"self=\",self)\n",
    "\n",
    "obj = box()\n",
    "obj.fy() # methodCall -> fy(obj) ; obj.fy(10,20) ->fy(obj,10,20)\n",
    "print(\"obj=\",obj)"
   ]
  },
  {
   "cell_type": "code",
   "execution_count": 167,
   "id": "00dfc32f-accb-4e89-9f4a-23ce122e7802",
   "metadata": {},
   "outputs": [],
   "source": [
    "class enrollment:\n",
    "    name = ''\n",
    "    dob = ''\n",
    "    place = ''\n",
    "    def f1(self,a1,a2,a3):\n",
    "        self.name = a1\n",
    "        self.dob = a2\n",
    "        self.place = a3\n",
    "        print('Enrollment is done')\n",
    "    def f2(self):\n",
    "        print(f'Emp name is:{self.name} DOB:{self.dob} City:{self.place}')\n",
    "    def f3(self,a):\n",
    "        self.place = a\n",
    "        print(f'{self.name} working city is updated')"
   ]
  },
  {
   "cell_type": "code",
   "execution_count": 171,
   "id": "f1473328-5ca2-46e8-8ff3-8bd9d46776c3",
   "metadata": {},
   "outputs": [
    {
     "name": "stdout",
     "output_type": "stream",
     "text": [
      "Enrollment is done\n"
     ]
    }
   ],
   "source": [
    "obj1 = enrollment()\n",
    "obj1.f1('arun','1st jan','CityA')"
   ]
  },
  {
   "cell_type": "code",
   "execution_count": 181,
   "id": "053f47c4-ca2a-43dc-a071-f7f0298b7742",
   "metadata": {},
   "outputs": [
    {
     "name": "stdout",
     "output_type": "stream",
     "text": [
      "Enrollment is done\n",
      "Enrollment is done\n"
     ]
    }
   ],
   "source": [
    "obj2 = enrollment()\n",
    "obj2.f1('vijay','2nd Feb','CityB')\n",
    "obj3 = enrollment()\n",
    "obj3.f1('anu','3rd march','CityC')"
   ]
  },
  {
   "cell_type": "code",
   "execution_count": 183,
   "id": "9218dbad-d218-476d-87da-03ee0bc5a0c1",
   "metadata": {},
   "outputs": [
    {
     "name": "stdout",
     "output_type": "stream",
     "text": [
      "Emp name is:arun DOB:1st jan City:CityA\n"
     ]
    }
   ],
   "source": [
    "obj1.f2()"
   ]
  },
  {
   "cell_type": "code",
   "execution_count": 185,
   "id": "d0db2fea-a353-4122-9bce-2ee18885cce1",
   "metadata": {},
   "outputs": [
    {
     "name": "stdout",
     "output_type": "stream",
     "text": [
      "Emp name is:vijay DOB:2nd Feb City:CityB\n"
     ]
    }
   ],
   "source": [
    "obj2.f2()"
   ]
  },
  {
   "cell_type": "code",
   "execution_count": 187,
   "id": "49b95ac4-6b7f-45b6-8680-a8d55a8fd3a3",
   "metadata": {},
   "outputs": [
    {
     "name": "stdout",
     "output_type": "stream",
     "text": [
      "Emp name is:anu DOB:3rd march City:CityC\n"
     ]
    }
   ],
   "source": [
    "obj3.f2()"
   ]
  },
  {
   "cell_type": "code",
   "execution_count": 189,
   "id": "ac7e11f0-ea2a-4af9-9ac2-7b8c1dcccb2b",
   "metadata": {},
   "outputs": [
    {
     "name": "stdout",
     "output_type": "stream",
     "text": [
      "vijay working city is updated\n"
     ]
    }
   ],
   "source": [
    "obj2.f3('pune')"
   ]
  },
  {
   "cell_type": "code",
   "execution_count": 191,
   "id": "ce0a180b-98b6-46f8-b830-bca37dc47386",
   "metadata": {},
   "outputs": [
    {
     "name": "stdout",
     "output_type": "stream",
     "text": [
      "Emp name is:vijay DOB:2nd Feb City:pune\n"
     ]
    }
   ],
   "source": [
    "obj2.f2()"
   ]
  },
  {
   "cell_type": "code",
   "execution_count": 193,
   "id": "ad9fffd1-5890-49f5-85d5-3d71660248c1",
   "metadata": {},
   "outputs": [
    {
     "name": "stdout",
     "output_type": "stream",
     "text": [
      "Emp name is: DOB: City:\n"
     ]
    }
   ],
   "source": [
    "obj4=enrollment()\n",
    "obj4.f2()"
   ]
  },
  {
   "cell_type": "code",
   "execution_count": null,
   "id": "98be4956-2157-4de0-b061-ccfd04af27c9",
   "metadata": {},
   "outputs": [],
   "source": [
    "class DBI:\n",
    "    def connect(self,...):\n",
    "        '''establish db connection'''\n",
    "    def method1(self...):\n",
    "        '''query'''\n",
    "    def method2(self):\n",
    "        '''query'''\n",
    "\n",
    "obj = DBI()\n",
    "obj.method2() # in oops view - OK Vs in DB(Application) - Error message\n",
    "\n",
    "class DBI:\n",
    "    def __init__(self,...):\n",
    "        '''establish db connection'''\n",
    "    def method1(self...):\n",
    "        '''query'''\n",
    "    def method2(self):\n",
    "        '''query'''\n",
    "\n",
    "obj = DBI(connection params)\n",
    "obj.method1() # OK"
   ]
  },
  {
   "cell_type": "code",
   "execution_count": 195,
   "id": "be22f575-83b1-42bc-8ed8-7b86d9087b54",
   "metadata": {},
   "outputs": [],
   "source": [
    "class enrollment:\n",
    "    def __init__(self,a1,a2,a3):\n",
    "        self.name = a1\n",
    "        self.dob = a2\n",
    "        self.place = a3\n",
    "        print('Enrollment is done')\n",
    "    def f2(self):\n",
    "        print(f'Emp name is:{self.name} DOB:{self.dob} City:{self.place}')\n",
    "    def f3(self,a):\n",
    "        self.place = a\n",
    "        print(f'{self.name} working city is updated')"
   ]
  },
  {
   "cell_type": "code",
   "execution_count": 197,
   "id": "294cf3e6-10b3-4184-98c6-2d2182b4f80d",
   "metadata": {},
   "outputs": [
    {
     "ename": "TypeError",
     "evalue": "enrollment.__init__() missing 3 required positional arguments: 'a1', 'a2', and 'a3'",
     "output_type": "error",
     "traceback": [
      "\u001b[1;31m---------------------------------------------------------------------------\u001b[0m",
      "\u001b[1;31mTypeError\u001b[0m                                 Traceback (most recent call last)",
      "Cell \u001b[1;32mIn[197], line 1\u001b[0m\n\u001b[1;32m----> 1\u001b[0m emp1 \u001b[38;5;241m=\u001b[39m enrollment()\n",
      "\u001b[1;31mTypeError\u001b[0m: enrollment.__init__() missing 3 required positional arguments: 'a1', 'a2', and 'a3'"
     ]
    }
   ],
   "source": [
    "emp1 = enrollment()"
   ]
  },
  {
   "cell_type": "code",
   "execution_count": 199,
   "id": "c8375a86-5fbe-4530-afe7-f42fee67b3a9",
   "metadata": {},
   "outputs": [
    {
     "ename": "NameError",
     "evalue": "name 'emp1' is not defined",
     "output_type": "error",
     "traceback": [
      "\u001b[1;31m---------------------------------------------------------------------------\u001b[0m",
      "\u001b[1;31mNameError\u001b[0m                                 Traceback (most recent call last)",
      "Cell \u001b[1;32mIn[199], line 1\u001b[0m\n\u001b[1;32m----> 1\u001b[0m emp1\n",
      "\u001b[1;31mNameError\u001b[0m: name 'emp1' is not defined"
     ]
    }
   ],
   "source": [
    "emp1"
   ]
  },
  {
   "cell_type": "code",
   "execution_count": 201,
   "id": "12ca2632-52ec-4931-8a87-70e75a433a30",
   "metadata": {
    "scrolled": true
   },
   "outputs": [
    {
     "name": "stdout",
     "output_type": "stream",
     "text": [
      "Enrollment is done\n",
      "Emp name is:arun DOB:1st jan City:City1\n"
     ]
    }
   ],
   "source": [
    "emp1 = enrollment('arun','1st jan','City1')\n",
    "emp1.f2()"
   ]
  },
  {
   "cell_type": "raw",
   "id": "ed875e6c-eaf1-4ee5-8c85-636949a7a717",
   "metadata": {},
   "source": [
    "# file: emp.py\n",
    "# -------------\n",
    "\n",
    ">>> import emp\n",
    ">>> #help(emp)\n",
    ">>> emp.__doc__\n",
    "'about emp appln'\n",
    ">>> #help(emp.enrollment)\n",
    ">>> emp.enrollment.__doc__\n",
    "'about enrollment class'\n",
    ">>> help(emp)\n",
    "Help on module emp:\n",
    "\n",
    "NAME\n",
    "    emp - about emp appln\n",
    "\n",
    "CLASSES\n",
    "    builtins.object\n",
    "        enrollment\n",
    "\n",
    "    class enrollment(builtins.object)\n",
    "     |  enrollment(a1, a2, a3)\n",
    "     |\n",
    "     |  about enrollment class\n",
    "     |\n",
    "     |  Methods defined here:\n",
    "     |\n",
    "     |  __init__(self, a1, a2, a3)\n",
    "     |      this is initialization block\n",
    "     |\n",
    "     |  f2(self)\n",
    "     |      this is f2 method definition\n",
    "     |\n",
    "     |  f3(self, a)\n",
    "     |      f3 method required single argument\n",
    "     |\n",
    "     |  ----------------------------------------------------------------------\n",
    "\n",
    ">>> obj = emp.enrollment('ABC','1st Dec','City1')\n",
    "Enrollment is done\n",
    ">>> help(obj.f2)\n",
    "Help on method f2 in module emp:\n",
    "\n",
    "f2() method of emp.enrollment instance\n",
    "    this is f2 method definition\n",
    "\n",
    ">>> obj.f2()\n",
    "Emp name is:ABC DOB:1st Dec City:City1\n",
    ">>>\n",
    ">>> help(obj.f3)\n",
    "Help on method f3 in module emp:\n",
    "\n",
    "f3(a) method of emp.enrollment instance\n",
    "    f3 method required single argument\n",
    "\n",
    ">>> obj.f3('pune')\n",
    "ABC working city is updated\n",
    ">>> obj.f2()\n",
    "Emp name is:ABC DOB:1st Dec City:pune\n",
    ">>>"
   ]
  },
  {
   "cell_type": "code",
   "execution_count": 203,
   "id": "9eb523b1-60ad-4080-849d-a7c8d1eb18ee",
   "metadata": {},
   "outputs": [],
   "source": [
    "# file: ab.py\n",
    "# ---------------\n",
    "def f1(a):\n",
    "    class box:\n",
    "        def __init__(self,a=0):\n",
    "            self.a = a\n",
    "        def method1(self):\n",
    "            return self.a+100\n",
    "        def method2(self):\n",
    "            return self.a+200\n",
    "    obj = box(a)\n",
    "    return obj"
   ]
  },
  {
   "cell_type": "code",
   "execution_count": 205,
   "id": "3d7fa616-3840-4dc5-a69e-75e3adfcfe54",
   "metadata": {},
   "outputs": [
    {
     "data": {
      "text/plain": [
       "<__main__.f1.<locals>.box at 0x29123197230>"
      ]
     },
     "execution_count": 205,
     "metadata": {},
     "output_type": "execute_result"
    }
   ],
   "source": [
    "# import ab\n",
    "# ab.f1 ->function\n",
    "f1(15)"
   ]
  },
  {
   "cell_type": "code",
   "execution_count": 207,
   "id": "51ec876f-0089-46c8-b52a-e389dabf5db4",
   "metadata": {},
   "outputs": [
    {
     "data": {
      "text/plain": [
       "115"
      ]
     },
     "execution_count": 207,
     "metadata": {},
     "output_type": "execute_result"
    }
   ],
   "source": [
    "myobj = f1(15)\n",
    "myobj.method1()"
   ]
  },
  {
   "cell_type": "code",
   "execution_count": 209,
   "id": "cfdf60b1-e25f-4d1c-8e3f-ec302de89e00",
   "metadata": {},
   "outputs": [
    {
     "data": {
      "text/plain": [
       "215"
      ]
     },
     "execution_count": 209,
     "metadata": {},
     "output_type": "execute_result"
    }
   ],
   "source": [
    "myobj.method2()"
   ]
  },
  {
   "cell_type": "code",
   "execution_count": 211,
   "id": "a418d50d-3119-4e99-bed0-83d9d9f39acf",
   "metadata": {},
   "outputs": [
    {
     "data": {
      "text/plain": [
       "<function re.search(pattern, string, flags=0)>"
      ]
     },
     "execution_count": 211,
     "metadata": {},
     "output_type": "execute_result"
    }
   ],
   "source": [
    "re.search"
   ]
  },
  {
   "cell_type": "code",
   "execution_count": 213,
   "id": "849a4e59-72be-4945-b562-4c1e6195d332",
   "metadata": {},
   "outputs": [
    {
     "data": {
      "text/plain": [
       "<re.Match object; span=(0, 5), match='sales'>"
      ]
     },
     "execution_count": 213,
     "metadata": {},
     "output_type": "execute_result"
    }
   ],
   "source": [
    "re.search(\"sales\",\"sales details\")"
   ]
  },
  {
   "cell_type": "code",
   "execution_count": 215,
   "id": "64012508-898f-45ca-aec9-5dd51278433a",
   "metadata": {},
   "outputs": [
    {
     "data": {
      "text/plain": [
       "<function _sqlite3.connect>"
      ]
     },
     "execution_count": 215,
     "metadata": {},
     "output_type": "execute_result"
    }
   ],
   "source": [
    "import sqlite3\n",
    "sqlite3.connect"
   ]
  },
  {
   "cell_type": "code",
   "execution_count": 217,
   "id": "502d4460-6bb2-4342-a79b-9864a12306d6",
   "metadata": {},
   "outputs": [
    {
     "data": {
      "text/plain": [
       "<sqlite3.Connection at 0x29122f105e0>"
      ]
     },
     "execution_count": 217,
     "metadata": {},
     "output_type": "execute_result"
    }
   ],
   "source": [
    "sqlite3.connect('db1')"
   ]
  },
  {
   "cell_type": "code",
   "execution_count": 219,
   "id": "443d87b3-58a7-4bde-8913-2f32c7b5ec6c",
   "metadata": {},
   "outputs": [
    {
     "data": {
      "text/plain": [
       "'\\nThe sqlite3 extension module provides a DB-API 2.0 (PEP 249) compliant\\ninterface to the SQLite library, and requires SQLite 3.7.15 or newer.\\n\\nTo use the module, start by creating a database Connection object:\\n\\n    import sqlite3\\n    cx = sqlite3.connect(\"test.db\")  # test.db will be created or opened\\n\\nThe special path name \":memory:\" can be provided to connect to a transient\\nin-memory database:\\n\\n    cx = sqlite3.connect(\":memory:\")  # connect to a database in RAM\\n\\nOnce a connection has been established, create a Cursor object and call\\nits execute() method to perform SQL queries:\\n\\n    cu = cx.cursor()\\n\\n    # create a table\\n    cu.execute(\"create table lang(name, first_appeared)\")\\n\\n    # insert values into a table\\n    cu.execute(\"insert into lang values (?, ?)\", (\"C\", 1972))\\n\\n    # execute a query and iterate over the result\\n    for row in cu.execute(\"select * from lang\"):\\n        print(row)\\n\\n    cx.close()\\n\\nThe sqlite3 module is written by Gerhard Häring <gh@ghaering.de>.\\n'"
      ]
     },
     "execution_count": 219,
     "metadata": {},
     "output_type": "execute_result"
    }
   ],
   "source": [
    "sqlite3.__doc__ # module docs"
   ]
  },
  {
   "cell_type": "code",
   "execution_count": 221,
   "id": "ebd78fcc-b25a-4329-8eba-cdc683511406",
   "metadata": {},
   "outputs": [
    {
     "data": {
      "text/plain": [
       "'Opens a connection to the SQLite database file database.\\n\\nYou can use \":memory:\" to open a database connection to a database that resides\\nin RAM instead of on disk.'"
      ]
     },
     "execution_count": 221,
     "metadata": {},
     "output_type": "execute_result"
    }
   ],
   "source": [
    "sqlite3.connect.__doc__"
   ]
  },
  {
   "cell_type": "code",
   "execution_count": 223,
   "id": "946844b0-8ce2-4e23-8278-9990e6de6eb5",
   "metadata": {},
   "outputs": [
    {
     "data": {
      "text/plain": [
       "'SQLite database connection object.'"
      ]
     },
     "execution_count": 223,
     "metadata": {},
     "output_type": "execute_result"
    }
   ],
   "source": [
    "conn = sqlite3.connect('test1')\n",
    "conn.__doc__"
   ]
  },
  {
   "cell_type": "code",
   "execution_count": 225,
   "id": "692d4790-69be-45bc-af84-6ec9340b5d3b",
   "metadata": {},
   "outputs": [
    {
     "data": {
      "text/plain": [
       "'SQLite database connection object.'"
      ]
     },
     "execution_count": 225,
     "metadata": {},
     "output_type": "execute_result"
    }
   ],
   "source": [
    "sqlite3.Connection.__doc__"
   ]
  },
  {
   "cell_type": "code",
   "execution_count": null,
   "id": "fc93e675-4a29-44a4-8934-0185780cc95d",
   "metadata": {},
   "outputs": [],
   "source": [
    "# Data - Collect the data from various source(file,Database,API,webpage etc.,)\n",
    "# -----//raw data \n",
    "\n",
    "client ----------------request------->------------server--->---serverCode\n",
    " ---------------------------------<----------------------------------      \n",
    "                             response\n",
    "                                    1. page response : <html>..{{data}}..</html> (<html>+data)\n",
    "                                       Content-Type:text/html\n",
    "\n",
    "                                    2. data response: there is no <html>..</html> - data only \n",
    "                                       Content-Type: application/json\n",
    "Enquiry: | empID | ->(search)\n",
    "       - empName\n",
    "       - empDept\n",
    "       - empBgroup //data\n",
    "\n",
    "1.page resoponse                           Vs  2.data response \n",
    "  <html>                                          ['empName','empDept','empBgroup'] //Array\n",
    "  <head>                                            <or>\n",
    "  <title>...</title>                            {'Reqid':['empName','empDept','empBgroup']} //object\n",
    "  <body>                                         \n",
    "  ..\n",
    "  <p> Emp name is:{{empName}} ...</p>\n",
    "  <p> Emp Dept is:{{empDept}} ..</p>\n",
    "  <p> Emp Bgroup:{{empBgroup}} ..</p>\n",
    "  ..\n",
    " </body>\n",
    " </head>\n",
    " </html>\n",
    "\n",
    "Webscraping \n",
    "- download the web content\n",
    "  ----------------------------// requests\n",
    "- extract html tag - scrape\n",
    "  -------------------// bs4 \n",
    "\n",
    "\n",
    "- download the web content\n",
    "  ----------------------------// requests\n",
    "  |\n",
    " import requests\n",
    " r = requests.get(URL)\n",
    " r.status_code -> 200 ->OK   r.status_code != 200 ->failed \n",
    "\n",
    " r.headers // ->dict {'key':Value}\n",
    "   -------\n",
    "    # URL header details - webserver root url / Content-Type ....\n",
    " r.text //download entire webpage <or>json ->str \n"
   ]
  },
  {
   "cell_type": "code",
   "execution_count": 227,
   "id": "104caf77-148c-44b1-b3e7-321acf0dcb1c",
   "metadata": {},
   "outputs": [],
   "source": [
    "import requests"
   ]
  },
  {
   "cell_type": "code",
   "execution_count": 233,
   "id": "f0fc56da-16b5-42d4-b479-4b9c26db33a1",
   "metadata": {},
   "outputs": [
    {
     "data": {
      "text/plain": [
       "<Response [200]>"
      ]
     },
     "execution_count": 233,
     "metadata": {},
     "output_type": "execute_result"
    }
   ],
   "source": [
    "requests.get('https://www.google.com')"
   ]
  },
  {
   "cell_type": "code",
   "execution_count": 235,
   "id": "23b82abe-f6d1-4b9a-b568-2894f00b36ca",
   "metadata": {},
   "outputs": [
    {
     "data": {
      "text/plain": [
       "200"
      ]
     },
     "execution_count": 235,
     "metadata": {},
     "output_type": "execute_result"
    }
   ],
   "source": [
    "r = requests.get('https://www.google.com')\n",
    "r.status_code"
   ]
  },
  {
   "cell_type": "code",
   "execution_count": 237,
   "id": "709bf2b5-6614-4781-9ee9-de77aa2cc632",
   "metadata": {},
   "outputs": [
    {
     "data": {
      "text/plain": [
       "{'Date': 'Tue, 25 Mar 2025 07:27:04 GMT', 'Expires': '-1', 'Cache-Control': 'private, max-age=0', 'Content-Type': 'text/html; charset=ISO-8859-1', 'Content-Security-Policy-Report-Only': \"object-src 'none';base-uri 'self';script-src 'nonce-bYf_5ljwkzlzo8RtNFuadg' 'strict-dynamic' 'report-sample' 'unsafe-eval' 'unsafe-inline' https: http:;report-uri https://csp.withgoogle.com/csp/gws/other-hp\", 'Accept-CH': 'Sec-CH-Prefers-Color-Scheme', 'P3P': 'CP=\"This is not a P3P policy! See g.co/p3phelp for more info.\"', 'Content-Encoding': 'gzip', 'Server': 'gws', 'X-XSS-Protection': '0', 'X-Frame-Options': 'SAMEORIGIN', 'Set-Cookie': 'AEC=AVcja2esghDUhlBjgIUJpUwetrf-CF7CLC2tWeKmjZMrKWyPX_FELm7WDA; expires=Sun, 21-Sep-2025 07:27:05 GMT; path=/; domain=.google.com; Secure; HttpOnly; SameSite=lax, NID=522=WegkZyDnyYuXPL5k-fOXUko-RmQAqF64Z_dX_324LDe-NeX7W-p37esD3RC9LpXif63BzZFevCGJDINUane7K1u4HqLKj009fUt9FKF3BUpWbYGHWsfpm5SyZEpEDCesItAR6sUHr3LZCJatEn8g2rCVt0Z1Srg1Oy4ZGRLRh6zsAIE9xQ7-f_ll9tp_nuMlgtDPvHg97aqXIV96WA; expires=Wed, 24-Sep-2025 07:27:04 GMT; path=/; domain=.google.com; HttpOnly', 'Alt-Svc': 'h3=\":443\"; ma=2592000,h3-29=\":443\"; ma=2592000', 'Transfer-Encoding': 'chunked'}"
      ]
     },
     "execution_count": 237,
     "metadata": {},
     "output_type": "execute_result"
    }
   ],
   "source": [
    "r.headers"
   ]
  },
  {
   "cell_type": "code",
   "execution_count": 239,
   "id": "9285bd52-a616-430e-a24c-306c2914ed5a",
   "metadata": {},
   "outputs": [
    {
     "data": {
      "text/plain": [
       "'text/html; charset=ISO-8859-1'"
      ]
     },
     "execution_count": 239,
     "metadata": {},
     "output_type": "execute_result"
    }
   ],
   "source": [
    "r.headers['Content-Type']"
   ]
  },
  {
   "cell_type": "code",
   "execution_count": 241,
   "id": "779c076a-5507-4473-a12f-f9848bd7f8f9",
   "metadata": {},
   "outputs": [],
   "source": [
    "gpage = r.text"
   ]
  },
  {
   "cell_type": "code",
   "execution_count": 243,
   "id": "1829456b-b373-4f7b-8f71-b7f5854c0e31",
   "metadata": {},
   "outputs": [
    {
     "name": "stdout",
     "output_type": "stream",
     "text": [
      "<class 'str'> 19116\n"
     ]
    }
   ],
   "source": [
    "print(type(gpage),len(gpage))"
   ]
  },
  {
   "cell_type": "code",
   "execution_count": 245,
   "id": "311f22a8-cef6-423b-99e4-d6db12bb9c68",
   "metadata": {},
   "outputs": [],
   "source": [
    "wobj = open('test.html','w')\n",
    "wobj.write(gpage)\n",
    "wobj.close()"
   ]
  },
  {
   "cell_type": "code",
   "execution_count": 249,
   "id": "a3cf1e0c-94a0-49d3-952d-0fe4325c8f68",
   "metadata": {
    "scrolled": true
   },
   "outputs": [],
   "source": [
    "#print(gpage)"
   ]
  },
  {
   "cell_type": "code",
   "execution_count": 251,
   "id": "075a6085-4806-406b-b185-cf99a401acab",
   "metadata": {},
   "outputs": [
    {
     "data": {
      "text/plain": [
       "<Response [200]>"
      ]
     },
     "execution_count": 251,
     "metadata": {},
     "output_type": "execute_result"
    }
   ],
   "source": [
    "requests.get('https://api.github.com/users/hadley/orgs')"
   ]
  },
  {
   "cell_type": "code",
   "execution_count": 253,
   "id": "56b7839d-ffef-4502-b70d-62a562f8c7f7",
   "metadata": {},
   "outputs": [
    {
     "data": {
      "text/plain": [
       "200"
      ]
     },
     "execution_count": 253,
     "metadata": {},
     "output_type": "execute_result"
    }
   ],
   "source": [
    "r1 = requests.get('https://api.github.com/users/hadley/orgs')\n",
    "r1.status_code"
   ]
  },
  {
   "cell_type": "code",
   "execution_count": 255,
   "id": "9873535a-5aaa-4989-b9e3-7975131e2018",
   "metadata": {},
   "outputs": [
    {
     "data": {
      "text/plain": [
       "{'Date': 'Tue, 25 Mar 2025 07:31:23 GMT', 'Content-Type': 'application/json; charset=utf-8', 'Cache-Control': 'public, max-age=60, s-maxage=60', 'Vary': 'Accept,Accept-Encoding, Accept, X-Requested-With', 'ETag': 'W/\"61f25e2a55611f7eaf75a20ed5fe501245c5af99bc383854f5442975318fad26\"', 'X-GitHub-Media-Type': 'github.v3; format=json', 'x-github-api-version-selected': '2022-11-28', 'Access-Control-Expose-Headers': 'ETag, Link, Location, Retry-After, X-GitHub-OTP, X-RateLimit-Limit, X-RateLimit-Remaining, X-RateLimit-Used, X-RateLimit-Resource, X-RateLimit-Reset, X-OAuth-Scopes, X-Accepted-OAuth-Scopes, X-Poll-Interval, X-GitHub-Media-Type, X-GitHub-SSO, X-GitHub-Request-Id, Deprecation, Sunset', 'Access-Control-Allow-Origin': '*', 'Strict-Transport-Security': 'max-age=31536000; includeSubdomains; preload', 'X-Frame-Options': 'deny', 'X-Content-Type-Options': 'nosniff', 'X-XSS-Protection': '0', 'Referrer-Policy': 'origin-when-cross-origin, strict-origin-when-cross-origin', 'Content-Security-Policy': \"default-src 'none'\", 'Content-Encoding': 'gzip', 'Server': 'github.com', 'Accept-Ranges': 'bytes', 'X-RateLimit-Limit': '60', 'X-RateLimit-Remaining': '57', 'X-RateLimit-Reset': '1742890642', 'X-RateLimit-Resource': 'core', 'X-RateLimit-Used': '3', 'Content-Length': '1008', 'X-GitHub-Request-Id': '184A:28455A:36669D:48098C:67E25BDE'}"
      ]
     },
     "execution_count": 255,
     "metadata": {},
     "output_type": "execute_result"
    }
   ],
   "source": [
    "r1.headers"
   ]
  },
  {
   "cell_type": "code",
   "execution_count": 257,
   "id": "977d0a6b-b158-4dc1-b855-653b5cae2487",
   "metadata": {},
   "outputs": [
    {
     "data": {
      "text/plain": [
       "'application/json; charset=utf-8'"
      ]
     },
     "execution_count": 257,
     "metadata": {},
     "output_type": "execute_result"
    }
   ],
   "source": [
    "r1.headers['Content-Type']"
   ]
  },
  {
   "cell_type": "code",
   "execution_count": 259,
   "id": "022b57fd-9fca-4cf7-924d-ee639ac7e740",
   "metadata": {},
   "outputs": [],
   "source": [
    "jd = r1.text"
   ]
  },
  {
   "cell_type": "code",
   "execution_count": 261,
   "id": "2f3643fe-fa61-4ba2-88c7-8903332c5ff8",
   "metadata": {},
   "outputs": [
    {
     "name": "stdout",
     "output_type": "stream",
     "text": [
      "<class 'list'> 10\n"
     ]
    }
   ],
   "source": [
    "# from json to python \n",
    "# json.loads(json_data) ->python_data\n",
    "\n",
    "python_data = json.loads(jd)\n",
    "print(type(python_data),len(python_data))"
   ]
  },
  {
   "cell_type": "code",
   "execution_count": 263,
   "id": "83426ac4-200e-489a-8842-fcbc57259ddb",
   "metadata": {},
   "outputs": [
    {
     "name": "stdout",
     "output_type": "stream",
     "text": [
      "<class 'dict'>\n"
     ]
    }
   ],
   "source": [
    "print(type(python_data[0]))"
   ]
  },
  {
   "cell_type": "code",
   "execution_count": 265,
   "id": "6f4c2351-d406-4f58-941c-a8fe94c5413d",
   "metadata": {},
   "outputs": [
    {
     "data": {
      "text/plain": [
       "'https://api.github.com/orgs/ggobi/hooks'"
      ]
     },
     "execution_count": 265,
     "metadata": {},
     "output_type": "execute_result"
    }
   ],
   "source": [
    "python_data[0]['hooks_url']"
   ]
  },
  {
   "cell_type": "code",
   "execution_count": null,
   "id": "0168eff3-7efe-4d08-9413-275b1e2ee301",
   "metadata": {},
   "outputs": [],
   "source": [
    "# python                     json\n",
    "# list --------------->     array   [D1,D2]\n",
    "# dict ---------------->    object {'Key':value}\n",
    "# "
   ]
  },
  {
   "cell_type": "code",
   "execution_count": 267,
   "id": "32fbf3a5-5a27-4446-b862-24023bfa19c8",
   "metadata": {},
   "outputs": [
    {
     "data": {
      "text/plain": [
       "dict_keys(['login', 'id', 'node_id', 'url', 'repos_url', 'events_url', 'hooks_url', 'issues_url', 'members_url', 'public_members_url', 'avatar_url', 'description'])"
      ]
     },
     "execution_count": 267,
     "metadata": {},
     "output_type": "execute_result"
    }
   ],
   "source": [
    "python_data[0].keys()"
   ]
  },
  {
   "cell_type": "code",
   "execution_count": 271,
   "id": "e386308d-6fb6-43df-a80c-96605a8cc202",
   "metadata": {},
   "outputs": [
    {
     "name": "stdout",
     "output_type": "stream",
     "text": [
      "login -  ggobi\n",
      "id -  423638\n",
      "node_id -  MDEyOk9yZ2FuaXphdGlvbjQyMzYzOA==\n",
      "url -  https://api.github.com/orgs/ggobi\n",
      "repos_url -  https://api.github.com/orgs/ggobi/repos\n",
      "events_url -  https://api.github.com/orgs/ggobi/events\n",
      "hooks_url -  https://api.github.com/orgs/ggobi/hooks\n",
      "issues_url -  https://api.github.com/orgs/ggobi/issues\n",
      "members_url -  https://api.github.com/orgs/ggobi/members{/member}\n",
      "public_members_url -  https://api.github.com/orgs/ggobi/public_members{/member}\n",
      "avatar_url -  https://avatars.githubusercontent.com/u/423638?v=4\n",
      "description -  \n"
     ]
    }
   ],
   "source": [
    "for var in python_data[0].keys():\n",
    "    print(f'{var} -  {python_data[0][var]}') # key - value"
   ]
  },
  {
   "cell_type": "code",
   "execution_count": 273,
   "id": "75783b14-5c48-4ef7-93f9-6f7abbbda8a7",
   "metadata": {},
   "outputs": [
    {
     "name": "stdout",
     "output_type": "stream",
     "text": [
      "<class 'bs4.BeautifulSoup'>\n"
     ]
    }
   ],
   "source": [
    "# webscrape \n",
    "import bs4\n",
    "print(bs4.BeautifulSoup)"
   ]
  },
  {
   "cell_type": "raw",
   "id": "98bc0fcc-a9bb-4683-9021-872d88c1ccee",
   "metadata": {},
   "source": [
    "bs4.BeautifulSoup(<webpageContent>) ->soupobject\n",
    "soupobject.htmlTagName ->Value  -->(1)\n",
    " <or>\n",
    "soupobject.find(htmlTagName) ->Value -->(2)\n",
    " <or>\n",
    "soupobject.find_all(htmlTagName) ->[ Value ] --->(3)"
   ]
  },
  {
   "cell_type": "code",
   "execution_count": 275,
   "id": "a00cc74b-4fcf-4047-bcd7-c1f17dac1345",
   "metadata": {},
   "outputs": [
    {
     "data": {
      "text/plain": [
       "<html><body><p>Welcome message</p></body></html>"
      ]
     },
     "execution_count": 275,
     "metadata": {},
     "output_type": "execute_result"
    }
   ],
   "source": [
    "bs4.BeautifulSoup('<p>Welcome message</p>')"
   ]
  },
  {
   "cell_type": "code",
   "execution_count": 277,
   "id": "26d6f0b6-058e-4de6-9c7e-7fcbf003bb6e",
   "metadata": {},
   "outputs": [
    {
     "data": {
      "text/plain": [
       "<p>Welcome message</p>"
      ]
     },
     "execution_count": 277,
     "metadata": {},
     "output_type": "execute_result"
    }
   ],
   "source": [
    "sobj = bs4.BeautifulSoup('<p>Welcome message</p>')\n",
    "sobj.p # soupobject.htmlTagName ->Value  -->(1)"
   ]
  },
  {
   "cell_type": "code",
   "execution_count": 279,
   "id": "2ceb3549-1329-4756-ab22-2afba1112da3",
   "metadata": {},
   "outputs": [],
   "source": [
    "sobj.h1"
   ]
  },
  {
   "cell_type": "code",
   "execution_count": 281,
   "id": "1a1bfa65-1579-43f3-bfdc-be3df0bcbb52",
   "metadata": {},
   "outputs": [
    {
     "data": {
      "text/plain": [
       "<body><p>Welcome message</p></body>"
      ]
     },
     "execution_count": 281,
     "metadata": {},
     "output_type": "execute_result"
    }
   ],
   "source": [
    "sobj.body"
   ]
  },
  {
   "cell_type": "code",
   "execution_count": 283,
   "id": "3f922a77-26c2-43c3-9f1d-9da3c932aedf",
   "metadata": {},
   "outputs": [
    {
     "data": {
      "text/plain": [
       "<p>Welcome message</p>"
      ]
     },
     "execution_count": 283,
     "metadata": {},
     "output_type": "execute_result"
    }
   ],
   "source": [
    "sobj.find('p') # soupobject.find(htmlTagName) ->Value -->(2)"
   ]
  },
  {
   "cell_type": "code",
   "execution_count": 285,
   "id": "f2731c36-0182-4fac-93a0-1f0f08c1b61d",
   "metadata": {},
   "outputs": [
    {
     "data": {
      "text/plain": [
       "[<p>Welcome message</p>]"
      ]
     },
     "execution_count": 285,
     "metadata": {},
     "output_type": "execute_result"
    }
   ],
   "source": [
    "sobj.find_all('p') # soupobject.find_all(htmlTagName) ->[ Value ] --->(3)"
   ]
  },
  {
   "cell_type": "code",
   "execution_count": 287,
   "id": "09ae1ebb-aae8-4a96-b1d6-3f8cdfe8d011",
   "metadata": {},
   "outputs": [],
   "source": [
    "# Download google.com content ->get paragraph tag\n",
    "r = requests.get('https://www.google.com')\n",
    "gpage = r.text"
   ]
  },
  {
   "cell_type": "code",
   "execution_count": 289,
   "id": "0f212ea3-847b-4b5d-bb01-ed773ce862ee",
   "metadata": {},
   "outputs": [
    {
     "data": {
      "text/plain": [
       "<p style=\"font-size:8pt;color:#70757a\">© 2025 - <a href=\"/intl/en/policies/privacy/\">Privacy</a> - <a href=\"/intl/en/policies/terms/\">Terms</a></p>"
      ]
     },
     "execution_count": 289,
     "metadata": {},
     "output_type": "execute_result"
    }
   ],
   "source": [
    "# Web scraping\n",
    "gsobj = bs4.BeautifulSoup(gpage)\n",
    "gsobj.p"
   ]
  },
  {
   "cell_type": "code",
   "execution_count": 291,
   "id": "9e57fc88-0f7e-40d8-ace7-ddfaf0e7dd89",
   "metadata": {},
   "outputs": [
    {
     "data": {
      "text/plain": [
       "<p style=\"font-size:8pt;color:#70757a\">© 2025 - <a href=\"/intl/en/policies/privacy/\">Privacy</a> - <a href=\"/intl/en/policies/terms/\">Terms</a></p>"
      ]
     },
     "execution_count": 291,
     "metadata": {},
     "output_type": "execute_result"
    }
   ],
   "source": [
    "gsobj.find('p')"
   ]
  },
  {
   "cell_type": "code",
   "execution_count": 293,
   "id": "14276ab7-605f-414f-b445-05a3910e55e9",
   "metadata": {},
   "outputs": [
    {
     "data": {
      "text/plain": [
       "[<p style=\"font-size:8pt;color:#70757a\">© 2025 - <a href=\"/intl/en/policies/privacy/\">Privacy</a> - <a href=\"/intl/en/policies/terms/\">Terms</a></p>]"
      ]
     },
     "execution_count": 293,
     "metadata": {},
     "output_type": "execute_result"
    }
   ],
   "source": [
    "gsobj.find_all('p')"
   ]
  },
  {
   "cell_type": "code",
   "execution_count": 295,
   "id": "55858998-881c-4f9b-8434-439014018682",
   "metadata": {},
   "outputs": [
    {
     "data": {
      "text/plain": [
       "<p style=\"font-size:8pt;color:#70757a\">© 2025 - <a href=\"/intl/en/policies/privacy/\">Privacy</a> - <a href=\"/intl/en/policies/terms/\">Terms</a></p>"
      ]
     },
     "execution_count": 295,
     "metadata": {},
     "output_type": "execute_result"
    }
   ],
   "source": [
    "gsobj.find('p')"
   ]
  },
  {
   "cell_type": "code",
   "execution_count": 297,
   "id": "9167e552-1f95-482d-93e7-3220e3ff8b2a",
   "metadata": {},
   "outputs": [
    {
     "data": {
      "text/plain": [
       "'font-size:8pt;color:#70757a'"
      ]
     },
     "execution_count": 297,
     "metadata": {},
     "output_type": "execute_result"
    }
   ],
   "source": [
    "gsobj.find('p')['style']"
   ]
  },
  {
   "cell_type": "code",
   "execution_count": 299,
   "id": "011356ac-0430-41ca-80a6-a8768f55e713",
   "metadata": {},
   "outputs": [
    {
     "data": {
      "text/plain": [
       "'font-size:8pt;color:#70757a'"
      ]
     },
     "execution_count": 299,
     "metadata": {},
     "output_type": "execute_result"
    }
   ],
   "source": [
    "gsobj.find('p').get('style')"
   ]
  },
  {
   "cell_type": "code",
   "execution_count": 301,
   "id": "564249c5-c46a-495a-a3dc-6eec67d991c4",
   "metadata": {},
   "outputs": [
    {
     "data": {
      "text/plain": [
       "'V1'"
      ]
     },
     "execution_count": 301,
     "metadata": {},
     "output_type": "execute_result"
    }
   ],
   "source": [
    "d={\"K1\":\"V1\"}\n",
    "d['K1']"
   ]
  },
  {
   "cell_type": "code",
   "execution_count": 303,
   "id": "155f8d12-550b-4d01-9735-54f42e0ffef8",
   "metadata": {},
   "outputs": [
    {
     "ename": "KeyError",
     "evalue": "'Kx'",
     "output_type": "error",
     "traceback": [
      "\u001b[1;31m---------------------------------------------------------------------------\u001b[0m",
      "\u001b[1;31mKeyError\u001b[0m                                  Traceback (most recent call last)",
      "Cell \u001b[1;32mIn[303], line 1\u001b[0m\n\u001b[1;32m----> 1\u001b[0m d[\u001b[38;5;124m'\u001b[39m\u001b[38;5;124mKx\u001b[39m\u001b[38;5;124m'\u001b[39m]\n",
      "\u001b[1;31mKeyError\u001b[0m: 'Kx'"
     ]
    }
   ],
   "source": [
    "d['Kx']"
   ]
  },
  {
   "cell_type": "code",
   "execution_count": 309,
   "id": "553a517c-a232-4ece-a591-72250c207294",
   "metadata": {},
   "outputs": [
    {
     "name": "stdout",
     "output_type": "stream",
     "text": [
      "V1\n",
      "None\n"
     ]
    }
   ],
   "source": [
    "print(d.get('K1'))\n",
    "print(d.get('Kx'))"
   ]
  },
  {
   "cell_type": "code",
   "execution_count": 311,
   "id": "1817dd47-7989-4b10-b041-4c2ab2b38e2e",
   "metadata": {},
   "outputs": [
    {
     "data": {
      "text/plain": [
       "<p style=\"font-size:8pt;color:#70757a\">© 2025 - <a href=\"/intl/en/policies/privacy/\">Privacy</a> - <a href=\"/intl/en/policies/terms/\">Terms</a></p>"
      ]
     },
     "execution_count": 311,
     "metadata": {},
     "output_type": "execute_result"
    }
   ],
   "source": [
    "gsobj.p"
   ]
  },
  {
   "cell_type": "code",
   "execution_count": 313,
   "id": "f11b0464-ae94-4a59-ba6c-a4623ea31b39",
   "metadata": {},
   "outputs": [
    {
     "data": {
      "text/plain": [
       "'font-size:8pt;color:#70757a'"
      ]
     },
     "execution_count": 313,
     "metadata": {},
     "output_type": "execute_result"
    }
   ],
   "source": [
    "gsobj.p.get('style')"
   ]
  },
  {
   "cell_type": "code",
   "execution_count": 315,
   "id": "1dbe751d-1ea4-40b3-8fb4-f268be7c44ee",
   "metadata": {},
   "outputs": [],
   "source": [
    "gsobj.p.get('h1')"
   ]
  },
  {
   "cell_type": "code",
   "execution_count": 321,
   "id": "cf6283a6-ba7f-4dea-9fb1-574605748b1b",
   "metadata": {},
   "outputs": [
    {
     "name": "stdout",
     "output_type": "stream",
     "text": [
      "['style', 'font-size']\n",
      "['href', 'abc.com']\n"
     ]
    },
    {
     "data": {
      "text/plain": [
       "{'style': 'font-size', 'href': 'abc.com'}"
      ]
     },
     "execution_count": 321,
     "metadata": {},
     "output_type": "execute_result"
    }
   ],
   "source": [
    "s1=\"style=font-size\"\n",
    "s2=\"href=abc.com\"\n",
    "\n",
    "print(s1.split(\"=\"))\n",
    "print(s2.split(\"=\"))\n",
    "d={}\n",
    "L1=s1.split(\"=\")\n",
    "L2=s2.split(\"=\")\n",
    "d[L1[0]]=L1[1]\n",
    "d[L2[0]]=L2[1]\n",
    "d"
   ]
  },
  {
   "cell_type": "code",
   "execution_count": 323,
   "id": "d38da290-a1eb-4414-b421-60f7bcba95d5",
   "metadata": {},
   "outputs": [
    {
     "data": {
      "text/plain": [
       "'font-size'"
      ]
     },
     "execution_count": 323,
     "metadata": {},
     "output_type": "execute_result"
    }
   ],
   "source": [
    "d.get('style')"
   ]
  },
  {
   "cell_type": "code",
   "execution_count": 325,
   "id": "d89b718b-2aff-41d2-a766-55bf19884ea9",
   "metadata": {},
   "outputs": [
    {
     "data": {
      "text/plain": [
       "'abc.com'"
      ]
     },
     "execution_count": 325,
     "metadata": {},
     "output_type": "execute_result"
    }
   ],
   "source": [
    "d.get('href')"
   ]
  },
  {
   "cell_type": "code",
   "execution_count": 327,
   "id": "9d409875-fef1-4b49-94d7-381d286412fd",
   "metadata": {},
   "outputs": [
    {
     "data": {
      "text/plain": [
       "<a class=\"gb1\" href=\"https://www.google.com/imghp?hl=en&amp;tab=wi\">Images</a>"
      ]
     },
     "execution_count": 327,
     "metadata": {},
     "output_type": "execute_result"
    }
   ],
   "source": [
    "gsobj.find('a')"
   ]
  },
  {
   "cell_type": "code",
   "execution_count": 335,
   "id": "87c9bfef-81a5-480d-9614-dfe2f743ebd7",
   "metadata": {},
   "outputs": [
    {
     "data": {
      "text/plain": [
       "['gb1']"
      ]
     },
     "execution_count": 335,
     "metadata": {},
     "output_type": "execute_result"
    }
   ],
   "source": [
    "gsobj.find('a').get('class')"
   ]
  },
  {
   "cell_type": "code",
   "execution_count": 337,
   "id": "44a28252-253b-44c5-bea0-c416922cc01a",
   "metadata": {},
   "outputs": [
    {
     "data": {
      "text/plain": [
       "'https://www.google.com/imghp?hl=en&tab=wi'"
      ]
     },
     "execution_count": 337,
     "metadata": {},
     "output_type": "execute_result"
    }
   ],
   "source": [
    "gsobj.find('a').get('href')"
   ]
  },
  {
   "cell_type": "code",
   "execution_count": 339,
   "id": "03e48f1b-2c2b-4c2e-ad3a-475e525bbfec",
   "metadata": {},
   "outputs": [
    {
     "data": {
      "text/plain": [
       "<title>Google</title>"
      ]
     },
     "execution_count": 339,
     "metadata": {},
     "output_type": "execute_result"
    }
   ],
   "source": [
    "gsobj.title"
   ]
  },
  {
   "cell_type": "code",
   "execution_count": 341,
   "id": "728045d8-109c-446a-b58b-5218a71fdaa9",
   "metadata": {},
   "outputs": [
    {
     "data": {
      "text/plain": [
       "'title'"
      ]
     },
     "execution_count": 341,
     "metadata": {},
     "output_type": "execute_result"
    }
   ],
   "source": [
    "gsobj.title.name"
   ]
  },
  {
   "cell_type": "code",
   "execution_count": 343,
   "id": "e0d533f6-c1f4-41d1-9858-5e4eb4849aee",
   "metadata": {},
   "outputs": [
    {
     "data": {
      "text/plain": [
       "'Google'"
      ]
     },
     "execution_count": 343,
     "metadata": {},
     "output_type": "execute_result"
    }
   ],
   "source": [
    "gsobj.title.string"
   ]
  },
  {
   "cell_type": "code",
   "execution_count": 345,
   "id": "752f53f9-cf03-4c13-8e8b-febeb2bd34fa",
   "metadata": {},
   "outputs": [
    {
     "data": {
      "text/plain": [
       "<table cellpadding=\"0\" cellspacing=\"0\"><tr valign=\"top\"><td width=\"25%\"> </td><td align=\"center\" nowrap=\"\"><input name=\"ie\" type=\"hidden\" value=\"ISO-8859-1\"/><input name=\"hl\" type=\"hidden\" value=\"en-IN\"/><input name=\"source\" type=\"hidden\" value=\"hp\"/><input name=\"biw\" type=\"hidden\"/><input name=\"bih\" type=\"hidden\"/><div class=\"ds\" style=\"height:32px;margin:4px 0\"><input autocomplete=\"off\" class=\"lst\" maxlength=\"2048\" name=\"q\" size=\"57\" style=\"margin:0;padding:5px 8px 0 6px;vertical-align:top;color:#000\" title=\"Google Search\" value=\"\"/></div><br style=\"line-height:0\"/><span class=\"ds\"><span class=\"lsbb\"><input class=\"lsb\" name=\"btnG\" type=\"submit\" value=\"Google Search\"/></span></span><span class=\"ds\"><span class=\"lsbb\"><input class=\"lsb\" id=\"tsuid_VXLiZ_qNLPWv5OUP3qGB2AM_1\" name=\"btnI\" type=\"submit\" value=\"I'm Feeling Lucky\"/><script nonce=\"eT51kY71GJTArp5ptapfmg\">(function(){var id='tsuid_VXLiZ_qNLPWv5OUP3qGB2AM_1';document.getElementById(id).onclick = function(){if (this.form.q.value){this.checked = 1;if (this.form.iflsig)this.form.iflsig.disabled = false;}\n",
       "else top.location='/doodles/';};})();</script><input name=\"iflsig\" type=\"hidden\" value=\"ACkRmUkAAAAAZ-KAZS3nfsLbPE34SZBtWzbhoW3AUsHy\"/></span></span></td><td align=\"left\" class=\"fl sblc\" nowrap=\"\" width=\"25%\"><a href=\"/advanced_search?hl=en-IN&amp;authuser=0\">Advanced search</a></td></tr></table>"
      ]
     },
     "execution_count": 345,
     "metadata": {},
     "output_type": "execute_result"
    }
   ],
   "source": [
    "gsobj.table"
   ]
  },
  {
   "cell_type": "code",
   "execution_count": 347,
   "id": "f7bed673-a780-4339-b0b1-220c0749f34a",
   "metadata": {},
   "outputs": [
    {
     "data": {
      "text/plain": [
       "<table cellpadding=\"0\" cellspacing=\"0\"><tr valign=\"top\"><td width=\"25%\"> </td><td align=\"center\" nowrap=\"\"><input name=\"ie\" type=\"hidden\" value=\"ISO-8859-1\"/><input name=\"hl\" type=\"hidden\" value=\"en-IN\"/><input name=\"source\" type=\"hidden\" value=\"hp\"/><input name=\"biw\" type=\"hidden\"/><input name=\"bih\" type=\"hidden\"/><div class=\"ds\" style=\"height:32px;margin:4px 0\"><input autocomplete=\"off\" class=\"lst\" maxlength=\"2048\" name=\"q\" size=\"57\" style=\"margin:0;padding:5px 8px 0 6px;vertical-align:top;color:#000\" title=\"Google Search\" value=\"\"/></div><br style=\"line-height:0\"/><span class=\"ds\"><span class=\"lsbb\"><input class=\"lsb\" name=\"btnG\" type=\"submit\" value=\"Google Search\"/></span></span><span class=\"ds\"><span class=\"lsbb\"><input class=\"lsb\" id=\"tsuid_VXLiZ_qNLPWv5OUP3qGB2AM_1\" name=\"btnI\" type=\"submit\" value=\"I'm Feeling Lucky\"/><script nonce=\"eT51kY71GJTArp5ptapfmg\">(function(){var id='tsuid_VXLiZ_qNLPWv5OUP3qGB2AM_1';document.getElementById(id).onclick = function(){if (this.form.q.value){this.checked = 1;if (this.form.iflsig)this.form.iflsig.disabled = false;}\n",
       "else top.location='/doodles/';};})();</script><input name=\"iflsig\" type=\"hidden\" value=\"ACkRmUkAAAAAZ-KAZS3nfsLbPE34SZBtWzbhoW3AUsHy\"/></span></span></td><td align=\"left\" class=\"fl sblc\" nowrap=\"\" width=\"25%\"><a href=\"/advanced_search?hl=en-IN&amp;authuser=0\">Advanced search</a></td></tr></table>"
      ]
     },
     "execution_count": 347,
     "metadata": {},
     "output_type": "execute_result"
    }
   ],
   "source": [
    "gsobj.find('table')"
   ]
  },
  {
   "cell_type": "code",
   "execution_count": 351,
   "id": "56fc6476-1b0e-4a61-8263-06200715d091",
   "metadata": {},
   "outputs": [
    {
     "name": "stdout",
     "output_type": "stream",
     "text": [
      "<tr valign=\"top\"><td width=\"25%\"> </td><td align=\"center\" nowrap=\"\"><input name=\"ie\" type=\"hidden\" value=\"ISO-8859-1\"/><input name=\"hl\" type=\"hidden\" value=\"en-IN\"/><input name=\"source\" type=\"hidden\" value=\"hp\"/><input name=\"biw\" type=\"hidden\"/><input name=\"bih\" type=\"hidden\"/><div class=\"ds\" style=\"height:32px;margin:4px 0\"><input autocomplete=\"off\" class=\"lst\" maxlength=\"2048\" name=\"q\" size=\"57\" style=\"margin:0;padding:5px 8px 0 6px;vertical-align:top;color:#000\" title=\"Google Search\" value=\"\"/></div><br style=\"line-height:0\"/><span class=\"ds\"><span class=\"lsbb\"><input class=\"lsb\" name=\"btnG\" type=\"submit\" value=\"Google Search\"/></span></span><span class=\"ds\"><span class=\"lsbb\"><input class=\"lsb\" id=\"tsuid_VXLiZ_qNLPWv5OUP3qGB2AM_1\" name=\"btnI\" type=\"submit\" value=\"I'm Feeling Lucky\"/><script nonce=\"eT51kY71GJTArp5ptapfmg\">(function(){var id='tsuid_VXLiZ_qNLPWv5OUP3qGB2AM_1';document.getElementById(id).onclick = function(){if (this.form.q.value){this.checked = 1;if (this.form.iflsig)this.form.iflsig.disabled = false;}\n",
      "else top.location='/doodles/';};})();</script><input name=\"iflsig\" type=\"hidden\" value=\"ACkRmUkAAAAAZ-KAZS3nfsLbPE34SZBtWzbhoW3AUsHy\"/></span></span></td><td align=\"left\" class=\"fl sblc\" nowrap=\"\" width=\"25%\"><a href=\"/advanced_search?hl=en-IN&amp;authuser=0\">Advanced search</a></td></tr>\n"
     ]
    }
   ],
   "source": [
    "T = gsobj.find('table')\n",
    "for row in T.find_all('tr'):\n",
    "    print(row)"
   ]
  },
  {
   "cell_type": "code",
   "execution_count": 353,
   "id": "e42349f8-3c38-49d9-a610-3a3a462b4d3f",
   "metadata": {},
   "outputs": [
    {
     "name": "stdout",
     "output_type": "stream",
     "text": [
      "[<td width=\"25%\"> </td>, <td align=\"center\" nowrap=\"\"><input name=\"ie\" type=\"hidden\" value=\"ISO-8859-1\"/><input name=\"hl\" type=\"hidden\" value=\"en-IN\"/><input name=\"source\" type=\"hidden\" value=\"hp\"/><input name=\"biw\" type=\"hidden\"/><input name=\"bih\" type=\"hidden\"/><div class=\"ds\" style=\"height:32px;margin:4px 0\"><input autocomplete=\"off\" class=\"lst\" maxlength=\"2048\" name=\"q\" size=\"57\" style=\"margin:0;padding:5px 8px 0 6px;vertical-align:top;color:#000\" title=\"Google Search\" value=\"\"/></div><br style=\"line-height:0\"/><span class=\"ds\"><span class=\"lsbb\"><input class=\"lsb\" name=\"btnG\" type=\"submit\" value=\"Google Search\"/></span></span><span class=\"ds\"><span class=\"lsbb\"><input class=\"lsb\" id=\"tsuid_VXLiZ_qNLPWv5OUP3qGB2AM_1\" name=\"btnI\" type=\"submit\" value=\"I'm Feeling Lucky\"/><script nonce=\"eT51kY71GJTArp5ptapfmg\">(function(){var id='tsuid_VXLiZ_qNLPWv5OUP3qGB2AM_1';document.getElementById(id).onclick = function(){if (this.form.q.value){this.checked = 1;if (this.form.iflsig)this.form.iflsig.disabled = false;}\n",
      "else top.location='/doodles/';};})();</script><input name=\"iflsig\" type=\"hidden\" value=\"ACkRmUkAAAAAZ-KAZS3nfsLbPE34SZBtWzbhoW3AUsHy\"/></span></span></td>, <td align=\"left\" class=\"fl sblc\" nowrap=\"\" width=\"25%\"><a href=\"/advanced_search?hl=en-IN&amp;authuser=0\">Advanced search</a></td>]\n"
     ]
    }
   ],
   "source": [
    "T = gsobj.find('table')\n",
    "for row in T.find_all('tr'):\n",
    "    columns = row.find_all('td')\n",
    "    print(columns)"
   ]
  },
  {
   "cell_type": "code",
   "execution_count": 355,
   "id": "3fb2e0c5-91b2-4143-871e-ab574301248d",
   "metadata": {},
   "outputs": [
    {
     "name": "stdout",
     "output_type": "stream",
     "text": [
      "<td width=\"25%\"> </td>\n",
      "<td align=\"center\" nowrap=\"\"><input name=\"ie\" type=\"hidden\" value=\"ISO-8859-1\"/><input name=\"hl\" type=\"hidden\" value=\"en-IN\"/><input name=\"source\" type=\"hidden\" value=\"hp\"/><input name=\"biw\" type=\"hidden\"/><input name=\"bih\" type=\"hidden\"/><div class=\"ds\" style=\"height:32px;margin:4px 0\"><input autocomplete=\"off\" class=\"lst\" maxlength=\"2048\" name=\"q\" size=\"57\" style=\"margin:0;padding:5px 8px 0 6px;vertical-align:top;color:#000\" title=\"Google Search\" value=\"\"/></div><br style=\"line-height:0\"/><span class=\"ds\"><span class=\"lsbb\"><input class=\"lsb\" name=\"btnG\" type=\"submit\" value=\"Google Search\"/></span></span><span class=\"ds\"><span class=\"lsbb\"><input class=\"lsb\" id=\"tsuid_VXLiZ_qNLPWv5OUP3qGB2AM_1\" name=\"btnI\" type=\"submit\" value=\"I'm Feeling Lucky\"/><script nonce=\"eT51kY71GJTArp5ptapfmg\">(function(){var id='tsuid_VXLiZ_qNLPWv5OUP3qGB2AM_1';document.getElementById(id).onclick = function(){if (this.form.q.value){this.checked = 1;if (this.form.iflsig)this.form.iflsig.disabled = false;}\n",
      "else top.location='/doodles/';};})();</script><input name=\"iflsig\" type=\"hidden\" value=\"ACkRmUkAAAAAZ-KAZS3nfsLbPE34SZBtWzbhoW3AUsHy\"/></span></span></td>\n",
      "<td align=\"left\" class=\"fl sblc\" nowrap=\"\" width=\"25%\"><a href=\"/advanced_search?hl=en-IN&amp;authuser=0\">Advanced search</a></td>\n"
     ]
    }
   ],
   "source": [
    "T = gsobj.find('table')\n",
    "for row in T.find_all('tr'):\n",
    "    columns = row.find_all('td')\n",
    "    for var in columns:\n",
    "        print(var)"
   ]
  },
  {
   "cell_type": "code",
   "execution_count": 357,
   "id": "5f24e4b3-0425-41f5-814e-8a05db1fbab4",
   "metadata": {},
   "outputs": [
    {
     "name": "stdout",
     "output_type": "stream",
     "text": [
      " \n",
      "\n",
      "Advanced search\n"
     ]
    }
   ],
   "source": [
    "T = gsobj.find('table')\n",
    "for row in T.find_all('tr'):\n",
    "    columns = row.find_all('td')\n",
    "    for var in columns:\n",
    "        print(var.text)"
   ]
  },
  {
   "cell_type": "code",
   "execution_count": 359,
   "id": "fa7cac7f-e6d8-4a10-abf1-b7e5b63b1e83",
   "metadata": {},
   "outputs": [
    {
     "data": {
      "text/plain": [
       "<a class=\"gb1\" href=\"https://www.google.com/imghp?hl=en&amp;tab=wi\">Images</a>"
      ]
     },
     "execution_count": 359,
     "metadata": {},
     "output_type": "execute_result"
    }
   ],
   "source": [
    "# To download list URL's from google.com\n",
    "# ----------------------------------------\n",
    "gsobj.find('a')"
   ]
  },
  {
   "cell_type": "code",
   "execution_count": 361,
   "id": "248e10c7-6a02-4505-b775-e724b31ba871",
   "metadata": {},
   "outputs": [
    {
     "data": {
      "text/plain": [
       "[<a class=\"gb1\" href=\"https://www.google.com/imghp?hl=en&amp;tab=wi\">Images</a>,\n",
       " <a class=\"gb1\" href=\"https://maps.google.co.in/maps?hl=en&amp;tab=wl\">Maps</a>,\n",
       " <a class=\"gb1\" href=\"https://play.google.com/?hl=en&amp;tab=w8\">Play</a>,\n",
       " <a class=\"gb1\" href=\"https://www.youtube.com/?tab=w1\">YouTube</a>,\n",
       " <a class=\"gb1\" href=\"https://news.google.com/?tab=wn\">News</a>,\n",
       " <a class=\"gb1\" href=\"https://mail.google.com/mail/?tab=wm\">Gmail</a>,\n",
       " <a class=\"gb1\" href=\"https://drive.google.com/?tab=wo\">Drive</a>,\n",
       " <a class=\"gb1\" href=\"https://www.google.co.in/intl/en/about/products?tab=wh\" style=\"text-decoration:none\"><u>More</u> »</a>,\n",
       " <a class=\"gb4\" href=\"http://www.google.co.in/history/optout?hl=en\">Web History</a>,\n",
       " <a class=\"gb4\" href=\"/preferences?hl=en\">Settings</a>,\n",
       " <a class=\"gb4\" href=\"https://accounts.google.com/ServiceLogin?hl=en&amp;passive=true&amp;continue=https://www.google.com/&amp;ec=GAZAAQ\" id=\"gb_70\" target=\"_top\">Sign in</a>,\n",
       " <a href=\"/advanced_search?hl=en-IN&amp;authuser=0\">Advanced search</a>,\n",
       " <a href=\"https://www.google.com/setprefs?sig=0_CJC1wC5y-ScGI5zWwDdQT1H5YZQ%3D&amp;hl=hi&amp;source=homepage&amp;sa=X&amp;ved=0ahUKEwi6jPLo8KSMAxX1F7kGHd5QADsQ2ZgBCAY\">हिन्दी</a>,\n",
       " <a href=\"https://www.google.com/setprefs?sig=0_CJC1wC5y-ScGI5zWwDdQT1H5YZQ%3D&amp;hl=bn&amp;source=homepage&amp;sa=X&amp;ved=0ahUKEwi6jPLo8KSMAxX1F7kGHd5QADsQ2ZgBCAc\">বাংলা</a>,\n",
       " <a href=\"https://www.google.com/setprefs?sig=0_CJC1wC5y-ScGI5zWwDdQT1H5YZQ%3D&amp;hl=te&amp;source=homepage&amp;sa=X&amp;ved=0ahUKEwi6jPLo8KSMAxX1F7kGHd5QADsQ2ZgBCAg\">తెలుగు</a>,\n",
       " <a href=\"https://www.google.com/setprefs?sig=0_CJC1wC5y-ScGI5zWwDdQT1H5YZQ%3D&amp;hl=mr&amp;source=homepage&amp;sa=X&amp;ved=0ahUKEwi6jPLo8KSMAxX1F7kGHd5QADsQ2ZgBCAk\">मराठी</a>,\n",
       " <a href=\"https://www.google.com/setprefs?sig=0_CJC1wC5y-ScGI5zWwDdQT1H5YZQ%3D&amp;hl=ta&amp;source=homepage&amp;sa=X&amp;ved=0ahUKEwi6jPLo8KSMAxX1F7kGHd5QADsQ2ZgBCAo\">தமிழ்</a>,\n",
       " <a href=\"https://www.google.com/setprefs?sig=0_CJC1wC5y-ScGI5zWwDdQT1H5YZQ%3D&amp;hl=gu&amp;source=homepage&amp;sa=X&amp;ved=0ahUKEwi6jPLo8KSMAxX1F7kGHd5QADsQ2ZgBCAs\">ગુજરાતી</a>,\n",
       " <a href=\"https://www.google.com/setprefs?sig=0_CJC1wC5y-ScGI5zWwDdQT1H5YZQ%3D&amp;hl=kn&amp;source=homepage&amp;sa=X&amp;ved=0ahUKEwi6jPLo8KSMAxX1F7kGHd5QADsQ2ZgBCAw\">ಕನ್ನಡ</a>,\n",
       " <a href=\"https://www.google.com/setprefs?sig=0_CJC1wC5y-ScGI5zWwDdQT1H5YZQ%3D&amp;hl=ml&amp;source=homepage&amp;sa=X&amp;ved=0ahUKEwi6jPLo8KSMAxX1F7kGHd5QADsQ2ZgBCA0\">മലയാളം</a>,\n",
       " <a href=\"https://www.google.com/setprefs?sig=0_CJC1wC5y-ScGI5zWwDdQT1H5YZQ%3D&amp;hl=pa&amp;source=homepage&amp;sa=X&amp;ved=0ahUKEwi6jPLo8KSMAxX1F7kGHd5QADsQ2ZgBCA4\">ਪੰਜਾਬੀ</a>,\n",
       " <a href=\"/intl/en/ads/\">Advertising</a>,\n",
       " <a href=\"http://www.google.co.in/services/\">Business Solutions</a>,\n",
       " <a href=\"/intl/en/about.html\">About Google</a>,\n",
       " <a href=\"https://www.google.com/setprefdomain?prefdom=IN&amp;prev=https://www.google.co.in/&amp;sig=K_-ofome6TvkOUzzsqgWbMYBb94Co%3D\">Google.co.in</a>,\n",
       " <a href=\"/intl/en/policies/privacy/\">Privacy</a>,\n",
       " <a href=\"/intl/en/policies/terms/\">Terms</a>]"
      ]
     },
     "execution_count": 361,
     "metadata": {},
     "output_type": "execute_result"
    }
   ],
   "source": [
    "gsobj.find_all('a')"
   ]
  },
  {
   "cell_type": "code",
   "execution_count": 365,
   "id": "2850d3fa-c7c7-4c3f-bd51-aecb36a2970d",
   "metadata": {},
   "outputs": [
    {
     "name": "stdout",
     "output_type": "stream",
     "text": [
      "https://www.google.com/imghp?hl=en&tab=wi\n",
      "https://maps.google.co.in/maps?hl=en&tab=wl\n",
      "https://play.google.com/?hl=en&tab=w8\n",
      "https://www.youtube.com/?tab=w1\n",
      "https://news.google.com/?tab=wn\n",
      "https://mail.google.com/mail/?tab=wm\n",
      "https://drive.google.com/?tab=wo\n",
      "https://www.google.co.in/intl/en/about/products?tab=wh\n",
      "http://www.google.co.in/history/optout?hl=en\n",
      "/preferences?hl=en\n",
      "https://accounts.google.com/ServiceLogin?hl=en&passive=true&continue=https://www.google.com/&ec=GAZAAQ\n",
      "/advanced_search?hl=en-IN&authuser=0\n",
      "https://www.google.com/setprefs?sig=0_CJC1wC5y-ScGI5zWwDdQT1H5YZQ%3D&hl=hi&source=homepage&sa=X&ved=0ahUKEwi6jPLo8KSMAxX1F7kGHd5QADsQ2ZgBCAY\n",
      "https://www.google.com/setprefs?sig=0_CJC1wC5y-ScGI5zWwDdQT1H5YZQ%3D&hl=bn&source=homepage&sa=X&ved=0ahUKEwi6jPLo8KSMAxX1F7kGHd5QADsQ2ZgBCAc\n",
      "https://www.google.com/setprefs?sig=0_CJC1wC5y-ScGI5zWwDdQT1H5YZQ%3D&hl=te&source=homepage&sa=X&ved=0ahUKEwi6jPLo8KSMAxX1F7kGHd5QADsQ2ZgBCAg\n",
      "https://www.google.com/setprefs?sig=0_CJC1wC5y-ScGI5zWwDdQT1H5YZQ%3D&hl=mr&source=homepage&sa=X&ved=0ahUKEwi6jPLo8KSMAxX1F7kGHd5QADsQ2ZgBCAk\n",
      "https://www.google.com/setprefs?sig=0_CJC1wC5y-ScGI5zWwDdQT1H5YZQ%3D&hl=ta&source=homepage&sa=X&ved=0ahUKEwi6jPLo8KSMAxX1F7kGHd5QADsQ2ZgBCAo\n",
      "https://www.google.com/setprefs?sig=0_CJC1wC5y-ScGI5zWwDdQT1H5YZQ%3D&hl=gu&source=homepage&sa=X&ved=0ahUKEwi6jPLo8KSMAxX1F7kGHd5QADsQ2ZgBCAs\n",
      "https://www.google.com/setprefs?sig=0_CJC1wC5y-ScGI5zWwDdQT1H5YZQ%3D&hl=kn&source=homepage&sa=X&ved=0ahUKEwi6jPLo8KSMAxX1F7kGHd5QADsQ2ZgBCAw\n",
      "https://www.google.com/setprefs?sig=0_CJC1wC5y-ScGI5zWwDdQT1H5YZQ%3D&hl=ml&source=homepage&sa=X&ved=0ahUKEwi6jPLo8KSMAxX1F7kGHd5QADsQ2ZgBCA0\n",
      "https://www.google.com/setprefs?sig=0_CJC1wC5y-ScGI5zWwDdQT1H5YZQ%3D&hl=pa&source=homepage&sa=X&ved=0ahUKEwi6jPLo8KSMAxX1F7kGHd5QADsQ2ZgBCA4\n",
      "/intl/en/ads/\n",
      "http://www.google.co.in/services/\n",
      "/intl/en/about.html\n",
      "https://www.google.com/setprefdomain?prefdom=IN&prev=https://www.google.co.in/&sig=K_-ofome6TvkOUzzsqgWbMYBb94Co%3D\n",
      "/intl/en/policies/privacy/\n",
      "/intl/en/policies/terms/\n"
     ]
    }
   ],
   "source": [
    "for var in gsobj.find_all('a'):\n",
    "    print(var.get('href'))"
   ]
  },
  {
   "cell_type": "code",
   "execution_count": 369,
   "id": "a9921dce-d342-4444-b4a0-b2e11b1c4ec2",
   "metadata": {},
   "outputs": [
    {
     "name": "stdout",
     "output_type": "stream",
     "text": [
      "https://www.google.com/imghp?hl=en&tab=wi\n",
      "https://maps.google.co.in/maps?hl=en&tab=wl\n",
      "https://play.google.com/?hl=en&tab=w8\n",
      "https://www.youtube.com/?tab=w1\n",
      "https://news.google.com/?tab=wn\n",
      "https://mail.google.com/mail/?tab=wm\n",
      "https://drive.google.com/?tab=wo\n",
      "https://www.google.co.in/intl/en/about/products?tab=wh\n",
      "https://accounts.google.com/ServiceLogin?hl=en&passive=true&continue=https://www.google.com/&ec=GAZAAQ\n",
      "https://www.google.com/setprefs?sig=0_CJC1wC5y-ScGI5zWwDdQT1H5YZQ%3D&hl=hi&source=homepage&sa=X&ved=0ahUKEwi6jPLo8KSMAxX1F7kGHd5QADsQ2ZgBCAY\n",
      "https://www.google.com/setprefs?sig=0_CJC1wC5y-ScGI5zWwDdQT1H5YZQ%3D&hl=bn&source=homepage&sa=X&ved=0ahUKEwi6jPLo8KSMAxX1F7kGHd5QADsQ2ZgBCAc\n",
      "https://www.google.com/setprefs?sig=0_CJC1wC5y-ScGI5zWwDdQT1H5YZQ%3D&hl=te&source=homepage&sa=X&ved=0ahUKEwi6jPLo8KSMAxX1F7kGHd5QADsQ2ZgBCAg\n",
      "https://www.google.com/setprefs?sig=0_CJC1wC5y-ScGI5zWwDdQT1H5YZQ%3D&hl=mr&source=homepage&sa=X&ved=0ahUKEwi6jPLo8KSMAxX1F7kGHd5QADsQ2ZgBCAk\n",
      "https://www.google.com/setprefs?sig=0_CJC1wC5y-ScGI5zWwDdQT1H5YZQ%3D&hl=ta&source=homepage&sa=X&ved=0ahUKEwi6jPLo8KSMAxX1F7kGHd5QADsQ2ZgBCAo\n",
      "https://www.google.com/setprefs?sig=0_CJC1wC5y-ScGI5zWwDdQT1H5YZQ%3D&hl=gu&source=homepage&sa=X&ved=0ahUKEwi6jPLo8KSMAxX1F7kGHd5QADsQ2ZgBCAs\n",
      "https://www.google.com/setprefs?sig=0_CJC1wC5y-ScGI5zWwDdQT1H5YZQ%3D&hl=kn&source=homepage&sa=X&ved=0ahUKEwi6jPLo8KSMAxX1F7kGHd5QADsQ2ZgBCAw\n",
      "https://www.google.com/setprefs?sig=0_CJC1wC5y-ScGI5zWwDdQT1H5YZQ%3D&hl=ml&source=homepage&sa=X&ved=0ahUKEwi6jPLo8KSMAxX1F7kGHd5QADsQ2ZgBCA0\n",
      "https://www.google.com/setprefs?sig=0_CJC1wC5y-ScGI5zWwDdQT1H5YZQ%3D&hl=pa&source=homepage&sa=X&ved=0ahUKEwi6jPLo8KSMAxX1F7kGHd5QADsQ2ZgBCA4\n",
      "https://www.google.com/setprefdomain?prefdom=IN&prev=https://www.google.co.in/&sig=K_-ofome6TvkOUzzsqgWbMYBb94Co%3D\n"
     ]
    }
   ],
   "source": [
    "for var in gsobj.find_all('a'):\n",
    "    if(re.search('^https',var.get('href'))):\n",
    "        print(var.get('href'))"
   ]
  },
  {
   "cell_type": "code",
   "execution_count": null,
   "id": "b345d415-eb88-40b0-9c43-7b2b9bfb1f3c",
   "metadata": {},
   "outputs": [],
   "source": [
    "for var in gsobj.find_all('a'):\n",
    "    if(re.search('^https',var.get('href'))):\n",
    "        print(var.get('href'))"
   ]
  },
  {
   "cell_type": "code",
   "execution_count": 371,
   "id": "7900fa42-fa65-4492-8c12-4c0afb13d237",
   "metadata": {},
   "outputs": [
    {
     "data": {
      "text/plain": [
       "<p style=\"font-size:8pt;color:#70757a\">© 2025 - <a href=\"/intl/en/policies/privacy/\">Privacy</a> - <a href=\"/intl/en/policies/terms/\">Terms</a></p>"
      ]
     },
     "execution_count": 371,
     "metadata": {},
     "output_type": "execute_result"
    }
   ],
   "source": [
    "fobj = open('test.html') # Refer cell number 245\n",
    "sobj = bs4.BeautifulSoup(fobj,'html.parser')\n",
    "fobj.close()\n",
    "\n",
    "sobj.find('p')"
   ]
  },
  {
   "cell_type": "code",
   "execution_count": null,
   "id": "17655b66-07b8-4fb0-b9cd-4151e91cba74",
   "metadata": {},
   "outputs": [],
   "source": []
  },
  {
   "cell_type": "code",
   "execution_count": 376,
   "id": "26e5cd9c-2e91-4682-91e0-21185890e8c4",
   "metadata": {},
   "outputs": [],
   "source": [
    "url='https://www.amazon.in/Laptops/b?ie=UTF8&node=1375424031'\n",
    "\n",
    "r = requests.get(url)\n",
    "amazon_page = r.text\n"
   ]
  },
  {
   "cell_type": "code",
   "execution_count": 378,
   "id": "624788fd-ded0-4396-992e-dc3820229997",
   "metadata": {},
   "outputs": [
    {
     "data": {
      "text/plain": [
       "'text/html;charset=UTF-8'"
      ]
     },
     "execution_count": 378,
     "metadata": {},
     "output_type": "execute_result"
    }
   ],
   "source": [
    "r.headers['Content-Type']"
   ]
  },
  {
   "cell_type": "code",
   "execution_count": 380,
   "id": "c850a1c2-7e82-4bc3-9192-bb8a3acd16c8",
   "metadata": {},
   "outputs": [],
   "source": [
    "amazon_laptop = bs4.BeautifulSoup(amazon_page)"
   ]
  },
  {
   "cell_type": "code",
   "execution_count": 390,
   "id": "c9580e76-425f-4e96-9d53-4684b10785f1",
   "metadata": {},
   "outputs": [],
   "source": [
    "#print(amazon_laptop.prettify())"
   ]
  },
  {
   "cell_type": "code",
   "execution_count": 388,
   "id": "effab8a6-58bd-4821-a704-e27cda3aba97",
   "metadata": {},
   "outputs": [
    {
     "data": {
      "text/plain": [
       "[]"
      ]
     },
     "execution_count": 388,
     "metadata": {},
     "output_type": "execute_result"
    }
   ],
   "source": []
  },
  {
   "cell_type": "code",
   "execution_count": 392,
   "id": "dd1ed5a5-52b9-4535-9231-2d4cdfe883c7",
   "metadata": {},
   "outputs": [
    {
     "data": {
      "text/plain": [
       "<Response [503]>"
      ]
     },
     "execution_count": 392,
     "metadata": {},
     "output_type": "execute_result"
    }
   ],
   "source": [
    "requests.get('https://www.amazon.com/s?k=laptops')"
   ]
  },
  {
   "cell_type": "code",
   "execution_count": 394,
   "id": "e9239796-f493-4a24-ab95-ace9e8052bbd",
   "metadata": {},
   "outputs": [
    {
     "data": {
      "text/plain": [
       "<Response [503]>"
      ]
     },
     "execution_count": 394,
     "metadata": {},
     "output_type": "execute_result"
    }
   ],
   "source": [
    "requests.get('https://www.amazon.com/Notebooks-Laptop-Computers/b?ie=UTF8&node=565108')"
   ]
  },
  {
   "cell_type": "code",
   "execution_count": null,
   "id": "be1c70aa-04b3-438e-b2ff-03586af6d34c",
   "metadata": {},
   "outputs": [],
   "source": [
    "#r = requests.get(url,auth=('token',))"
   ]
  },
  {
   "cell_type": "code",
   "execution_count": 426,
   "id": "42e8bd52-8e2c-4270-abec-344dd4251e1c",
   "metadata": {},
   "outputs": [],
   "source": [
    "import pprint"
   ]
  },
  {
   "cell_type": "code",
   "execution_count": 430,
   "id": "f5647c42-5673-46c8-a28c-eb44c50068c5",
   "metadata": {},
   "outputs": [],
   "source": [
    "def download_web(url):\n",
    "    r = requests.get(url)\n",
    "    print(r.status_code)\n",
    "    if(r.status_code != 200):\n",
    "        return 0\n",
    "        \n",
    "    if('html' in r.headers['Content-Type']):\n",
    "        print('webscraping')\n",
    "        webscraping(r.text) # nestedcall with arguments\n",
    "    elif('application/json' in r.headers['Content-Type']):\n",
    "        print('json data')\n",
    "        json_str(r.text) # nestedcall with arguments\n",
    "    else:\n",
    "        print('This is plain text')\n",
    "\n",
    "\n",
    "def webscraping(webpage):\n",
    "    sobj = bs4.BeautifulSoup(webpage)\n",
    "    s = sobj.p\n",
    "    print(s)\n",
    "\n",
    "def json_str(data):\n",
    "    python_str = json.loads(data) # convert from json to python\n",
    "    pprint.pprint(python_str)\n"
   ]
  },
  {
   "cell_type": "code",
   "execution_count": 420,
   "id": "16a88b8d-7e7d-4f77-aa74-ab96135dfe40",
   "metadata": {},
   "outputs": [
    {
     "name": "stdout",
     "output_type": "stream",
     "text": [
      "200\n",
      "webscraping\n"
     ]
    }
   ],
   "source": [
    "download_web('https://www.python.org')"
   ]
  },
  {
   "cell_type": "code",
   "execution_count": 422,
   "id": "0f64e661-e8bd-4030-be61-4f2a7a242d60",
   "metadata": {},
   "outputs": [
    {
     "name": "stdout",
     "output_type": "stream",
     "text": [
      "200\n",
      "json data\n"
     ]
    }
   ],
   "source": [
    "download_web('https://api.github.com/users/hadley/orgs')"
   ]
  },
  {
   "cell_type": "code",
   "execution_count": 432,
   "id": "3d499812-69e0-4e16-82d0-ce94fa134c2c",
   "metadata": {},
   "outputs": [
    {
     "name": "stdout",
     "output_type": "stream",
     "text": [
      "200\n",
      "webscraping\n",
      "<p style=\"font-size:8pt;color:#70757a\">© 2025 - <a href=\"/intl/en/policies/privacy/\">Privacy</a> - <a href=\"/intl/en/policies/terms/\">Terms</a></p>\n",
      "200\n",
      "json data\n",
      "[{'avatar_url': 'https://avatars.githubusercontent.com/u/423638?v=4',\n",
      "  'description': '',\n",
      "  'events_url': 'https://api.github.com/orgs/ggobi/events',\n",
      "  'hooks_url': 'https://api.github.com/orgs/ggobi/hooks',\n",
      "  'id': 423638,\n",
      "  'issues_url': 'https://api.github.com/orgs/ggobi/issues',\n",
      "  'login': 'ggobi',\n",
      "  'members_url': 'https://api.github.com/orgs/ggobi/members{/member}',\n",
      "  'node_id': 'MDEyOk9yZ2FuaXphdGlvbjQyMzYzOA==',\n",
      "  'public_members_url': 'https://api.github.com/orgs/ggobi/public_members{/member}',\n",
      "  'repos_url': 'https://api.github.com/orgs/ggobi/repos',\n",
      "  'url': 'https://api.github.com/orgs/ggobi'},\n",
      " {'avatar_url': 'https://avatars.githubusercontent.com/u/513560?v=4',\n",
      "  'description': '',\n",
      "  'events_url': 'https://api.github.com/orgs/rstudio/events',\n",
      "  'hooks_url': 'https://api.github.com/orgs/rstudio/hooks',\n",
      "  'id': 513560,\n",
      "  'issues_url': 'https://api.github.com/orgs/rstudio/issues',\n",
      "  'login': 'rstudio',\n",
      "  'members_url': 'https://api.github.com/orgs/rstudio/members{/member}',\n",
      "  'node_id': 'MDEyOk9yZ2FuaXphdGlvbjUxMzU2MA==',\n",
      "  'public_members_url': 'https://api.github.com/orgs/rstudio/public_members{/member}',\n",
      "  'repos_url': 'https://api.github.com/orgs/rstudio/repos',\n",
      "  'url': 'https://api.github.com/orgs/rstudio'},\n",
      " {'avatar_url': 'https://avatars.githubusercontent.com/u/722735?v=4',\n",
      "  'description': None,\n",
      "  'events_url': 'https://api.github.com/orgs/rstats/events',\n",
      "  'hooks_url': 'https://api.github.com/orgs/rstats/hooks',\n",
      "  'id': 722735,\n",
      "  'issues_url': 'https://api.github.com/orgs/rstats/issues',\n",
      "  'login': 'rstats',\n",
      "  'members_url': 'https://api.github.com/orgs/rstats/members{/member}',\n",
      "  'node_id': 'MDEyOk9yZ2FuaXphdGlvbjcyMjczNQ==',\n",
      "  'public_members_url': 'https://api.github.com/orgs/rstats/public_members{/member}',\n",
      "  'repos_url': 'https://api.github.com/orgs/rstats/repos',\n",
      "  'url': 'https://api.github.com/orgs/rstats'},\n",
      " {'avatar_url': 'https://avatars.githubusercontent.com/u/1200269?v=4',\n",
      "  'description': 'Tools and R Packages for Open Science',\n",
      "  'events_url': 'https://api.github.com/orgs/ropensci/events',\n",
      "  'hooks_url': 'https://api.github.com/orgs/ropensci/hooks',\n",
      "  'id': 1200269,\n",
      "  'issues_url': 'https://api.github.com/orgs/ropensci/issues',\n",
      "  'login': 'ropensci',\n",
      "  'members_url': 'https://api.github.com/orgs/ropensci/members{/member}',\n",
      "  'node_id': 'MDEyOk9yZ2FuaXphdGlvbjEyMDAyNjk=',\n",
      "  'public_members_url': 'https://api.github.com/orgs/ropensci/public_members{/member}',\n",
      "  'repos_url': 'https://api.github.com/orgs/ropensci/repos',\n",
      "  'url': 'https://api.github.com/orgs/ropensci'},\n",
      " {'avatar_url': 'https://avatars.githubusercontent.com/u/3330561?v=4',\n",
      "  'description': None,\n",
      "  'events_url': 'https://api.github.com/orgs/rjournal/events',\n",
      "  'hooks_url': 'https://api.github.com/orgs/rjournal/hooks',\n",
      "  'id': 3330561,\n",
      "  'issues_url': 'https://api.github.com/orgs/rjournal/issues',\n",
      "  'login': 'rjournal',\n",
      "  'members_url': 'https://api.github.com/orgs/rjournal/members{/member}',\n",
      "  'node_id': 'MDEyOk9yZ2FuaXphdGlvbjMzMzA1NjE=',\n",
      "  'public_members_url': 'https://api.github.com/orgs/rjournal/public_members{/member}',\n",
      "  'repos_url': 'https://api.github.com/orgs/rjournal/repos',\n",
      "  'url': 'https://api.github.com/orgs/rjournal'},\n",
      " {'avatar_url': 'https://avatars.githubusercontent.com/u/5695665?v=4',\n",
      "  'description': 'R + databases',\n",
      "  'events_url': 'https://api.github.com/orgs/r-dbi/events',\n",
      "  'hooks_url': 'https://api.github.com/orgs/r-dbi/hooks',\n",
      "  'id': 5695665,\n",
      "  'issues_url': 'https://api.github.com/orgs/r-dbi/issues',\n",
      "  'login': 'r-dbi',\n",
      "  'members_url': 'https://api.github.com/orgs/r-dbi/members{/member}',\n",
      "  'node_id': 'MDEyOk9yZ2FuaXphdGlvbjU2OTU2NjU=',\n",
      "  'public_members_url': 'https://api.github.com/orgs/r-dbi/public_members{/member}',\n",
      "  'repos_url': 'https://api.github.com/orgs/r-dbi/repos',\n",
      "  'url': 'https://api.github.com/orgs/r-dbi'},\n",
      " {'avatar_url': 'https://avatars.githubusercontent.com/u/15366137?v=4',\n",
      "  'description': 'The R Consortium, Inc was established to provide support to '\n",
      "                 'the R Foundation and R Community, using maintaining and '\n",
      "                 'distributing R software.',\n",
      "  'events_url': 'https://api.github.com/orgs/RConsortium/events',\n",
      "  'hooks_url': 'https://api.github.com/orgs/RConsortium/hooks',\n",
      "  'id': 15366137,\n",
      "  'issues_url': 'https://api.github.com/orgs/RConsortium/issues',\n",
      "  'login': 'RConsortium',\n",
      "  'members_url': 'https://api.github.com/orgs/RConsortium/members{/member}',\n",
      "  'node_id': 'MDEyOk9yZ2FuaXphdGlvbjE1MzY2MTM3',\n",
      "  'public_members_url': 'https://api.github.com/orgs/RConsortium/public_members{/member}',\n",
      "  'repos_url': 'https://api.github.com/orgs/RConsortium/repos',\n",
      "  'url': 'https://api.github.com/orgs/RConsortium'},\n",
      " {'avatar_url': 'https://avatars.githubusercontent.com/u/22032646?v=4',\n",
      "  'description': 'The tidyverse is a collection of R packages that share '\n",
      "                 'common principles and are designed to work together '\n",
      "                 'seamlessly',\n",
      "  'events_url': 'https://api.github.com/orgs/tidyverse/events',\n",
      "  'hooks_url': 'https://api.github.com/orgs/tidyverse/hooks',\n",
      "  'id': 22032646,\n",
      "  'issues_url': 'https://api.github.com/orgs/tidyverse/issues',\n",
      "  'login': 'tidyverse',\n",
      "  'members_url': 'https://api.github.com/orgs/tidyverse/members{/member}',\n",
      "  'node_id': 'MDEyOk9yZ2FuaXphdGlvbjIyMDMyNjQ2',\n",
      "  'public_members_url': 'https://api.github.com/orgs/tidyverse/public_members{/member}',\n",
      "  'repos_url': 'https://api.github.com/orgs/tidyverse/repos',\n",
      "  'url': 'https://api.github.com/orgs/tidyverse'},\n",
      " {'avatar_url': 'https://avatars.githubusercontent.com/u/22618716?v=4',\n",
      "  'description': '',\n",
      "  'events_url': 'https://api.github.com/orgs/r-lib/events',\n",
      "  'hooks_url': 'https://api.github.com/orgs/r-lib/hooks',\n",
      "  'id': 22618716,\n",
      "  'issues_url': 'https://api.github.com/orgs/r-lib/issues',\n",
      "  'login': 'r-lib',\n",
      "  'members_url': 'https://api.github.com/orgs/r-lib/members{/member}',\n",
      "  'node_id': 'MDEyOk9yZ2FuaXphdGlvbjIyNjE4NzE2',\n",
      "  'public_members_url': 'https://api.github.com/orgs/r-lib/public_members{/member}',\n",
      "  'repos_url': 'https://api.github.com/orgs/r-lib/repos',\n",
      "  'url': 'https://api.github.com/orgs/r-lib'},\n",
      " {'avatar_url': 'https://avatars.githubusercontent.com/u/34165516?v=4',\n",
      "  'description': '',\n",
      "  'events_url': 'https://api.github.com/orgs/rstudio-education/events',\n",
      "  'hooks_url': 'https://api.github.com/orgs/rstudio-education/hooks',\n",
      "  'id': 34165516,\n",
      "  'issues_url': 'https://api.github.com/orgs/rstudio-education/issues',\n",
      "  'login': 'rstudio-education',\n",
      "  'members_url': 'https://api.github.com/orgs/rstudio-education/members{/member}',\n",
      "  'node_id': 'MDEyOk9yZ2FuaXphdGlvbjM0MTY1NTE2',\n",
      "  'public_members_url': 'https://api.github.com/orgs/rstudio-education/public_members{/member}',\n",
      "  'repos_url': 'https://api.github.com/orgs/rstudio-education/repos',\n",
      "  'url': 'https://api.github.com/orgs/rstudio-education'}]\n",
      "200\n",
      "webscraping\n",
      "<p><strong>Notice:</strong> While JavaScript is not essential for this website, your interaction with the content will be limited. Please turn JavaScript on for the full experience. </p>\n"
     ]
    }
   ],
   "source": [
    "for var in ['https://www.google.com','https://api.github.com/users/hadley/orgs','https://www.python.org']:\n",
    "    download_web(var)"
   ]
  },
  {
   "cell_type": "code",
   "execution_count": null,
   "id": "8c8bd899-5e1b-4bf8-ac3c-dea297540211",
   "metadata": {},
   "outputs": [],
   "source": [
    "# https://yum.oracle.com/repo/OracleLinux/OL10/baseos/developer/x86_64/index.html\n",
    "\n",
    "create an empty list -> OL10 = []\n",
    "download list of rpms - webscraping\n",
    "append list of rpms to OL10 list.\n",
    "|\n",
    "add to dict => d['OL10']=[list of rpms] ->dataFrame"
   ]
  },
  {
   "cell_type": "code",
   "execution_count": 434,
   "id": "e613fd43-cda5-4d97-a461-f281ea340e1a",
   "metadata": {},
   "outputs": [
    {
     "name": "stdout",
     "output_type": "stream",
     "text": [
      "200\n",
      "webscraping\n",
      "<p>BaseOS packages for test and development - Oracle Linux 10 (x86_64)</p>\n"
     ]
    }
   ],
   "source": [
    "URL = 'https://yum.oracle.com/repo/OracleLinux/OL10/baseos/developer/x86_64/index.html'\n",
    "\n",
    "\n",
    "download_web(URL) # test - webpage <or> data response "
   ]
  },
  {
   "cell_type": "code",
   "execution_count": 436,
   "id": "9a47fea1-c231-4be8-a1ea-844938e6e766",
   "metadata": {},
   "outputs": [],
   "source": [
    "r = requests.get(URL)\n",
    "OLweb = r.text"
   ]
  },
  {
   "cell_type": "code",
   "execution_count": 442,
   "id": "5a137589-8cbb-49b9-8c40-58b9a394ce5e",
   "metadata": {},
   "outputs": [
    {
     "data": {
      "text/plain": [
       "<a href=\"https://oracle.com\" title=\"Oracle\">Oracle</a>"
      ]
     },
     "execution_count": 442,
     "metadata": {},
     "output_type": "execute_result"
    }
   ],
   "source": [
    "OLsobj = bs4.BeautifulSoup(OLweb)\n",
    "OLsobj.find('a')"
   ]
  },
  {
   "cell_type": "code",
   "execution_count": 444,
   "id": "1a414abf-a661-4789-8f25-f10b9c5bcf88",
   "metadata": {},
   "outputs": [
    {
     "data": {
      "text/plain": [
       "<title>Oracle Linux 10 (x86_64)  BaseOS  | Oracle, Software. Hardware. Complete.</title>"
      ]
     },
     "execution_count": 444,
     "metadata": {},
     "output_type": "execute_result"
    }
   ],
   "source": [
    "OLsobj.title"
   ]
  },
  {
   "cell_type": "code",
   "execution_count": 446,
   "id": "460c444d-0eb9-408c-8dd1-7ddff2de8fe8",
   "metadata": {},
   "outputs": [
    {
     "data": {
      "text/plain": [
       "'Oracle Linux 10 (x86_64)  BaseOS  | Oracle, Software. Hardware. Complete.'"
      ]
     },
     "execution_count": 446,
     "metadata": {},
     "output_type": "execute_result"
    }
   ],
   "source": [
    "OLsobj.title.string"
   ]
  },
  {
   "cell_type": "code",
   "execution_count": 450,
   "id": "654b9656-d300-42a4-95b2-dbfd863d4f46",
   "metadata": {},
   "outputs": [],
   "source": [
    "#OLsobj.find_all('a')"
   ]
  },
  {
   "cell_type": "code",
   "execution_count": 470,
   "id": "16790acf-0f68-4f9a-b336-ba2fa9ac1018",
   "metadata": {},
   "outputs": [],
   "source": [
    "#for var in OLsobj.find_all('a'):\n",
    "#   print(var.get('href'))"
   ]
  },
  {
   "cell_type": "code",
   "execution_count": 454,
   "id": "b52b8679-12f7-41f8-98d2-744236e770ed",
   "metadata": {},
   "outputs": [
    {
     "name": "stdout",
     "output_type": "stream",
     "text": [
      "getPackage/ModemManager-1.22.0-5.el10.x86_64.rpm\n",
      "getPackage/ModemManager-glib-1.22.0-5.el10.x86_64.rpm\n",
      "getPackage/NetworkManager-1.48.10-1.0.2.el10.x86_64.rpm\n",
      "getPackage/NetworkManager-adsl-1.48.10-1.0.2.el10.x86_64.rpm\n",
      "getPackage/NetworkManager-bluetooth-1.48.10-1.0.2.el10.x86_64.rpm\n",
      "getPackage/NetworkManager-config-server-1.48.10-1.0.2.el10.noarch.rpm\n",
      "getPackage/NetworkManager-libnm-1.48.10-1.0.2.el10.x86_64.rpm\n",
      "getPackage/NetworkManager-tui-1.48.10-1.0.2.el10.x86_64.rpm\n",
      "getPackage/NetworkManager-wifi-1.48.10-1.0.2.el10.x86_64.rpm\n",
      "getPackage/NetworkManager-wwan-1.48.10-1.0.2.el10.x86_64.rpm\n",
      "getPackage/accel-config-4.1.8-1.el10.x86_64.rpm\n",
      "getPackage/accel-config-libs-4.1.8-1.el10.x86_64.rpm\n",
      "getPackage/acl-2.3.2-3.el10.x86_64.rpm\n",
      "getPackage/adcli-0.9.2-7.el10.x86_64.rpm\n",
      "getPackage/alternatives-1.30-1.0.1.el10.x86_64.rpm\n",
      "getPackage/at-3.2.5-10.el10.x86_64.rpm\n",
      "getPackage/attr-2.5.2-4.el10.x86_64.rpm\n",
      "getPackage/audispd-plugins-4.0-9.0.1.el10.x86_64.rpm\n",
      "getPackage/audispd-plugins-zos-4.0-9.0.1.el10.x86_64.rpm\n",
      "getPackage/audit-4.0-9.0.1.el10.x86_64.rpm\n",
      "getPackage/audit-libs-4.0-9.0.1.el10.x86_64.rpm\n",
      "getPackage/audit-rules-4.0-9.0.1.el10.x86_64.rpm\n",
      "getPackage/authselect-1.5.0-6.el10.x86_64.rpm\n",
      "getPackage/authselect-libs-1.5.0-6.el10.x86_64.rpm\n",
      "getPackage/autofs-5.1.9-10.0.1.el10.x86_64.rpm\n",
      "getPackage/avahi-0.8-29.el10.x86_64.rpm\n",
      "getPackage/avahi-libs-0.8-29.el10.x86_64.rpm\n",
      "getPackage/basesystem-11-21.0.1.el10.noarch.rpm\n",
      "getPackage/bash-5.2.26-4.el10.x86_64.rpm\n",
      "getPackage/bash-completion-2.11-15.el10.noarch.rpm\n",
      "getPackage/bc-1.07.1-22.el10.x86_64.rpm\n",
      "getPackage/binutils-2.41-48.0.1.el10.x86_64.rpm\n",
      "getPackage/binutils-gold-2.41-48.0.1.el10.x86_64.rpm\n",
      "getPackage/biosdevname-0.7.3-18.0.1.el10.x86_64.rpm\n",
      "getPackage/bluez-5.77-2.el10.x86_64.rpm\n",
      "getPackage/bluez-libs-5.77-2.el10.x86_64.rpm\n",
      "getPackage/bolt-0.9.8-2.el10.x86_64.rpm\n",
      "getPackage/boost-system-1.83.0-4.el10.x86_64.rpm\n",
      "getPackage/btrfs-progs-6.12.0-0.el10.x86_64.rpm\n",
      "getPackage/bubblewrap-0.9.0-1.el10.x86_64.rpm\n",
      "getPackage/bzip2-1.0.8-19.el10.x86_64.rpm\n",
      "getPackage/bzip2-libs-1.0.8-19.el10.x86_64.rpm\n",
      "getPackage/c-ares-1.25.0-5.el10.x86_64.rpm\n",
      "getPackage/ca-certificates-2024.2.69_v8.0.303-101.3.el10.noarch.rpm\n",
      "getPackage/cachefilesd-0.10.10-19.el10.x86_64.rpm\n",
      "getPackage/chkconfig-1.30-1.0.1.el10.x86_64.rpm\n",
      "getPackage/chrony-4.5-5.0.1.el10.x86_64.rpm\n",
      "getPackage/chrpath-0.16-24.el10.x86_64.rpm\n",
      "getPackage/cifs-utils-7.0-5.el10.x86_64.rpm\n",
      "getPackage/cockpit-323-1.0.2.el10.x86_64.rpm\n",
      "getPackage/cockpit-bridge-323-1.0.2.el10.x86_64.rpm\n",
      "getPackage/cockpit-doc-323-1.0.2.el10.noarch.rpm\n",
      "getPackage/cockpit-system-323-1.0.2.el10.noarch.rpm\n",
      "getPackage/cockpit-ws-323-1.0.2.el10.x86_64.rpm\n",
      "getPackage/coreutils-9.5-2.0.1.el10.x86_64.rpm\n",
      "getPackage/coreutils-common-9.5-2.0.1.el10.x86_64.rpm\n",
      "getPackage/coreutils-single-9.5-2.0.1.el10.x86_64.rpm\n",
      "getPackage/cpio-2.15-2.el10.x86_64.rpm\n",
      "getPackage/cracklib-2.9.11-7.el10.x86_64.rpm\n",
      "getPackage/cracklib-dicts-2.9.11-7.el10.x86_64.rpm\n",
      "getPackage/cronie-1.7.0-5.el10.x86_64.rpm\n",
      "getPackage/cronie-anacron-1.7.0-5.el10.x86_64.rpm\n",
      "getPackage/cronie-noanacron-1.7.0-5.el10.x86_64.rpm\n",
      "getPackage/crontabs-1.11^20190603git9e74f2d-4.el10.noarch.rpm\n",
      "getPackage/crypto-policies-20240822-1.git367040b.el10.noarch.rpm\n",
      "getPackage/crypto-policies-scripts-20240822-1.git367040b.el10.noarch.rpm\n",
      "getPackage/cryptsetup-2.7.3-2.el10.x86_64.rpm\n",
      "getPackage/cryptsetup-libs-2.7.3-2.el10.x86_64.rpm\n",
      "getPackage/cups-libs-2.4.10-5.el10.x86_64.rpm\n",
      "getPackage/curl-8.9.1-4.el10.x86_64.rpm\n",
      "getPackage/cxl-libs-78-4.el10.x86_64.rpm\n",
      "getPackage/cyrus-sasl-2.1.28-22.el10.x86_64.rpm\n",
      "getPackage/cyrus-sasl-gssapi-2.1.28-22.el10.x86_64.rpm\n",
      "getPackage/cyrus-sasl-lib-2.1.28-22.el10.x86_64.rpm\n",
      "getPackage/cyrus-sasl-plain-2.1.28-22.el10.x86_64.rpm\n",
      "getPackage/cyrus-sasl-scram-2.1.28-22.el10.x86_64.rpm\n",
      "getPackage/daxctl-libs-78-4.el10.x86_64.rpm\n",
      "getPackage/dbus-1.14.10-4.el10.x86_64.rpm\n",
      "getPackage/dbus-broker-35-6.el10.x86_64.rpm\n",
      "getPackage/dbus-common-1.14.10-4.el10.noarch.rpm\n",
      "getPackage/dbus-libs-1.14.10-4.el10.x86_64.rpm\n",
      "getPackage/dbus-tools-1.14.10-4.el10.x86_64.rpm\n",
      "getPackage/default-fonts-core-mono-4.1-2.el10.noarch.rpm\n",
      "getPackage/default-fonts-core-sans-4.1-2.el10.noarch.rpm\n",
      "getPackage/default-fonts-core-serif-4.1-2.el10.noarch.rpm\n",
      "getPackage/dejavu-sans-fonts-2.37-24.el10.noarch.rpm\n",
      "getPackage/dejavu-sans-mono-fonts-2.37-24.el10.noarch.rpm\n",
      "getPackage/dejavu-serif-fonts-2.37-24.el10.noarch.rpm\n",
      "getPackage/device-mapper-1.02.198-4.el10.x86_64.rpm\n",
      "getPackage/device-mapper-event-1.02.198-4.el10.x86_64.rpm\n",
      "getPackage/device-mapper-event-libs-1.02.198-4.el10.x86_64.rpm\n",
      "getPackage/device-mapper-libs-1.02.198-4.el10.x86_64.rpm\n",
      "getPackage/device-mapper-multipath-0.9.9-1.el10.x86_64.rpm\n",
      "getPackage/device-mapper-multipath-libs-0.9.9-1.el10.x86_64.rpm\n",
      "getPackage/device-mapper-persistent-data-1.0.11-4.el10.x86_64.rpm\n",
      "getPackage/dhcpcd-10.0.6-4.el10.x86_64.rpm\n",
      "getPackage/diffutils-3.10-7.el10.x86_64.rpm\n",
      "getPackage/dmidecode-3.6-2.el10.x86_64.rpm\n",
      "getPackage/dnf-4.20.0-6.0.1.el10.noarch.rpm\n",
      "getPackage/dnf-automatic-4.20.0-6.0.1.el10.noarch.rpm\n",
      "getPackage/dnf-data-4.20.0-6.0.1.el10.noarch.rpm\n",
      "getPackage/dnf-plugins-core-4.7.0-5.0.1.el10.noarch.rpm\n",
      "getPackage/dos2unix-7.5.2-2.el10.x86_64.rpm\n",
      "getPackage/dosfstools-4.2-11.el10.x86_64.rpm\n",
      "getPackage/dracut-102-3.0.1.el10.x86_64.rpm\n",
      "getPackage/dracut-config-generic-102-3.0.1.el10.x86_64.rpm\n",
      "getPackage/dracut-config-rescue-102-3.0.1.el10.x86_64.rpm\n",
      "getPackage/dracut-network-102-3.0.1.el10.x86_64.rpm\n",
      "getPackage/dracut-squash-102-3.0.1.el10.x86_64.rpm\n",
      "getPackage/dracut-tools-102-3.0.1.el10.x86_64.rpm\n",
      "getPackage/duktape-2.7.0-8.el10.x86_64.rpm\n",
      "getPackage/e2fsprogs-1.47.1-2.el10.x86_64.rpm\n",
      "getPackage/e2fsprogs-libs-1.47.1-2.el10.x86_64.rpm\n",
      "getPackage/ed-1.20-3.el10.x86_64.rpm\n",
      "getPackage/efi-filesystem-6-3.0.1.el10.noarch.rpm\n",
      "getPackage/efibootmgr-18-7.0.1.el10.x86_64.rpm\n",
      "getPackage/efivar-libs-39-2.el10.x86_64.rpm\n",
      "getPackage/elfutils-0.191-5.el10.x86_64.rpm\n",
      "getPackage/elfutils-debuginfod-client-0.191-5.el10.x86_64.rpm\n",
      "getPackage/elfutils-default-yama-scope-0.191-5.el10.noarch.rpm\n",
      "getPackage/elfutils-libelf-0.191-5.el10.x86_64.rpm\n",
      "getPackage/elfutils-libs-0.191-5.el10.x86_64.rpm\n",
      "getPackage/environment-modules-5.3.1-5.el10.x86_64.rpm\n",
      "getPackage/erofs-fuse-1.7.1-4.el10.x86_64.rpm\n",
      "getPackage/erofs-utils-1.7.1-4.el10.x86_64.rpm\n",
      "getPackage/ethtool-6.7-2.el10.x86_64.rpm\n",
      "getPackage/exfatprogs-1.2.2-5.el10.x86_64.rpm\n",
      "getPackage/expat-2.6.2-1.el10.x86_64.rpm\n",
      "getPackage/fcoe-utils-1.0.34-10.gitb233050.el10.x86_64.rpm\n",
      "getPackage/file-5.45-6.el10.x86_64.rpm\n",
      "getPackage/file-libs-5.45-6.el10.x86_64.rpm\n",
      "getPackage/filesystem-3.18-15.el10.x86_64.rpm\n",
      "getPackage/findutils-4.10.0-4.el10.x86_64.rpm\n",
      "getPackage/firewalld-2.2.1-1.0.1.el10.noarch.rpm\n",
      "getPackage/firewalld-filesystem-2.2.1-1.0.1.el10.noarch.rpm\n",
      "getPackage/fonts-filesystem-2.0.5-17.el10.noarch.rpm\n",
      "getPackage/freetype-2.13.2-6.el10.x86_64.rpm\n",
      "getPackage/fuse-2.9.9-22.el10.gating_test1.x86_64.rpm\n",
      "getPackage/fuse-common-3.16.2-5.el10.x86_64.rpm\n",
      "getPackage/fuse-libs-2.9.9-22.el10.gating_test1.x86_64.rpm\n",
      "getPackage/fuse3-libs-3.16.2-5.el10.x86_64.rpm\n",
      "getPackage/fwupd-1.9.19-1.el10.x86_64.rpm\n",
      "getPackage/fwupd-efi-1.6-2.el10.x86_64.rpm\n",
      "getPackage/gawk-5.3.0-4.el10.x86_64.rpm\n",
      "getPackage/gdbm-1.23-8.el10.x86_64.rpm\n",
      "getPackage/gdbm-libs-1.23-8.el10.x86_64.rpm\n",
      "getPackage/gettext-0.22.5-3.el10.x86_64.rpm\n",
      "getPackage/gettext-envsubst-0.22.5-3.el10.x86_64.rpm\n",
      "getPackage/gettext-libs-0.22.5-3.el10.x86_64.rpm\n",
      "getPackage/gettext-runtime-0.22.5-3.el10.x86_64.rpm\n",
      "getPackage/glib-networking-2.80.0-2.el10.x86_64.rpm\n",
      "getPackage/glib2-2.80.4-1.el10.x86_64.rpm\n",
      "getPackage/glibc-2.39-22.0.1.el10.x86_64.rpm\n",
      "getPackage/glibc-all-langpacks-2.39-22.0.1.el10.x86_64.rpm\n",
      "getPackage/glibc-common-2.39-22.0.1.el10.x86_64.rpm\n",
      "getPackage/glibc-gconv-extra-2.39-22.0.1.el10.x86_64.rpm\n",
      "getPackage/glibc-langpack-aa-2.39-22.0.1.el10.x86_64.rpm\n",
      "getPackage/glibc-langpack-af-2.39-22.0.1.el10.x86_64.rpm\n",
      "getPackage/glibc-langpack-agr-2.39-22.0.1.el10.x86_64.rpm\n",
      "getPackage/glibc-langpack-ak-2.39-22.0.1.el10.x86_64.rpm\n",
      "getPackage/glibc-langpack-am-2.39-22.0.1.el10.x86_64.rpm\n",
      "getPackage/glibc-langpack-an-2.39-22.0.1.el10.x86_64.rpm\n",
      "getPackage/glibc-langpack-anp-2.39-22.0.1.el10.x86_64.rpm\n",
      "getPackage/glibc-langpack-ar-2.39-22.0.1.el10.x86_64.rpm\n",
      "getPackage/glibc-langpack-as-2.39-22.0.1.el10.x86_64.rpm\n",
      "getPackage/glibc-langpack-ast-2.39-22.0.1.el10.x86_64.rpm\n",
      "getPackage/glibc-langpack-ayc-2.39-22.0.1.el10.x86_64.rpm\n",
      "getPackage/glibc-langpack-az-2.39-22.0.1.el10.x86_64.rpm\n",
      "getPackage/glibc-langpack-be-2.39-22.0.1.el10.x86_64.rpm\n",
      "getPackage/glibc-langpack-bem-2.39-22.0.1.el10.x86_64.rpm\n",
      "getPackage/glibc-langpack-ber-2.39-22.0.1.el10.x86_64.rpm\n",
      "getPackage/glibc-langpack-bg-2.39-22.0.1.el10.x86_64.rpm\n",
      "getPackage/glibc-langpack-bhb-2.39-22.0.1.el10.x86_64.rpm\n",
      "getPackage/glibc-langpack-bho-2.39-22.0.1.el10.x86_64.rpm\n",
      "getPackage/glibc-langpack-bi-2.39-22.0.1.el10.x86_64.rpm\n",
      "getPackage/glibc-langpack-bn-2.39-22.0.1.el10.x86_64.rpm\n",
      "getPackage/glibc-langpack-bo-2.39-22.0.1.el10.x86_64.rpm\n",
      "getPackage/glibc-langpack-br-2.39-22.0.1.el10.x86_64.rpm\n",
      "getPackage/glibc-langpack-brx-2.39-22.0.1.el10.x86_64.rpm\n",
      "getPackage/glibc-langpack-bs-2.39-22.0.1.el10.x86_64.rpm\n",
      "getPackage/glibc-langpack-byn-2.39-22.0.1.el10.x86_64.rpm\n",
      "getPackage/glibc-langpack-ca-2.39-22.0.1.el10.x86_64.rpm\n",
      "getPackage/glibc-langpack-ce-2.39-22.0.1.el10.x86_64.rpm\n",
      "getPackage/glibc-langpack-chr-2.39-22.0.1.el10.x86_64.rpm\n",
      "getPackage/glibc-langpack-ckb-2.39-22.0.1.el10.x86_64.rpm\n",
      "getPackage/glibc-langpack-cmn-2.39-22.0.1.el10.x86_64.rpm\n",
      "getPackage/glibc-langpack-crh-2.39-22.0.1.el10.x86_64.rpm\n",
      "getPackage/glibc-langpack-cs-2.39-22.0.1.el10.x86_64.rpm\n",
      "getPackage/glibc-langpack-csb-2.39-22.0.1.el10.x86_64.rpm\n",
      "getPackage/glibc-langpack-cv-2.39-22.0.1.el10.x86_64.rpm\n",
      "getPackage/glibc-langpack-cy-2.39-22.0.1.el10.x86_64.rpm\n",
      "getPackage/glibc-langpack-da-2.39-22.0.1.el10.x86_64.rpm\n",
      "getPackage/glibc-langpack-de-2.39-22.0.1.el10.x86_64.rpm\n",
      "getPackage/glibc-langpack-doi-2.39-22.0.1.el10.x86_64.rpm\n",
      "getPackage/glibc-langpack-dsb-2.39-22.0.1.el10.x86_64.rpm\n",
      "getPackage/glibc-langpack-dv-2.39-22.0.1.el10.x86_64.rpm\n",
      "getPackage/glibc-langpack-dz-2.39-22.0.1.el10.x86_64.rpm\n",
      "getPackage/glibc-langpack-el-2.39-22.0.1.el10.x86_64.rpm\n",
      "getPackage/glibc-langpack-en-2.39-22.0.1.el10.x86_64.rpm\n",
      "getPackage/glibc-langpack-eo-2.39-22.0.1.el10.x86_64.rpm\n",
      "getPackage/glibc-langpack-es-2.39-22.0.1.el10.x86_64.rpm\n",
      "getPackage/glibc-langpack-et-2.39-22.0.1.el10.x86_64.rpm\n",
      "getPackage/glibc-langpack-eu-2.39-22.0.1.el10.x86_64.rpm\n",
      "getPackage/glibc-langpack-fa-2.39-22.0.1.el10.x86_64.rpm\n",
      "getPackage/glibc-langpack-ff-2.39-22.0.1.el10.x86_64.rpm\n",
      "getPackage/glibc-langpack-fi-2.39-22.0.1.el10.x86_64.rpm\n",
      "getPackage/glibc-langpack-fil-2.39-22.0.1.el10.x86_64.rpm\n",
      "getPackage/glibc-langpack-fo-2.39-22.0.1.el10.x86_64.rpm\n",
      "getPackage/glibc-langpack-fr-2.39-22.0.1.el10.x86_64.rpm\n",
      "getPackage/glibc-langpack-fur-2.39-22.0.1.el10.x86_64.rpm\n",
      "getPackage/glibc-langpack-fy-2.39-22.0.1.el10.x86_64.rpm\n",
      "getPackage/glibc-langpack-ga-2.39-22.0.1.el10.x86_64.rpm\n",
      "getPackage/glibc-langpack-gd-2.39-22.0.1.el10.x86_64.rpm\n",
      "getPackage/glibc-langpack-gez-2.39-22.0.1.el10.x86_64.rpm\n",
      "getPackage/glibc-langpack-gl-2.39-22.0.1.el10.x86_64.rpm\n",
      "getPackage/glibc-langpack-gu-2.39-22.0.1.el10.x86_64.rpm\n",
      "getPackage/glibc-langpack-gv-2.39-22.0.1.el10.x86_64.rpm\n",
      "getPackage/glibc-langpack-ha-2.39-22.0.1.el10.x86_64.rpm\n",
      "getPackage/glibc-langpack-hak-2.39-22.0.1.el10.x86_64.rpm\n",
      "getPackage/glibc-langpack-he-2.39-22.0.1.el10.x86_64.rpm\n",
      "getPackage/glibc-langpack-hi-2.39-22.0.1.el10.x86_64.rpm\n",
      "getPackage/glibc-langpack-hif-2.39-22.0.1.el10.x86_64.rpm\n",
      "getPackage/glibc-langpack-hne-2.39-22.0.1.el10.x86_64.rpm\n",
      "getPackage/glibc-langpack-hr-2.39-22.0.1.el10.x86_64.rpm\n",
      "getPackage/glibc-langpack-hsb-2.39-22.0.1.el10.x86_64.rpm\n",
      "getPackage/glibc-langpack-ht-2.39-22.0.1.el10.x86_64.rpm\n",
      "getPackage/glibc-langpack-hu-2.39-22.0.1.el10.x86_64.rpm\n",
      "getPackage/glibc-langpack-hy-2.39-22.0.1.el10.x86_64.rpm\n",
      "getPackage/glibc-langpack-ia-2.39-22.0.1.el10.x86_64.rpm\n",
      "getPackage/glibc-langpack-id-2.39-22.0.1.el10.x86_64.rpm\n",
      "getPackage/glibc-langpack-ig-2.39-22.0.1.el10.x86_64.rpm\n",
      "getPackage/glibc-langpack-ik-2.39-22.0.1.el10.x86_64.rpm\n",
      "getPackage/glibc-langpack-is-2.39-22.0.1.el10.x86_64.rpm\n",
      "getPackage/glibc-langpack-it-2.39-22.0.1.el10.x86_64.rpm\n",
      "getPackage/glibc-langpack-iu-2.39-22.0.1.el10.x86_64.rpm\n",
      "getPackage/glibc-langpack-ja-2.39-22.0.1.el10.x86_64.rpm\n",
      "getPackage/glibc-langpack-ka-2.39-22.0.1.el10.x86_64.rpm\n",
      "getPackage/glibc-langpack-kab-2.39-22.0.1.el10.x86_64.rpm\n",
      "getPackage/glibc-langpack-kk-2.39-22.0.1.el10.x86_64.rpm\n",
      "getPackage/glibc-langpack-kl-2.39-22.0.1.el10.x86_64.rpm\n",
      "getPackage/glibc-langpack-km-2.39-22.0.1.el10.x86_64.rpm\n",
      "getPackage/glibc-langpack-kn-2.39-22.0.1.el10.x86_64.rpm\n",
      "getPackage/glibc-langpack-ko-2.39-22.0.1.el10.x86_64.rpm\n",
      "getPackage/glibc-langpack-kok-2.39-22.0.1.el10.x86_64.rpm\n",
      "getPackage/glibc-langpack-ks-2.39-22.0.1.el10.x86_64.rpm\n",
      "getPackage/glibc-langpack-ku-2.39-22.0.1.el10.x86_64.rpm\n",
      "getPackage/glibc-langpack-kw-2.39-22.0.1.el10.x86_64.rpm\n",
      "getPackage/glibc-langpack-ky-2.39-22.0.1.el10.x86_64.rpm\n",
      "getPackage/glibc-langpack-lb-2.39-22.0.1.el10.x86_64.rpm\n",
      "getPackage/glibc-langpack-lg-2.39-22.0.1.el10.x86_64.rpm\n",
      "getPackage/glibc-langpack-li-2.39-22.0.1.el10.x86_64.rpm\n",
      "getPackage/glibc-langpack-lij-2.39-22.0.1.el10.x86_64.rpm\n",
      "getPackage/glibc-langpack-ln-2.39-22.0.1.el10.x86_64.rpm\n",
      "getPackage/glibc-langpack-lo-2.39-22.0.1.el10.x86_64.rpm\n",
      "getPackage/glibc-langpack-lt-2.39-22.0.1.el10.x86_64.rpm\n",
      "getPackage/glibc-langpack-lv-2.39-22.0.1.el10.x86_64.rpm\n",
      "getPackage/glibc-langpack-lzh-2.39-22.0.1.el10.x86_64.rpm\n",
      "getPackage/glibc-langpack-mag-2.39-22.0.1.el10.x86_64.rpm\n",
      "getPackage/glibc-langpack-mai-2.39-22.0.1.el10.x86_64.rpm\n",
      "getPackage/glibc-langpack-mfe-2.39-22.0.1.el10.x86_64.rpm\n",
      "getPackage/glibc-langpack-mg-2.39-22.0.1.el10.x86_64.rpm\n",
      "getPackage/glibc-langpack-mhr-2.39-22.0.1.el10.x86_64.rpm\n",
      "getPackage/glibc-langpack-mi-2.39-22.0.1.el10.x86_64.rpm\n",
      "getPackage/glibc-langpack-miq-2.39-22.0.1.el10.x86_64.rpm\n",
      "getPackage/glibc-langpack-mjw-2.39-22.0.1.el10.x86_64.rpm\n",
      "getPackage/glibc-langpack-mk-2.39-22.0.1.el10.x86_64.rpm\n",
      "getPackage/glibc-langpack-ml-2.39-22.0.1.el10.x86_64.rpm\n",
      "getPackage/glibc-langpack-mn-2.39-22.0.1.el10.x86_64.rpm\n",
      "getPackage/glibc-langpack-mni-2.39-22.0.1.el10.x86_64.rpm\n",
      "getPackage/glibc-langpack-mnw-2.39-22.0.1.el10.x86_64.rpm\n",
      "getPackage/glibc-langpack-mr-2.39-22.0.1.el10.x86_64.rpm\n",
      "getPackage/glibc-langpack-ms-2.39-22.0.1.el10.x86_64.rpm\n",
      "getPackage/glibc-langpack-mt-2.39-22.0.1.el10.x86_64.rpm\n",
      "getPackage/glibc-langpack-my-2.39-22.0.1.el10.x86_64.rpm\n",
      "getPackage/glibc-langpack-nan-2.39-22.0.1.el10.x86_64.rpm\n",
      "getPackage/glibc-langpack-nb-2.39-22.0.1.el10.x86_64.rpm\n",
      "getPackage/glibc-langpack-nds-2.39-22.0.1.el10.x86_64.rpm\n",
      "getPackage/glibc-langpack-ne-2.39-22.0.1.el10.x86_64.rpm\n",
      "getPackage/glibc-langpack-nhn-2.39-22.0.1.el10.x86_64.rpm\n",
      "getPackage/glibc-langpack-niu-2.39-22.0.1.el10.x86_64.rpm\n",
      "getPackage/glibc-langpack-nl-2.39-22.0.1.el10.x86_64.rpm\n",
      "getPackage/glibc-langpack-nn-2.39-22.0.1.el10.x86_64.rpm\n",
      "getPackage/glibc-langpack-nr-2.39-22.0.1.el10.x86_64.rpm\n",
      "getPackage/glibc-langpack-nso-2.39-22.0.1.el10.x86_64.rpm\n",
      "getPackage/glibc-langpack-oc-2.39-22.0.1.el10.x86_64.rpm\n",
      "getPackage/glibc-langpack-om-2.39-22.0.1.el10.x86_64.rpm\n",
      "getPackage/glibc-langpack-or-2.39-22.0.1.el10.x86_64.rpm\n",
      "getPackage/glibc-langpack-os-2.39-22.0.1.el10.x86_64.rpm\n",
      "getPackage/glibc-langpack-pa-2.39-22.0.1.el10.x86_64.rpm\n",
      "getPackage/glibc-langpack-pap-2.39-22.0.1.el10.x86_64.rpm\n",
      "getPackage/glibc-langpack-pl-2.39-22.0.1.el10.x86_64.rpm\n",
      "getPackage/glibc-langpack-ps-2.39-22.0.1.el10.x86_64.rpm\n",
      "getPackage/glibc-langpack-pt-2.39-22.0.1.el10.x86_64.rpm\n",
      "getPackage/glibc-langpack-quz-2.39-22.0.1.el10.x86_64.rpm\n",
      "getPackage/glibc-langpack-raj-2.39-22.0.1.el10.x86_64.rpm\n",
      "getPackage/glibc-langpack-ro-2.39-22.0.1.el10.x86_64.rpm\n",
      "getPackage/glibc-langpack-ru-2.39-22.0.1.el10.x86_64.rpm\n",
      "getPackage/glibc-langpack-rw-2.39-22.0.1.el10.x86_64.rpm\n",
      "getPackage/glibc-langpack-sa-2.39-22.0.1.el10.x86_64.rpm\n",
      "getPackage/glibc-langpack-sah-2.39-22.0.1.el10.x86_64.rpm\n",
      "getPackage/glibc-langpack-sat-2.39-22.0.1.el10.x86_64.rpm\n",
      "getPackage/glibc-langpack-sc-2.39-22.0.1.el10.x86_64.rpm\n",
      "getPackage/glibc-langpack-sd-2.39-22.0.1.el10.x86_64.rpm\n",
      "getPackage/glibc-langpack-se-2.39-22.0.1.el10.x86_64.rpm\n",
      "getPackage/glibc-langpack-sgs-2.39-22.0.1.el10.x86_64.rpm\n",
      "getPackage/glibc-langpack-shn-2.39-22.0.1.el10.x86_64.rpm\n",
      "getPackage/glibc-langpack-shs-2.39-22.0.1.el10.x86_64.rpm\n",
      "getPackage/glibc-langpack-si-2.39-22.0.1.el10.x86_64.rpm\n",
      "getPackage/glibc-langpack-sid-2.39-22.0.1.el10.x86_64.rpm\n",
      "getPackage/glibc-langpack-sk-2.39-22.0.1.el10.x86_64.rpm\n",
      "getPackage/glibc-langpack-sl-2.39-22.0.1.el10.x86_64.rpm\n",
      "getPackage/glibc-langpack-sm-2.39-22.0.1.el10.x86_64.rpm\n",
      "getPackage/glibc-langpack-so-2.39-22.0.1.el10.x86_64.rpm\n",
      "getPackage/glibc-langpack-sq-2.39-22.0.1.el10.x86_64.rpm\n",
      "getPackage/glibc-langpack-sr-2.39-22.0.1.el10.x86_64.rpm\n",
      "getPackage/glibc-langpack-ss-2.39-22.0.1.el10.x86_64.rpm\n",
      "getPackage/glibc-langpack-st-2.39-22.0.1.el10.x86_64.rpm\n",
      "getPackage/glibc-langpack-sv-2.39-22.0.1.el10.x86_64.rpm\n",
      "getPackage/glibc-langpack-sw-2.39-22.0.1.el10.x86_64.rpm\n",
      "getPackage/glibc-langpack-szl-2.39-22.0.1.el10.x86_64.rpm\n",
      "getPackage/glibc-langpack-ta-2.39-22.0.1.el10.x86_64.rpm\n",
      "getPackage/glibc-langpack-tcy-2.39-22.0.1.el10.x86_64.rpm\n",
      "getPackage/glibc-langpack-te-2.39-22.0.1.el10.x86_64.rpm\n",
      "getPackage/glibc-langpack-tg-2.39-22.0.1.el10.x86_64.rpm\n",
      "getPackage/glibc-langpack-th-2.39-22.0.1.el10.x86_64.rpm\n",
      "getPackage/glibc-langpack-the-2.39-22.0.1.el10.x86_64.rpm\n",
      "getPackage/glibc-langpack-ti-2.39-22.0.1.el10.x86_64.rpm\n",
      "getPackage/glibc-langpack-tig-2.39-22.0.1.el10.x86_64.rpm\n",
      "getPackage/glibc-langpack-tk-2.39-22.0.1.el10.x86_64.rpm\n",
      "getPackage/glibc-langpack-tl-2.39-22.0.1.el10.x86_64.rpm\n",
      "getPackage/glibc-langpack-tn-2.39-22.0.1.el10.x86_64.rpm\n",
      "getPackage/glibc-langpack-to-2.39-22.0.1.el10.x86_64.rpm\n",
      "getPackage/glibc-langpack-tpi-2.39-22.0.1.el10.x86_64.rpm\n",
      "getPackage/glibc-langpack-tr-2.39-22.0.1.el10.x86_64.rpm\n",
      "getPackage/glibc-langpack-ts-2.39-22.0.1.el10.x86_64.rpm\n",
      "getPackage/glibc-langpack-tt-2.39-22.0.1.el10.x86_64.rpm\n",
      "getPackage/glibc-langpack-ug-2.39-22.0.1.el10.x86_64.rpm\n",
      "getPackage/glibc-langpack-uk-2.39-22.0.1.el10.x86_64.rpm\n",
      "getPackage/glibc-langpack-unm-2.39-22.0.1.el10.x86_64.rpm\n",
      "getPackage/glibc-langpack-ur-2.39-22.0.1.el10.x86_64.rpm\n",
      "getPackage/glibc-langpack-uz-2.39-22.0.1.el10.x86_64.rpm\n",
      "getPackage/glibc-langpack-ve-2.39-22.0.1.el10.x86_64.rpm\n",
      "getPackage/glibc-langpack-vi-2.39-22.0.1.el10.x86_64.rpm\n",
      "getPackage/glibc-langpack-wa-2.39-22.0.1.el10.x86_64.rpm\n",
      "getPackage/glibc-langpack-wae-2.39-22.0.1.el10.x86_64.rpm\n",
      "getPackage/glibc-langpack-wal-2.39-22.0.1.el10.x86_64.rpm\n",
      "getPackage/glibc-langpack-wo-2.39-22.0.1.el10.x86_64.rpm\n",
      "getPackage/glibc-langpack-xh-2.39-22.0.1.el10.x86_64.rpm\n",
      "getPackage/glibc-langpack-yi-2.39-22.0.1.el10.x86_64.rpm\n",
      "getPackage/glibc-langpack-yo-2.39-22.0.1.el10.x86_64.rpm\n",
      "getPackage/glibc-langpack-yue-2.39-22.0.1.el10.x86_64.rpm\n",
      "getPackage/glibc-langpack-yuw-2.39-22.0.1.el10.x86_64.rpm\n",
      "getPackage/glibc-langpack-zh-2.39-22.0.1.el10.x86_64.rpm\n",
      "getPackage/glibc-langpack-zu-2.39-22.0.1.el10.x86_64.rpm\n",
      "getPackage/glibc-minimal-langpack-2.39-22.0.1.el10.x86_64.rpm\n",
      "getPackage/gmp-6.2.1-9.el10.x86_64.rpm\n",
      "getPackage/gnupg2-2.4.5-1.el10.x86_64.rpm\n",
      "getPackage/gnutls-3.8.7-3.el10.x86_64.rpm\n",
      "getPackage/gobject-introspection-1.79.1-5.el10.x86_64.rpm\n",
      "getPackage/google-noto-fonts-common-20240401-4.el10.noarch.rpm\n",
      "getPackage/google-noto-sans-mono-vf-fonts-20240401-4.el10.noarch.rpm\n",
      "getPackage/google-noto-sans-vf-fonts-20240401-4.el10.noarch.rpm\n",
      "getPackage/google-noto-serif-vf-fonts-20240401-4.el10.noarch.rpm\n",
      "getPackage/gpgme-1.23.2-5.el10.x86_64.rpm\n",
      "getPackage/graphite2-1.3.14-16.el10.x86_64.rpm\n",
      "getPackage/grep-3.11-9.el10.x86_64.rpm\n",
      "getPackage/groff-base-1.23.0-9.el10.x86_64.rpm\n",
      "getPackage/grub2-common-2.06-127.0.3.el10.noarch.rpm\n",
      "getPackage/grub2-efi-aa64-modules-2.06-127.0.3.el10.noarch.rpm\n",
      "getPackage/grub2-efi-x64-2.06-127.0.3.el10.x86_64.rpm\n",
      "getPackage/grub2-efi-x64-cdboot-2.06-127.0.3.el10.x86_64.rpm\n",
      "getPackage/grub2-efi-x64-modules-2.06-127.0.3.el10.noarch.rpm\n",
      "getPackage/grub2-pc-2.06-127.0.3.el10.x86_64.rpm\n",
      "getPackage/grub2-pc-modules-2.06-127.0.3.el10.noarch.rpm\n",
      "getPackage/grub2-tools-2.06-127.0.3.el10.x86_64.rpm\n",
      "getPackage/grub2-tools-efi-2.06-127.0.3.el10.x86_64.rpm\n",
      "getPackage/grub2-tools-extra-2.06-127.0.3.el10.x86_64.rpm\n",
      "getPackage/grub2-tools-minimal-2.06-127.0.3.el10.x86_64.rpm\n",
      "getPackage/grubby-8.40-76.0.1.el10.x86_64.rpm\n",
      "getPackage/gsettings-desktop-schemas-47~alpha-1.el10.x86_64.rpm\n",
      "getPackage/gssproxy-0.9.2-7.el10.x86_64.rpm\n",
      "getPackage/gzip-1.13-2.el10.x86_64.rpm\n",
      "getPackage/harfbuzz-8.4.0-4.el10.x86_64.rpm\n",
      "getPackage/hdparm-9.65-5.el10.x86_64.rpm\n",
      "getPackage/hostname-3.23-13.el10.x86_64.rpm\n",
      "getPackage/hwdata-0.379-10.1.el10.noarch.rpm\n",
      "getPackage/hwloc-2.11.1-2.el10.x86_64.rpm\n",
      "getPackage/hwloc-libs-2.11.1-2.el10.x86_64.rpm\n",
      "getPackage/ibacm-51.0-2.el10.x86_64.rpm\n",
      "getPackage/ima-evm-utils-1.5-5.el10.x86_64.rpm\n",
      "getPackage/info-7.1-4.el10.x86_64.rpm\n",
      "getPackage/inih-58-2.el10.x86_64.rpm\n",
      "getPackage/iniparser-4.1-17.el10.x86_64.rpm\n",
      "getPackage/initscripts-10.25-1.0.1.el10.x86_64.rpm\n",
      "getPackage/initscripts-rename-device-10.25-1.0.1.el10.x86_64.rpm\n",
      "getPackage/initscripts-service-10.25-1.0.1.el10.noarch.rpm\n",
      "getPackage/integritysetup-2.7.3-2.el10.x86_64.rpm\n",
      "getPackage/intel-cmt-cat-23.11-5.el10.x86_64.rpm\n",
      "getPackage/iotop-c-1.26-2.el10.x86_64.rpm\n",
      "getPackage/ipcalc-1.0.3-11.el10.x86_64.rpm\n",
      "getPackage/iproute-6.7.0-4.el10.x86_64.rpm\n",
      "getPackage/iproute-tc-6.7.0-4.el10.x86_64.rpm\n",
      "getPackage/ipset-7.21-3.el10.x86_64.rpm\n",
      "getPackage/ipset-libs-7.21-3.el10.x86_64.rpm\n",
      "getPackage/iptables-libs-1.8.10-8.el10.x86_64.rpm\n",
      "getPackage/iptables-nft-1.8.10-8.el10.x86_64.rpm\n",
      "getPackage/iptables-utils-1.8.10-8.el10.x86_64.rpm\n",
      "getPackage/iptraf-ng-1.2.1-12.el10.x86_64.rpm\n",
      "getPackage/iputils-20240117-6.el10.x86_64.rpm\n",
      "getPackage/irqbalance-1.9.4-2.el10.x86_64.rpm\n",
      "getPackage/iscsi-initiator-utils-6.2.1.9-21.gita65a472.0.1.el10.x86_64.rpm\n",
      "getPackage/iscsi-initiator-utils-iscsiuio-6.2.1.9-21.gita65a472.0.1.el10.x86_64.rpm\n",
      "getPackage/isns-utils-0.101-10.el10.x86_64.rpm\n",
      "getPackage/isns-utils-libs-0.101-10.el10.x86_64.rpm\n",
      "getPackage/iw-6.9-2.el10.x86_64.rpm\n",
      "getPackage/iwl100-firmware-39.31.5.1-999.36.el10.noarch.rpm\n",
      "getPackage/iwl1000-firmware-39.31.5.1-999.36.el10.noarch.rpm\n",
      "getPackage/iwl105-firmware-18.168.6.1-999.36.el10.noarch.rpm\n",
      "getPackage/iwl135-firmware-18.168.6.1-999.36.el10.noarch.rpm\n",
      "getPackage/iwl2000-firmware-18.168.6.1-999.36.el10.noarch.rpm\n",
      "getPackage/iwl2030-firmware-18.168.6.1-999.36.el10.noarch.rpm\n",
      "getPackage/iwl3160-firmware-25.30.13.0-999.36.el10.noarch.rpm\n",
      "getPackage/iwl3945-firmware-15.32.2.9-999.36.el10.noarch.rpm\n",
      "getPackage/iwl4965-firmware-228.61.2.24-999.36.el10.noarch.rpm\n",
      "getPackage/iwl5000-firmware-8.83.5.1_1-999.36.el10.noarch.rpm\n",
      "getPackage/iwl5150-firmware-8.24.2.2-999.36.el10.noarch.rpm\n",
      "getPackage/iwl6000-firmware-9.221.4.1-999.36.el10.noarch.rpm\n",
      "getPackage/iwl6000g2a-firmware-18.168.6.1-999.36.el10.noarch.rpm\n",
      "getPackage/iwl6000g2b-firmware-18.168.6.1-999.36.el10.noarch.rpm\n",
      "getPackage/iwl6050-firmware-41.28.5.1-999.36.el10.noarch.rpm\n",
      "getPackage/iwl7260-firmware-25.30.13.0-999.36.el10.noarch.rpm\n",
      "getPackage/iwlax2xx-firmware-20241213-999.36.el10.noarch.rpm\n",
      "getPackage/iwpmd-51.0-2.el10.x86_64.rpm\n",
      "getPackage/jansson-2.14-2.el10.x86_64.rpm\n",
      "getPackage/jitterentropy-3.5.0-4.el10.x86_64.rpm\n",
      "getPackage/jq-1.7.1-5.el10.x86_64.rpm\n",
      "getPackage/json-c-0.17-4.el10.x86_64.rpm\n",
      "getPackage/json-glib-1.8.0-4.el10.x86_64.rpm\n",
      "getPackage/kbd-2.6.4-5.el10.x86_64.rpm\n",
      "getPackage/kbd-legacy-2.6.4-5.el10.noarch.rpm\n",
      "getPackage/kbd-misc-2.6.4-5.el10.noarch.rpm\n",
      "getPackage/kdump-utils-1.0.43-1.el10.x86_64.rpm\n",
      "getPackage/kea-2.6.1-4.el10.x86_64.rpm\n",
      "getPackage/kea-libs-2.6.1-4.el10.x86_64.rpm\n",
      "getPackage/kernel-6.11.0-0.rc5.23.el10.x86_64.rpm\n",
      "getPackage/kernel-abi-stablelists-6.11.0-0.rc5.23.el10.noarch.rpm\n",
      "getPackage/kernel-core-6.11.0-0.rc5.23.el10.x86_64.rpm\n",
      "getPackage/kernel-debug-6.11.0-0.rc5.23.el10.x86_64.rpm\n",
      "getPackage/kernel-debug-core-6.11.0-0.rc5.23.el10.x86_64.rpm\n",
      "getPackage/kernel-debug-modules-6.11.0-0.rc5.23.el10.x86_64.rpm\n",
      "getPackage/kernel-debug-modules-core-6.11.0-0.rc5.23.el10.x86_64.rpm\n",
      "getPackage/kernel-debug-modules-extra-6.11.0-0.rc5.23.el10.x86_64.rpm\n",
      "getPackage/kernel-debug-uki-virt-6.11.0-0.rc5.23.el10.x86_64.rpm\n",
      "getPackage/kernel-modules-6.11.0-0.rc5.23.el10.x86_64.rpm\n",
      "getPackage/kernel-modules-core-6.11.0-0.rc5.23.el10.x86_64.rpm\n",
      "getPackage/kernel-modules-extra-6.11.0-0.rc5.23.el10.x86_64.rpm\n",
      "getPackage/kernel-tools-6.11.0-0.rc5.23.el10.x86_64.rpm\n",
      "getPackage/kernel-tools-libs-6.11.0-0.rc5.23.el10.x86_64.rpm\n",
      "getPackage/kernel-uki-virt-6.11.0-0.rc5.23.el10.x86_64.rpm\n",
      "getPackage/kexec-tools-2.0.29-1.0.1.el10.x86_64.rpm\n",
      "getPackage/keyutils-1.6.3-4.el10.x86_64.rpm\n",
      "getPackage/keyutils-libs-1.6.3-4.el10.x86_64.rpm\n",
      "getPackage/kmod-31-8.0.1.el10.x86_64.rpm\n",
      "getPackage/kmod-libs-31-8.0.1.el10.x86_64.rpm\n",
      "getPackage/kpartx-0.9.9-1.el10.x86_64.rpm\n",
      "getPackage/krb5-libs-1.21.3-2.0.1.el10.x86_64.rpm\n",
      "getPackage/krb5-pkinit-1.21.3-2.0.1.el10.x86_64.rpm\n",
      "getPackage/krb5-server-1.21.3-2.0.1.el10.x86_64.rpm\n",
      "getPackage/krb5-server-ldap-1.21.3-2.0.1.el10.x86_64.rpm\n",
      "getPackage/krb5-workstation-1.21.3-2.0.1.el10.x86_64.rpm\n",
      "getPackage/ktls-utils-0.11-1.el10.x86_64.rpm\n",
      "getPackage/ldb-tools-2.9.1-5.el10.x86_64.rpm\n",
      "getPackage/ledmon-1.0.0-3.el10.x86_64.rpm\n",
      "getPackage/less-661-2.el10.x86_64.rpm\n",
      "getPackage/libacl-2.3.2-3.el10.x86_64.rpm\n",
      "getPackage/libaio-0.3.111-20.el10.x86_64.rpm\n",
      "getPackage/libarchive-3.7.2-7.el10.x86_64.rpm\n",
      "getPackage/libassuan-2.5.6-5.el10.x86_64.rpm\n",
      "getPackage/libatomic-14.2.1-1.el10.x86_64.rpm\n",
      "getPackage/libattr-2.5.2-4.el10.x86_64.rpm\n",
      "getPackage/libbabeltrace-1.5.11-8.el10.x86_64.rpm\n",
      "getPackage/libbasicobjects-0.1.1-57.el10.x86_64.rpm\n",
      "getPackage/libblkid-2.40.2-4.el10.x86_64.rpm\n",
      "getPackage/libbpf-1.5.0-2.el10.x86_64.rpm\n",
      "getPackage/libbrotli-1.1.0-4.el10.x86_64.rpm\n",
      "getPackage/libcap-2.69-6.el10.x86_64.rpm\n",
      "getPackage/libcap-ng-0.8.4-5.el10.x86_64.rpm\n",
      "getPackage/libcap-ng-utils-0.8.4-5.el10.x86_64.rpm\n",
      "getPackage/libcbor-0.11.0-2.el10.x86_64.rpm\n",
      "getPackage/libcollection-0.7.0-57.el10.x86_64.rpm\n",
      "getPackage/libcom_err-1.47.1-2.el10.x86_64.rpm\n",
      "getPackage/libcomps-0.1.21-2.el10.x86_64.rpm\n",
      "getPackage/libconfig-1.7.3-9.el10.x86_64.rpm\n",
      "getPackage/libcpuid-0.6.5-4.el10.x86_64.rpm\n",
      "getPackage/libcurl-8.9.1-4.el10.x86_64.rpm\n",
      "getPackage/libcurl-minimal-8.9.1-4.el10.x86_64.rpm\n",
      "getPackage/libdaemon-0.14-30.el10.x86_64.rpm\n",
      "getPackage/libdhash-0.5.0-57.el10.x86_64.rpm\n",
      "getPackage/libdnf-0.73.1-5.0.1.el10.x86_64.rpm\n",
      "getPackage/libeconf-0.6.2-3.el10.x86_64.rpm\n",
      "getPackage/libedit-3.1-51.20230828cvs.el10.x86_64.rpm\n",
      "getPackage/libertas-sd8686-firmware-20241213-999.36.git2cdfe09e.el10.noarch.rpm\n",
      "getPackage/libertas-sd8787-firmware-20241213-999.36.git2cdfe09e.el10.noarch.rpm\n",
      "getPackage/libertas-usb8388-firmware-20241213-999.36.git2cdfe09e.el10.noarch.rpm\n",
      "getPackage/libertas-usb8388-olpc-firmware-20241213-999.36.git2cdfe09e.el10.noarch.rpm\n",
      "getPackage/libev-4.33-12.el10.x86_64.rpm\n",
      "getPackage/libevent-2.1.12-15.el10.x86_64.rpm\n",
      "getPackage/libfdisk-2.40.2-4.el10.x86_64.rpm\n",
      "getPackage/libffi-3.4.4-8.el10.x86_64.rpm\n",
      "getPackage/libfido2-1.14.0-5.el10.x86_64.rpm\n",
      "getPackage/libgcab1-1.6-6.el10.x86_64.rpm\n",
      "getPackage/libgcc-14.2.1-1.el10.x86_64.rpm\n",
      "getPackage/libgcrypt-1.11.0-3.el10.x86_64.rpm\n",
      "getPackage/libgfortran-14.2.1-1.el10.x86_64.rpm\n",
      "getPackage/libgomp-14.2.1-1.el10.x86_64.rpm\n",
      "getPackage/libgpg-error-1.50-1.el10.x86_64.rpm\n",
      "getPackage/libgudev-238-6.el10.x86_64.rpm\n",
      "getPackage/libgusb-0.4.9-3.el10.x86_64.rpm\n",
      "getPackage/libibumad-51.0-2.el10.x86_64.rpm\n",
      "getPackage/libibverbs-51.0-2.el10.x86_64.rpm\n",
      "getPackage/libibverbs-utils-51.0-2.el10.x86_64.rpm\n",
      "getPackage/libicu-74.2-2.el10.x86_64.rpm\n",
      "getPackage/libidn2-2.3.7-2.el10.x86_64.rpm\n",
      "getPackage/libini_config-1.3.1-57.el10.x86_64.rpm\n",
      "getPackage/libipa_hbac-2.10.0~beta2-3.0.1.el10.x86_64.rpm\n",
      "getPackage/libjcat-0.2.1-3.el10.x86_64.rpm\n",
      "getPackage/libkadm5-1.21.3-2.0.1.el10.x86_64.rpm\n",
      "getPackage/libkcapi-1.5.0-2.0.1.el10.x86_64.rpm\n",
      "getPackage/libkcapi-hasher-1.5.0-2.0.1.el10.x86_64.rpm\n",
      "getPackage/libkcapi-hmaccalc-1.5.0-2.0.1.el10.x86_64.rpm\n",
      "getPackage/libksba-1.6.7-1.el10.x86_64.rpm\n",
      "getPackage/libldb-2.9.1-5.el10.x86_64.rpm\n",
      "getPackage/libmbim-1.30.0-5.el10.x86_64.rpm\n",
      "getPackage/libmbim-utils-1.30.0-5.el10.x86_64.rpm\n",
      "getPackage/libmnl-1.0.5-6.el10.x86_64.rpm\n",
      "getPackage/libmodulemd-2.15.0-11.el10.x86_64.rpm\n",
      "getPackage/libmount-2.40.2-4.el10.x86_64.rpm\n",
      "getPackage/libndp-1.9-1.el10.x86_64.rpm\n",
      "getPackage/libnetapi-4.20.2-104.0.1.el10.x86_64.rpm\n",
      "getPackage/libnetfilter_conntrack-1.0.9-11.el10.x86_64.rpm\n",
      "getPackage/libnfnetlink-1.0.1-28.el10.x86_64.rpm\n",
      "getPackage/libnfsidmap-2.7.1-1.0.1.el10.x86_64.rpm\n",
      "getPackage/libnftnl-1.2.6-6.el10.x86_64.rpm\n",
      "getPackage/libnghttp2-1.62.1-1.el10.x86_64.rpm\n",
      "getPackage/libnl3-3.9.0-4.el10.x86_64.rpm\n",
      "getPackage/libnl3-cli-3.9.0-4.el10.x86_64.rpm\n",
      "getPackage/libnsl-2.39-22.0.1.el10.x86_64.rpm\n",
      "getPackage/libnvme-1.9-4.el10.x86_64.rpm\n",
      "getPackage/libpath_utils-0.2.1-57.el10.x86_64.rpm\n",
      "getPackage/libpcap-1.10.4-6.el10.x86_64.rpm\n",
      "getPackage/libpciaccess-0.16-15.el10.x86_64.rpm\n",
      "getPackage/libpeas1-1.36.0-7.el10.x86_64.rpm\n",
      "getPackage/libpipeline-1.5.7-6.el10.x86_64.rpm\n",
      "getPackage/libpkgconf-2.1.0-2.el10.x86_64.rpm\n",
      "getPackage/libpng-1.6.40-7.el10.x86_64.rpm\n",
      "getPackage/libpq-16.1-7.el10.x86_64.rpm\n",
      "getPackage/libproxy-0.5.5-3.el10.x86_64.rpm\n",
      "getPackage/libpsl-0.21.5-4.el10.x86_64.rpm\n",
      "getPackage/libpwquality-1.4.5-11.el10.x86_64.rpm\n",
      "getPackage/libqmi-1.34.0-7.el10.x86_64.rpm\n",
      "getPackage/libqmi-utils-1.34.0-7.el10.x86_64.rpm\n",
      "getPackage/libqrtr-glib-1.2.2-6.el10.x86_64.rpm\n",
      "getPackage/libquadmath-14.2.1-1.el10.x86_64.rpm\n",
      "getPackage/librdmacm-51.0-2.el10.x86_64.rpm\n",
      "getPackage/librdmacm-utils-51.0-2.el10.x86_64.rpm\n",
      "getPackage/libref_array-0.1.5-57.el10.x86_64.rpm\n",
      "getPackage/librepo-1.18.0-2.el10.x86_64.rpm\n",
      "getPackage/librhsm-0.0.3-15.el10.x86_64.rpm\n",
      "getPackage/libseccomp-2.5.3-9.el10.x86_64.rpm\n",
      "getPackage/libselinux-3.7-3.el10.x86_64.rpm\n",
      "getPackage/libselinux-utils-3.7-3.el10.x86_64.rpm\n",
      "getPackage/libsemanage-3.7-1.el10.x86_64.rpm\n",
      "getPackage/libsepol-3.7-2.el10.x86_64.rpm\n",
      "getPackage/libsmartcols-2.40.2-4.el10.x86_64.rpm\n",
      "getPackage/libsmbclient-4.20.2-104.0.1.el10.x86_64.rpm\n",
      "getPackage/libsolv-0.7.29-7.el10.x86_64.rpm\n",
      "getPackage/libss-1.47.1-2.el10.x86_64.rpm\n",
      "getPackage/libssh-0.10.6-8.el10.x86_64.rpm\n",
      "getPackage/libssh-config-0.10.6-8.el10.noarch.rpm\n",
      "getPackage/libsss_autofs-2.10.0~beta2-3.0.1.el10.x86_64.rpm\n",
      "getPackage/libsss_certmap-2.10.0~beta2-3.0.1.el10.x86_64.rpm\n",
      "getPackage/libsss_idmap-2.10.0~beta2-3.0.1.el10.x86_64.rpm\n",
      "getPackage/libsss_nss_idmap-2.10.0~beta2-3.0.1.el10.x86_64.rpm\n",
      "getPackage/libsss_sudo-2.10.0~beta2-3.0.1.el10.x86_64.rpm\n",
      "getPackage/libstdc++-14.2.1-1.el10.x86_64.rpm\n",
      "getPackage/libsysfs-2.1.1-13.el10.x86_64.rpm\n",
      "getPackage/libtalloc-2.4.2-2.el10.x86_64.rpm\n",
      "getPackage/libtasn1-4.19.0-7.el10.x86_64.rpm\n",
      "getPackage/libtdb-1.4.10-2.el10.x86_64.rpm\n",
      "getPackage/libtevent-0.16.1-2.el10.x86_64.rpm\n",
      "getPackage/libtirpc-1.3.5-0.el10.x86_64.rpm\n",
      "getPackage/libtracecmd-1.5.1-4.el10.x86_64.rpm\n",
      "getPackage/libtraceevent-1.8.2-5.el10.x86_64.rpm\n",
      "getPackage/libtracefs-1.8.0-5.el10.x86_64.rpm\n",
      "getPackage/libunistring-1.1-9.el10.x86_64.rpm\n",
      "getPackage/liburing-2.5-4.el10.x86_64.rpm\n",
      "getPackage/libusb1-1.0.27-3.el10.x86_64.rpm\n",
      "getPackage/libuser-0.64-8.el10.x86_64.rpm\n",
      "getPackage/libutempter-1.2.1-14.el10.x86_64.rpm\n",
      "getPackage/libuuid-2.40.2-4.el10.x86_64.rpm\n",
      "getPackage/libverto-0.3.2-9.el10.x86_64.rpm\n",
      "getPackage/libverto-libev-0.3.2-9.el10.x86_64.rpm\n",
      "getPackage/libwbclient-4.20.2-104.0.1.el10.x86_64.rpm\n",
      "getPackage/libxcrypt-4.4.36-9.el10.x86_64.rpm\n",
      "getPackage/libxml2-2.12.5-2.el10.x86_64.rpm\n",
      "getPackage/libxmlb-0.3.15-6.el10.x86_64.rpm\n",
      "getPackage/libyaml-0.2.5-15.el10.x86_64.rpm\n",
      "getPackage/libzstd-1.5.5-8.el10.x86_64.rpm\n",
      "getPackage/linux-firmware-20241213-999.36.git2cdfe09e.el10.noarch.rpm\n",
      "getPackage/linux-firmware-core-20241213-999.36.git2cdfe09e.el10.noarch.rpm\n",
      "getPackage/linux-firmware-whence-20241213-999.36.git2cdfe09e.el10.noarch.rpm\n",
      "getPackage/liquidio-firmware-20241213-999.36.git2cdfe09e.el10.noarch.rpm\n",
      "getPackage/lksctp-tools-1.0.19-7.el10.x86_64.rpm\n",
      "getPackage/lldpad-1.1.0-11.git85e5583.el10.x86_64.rpm\n",
      "getPackage/lmdb-libs-0.9.32-2.el10.x86_64.rpm\n",
      "getPackage/lockdev-1.0.4-0.45.20111007git.el10.x86_64.rpm\n",
      "getPackage/log4cplus-2.1.1-7.el10.x86_64.rpm\n",
      "getPackage/logrotate-3.22.0-1.el10.x86_64.rpm\n",
      "getPackage/lrzsz-0.12.20-65.el10.x86_64.rpm\n",
      "getPackage/lshw-B.02.20-4.el10.x86_64.rpm\n",
      "getPackage/lsof-4.98.0-5.el10.x86_64.rpm\n",
      "getPackage/lsscsi-0.32-12.el10.x86_64.rpm\n",
      "getPackage/lua-libs-5.4.6-6.el10.x86_64.rpm\n",
      "getPackage/lvm2-2.03.24-4.el10.x86_64.rpm\n",
      "getPackage/lvm2-libs-2.03.24-4.el10.x86_64.rpm\n",
      "getPackage/lz4-1.9.4-7.el10.x86_64.rpm\n",
      "getPackage/lz4-libs-1.9.4-7.el10.x86_64.rpm\n",
      "getPackage/lzo-2.10-13.el10.x86_64.rpm\n",
      "getPackage/lzop-1.04-15.el10.x86_64.rpm\n",
      "getPackage/mailcap-2.1.54-7.el10.noarch.rpm\n",
      "getPackage/make-4.4.1-7.el10.x86_64.rpm\n",
      "getPackage/makedumpfile-1.7.6-1.0.1.el10.x86_64.rpm\n",
      "getPackage/man-db-2.12.0-7.el10.x86_64.rpm\n",
      "getPackage/man-pages-6.06-2.el10.noarch.rpm\n",
      "getPackage/mariadb-connector-c-3.4.1-1.el10.x86_64.rpm\n",
      "getPackage/mariadb-connector-c-config-3.4.1-1.el10.noarch.rpm\n",
      "getPackage/mcelog-201-1.0.1.el10.x86_64.rpm\n",
      "getPackage/mcstrans-3.7-1.el10.x86_64.rpm\n",
      "getPackage/mdadm-4.3-3.0.1.el10.x86_64.rpm\n",
      "getPackage/microcode_ctl-20240910-1.el10.noarch.rpm\n",
      "getPackage/microdnf-3.10.0-6.el10.x86_64.rpm\n",
      "getPackage/minicom-2.9-3.el10.x86_64.rpm\n",
      "getPackage/mksh-59c-11.el10.x86_64.rpm\n",
      "getPackage/mokutil-0.6.0-10.el10.x86_64.rpm\n",
      "getPackage/mpdecimal-2.5.1-11.el10.x86_64.rpm\n",
      "getPackage/mpfr-4.2.1-4.el10.x86_64.rpm\n",
      "getPackage/mtools-4.0.43-6.el10.x86_64.rpm\n",
      "getPackage/mtr-0.95-9.el10.x86_64.rpm\n",
      "getPackage/nano-8.1-1.el10.x86_64.rpm\n",
      "getPackage/ncurses-6.4-13.20240127.el10.x86_64.rpm\n",
      "getPackage/ncurses-base-6.4-13.20240127.el10.noarch.rpm\n",
      "getPackage/ncurses-libs-6.4-13.20240127.el10.x86_64.rpm\n",
      "getPackage/ndctl-78-4.el10.x86_64.rpm\n",
      "getPackage/ndctl-libs-78-4.el10.x86_64.rpm\n",
      "getPackage/net-tools-2.0-0.72.20160912git.el10.x86_64.rpm\n",
      "getPackage/netconsole-service-10.25-1.0.1.el10.noarch.rpm\n",
      "getPackage/netlabel_tools-0.30.0-19.el10.x86_64.rpm\n",
      "getPackage/netronome-firmware-20241213-999.36.git2cdfe09e.el10.noarch.rpm\n",
      "getPackage/nettle-3.10-1.el10.x86_64.rpm\n",
      "getPackage/newt-0.52.24-4.el10.x86_64.rpm\n",
      "getPackage/nfs-utils-2.7.1-1.0.1.el10.x86_64.rpm\n",
      "getPackage/nfs4-acl-tools-0.4.2-6.el10.x86_64.rpm\n",
      "getPackage/nftables-1.0.9-4.el10.x86_64.rpm\n",
      "getPackage/npth-1.6-19.el10.x86_64.rpm\n",
      "getPackage/numactl-2.0.16-6.el10.x86_64.rpm\n",
      "getPackage/numactl-libs-2.0.16-6.el10.x86_64.rpm\n",
      "getPackage/numad-0.5-45.20150602git.el10.x86_64.rpm\n",
      "getPackage/numatop-2.3-10.el10.x86_64.rpm\n",
      "getPackage/nvme-cli-2.9.1-4.el10.x86_64.rpm\n",
      "getPackage/nvmetcli-0.7-13.0.1.el10.noarch.rpm\n",
      "getPackage/ocl-icd-2.3.2-6.el10.x86_64.rpm\n",
      "getPackage/oniguruma-6.9.9-6.el10.x86_64.rpm\n",
      "getPackage/opencryptoki-3.23.0-5.el10.x86_64.rpm\n",
      "getPackage/opencryptoki-icsftok-3.23.0-5.el10.x86_64.rpm\n",
      "getPackage/opencryptoki-libs-3.23.0-5.el10.x86_64.rpm\n",
      "getPackage/opencryptoki-swtok-3.23.0-5.el10.x86_64.rpm\n",
      "getPackage/openldap-2.6.7-5.el10.x86_64.rpm\n",
      "getPackage/openldap-clients-2.6.7-5.el10.x86_64.rpm\n",
      "getPackage/openldap-compat-2.6.7-5.el10.x86_64.rpm\n",
      "getPackage/opensc-0.25.1-4.el10.x86_64.rpm\n",
      "getPackage/opensm-3.3.24-10.el10.x86_64.rpm\n",
      "getPackage/opensm-libs-3.3.24-10.el10.x86_64.rpm\n",
      "getPackage/openssh-9.8p1-6.el10.x86_64.rpm\n",
      "getPackage/openssh-clients-9.8p1-6.el10.x86_64.rpm\n",
      "getPackage/openssh-keycat-9.8p1-6.el10.x86_64.rpm\n",
      "getPackage/openssh-server-9.8p1-6.el10.x86_64.rpm\n",
      "getPackage/openssl-3.2.2-12.0.2.el10.x86_64.rpm\n",
      "getPackage/openssl-fips-provider-3.0.7-6.0.1.el10.x86_64.rpm\n",
      "getPackage/openssl-fips-provider-so-3.0.7-6.0.1.el10.x86_64.rpm\n",
      "getPackage/openssl-libs-3.2.2-12.0.2.el10.x86_64.rpm\n",
      "getPackage/oracle-backgrounds-100.1-1.0.2.el10.noarch.rpm\n",
      "getPackage/oracle-indexhtml-10-1.0.2.el10.noarch.rpm\n",
      "getPackage/oracle-logos-100.1-1.0.2.el10.x86_64.rpm\n",
      "getPackage/oracle-logos-httpd-100.1-1.0.2.el10.noarch.rpm\n",
      "getPackage/oracle-logos-ipa-100.1-1.0.2.el10.noarch.rpm\n",
      "getPackage/oraclelinux-release-10.0-1.0.7.el10.x86_64.rpm\n",
      "getPackage/oraclelinux-release-el10-1.0-7.el10.x86_64.rpm\n",
      "getPackage/os-prober-1.81-7.0.1.el10.x86_64.rpm\n",
      "getPackage/p11-kit-0.25.5-4.el10.x86_64.rpm\n",
      "getPackage/p11-kit-trust-0.25.5-4.el10.x86_64.rpm\n",
      "getPackage/pam-1.6.1-4.el10.x86_64.rpm\n",
      "getPackage/pam-libs-1.6.1-4.el10.x86_64.rpm\n",
      "getPackage/parted-3.6-5.el10.x86_64.rpm\n",
      "getPackage/pciutils-3.13.0-1.el10.x86_64.rpm\n",
      "getPackage/pciutils-libs-3.13.0-1.el10.x86_64.rpm\n",
      "getPackage/pcre2-10.44-1.0.1.el10.2.x86_64.rpm\n",
      "getPackage/pcre2-syntax-10.44-1.0.1.el10.2.noarch.rpm\n",
      "getPackage/pcsc-lite-2.2.3-1.el10.x86_64.rpm\n",
      "getPackage/pcsc-lite-ccid-1.6.0-1.el10.x86_64.rpm\n",
      "getPackage/pcsc-lite-libs-2.2.3-1.el10.x86_64.rpm\n",
      "getPackage/perftest-23.07.0.0.27-5.el10.x86_64.rpm\n",
      "getPackage/perl-AutoLoader-5.74-510.el10.noarch.rpm\n",
      "getPackage/perl-B-1.89-510.el10.x86_64.rpm\n",
      "getPackage/perl-Carp-1.54-510.el10.noarch.rpm\n",
      "getPackage/perl-Class-Struct-0.68-510.el10.noarch.rpm\n",
      "getPackage/perl-Data-Dumper-2.189-511.el10.x86_64.rpm\n",
      "getPackage/perl-Digest-1.20-510.el10.noarch.rpm\n",
      "getPackage/perl-Digest-MD5-2.59-5.el10.x86_64.rpm\n",
      "getPackage/perl-DynaLoader-1.56-510.el10.x86_64.rpm\n",
      "getPackage/perl-Encode-3.21-510.el10.x86_64.rpm\n",
      "getPackage/perl-Errno-1.38-510.el10.x86_64.rpm\n",
      "getPackage/perl-Exporter-5.78-510.el10.noarch.rpm\n",
      "getPackage/perl-Fcntl-1.18-510.el10.x86_64.rpm\n",
      "getPackage/perl-File-Basename-2.86-510.el10.noarch.rpm\n",
      "getPackage/perl-File-Path-2.18-510.el10.noarch.rpm\n",
      "getPackage/perl-File-Temp-0.231.100-511.el10.noarch.rpm\n",
      "getPackage/perl-File-stat-1.14-510.el10.noarch.rpm\n",
      "getPackage/perl-FileHandle-2.05-510.el10.noarch.rpm\n",
      "getPackage/perl-Getopt-Long-2.58-2.el10.noarch.rpm\n",
      "getPackage/perl-Getopt-Std-1.14-510.el10.noarch.rpm\n",
      "getPackage/perl-HTTP-Tiny-0.088-511.el10.noarch.rpm\n",
      "getPackage/perl-IO-1.55-510.el10.x86_64.rpm\n",
      "getPackage/perl-IO-Socket-IP-0.42-511.el10.noarch.rpm\n",
      "getPackage/perl-IO-Socket-SSL-2.085-2.el10.noarch.rpm\n",
      "getPackage/perl-IPC-Open3-1.22-510.el10.noarch.rpm\n",
      "getPackage/perl-MIME-Base64-3.16-510.el10.x86_64.rpm\n",
      "getPackage/perl-Mozilla-CA-20231213-4.el10.noarch.rpm\n",
      "getPackage/perl-Net-SSLeay-1.94-6.el10.x86_64.rpm\n",
      "getPackage/perl-POSIX-2.20-510.el10.x86_64.rpm\n",
      "getPackage/perl-PathTools-3.91-510.el10.x86_64.rpm\n",
      "getPackage/perl-Pod-Escapes-1.07-510.el10.noarch.rpm\n",
      "getPackage/perl-Pod-Perldoc-3.28.01-511.el10.noarch.rpm\n",
      "getPackage/perl-Pod-Simple-3.45-510.el10.noarch.rpm\n",
      "getPackage/perl-Pod-Usage-2.03-510.el10.noarch.rpm\n",
      "getPackage/perl-Scalar-List-Utils-1.63-510.el10.x86_64.rpm\n",
      "getPackage/perl-SelectSaver-1.02-510.el10.noarch.rpm\n",
      "getPackage/perl-Socket-2.038-510.el10.x86_64.rpm\n",
      "getPackage/perl-Storable-3.32-510.el10.x86_64.rpm\n",
      "getPackage/perl-Symbol-1.09-510.el10.noarch.rpm\n",
      "getPackage/perl-Term-ANSIColor-5.01-511.el10.noarch.rpm\n",
      "getPackage/perl-Term-Cap-1.18-510.el10.noarch.rpm\n",
      "getPackage/perl-Text-ParseWords-3.31-510.el10.noarch.rpm\n",
      "getPackage/perl-Text-Tabs+Wrap-2024.001-510.el10.noarch.rpm\n",
      "getPackage/perl-Time-Local-1.350-510.el10.noarch.rpm\n",
      "getPackage/perl-URI-5.27-2.el10.noarch.rpm\n",
      "getPackage/perl-base-2.27-510.el10.noarch.rpm\n",
      "getPackage/perl-constant-1.33-511.el10.noarch.rpm\n",
      "getPackage/perl-if-0.61.000-510.el10.noarch.rpm\n",
      "getPackage/perl-interpreter-5.40.0-510.el10.x86_64.rpm\n",
      "getPackage/perl-libnet-3.15-510.el10.noarch.rpm\n",
      "getPackage/perl-libs-5.40.0-510.el10.x86_64.rpm\n",
      "getPackage/perl-locale-1.12-510.el10.noarch.rpm\n",
      "getPackage/perl-mro-1.29-510.el10.x86_64.rpm\n",
      "getPackage/perl-overload-1.37-510.el10.noarch.rpm\n",
      "getPackage/perl-overloading-0.02-510.el10.noarch.rpm\n",
      "getPackage/perl-parent-0.241-511.el10.noarch.rpm\n",
      "getPackage/perl-podlators-5.01-510.el10.noarch.rpm\n",
      "getPackage/perl-vars-1.05-510.el10.noarch.rpm\n",
      "getPackage/pigz-2.8-7.el10.x86_64.rpm\n",
      "getPackage/pkcs11-provider-0.5-5.el10.x86_64.rpm\n",
      "getPackage/pkgconf-2.1.0-2.el10.x86_64.rpm\n",
      "getPackage/pkgconf-m4-2.1.0-2.el10.noarch.rpm\n",
      "getPackage/pkgconf-pkg-config-2.1.0-2.el10.x86_64.rpm\n",
      "getPackage/plocate-1.1.22-5.el10.x86_64.rpm\n",
      "getPackage/policycoreutils-3.7-2.el10.x86_64.rpm\n",
      "getPackage/policycoreutils-newrole-3.7-2.el10.x86_64.rpm\n",
      "getPackage/policycoreutils-restorecond-3.7-2.el10.x86_64.rpm\n",
      "getPackage/polkit-125-2.0.1.el10.x86_64.rpm\n",
      "getPackage/polkit-libs-125-2.0.1.el10.x86_64.rpm\n",
      "getPackage/polkit-pkla-compat-0.1-29.el10.x86_64.rpm\n",
      "getPackage/popt-1.19-7.el10.x86_64.rpm\n",
      "getPackage/ppp-2.5.0-12.el10.x86_64.rpm\n",
      "getPackage/prefixdevname-0.2.0-2.el10.x86_64.rpm\n",
      "getPackage/procps-ng-4.0.4-4.el10.x86_64.rpm\n",
      "getPackage/procps-ng-i18n-4.0.4-4.el10.noarch.rpm\n",
      "getPackage/protobuf-c-1.5.0-5.el10.x86_64.rpm\n",
      "getPackage/psacct-6.6.4-22.el10.x86_64.rpm\n",
      "getPackage/psmisc-23.6-7.el10.x86_64.rpm\n",
      "getPackage/publicsuffix-list-dafsa-20240107-4.el10.noarch.rpm\n",
      "getPackage/python3-3.12.5-2.el10.x86_64.rpm\n",
      "getPackage/python3-cffi-1.16.0-5.el10.x86_64.rpm\n",
      "getPackage/python3-charset-normalizer-3.3.2-4.el10.noarch.rpm\n",
      "getPackage/python3-configshell-1.1.30-7.0.1.el10.noarch.rpm\n",
      "getPackage/python3-cryptography-43.0.0-2.el10.x86_64.rpm\n",
      "getPackage/python3-dateutil-2.8.2-14.el10.noarch.rpm\n",
      "getPackage/python3-dbus-1.3.2-7.el10.x86_64.rpm\n",
      "getPackage/python3-decorator-5.1.1-11.el10.noarch.rpm\n",
      "getPackage/python3-dnf-4.20.0-6.0.1.el10.noarch.rpm\n",
      "getPackage/python3-dnf-plugin-post-transaction-actions-4.7.0-5.0.1.el10.noarch.rpm\n",
      "getPackage/python3-dnf-plugin-pre-transaction-actions-4.7.0-5.0.1.el10.noarch.rpm\n",
      "getPackage/python3-dnf-plugin-versionlock-4.7.0-5.0.1.el10.noarch.rpm\n",
      "getPackage/python3-dnf-plugins-core-4.7.0-5.0.1.el10.noarch.rpm\n",
      "getPackage/python3-dns-2.6.1-1.el10.noarch.rpm\n",
      "getPackage/python3-firewall-2.2.1-1.0.1.el10.noarch.rpm\n",
      "getPackage/python3-gobject-base-3.46.0-6.el10.x86_64.rpm\n",
      "getPackage/python3-gobject-base-noarch-3.46.0-6.el10.noarch.rpm\n",
      "getPackage/python3-gpg-1.23.2-5.el10.x86_64.rpm\n",
      "getPackage/python3-hawkey-0.73.1-5.0.1.el10.x86_64.rpm\n",
      "getPackage/python3-idna-3.7-2.el10.noarch.rpm\n",
      "getPackage/python3-iniparse-0.5-9.el10.noarch.rpm\n",
      "getPackage/python3-inotify-0.9.6-35.el10.noarch.rpm\n",
      "getPackage/python3-kmod-0.9.2-5.el10.x86_64.rpm\n",
      "getPackage/python3-ldb-2.9.1-5.el10.x86_64.rpm\n",
      "getPackage/python3-libcomps-0.1.21-2.el10.x86_64.rpm\n",
      "getPackage/python3-libdnf-0.73.1-5.0.1.el10.x86_64.rpm\n",
      "getPackage/python3-libipa_hbac-2.10.0~beta2-3.0.1.el10.x86_64.rpm\n",
      "getPackage/python3-librepo-1.18.0-2.el10.x86_64.rpm\n",
      "getPackage/python3-libs-3.12.5-2.el10.x86_64.rpm\n",
      "getPackage/python3-libsss_nss_idmap-2.10.0~beta2-3.0.1.el10.x86_64.rpm\n",
      "getPackage/python3-libxml2-2.12.5-2.el10.x86_64.rpm\n",
      "getPackage/python3-linux-procfs-0.7.3-6.el10.noarch.rpm\n",
      "getPackage/python3-markdown-3.5.1-5.el10.noarch.rpm\n",
      "getPackage/python3-nftables-1.0.9-4.el10.x86_64.rpm\n",
      "getPackage/python3-packaging-23.2-5.el10.noarch.rpm\n",
      "getPackage/python3-perf-6.11.0-0.rc5.23.el10.x86_64.rpm\n",
      "getPackage/python3-pexpect-4.9.0-5.el10.noarch.rpm\n",
      "getPackage/python3-pip-wheel-23.3.2-3.el10.noarch.rpm\n",
      "getPackage/python3-ply-3.11-24.el10.noarch.rpm\n",
      "getPackage/python3-ptyprocess-0.7.0-8.el10.noarch.rpm\n",
      "getPackage/python3-pycparser-2.20-15.el10.noarch.rpm\n",
      "getPackage/python3-pyparsing-3.1.1-5.el10.noarch.rpm\n",
      "getPackage/python3-pyudev-0.24.1-9.el10.noarch.rpm\n",
      "getPackage/python3-pyyaml-6.0.1-18.el10.x86_64.rpm\n",
      "getPackage/python3-requests-2.32.3-1.el10.noarch.rpm\n",
      "getPackage/python3-rpm-4.19.1.1-3.el10.x86_64.rpm\n",
      "getPackage/python3-samba-4.20.2-104.0.1.el10.x86_64.rpm\n",
      "getPackage/python3-samba-dc-4.20.2-104.0.1.el10.x86_64.rpm\n",
      "getPackage/python3-setools-4.5.1-3.el10.x86_64.rpm\n",
      "getPackage/python3-setuptools-69.0.3-5.el10.noarch.rpm\n",
      "getPackage/python3-six-1.16.0-15.el10.noarch.rpm\n",
      "getPackage/python3-sss-2.10.0~beta2-3.0.1.el10.x86_64.rpm\n",
      "getPackage/python3-sss-murmur-2.10.0~beta2-3.0.1.el10.x86_64.rpm\n",
      "getPackage/python3-sssdconfig-2.10.0~beta2-3.0.1.el10.noarch.rpm\n",
      "getPackage/python3-systemd-235-10.el10.x86_64.rpm\n",
      "getPackage/python3-talloc-2.4.2-2.el10.x86_64.rpm\n",
      "getPackage/python3-tdb-1.4.10-2.el10.x86_64.rpm\n",
      "getPackage/python3-tevent-0.16.1-2.el10.x86_64.rpm\n",
      "getPackage/python3-typing-extensions-4.9.0-5.el10.noarch.rpm\n",
      "getPackage/python3-urllib3-1.26.19-1.el10.noarch.rpm\n",
      "getPackage/python3-urwid-2.5.3-3.el10.x86_64.rpm\n",
      "getPackage/python3-wcwidth-0.2.6-4.el10.noarch.rpm\n",
      "getPackage/quota-4.09-7.el10.x86_64.rpm\n",
      "getPackage/quota-nls-4.09-7.el10.noarch.rpm\n",
      "getPackage/rdma-core-51.0-2.el10.x86_64.rpm\n",
      "getPackage/readline-8.2-9.el10.x86_64.rpm\n",
      "getPackage/readonly-root-10.25-1.0.1.el10.noarch.rpm\n",
      "getPackage/realmd-0.17.1-10.el10.x86_64.rpm\n",
      "getPackage/redhat-mono-vf-fonts-4.0.3-12.el10.noarch.rpm\n",
      "getPackage/redhat-release-10.0-14.4.0.1.el10.x86_64.rpm\n",
      "getPackage/redhat-text-vf-fonts-4.0.3-12.el10.noarch.rpm\n",
      "getPackage/restore-0.4-0.58.b47.el10.x86_64.rpm\n",
      "getPackage/rmt-1.6-15.el10.x86_64.rpm\n",
      "getPackage/rng-tools-6.17-3.el10.x86_64.rpm\n",
      "getPackage/rootfiles-8.1-37.el10.noarch.rpm\n",
      "getPackage/rpcbind-1.2.7-2.el10.x86_64.rpm\n",
      "getPackage/rpm-4.19.1.1-3.el10.x86_64.rpm\n",
      "getPackage/rpm-build-libs-4.19.1.1-3.el10.x86_64.rpm\n",
      "getPackage/rpm-libs-4.19.1.1-3.el10.x86_64.rpm\n",
      "getPackage/rpm-plugin-audit-4.19.1.1-3.el10.x86_64.rpm\n",
      "getPackage/rpm-plugin-selinux-4.19.1.1-3.el10.x86_64.rpm\n",
      "getPackage/rpm-sequoia-1.6.0-3.el10.x86_64.rpm\n",
      "getPackage/rpm-sign-4.19.1.1-3.el10.x86_64.rpm\n",
      "getPackage/rpm-sign-libs-4.19.1.1-3.el10.x86_64.rpm\n",
      "getPackage/rsync-3.3.0-5.el10.x86_64.rpm\n",
      "getPackage/samba-4.20.2-104.0.1.el10.x86_64.rpm\n",
      "getPackage/samba-client-libs-4.20.2-104.0.1.el10.x86_64.rpm\n",
      "getPackage/samba-common-4.20.2-104.0.1.el10.noarch.rpm\n",
      "getPackage/samba-common-libs-4.20.2-104.0.1.el10.x86_64.rpm\n",
      "getPackage/samba-common-tools-4.20.2-104.0.1.el10.x86_64.rpm\n",
      "getPackage/samba-dc-libs-4.20.2-104.0.1.el10.x86_64.rpm\n",
      "getPackage/samba-dcerpc-4.20.2-104.0.1.el10.x86_64.rpm\n",
      "getPackage/samba-ldb-ldap-modules-4.20.2-104.0.1.el10.x86_64.rpm\n",
      "getPackage/samba-libs-4.20.2-104.0.1.el10.x86_64.rpm\n",
      "getPackage/samba-tools-4.20.2-104.0.1.el10.x86_64.rpm\n",
      "getPackage/samba-usershares-4.20.2-104.0.1.el10.x86_64.rpm\n",
      "getPackage/samba-winbind-4.20.2-104.0.1.el10.x86_64.rpm\n",
      "getPackage/samba-winbind-modules-4.20.2-104.0.1.el10.x86_64.rpm\n",
      "getPackage/sed-4.9-2.el10.x86_64.rpm\n",
      "getPackage/selinux-policy-40.13.9-1.0.2.el10.noarch.rpm\n",
      "getPackage/selinux-policy-doc-40.13.9-1.0.2.el10.noarch.rpm\n",
      "getPackage/selinux-policy-mls-40.13.9-1.0.2.el10.noarch.rpm\n",
      "getPackage/selinux-policy-sandbox-40.13.9-1.0.2.el10.noarch.rpm\n",
      "getPackage/selinux-policy-targeted-40.13.9-1.0.2.el10.noarch.rpm\n",
      "getPackage/setools-console-4.5.1-3.el10.x86_64.rpm\n",
      "getPackage/setserial-2.17-62.el10.x86_64.rpm\n",
      "getPackage/setup-2.14.5-3.el10.noarch.rpm\n",
      "getPackage/sg3_utils-1.48-5.el10.x86_64.rpm\n",
      "getPackage/sg3_utils-libs-1.48-5.el10.x86_64.rpm\n",
      "getPackage/shadow-utils-4.15.0-3.el10.x86_64.rpm\n",
      "getPackage/shadow-utils-subid-4.15.0-3.el10.x86_64.rpm\n",
      "getPackage/shared-mime-info-2.3-7.el10.x86_64.rpm\n",
      "getPackage/shim-x64-15.8-1.0.4.el10.x86_64.rpm\n",
      "getPackage/slang-2.3.3-6.el10.x86_64.rpm\n",
      "getPackage/smartmontools-7.4-6.el10.x86_64.rpm\n",
      "getPackage/smartmontools-selinux-7.4-6.el10.noarch.rpm\n",
      "getPackage/snappy-1.1.10-6.el10.x86_64.rpm\n",
      "getPackage/sos-4.7.2-2.0.1.el10.noarch.rpm\n",
      "getPackage/sqlite-libs-3.46.1-1.el10.x86_64.rpm\n",
      "getPackage/squashfs-tools-4.6.1-5.el10.x86_64.rpm\n",
      "getPackage/srp_daemon-51.0-2.el10.x86_64.rpm\n",
      "getPackage/sssd-2.10.0~beta2-3.0.1.el10.x86_64.rpm\n",
      "getPackage/sssd-ad-2.10.0~beta2-3.0.1.el10.x86_64.rpm\n",
      "getPackage/sssd-client-2.10.0~beta2-3.0.1.el10.x86_64.rpm\n",
      "getPackage/sssd-common-2.10.0~beta2-3.0.1.el10.x86_64.rpm\n",
      "getPackage/sssd-common-pac-2.10.0~beta2-3.0.1.el10.x86_64.rpm\n",
      "getPackage/sssd-dbus-2.10.0~beta2-3.0.1.el10.x86_64.rpm\n",
      "getPackage/sssd-ipa-2.10.0~beta2-3.0.1.el10.x86_64.rpm\n",
      "getPackage/sssd-kcm-2.10.0~beta2-3.0.1.el10.x86_64.rpm\n",
      "getPackage/sssd-krb5-2.10.0~beta2-3.0.1.el10.x86_64.rpm\n",
      "getPackage/sssd-krb5-common-2.10.0~beta2-3.0.1.el10.x86_64.rpm\n",
      "getPackage/sssd-ldap-2.10.0~beta2-3.0.1.el10.x86_64.rpm\n",
      "getPackage/sssd-nfs-idmap-2.10.0~beta2-3.0.1.el10.x86_64.rpm\n",
      "getPackage/sssd-passkey-2.10.0~beta2-3.0.1.el10.x86_64.rpm\n",
      "getPackage/sssd-proxy-2.10.0~beta2-3.0.1.el10.x86_64.rpm\n",
      "getPackage/sssd-tools-2.10.0~beta2-3.0.1.el10.x86_64.rpm\n",
      "getPackage/sssd-winbind-idmap-2.10.0~beta2-3.0.1.el10.x86_64.rpm\n",
      "getPackage/strace-6.7-3.el10.x86_64.rpm\n",
      "getPackage/stunnel-5.72-5.el10.x86_64.rpm\n",
      "getPackage/sudo-1.9.15-7.p5.el10.x86_64.rpm\n",
      "getPackage/symlinks-1.7-12.el10.x86_64.rpm\n",
      "getPackage/syslinux-6.04-0.29.el10.x86_64.rpm\n",
      "getPackage/syslinux-extlinux-6.04-0.29.el10.x86_64.rpm\n",
      "getPackage/syslinux-extlinux-nonlinux-6.04-0.29.el10.noarch.rpm\n",
      "getPackage/syslinux-nonlinux-6.04-0.29.el10.noarch.rpm\n",
      "getPackage/systemd-256-14.0.1.el10.x86_64.rpm\n",
      "getPackage/systemd-container-256-14.0.1.el10.x86_64.rpm\n",
      "getPackage/systemd-libs-256-14.0.1.el10.x86_64.rpm\n",
      "getPackage/systemd-oomd-256-14.0.1.el10.x86_64.rpm\n",
      "getPackage/systemd-pam-256-14.0.1.el10.x86_64.rpm\n",
      "getPackage/systemd-resolved-256-14.0.1.el10.x86_64.rpm\n",
      "getPackage/systemd-rpm-macros-256-14.0.1.el10.noarch.rpm\n",
      "getPackage/systemd-udev-256-14.0.1.el10.x86_64.rpm\n",
      "getPackage/tar-1.35-4.el10.x86_64.rpm\n",
      "getPackage/tboot-1.11.3-1.el10.x86_64.rpm\n",
      "getPackage/tcl-8.6.13-3.el10.x86_64.rpm\n",
      "getPackage/tdb-tools-1.4.10-2.el10.x86_64.rpm\n",
      "getPackage/time-1.9-24.el10.x86_64.rpm\n",
      "getPackage/tmux-3.3a-10.el10.x86_64.rpm\n",
      "getPackage/tpm2-tools-5.7-2.el10.x86_64.rpm\n",
      "getPackage/tpm2-tss-4.1.3-2.el10.x86_64.rpm\n",
      "getPackage/tpm2-tss-fapi-4.1.3-2.el10.x86_64.rpm\n",
      "getPackage/trace-cmd-3.2-4.el10.x86_64.rpm\n",
      "getPackage/traceroute-2.1.5-3.el10.x86_64.rpm\n",
      "getPackage/tree-2.1.0-6.el10.x86_64.rpm\n",
      "getPackage/tss2-2.1.1-4.el10.x86_64.rpm\n",
      "getPackage/tuna-0.19-8.el10.noarch.rpm\n",
      "getPackage/tuned-2.24.0-1.0.1.el10.noarch.rpm\n",
      "getPackage/tuned-profiles-cpu-partitioning-2.24.0-1.0.1.el10.noarch.rpm\n",
      "getPackage/tzdata-2024a-3.el10.noarch.rpm\n",
      "getPackage/units-2.22-9.el10.x86_64.rpm\n",
      "getPackage/unzip-6.0-64.0.1.el10.x86_64.rpm\n",
      "getPackage/usbutils-017-3.el10.x86_64.rpm\n",
      "getPackage/usermode-1.114-10.el10.x86_64.rpm\n",
      "getPackage/userspace-rcu-0.14.0-6.el10.x86_64.rpm\n",
      "getPackage/util-linux-2.40.2-4.el10.x86_64.rpm\n",
      "getPackage/util-linux-core-2.40.2-4.el10.x86_64.rpm\n",
      "getPackage/vdo-8.3.0.71-1.el10.x86_64.rpm\n",
      "getPackage/vdo-support-8.3.0.71-1.el10.x86_64.rpm\n",
      "getPackage/veritysetup-2.7.3-2.el10.x86_64.rpm\n",
      "getPackage/vim-data-9.1.083-2.0.1.el10.noarch.rpm\n",
      "getPackage/vim-filesystem-9.1.083-2.0.1.el10.noarch.rpm\n",
      "getPackage/vim-minimal-9.1.083-2.0.1.el10.x86_64.rpm\n",
      "getPackage/virt-what-1.26-3.el10.x86_64.rpm\n",
      "getPackage/which-2.21-42.el10.x86_64.rpm\n",
      "getPackage/wireless-regdb-2024.01.23-2.el10.noarch.rpm\n",
      "getPackage/words-3.0-46.el10.noarch.rpm\n",
      "getPackage/wpa_supplicant-2.10-11.el10.x86_64.rpm\n",
      "getPackage/x3270-4.3ga8-5.el10.x86_64.rpm\n",
      "getPackage/x3270-text-4.3ga8-5.el10.x86_64.rpm\n",
      "getPackage/xfsdump-3.1.12-5.el10.x86_64.rpm\n",
      "getPackage/xfsprogs-6.5.0-4.0.1.el10.x86_64.rpm\n",
      "getPackage/xz-5.6.2-2.el10.x86_64.rpm\n",
      "getPackage/xz-libs-5.6.2-2.el10.x86_64.rpm\n",
      "getPackage/yum-4.20.0-6.0.1.el10.noarch.rpm\n",
      "getPackage/yum-utils-4.7.0-5.0.1.el10.noarch.rpm\n",
      "getPackage/zip-3.0-42.el10.x86_64.rpm\n",
      "getPackage/zlib-ng-compat-2.1.6-3.el10.x86_64.rpm\n",
      "getPackage/zsh-5.9-14.el10.x86_64.rpm\n",
      "getPackage/zstd-1.5.5-8.el10.x86_64.rpm\n"
     ]
    }
   ],
   "source": [
    "for var in OLsobj.find_all('a'):\n",
    "    if(re.search('rpm$',var.get('href'))): # line ends with pattern rpm \n",
    "        print(var.get('href'))"
   ]
  },
  {
   "cell_type": "code",
   "execution_count": 458,
   "id": "e23921d0-cc91-42b4-b0f3-d883381121e3",
   "metadata": {},
   "outputs": [
    {
     "name": "stdout",
     "output_type": "stream",
     "text": [
      "ModemManager-1.22.0-5.el10.x86_64.rpm\n",
      "ModemManager-glib-1.22.0-5.el10.x86_64.rpm\n",
      "NetworkManager-1.48.10-1.0.2.el10.x86_64.rpm\n",
      "NetworkManager-adsl-1.48.10-1.0.2.el10.x86_64.rpm\n",
      "NetworkManager-bluetooth-1.48.10-1.0.2.el10.x86_64.rpm\n",
      "NetworkManager-config-server-1.48.10-1.0.2.el10.noarch.rpm\n",
      "NetworkManager-libnm-1.48.10-1.0.2.el10.x86_64.rpm\n",
      "NetworkManager-tui-1.48.10-1.0.2.el10.x86_64.rpm\n",
      "NetworkManager-wifi-1.48.10-1.0.2.el10.x86_64.rpm\n",
      "NetworkManager-wwan-1.48.10-1.0.2.el10.x86_64.rpm\n",
      "accel-config-4.1.8-1.el10.x86_64.rpm\n",
      "accel-config-libs-4.1.8-1.el10.x86_64.rpm\n",
      "acl-2.3.2-3.el10.x86_64.rpm\n",
      "adcli-0.9.2-7.el10.x86_64.rpm\n",
      "alternatives-1.30-1.0.1.el10.x86_64.rpm\n",
      "at-3.2.5-10.el10.x86_64.rpm\n",
      "attr-2.5.2-4.el10.x86_64.rpm\n",
      "audispd-plugins-4.0-9.0.1.el10.x86_64.rpm\n",
      "audispd-plugins-zos-4.0-9.0.1.el10.x86_64.rpm\n",
      "audit-4.0-9.0.1.el10.x86_64.rpm\n",
      "audit-libs-4.0-9.0.1.el10.x86_64.rpm\n",
      "audit-rules-4.0-9.0.1.el10.x86_64.rpm\n",
      "authselect-1.5.0-6.el10.x86_64.rpm\n",
      "authselect-libs-1.5.0-6.el10.x86_64.rpm\n",
      "autofs-5.1.9-10.0.1.el10.x86_64.rpm\n",
      "avahi-0.8-29.el10.x86_64.rpm\n",
      "avahi-libs-0.8-29.el10.x86_64.rpm\n",
      "basesystem-11-21.0.1.el10.noarch.rpm\n",
      "bash-5.2.26-4.el10.x86_64.rpm\n",
      "bash-completion-2.11-15.el10.noarch.rpm\n",
      "bc-1.07.1-22.el10.x86_64.rpm\n",
      "binutils-2.41-48.0.1.el10.x86_64.rpm\n",
      "binutils-gold-2.41-48.0.1.el10.x86_64.rpm\n",
      "biosdevname-0.7.3-18.0.1.el10.x86_64.rpm\n",
      "bluez-5.77-2.el10.x86_64.rpm\n",
      "bluez-libs-5.77-2.el10.x86_64.rpm\n",
      "bolt-0.9.8-2.el10.x86_64.rpm\n",
      "boost-system-1.83.0-4.el10.x86_64.rpm\n",
      "btrfs-progs-6.12.0-0.el10.x86_64.rpm\n",
      "bubblewrap-0.9.0-1.el10.x86_64.rpm\n",
      "bzip2-1.0.8-19.el10.x86_64.rpm\n",
      "bzip2-libs-1.0.8-19.el10.x86_64.rpm\n",
      "c-ares-1.25.0-5.el10.x86_64.rpm\n",
      "ca-certificates-2024.2.69_v8.0.303-101.3.el10.noarch.rpm\n",
      "cachefilesd-0.10.10-19.el10.x86_64.rpm\n",
      "chkconfig-1.30-1.0.1.el10.x86_64.rpm\n",
      "chrony-4.5-5.0.1.el10.x86_64.rpm\n",
      "chrpath-0.16-24.el10.x86_64.rpm\n",
      "cifs-utils-7.0-5.el10.x86_64.rpm\n",
      "cockpit-323-1.0.2.el10.x86_64.rpm\n",
      "cockpit-bridge-323-1.0.2.el10.x86_64.rpm\n",
      "cockpit-doc-323-1.0.2.el10.noarch.rpm\n",
      "cockpit-system-323-1.0.2.el10.noarch.rpm\n",
      "cockpit-ws-323-1.0.2.el10.x86_64.rpm\n",
      "coreutils-9.5-2.0.1.el10.x86_64.rpm\n",
      "coreutils-common-9.5-2.0.1.el10.x86_64.rpm\n",
      "coreutils-single-9.5-2.0.1.el10.x86_64.rpm\n",
      "cpio-2.15-2.el10.x86_64.rpm\n",
      "cracklib-2.9.11-7.el10.x86_64.rpm\n",
      "cracklib-dicts-2.9.11-7.el10.x86_64.rpm\n",
      "cronie-1.7.0-5.el10.x86_64.rpm\n",
      "cronie-anacron-1.7.0-5.el10.x86_64.rpm\n",
      "cronie-noanacron-1.7.0-5.el10.x86_64.rpm\n",
      "crontabs-1.11^20190603git9e74f2d-4.el10.noarch.rpm\n",
      "crypto-policies-20240822-1.git367040b.el10.noarch.rpm\n",
      "crypto-policies-scripts-20240822-1.git367040b.el10.noarch.rpm\n",
      "cryptsetup-2.7.3-2.el10.x86_64.rpm\n",
      "cryptsetup-libs-2.7.3-2.el10.x86_64.rpm\n",
      "cups-libs-2.4.10-5.el10.x86_64.rpm\n",
      "curl-8.9.1-4.el10.x86_64.rpm\n",
      "cxl-libs-78-4.el10.x86_64.rpm\n",
      "cyrus-sasl-2.1.28-22.el10.x86_64.rpm\n",
      "cyrus-sasl-gssapi-2.1.28-22.el10.x86_64.rpm\n",
      "cyrus-sasl-lib-2.1.28-22.el10.x86_64.rpm\n",
      "cyrus-sasl-plain-2.1.28-22.el10.x86_64.rpm\n",
      "cyrus-sasl-scram-2.1.28-22.el10.x86_64.rpm\n",
      "daxctl-libs-78-4.el10.x86_64.rpm\n",
      "dbus-1.14.10-4.el10.x86_64.rpm\n",
      "dbus-broker-35-6.el10.x86_64.rpm\n",
      "dbus-common-1.14.10-4.el10.noarch.rpm\n",
      "dbus-libs-1.14.10-4.el10.x86_64.rpm\n",
      "dbus-tools-1.14.10-4.el10.x86_64.rpm\n",
      "default-fonts-core-mono-4.1-2.el10.noarch.rpm\n",
      "default-fonts-core-sans-4.1-2.el10.noarch.rpm\n",
      "default-fonts-core-serif-4.1-2.el10.noarch.rpm\n",
      "dejavu-sans-fonts-2.37-24.el10.noarch.rpm\n",
      "dejavu-sans-mono-fonts-2.37-24.el10.noarch.rpm\n",
      "dejavu-serif-fonts-2.37-24.el10.noarch.rpm\n",
      "device-mapper-1.02.198-4.el10.x86_64.rpm\n",
      "device-mapper-event-1.02.198-4.el10.x86_64.rpm\n",
      "device-mapper-event-libs-1.02.198-4.el10.x86_64.rpm\n",
      "device-mapper-libs-1.02.198-4.el10.x86_64.rpm\n",
      "device-mapper-multipath-0.9.9-1.el10.x86_64.rpm\n",
      "device-mapper-multipath-libs-0.9.9-1.el10.x86_64.rpm\n",
      "device-mapper-persistent-data-1.0.11-4.el10.x86_64.rpm\n",
      "dhcpcd-10.0.6-4.el10.x86_64.rpm\n",
      "diffutils-3.10-7.el10.x86_64.rpm\n",
      "dmidecode-3.6-2.el10.x86_64.rpm\n",
      "dnf-4.20.0-6.0.1.el10.noarch.rpm\n",
      "dnf-automatic-4.20.0-6.0.1.el10.noarch.rpm\n",
      "dnf-data-4.20.0-6.0.1.el10.noarch.rpm\n",
      "dnf-plugins-core-4.7.0-5.0.1.el10.noarch.rpm\n",
      "dos2unix-7.5.2-2.el10.x86_64.rpm\n",
      "dosfstools-4.2-11.el10.x86_64.rpm\n",
      "dracut-102-3.0.1.el10.x86_64.rpm\n",
      "dracut-config-generic-102-3.0.1.el10.x86_64.rpm\n",
      "dracut-config-rescue-102-3.0.1.el10.x86_64.rpm\n",
      "dracut-network-102-3.0.1.el10.x86_64.rpm\n",
      "dracut-squash-102-3.0.1.el10.x86_64.rpm\n",
      "dracut-tools-102-3.0.1.el10.x86_64.rpm\n",
      "duktape-2.7.0-8.el10.x86_64.rpm\n",
      "e2fsprogs-1.47.1-2.el10.x86_64.rpm\n",
      "e2fsprogs-libs-1.47.1-2.el10.x86_64.rpm\n",
      "ed-1.20-3.el10.x86_64.rpm\n",
      "efi-filesystem-6-3.0.1.el10.noarch.rpm\n",
      "efibootmgr-18-7.0.1.el10.x86_64.rpm\n",
      "efivar-libs-39-2.el10.x86_64.rpm\n",
      "elfutils-0.191-5.el10.x86_64.rpm\n",
      "elfutils-debuginfod-client-0.191-5.el10.x86_64.rpm\n",
      "elfutils-default-yama-scope-0.191-5.el10.noarch.rpm\n",
      "elfutils-libelf-0.191-5.el10.x86_64.rpm\n",
      "elfutils-libs-0.191-5.el10.x86_64.rpm\n",
      "environment-modules-5.3.1-5.el10.x86_64.rpm\n",
      "erofs-fuse-1.7.1-4.el10.x86_64.rpm\n",
      "erofs-utils-1.7.1-4.el10.x86_64.rpm\n",
      "ethtool-6.7-2.el10.x86_64.rpm\n",
      "exfatprogs-1.2.2-5.el10.x86_64.rpm\n",
      "expat-2.6.2-1.el10.x86_64.rpm\n",
      "fcoe-utils-1.0.34-10.gitb233050.el10.x86_64.rpm\n",
      "file-5.45-6.el10.x86_64.rpm\n",
      "file-libs-5.45-6.el10.x86_64.rpm\n",
      "filesystem-3.18-15.el10.x86_64.rpm\n",
      "findutils-4.10.0-4.el10.x86_64.rpm\n",
      "firewalld-2.2.1-1.0.1.el10.noarch.rpm\n",
      "firewalld-filesystem-2.2.1-1.0.1.el10.noarch.rpm\n",
      "fonts-filesystem-2.0.5-17.el10.noarch.rpm\n",
      "freetype-2.13.2-6.el10.x86_64.rpm\n",
      "fuse-2.9.9-22.el10.gating_test1.x86_64.rpm\n",
      "fuse-common-3.16.2-5.el10.x86_64.rpm\n",
      "fuse-libs-2.9.9-22.el10.gating_test1.x86_64.rpm\n",
      "fuse3-libs-3.16.2-5.el10.x86_64.rpm\n",
      "fwupd-1.9.19-1.el10.x86_64.rpm\n",
      "fwupd-efi-1.6-2.el10.x86_64.rpm\n",
      "gawk-5.3.0-4.el10.x86_64.rpm\n",
      "gdbm-1.23-8.el10.x86_64.rpm\n",
      "gdbm-libs-1.23-8.el10.x86_64.rpm\n",
      "gettext-0.22.5-3.el10.x86_64.rpm\n",
      "gettext-envsubst-0.22.5-3.el10.x86_64.rpm\n",
      "gettext-libs-0.22.5-3.el10.x86_64.rpm\n",
      "gettext-runtime-0.22.5-3.el10.x86_64.rpm\n",
      "glib-networking-2.80.0-2.el10.x86_64.rpm\n",
      "glib2-2.80.4-1.el10.x86_64.rpm\n",
      "glibc-2.39-22.0.1.el10.x86_64.rpm\n",
      "glibc-all-langpacks-2.39-22.0.1.el10.x86_64.rpm\n",
      "glibc-common-2.39-22.0.1.el10.x86_64.rpm\n",
      "glibc-gconv-extra-2.39-22.0.1.el10.x86_64.rpm\n",
      "glibc-langpack-aa-2.39-22.0.1.el10.x86_64.rpm\n",
      "glibc-langpack-af-2.39-22.0.1.el10.x86_64.rpm\n",
      "glibc-langpack-agr-2.39-22.0.1.el10.x86_64.rpm\n",
      "glibc-langpack-ak-2.39-22.0.1.el10.x86_64.rpm\n",
      "glibc-langpack-am-2.39-22.0.1.el10.x86_64.rpm\n",
      "glibc-langpack-an-2.39-22.0.1.el10.x86_64.rpm\n",
      "glibc-langpack-anp-2.39-22.0.1.el10.x86_64.rpm\n",
      "glibc-langpack-ar-2.39-22.0.1.el10.x86_64.rpm\n",
      "glibc-langpack-as-2.39-22.0.1.el10.x86_64.rpm\n",
      "glibc-langpack-ast-2.39-22.0.1.el10.x86_64.rpm\n",
      "glibc-langpack-ayc-2.39-22.0.1.el10.x86_64.rpm\n",
      "glibc-langpack-az-2.39-22.0.1.el10.x86_64.rpm\n",
      "glibc-langpack-be-2.39-22.0.1.el10.x86_64.rpm\n",
      "glibc-langpack-bem-2.39-22.0.1.el10.x86_64.rpm\n",
      "glibc-langpack-ber-2.39-22.0.1.el10.x86_64.rpm\n",
      "glibc-langpack-bg-2.39-22.0.1.el10.x86_64.rpm\n",
      "glibc-langpack-bhb-2.39-22.0.1.el10.x86_64.rpm\n",
      "glibc-langpack-bho-2.39-22.0.1.el10.x86_64.rpm\n",
      "glibc-langpack-bi-2.39-22.0.1.el10.x86_64.rpm\n",
      "glibc-langpack-bn-2.39-22.0.1.el10.x86_64.rpm\n",
      "glibc-langpack-bo-2.39-22.0.1.el10.x86_64.rpm\n",
      "glibc-langpack-br-2.39-22.0.1.el10.x86_64.rpm\n",
      "glibc-langpack-brx-2.39-22.0.1.el10.x86_64.rpm\n",
      "glibc-langpack-bs-2.39-22.0.1.el10.x86_64.rpm\n",
      "glibc-langpack-byn-2.39-22.0.1.el10.x86_64.rpm\n",
      "glibc-langpack-ca-2.39-22.0.1.el10.x86_64.rpm\n",
      "glibc-langpack-ce-2.39-22.0.1.el10.x86_64.rpm\n",
      "glibc-langpack-chr-2.39-22.0.1.el10.x86_64.rpm\n",
      "glibc-langpack-ckb-2.39-22.0.1.el10.x86_64.rpm\n",
      "glibc-langpack-cmn-2.39-22.0.1.el10.x86_64.rpm\n",
      "glibc-langpack-crh-2.39-22.0.1.el10.x86_64.rpm\n",
      "glibc-langpack-cs-2.39-22.0.1.el10.x86_64.rpm\n",
      "glibc-langpack-csb-2.39-22.0.1.el10.x86_64.rpm\n",
      "glibc-langpack-cv-2.39-22.0.1.el10.x86_64.rpm\n",
      "glibc-langpack-cy-2.39-22.0.1.el10.x86_64.rpm\n",
      "glibc-langpack-da-2.39-22.0.1.el10.x86_64.rpm\n",
      "glibc-langpack-de-2.39-22.0.1.el10.x86_64.rpm\n",
      "glibc-langpack-doi-2.39-22.0.1.el10.x86_64.rpm\n",
      "glibc-langpack-dsb-2.39-22.0.1.el10.x86_64.rpm\n",
      "glibc-langpack-dv-2.39-22.0.1.el10.x86_64.rpm\n",
      "glibc-langpack-dz-2.39-22.0.1.el10.x86_64.rpm\n",
      "glibc-langpack-el-2.39-22.0.1.el10.x86_64.rpm\n",
      "glibc-langpack-en-2.39-22.0.1.el10.x86_64.rpm\n",
      "glibc-langpack-eo-2.39-22.0.1.el10.x86_64.rpm\n",
      "glibc-langpack-es-2.39-22.0.1.el10.x86_64.rpm\n",
      "glibc-langpack-et-2.39-22.0.1.el10.x86_64.rpm\n",
      "glibc-langpack-eu-2.39-22.0.1.el10.x86_64.rpm\n",
      "glibc-langpack-fa-2.39-22.0.1.el10.x86_64.rpm\n",
      "glibc-langpack-ff-2.39-22.0.1.el10.x86_64.rpm\n",
      "glibc-langpack-fi-2.39-22.0.1.el10.x86_64.rpm\n",
      "glibc-langpack-fil-2.39-22.0.1.el10.x86_64.rpm\n",
      "glibc-langpack-fo-2.39-22.0.1.el10.x86_64.rpm\n",
      "glibc-langpack-fr-2.39-22.0.1.el10.x86_64.rpm\n",
      "glibc-langpack-fur-2.39-22.0.1.el10.x86_64.rpm\n",
      "glibc-langpack-fy-2.39-22.0.1.el10.x86_64.rpm\n",
      "glibc-langpack-ga-2.39-22.0.1.el10.x86_64.rpm\n",
      "glibc-langpack-gd-2.39-22.0.1.el10.x86_64.rpm\n",
      "glibc-langpack-gez-2.39-22.0.1.el10.x86_64.rpm\n",
      "glibc-langpack-gl-2.39-22.0.1.el10.x86_64.rpm\n",
      "glibc-langpack-gu-2.39-22.0.1.el10.x86_64.rpm\n",
      "glibc-langpack-gv-2.39-22.0.1.el10.x86_64.rpm\n",
      "glibc-langpack-ha-2.39-22.0.1.el10.x86_64.rpm\n",
      "glibc-langpack-hak-2.39-22.0.1.el10.x86_64.rpm\n",
      "glibc-langpack-he-2.39-22.0.1.el10.x86_64.rpm\n",
      "glibc-langpack-hi-2.39-22.0.1.el10.x86_64.rpm\n",
      "glibc-langpack-hif-2.39-22.0.1.el10.x86_64.rpm\n",
      "glibc-langpack-hne-2.39-22.0.1.el10.x86_64.rpm\n",
      "glibc-langpack-hr-2.39-22.0.1.el10.x86_64.rpm\n",
      "glibc-langpack-hsb-2.39-22.0.1.el10.x86_64.rpm\n",
      "glibc-langpack-ht-2.39-22.0.1.el10.x86_64.rpm\n",
      "glibc-langpack-hu-2.39-22.0.1.el10.x86_64.rpm\n",
      "glibc-langpack-hy-2.39-22.0.1.el10.x86_64.rpm\n",
      "glibc-langpack-ia-2.39-22.0.1.el10.x86_64.rpm\n",
      "glibc-langpack-id-2.39-22.0.1.el10.x86_64.rpm\n",
      "glibc-langpack-ig-2.39-22.0.1.el10.x86_64.rpm\n",
      "glibc-langpack-ik-2.39-22.0.1.el10.x86_64.rpm\n",
      "glibc-langpack-is-2.39-22.0.1.el10.x86_64.rpm\n",
      "glibc-langpack-it-2.39-22.0.1.el10.x86_64.rpm\n",
      "glibc-langpack-iu-2.39-22.0.1.el10.x86_64.rpm\n",
      "glibc-langpack-ja-2.39-22.0.1.el10.x86_64.rpm\n",
      "glibc-langpack-ka-2.39-22.0.1.el10.x86_64.rpm\n",
      "glibc-langpack-kab-2.39-22.0.1.el10.x86_64.rpm\n",
      "glibc-langpack-kk-2.39-22.0.1.el10.x86_64.rpm\n",
      "glibc-langpack-kl-2.39-22.0.1.el10.x86_64.rpm\n",
      "glibc-langpack-km-2.39-22.0.1.el10.x86_64.rpm\n",
      "glibc-langpack-kn-2.39-22.0.1.el10.x86_64.rpm\n",
      "glibc-langpack-ko-2.39-22.0.1.el10.x86_64.rpm\n",
      "glibc-langpack-kok-2.39-22.0.1.el10.x86_64.rpm\n",
      "glibc-langpack-ks-2.39-22.0.1.el10.x86_64.rpm\n",
      "glibc-langpack-ku-2.39-22.0.1.el10.x86_64.rpm\n",
      "glibc-langpack-kw-2.39-22.0.1.el10.x86_64.rpm\n",
      "glibc-langpack-ky-2.39-22.0.1.el10.x86_64.rpm\n",
      "glibc-langpack-lb-2.39-22.0.1.el10.x86_64.rpm\n",
      "glibc-langpack-lg-2.39-22.0.1.el10.x86_64.rpm\n",
      "glibc-langpack-li-2.39-22.0.1.el10.x86_64.rpm\n",
      "glibc-langpack-lij-2.39-22.0.1.el10.x86_64.rpm\n",
      "glibc-langpack-ln-2.39-22.0.1.el10.x86_64.rpm\n",
      "glibc-langpack-lo-2.39-22.0.1.el10.x86_64.rpm\n",
      "glibc-langpack-lt-2.39-22.0.1.el10.x86_64.rpm\n",
      "glibc-langpack-lv-2.39-22.0.1.el10.x86_64.rpm\n",
      "glibc-langpack-lzh-2.39-22.0.1.el10.x86_64.rpm\n",
      "glibc-langpack-mag-2.39-22.0.1.el10.x86_64.rpm\n",
      "glibc-langpack-mai-2.39-22.0.1.el10.x86_64.rpm\n",
      "glibc-langpack-mfe-2.39-22.0.1.el10.x86_64.rpm\n",
      "glibc-langpack-mg-2.39-22.0.1.el10.x86_64.rpm\n",
      "glibc-langpack-mhr-2.39-22.0.1.el10.x86_64.rpm\n",
      "glibc-langpack-mi-2.39-22.0.1.el10.x86_64.rpm\n",
      "glibc-langpack-miq-2.39-22.0.1.el10.x86_64.rpm\n",
      "glibc-langpack-mjw-2.39-22.0.1.el10.x86_64.rpm\n",
      "glibc-langpack-mk-2.39-22.0.1.el10.x86_64.rpm\n",
      "glibc-langpack-ml-2.39-22.0.1.el10.x86_64.rpm\n",
      "glibc-langpack-mn-2.39-22.0.1.el10.x86_64.rpm\n",
      "glibc-langpack-mni-2.39-22.0.1.el10.x86_64.rpm\n",
      "glibc-langpack-mnw-2.39-22.0.1.el10.x86_64.rpm\n",
      "glibc-langpack-mr-2.39-22.0.1.el10.x86_64.rpm\n",
      "glibc-langpack-ms-2.39-22.0.1.el10.x86_64.rpm\n",
      "glibc-langpack-mt-2.39-22.0.1.el10.x86_64.rpm\n",
      "glibc-langpack-my-2.39-22.0.1.el10.x86_64.rpm\n",
      "glibc-langpack-nan-2.39-22.0.1.el10.x86_64.rpm\n",
      "glibc-langpack-nb-2.39-22.0.1.el10.x86_64.rpm\n",
      "glibc-langpack-nds-2.39-22.0.1.el10.x86_64.rpm\n",
      "glibc-langpack-ne-2.39-22.0.1.el10.x86_64.rpm\n",
      "glibc-langpack-nhn-2.39-22.0.1.el10.x86_64.rpm\n",
      "glibc-langpack-niu-2.39-22.0.1.el10.x86_64.rpm\n",
      "glibc-langpack-nl-2.39-22.0.1.el10.x86_64.rpm\n",
      "glibc-langpack-nn-2.39-22.0.1.el10.x86_64.rpm\n",
      "glibc-langpack-nr-2.39-22.0.1.el10.x86_64.rpm\n",
      "glibc-langpack-nso-2.39-22.0.1.el10.x86_64.rpm\n",
      "glibc-langpack-oc-2.39-22.0.1.el10.x86_64.rpm\n",
      "glibc-langpack-om-2.39-22.0.1.el10.x86_64.rpm\n",
      "glibc-langpack-or-2.39-22.0.1.el10.x86_64.rpm\n",
      "glibc-langpack-os-2.39-22.0.1.el10.x86_64.rpm\n",
      "glibc-langpack-pa-2.39-22.0.1.el10.x86_64.rpm\n",
      "glibc-langpack-pap-2.39-22.0.1.el10.x86_64.rpm\n",
      "glibc-langpack-pl-2.39-22.0.1.el10.x86_64.rpm\n",
      "glibc-langpack-ps-2.39-22.0.1.el10.x86_64.rpm\n",
      "glibc-langpack-pt-2.39-22.0.1.el10.x86_64.rpm\n",
      "glibc-langpack-quz-2.39-22.0.1.el10.x86_64.rpm\n",
      "glibc-langpack-raj-2.39-22.0.1.el10.x86_64.rpm\n",
      "glibc-langpack-ro-2.39-22.0.1.el10.x86_64.rpm\n",
      "glibc-langpack-ru-2.39-22.0.1.el10.x86_64.rpm\n",
      "glibc-langpack-rw-2.39-22.0.1.el10.x86_64.rpm\n",
      "glibc-langpack-sa-2.39-22.0.1.el10.x86_64.rpm\n",
      "glibc-langpack-sah-2.39-22.0.1.el10.x86_64.rpm\n",
      "glibc-langpack-sat-2.39-22.0.1.el10.x86_64.rpm\n",
      "glibc-langpack-sc-2.39-22.0.1.el10.x86_64.rpm\n",
      "glibc-langpack-sd-2.39-22.0.1.el10.x86_64.rpm\n",
      "glibc-langpack-se-2.39-22.0.1.el10.x86_64.rpm\n",
      "glibc-langpack-sgs-2.39-22.0.1.el10.x86_64.rpm\n",
      "glibc-langpack-shn-2.39-22.0.1.el10.x86_64.rpm\n",
      "glibc-langpack-shs-2.39-22.0.1.el10.x86_64.rpm\n",
      "glibc-langpack-si-2.39-22.0.1.el10.x86_64.rpm\n",
      "glibc-langpack-sid-2.39-22.0.1.el10.x86_64.rpm\n",
      "glibc-langpack-sk-2.39-22.0.1.el10.x86_64.rpm\n",
      "glibc-langpack-sl-2.39-22.0.1.el10.x86_64.rpm\n",
      "glibc-langpack-sm-2.39-22.0.1.el10.x86_64.rpm\n",
      "glibc-langpack-so-2.39-22.0.1.el10.x86_64.rpm\n",
      "glibc-langpack-sq-2.39-22.0.1.el10.x86_64.rpm\n",
      "glibc-langpack-sr-2.39-22.0.1.el10.x86_64.rpm\n",
      "glibc-langpack-ss-2.39-22.0.1.el10.x86_64.rpm\n",
      "glibc-langpack-st-2.39-22.0.1.el10.x86_64.rpm\n",
      "glibc-langpack-sv-2.39-22.0.1.el10.x86_64.rpm\n",
      "glibc-langpack-sw-2.39-22.0.1.el10.x86_64.rpm\n",
      "glibc-langpack-szl-2.39-22.0.1.el10.x86_64.rpm\n",
      "glibc-langpack-ta-2.39-22.0.1.el10.x86_64.rpm\n",
      "glibc-langpack-tcy-2.39-22.0.1.el10.x86_64.rpm\n",
      "glibc-langpack-te-2.39-22.0.1.el10.x86_64.rpm\n",
      "glibc-langpack-tg-2.39-22.0.1.el10.x86_64.rpm\n",
      "glibc-langpack-th-2.39-22.0.1.el10.x86_64.rpm\n",
      "glibc-langpack-the-2.39-22.0.1.el10.x86_64.rpm\n",
      "glibc-langpack-ti-2.39-22.0.1.el10.x86_64.rpm\n",
      "glibc-langpack-tig-2.39-22.0.1.el10.x86_64.rpm\n",
      "glibc-langpack-tk-2.39-22.0.1.el10.x86_64.rpm\n",
      "glibc-langpack-tl-2.39-22.0.1.el10.x86_64.rpm\n",
      "glibc-langpack-tn-2.39-22.0.1.el10.x86_64.rpm\n",
      "glibc-langpack-to-2.39-22.0.1.el10.x86_64.rpm\n",
      "glibc-langpack-tpi-2.39-22.0.1.el10.x86_64.rpm\n",
      "glibc-langpack-tr-2.39-22.0.1.el10.x86_64.rpm\n",
      "glibc-langpack-ts-2.39-22.0.1.el10.x86_64.rpm\n",
      "glibc-langpack-tt-2.39-22.0.1.el10.x86_64.rpm\n",
      "glibc-langpack-ug-2.39-22.0.1.el10.x86_64.rpm\n",
      "glibc-langpack-uk-2.39-22.0.1.el10.x86_64.rpm\n",
      "glibc-langpack-unm-2.39-22.0.1.el10.x86_64.rpm\n",
      "glibc-langpack-ur-2.39-22.0.1.el10.x86_64.rpm\n",
      "glibc-langpack-uz-2.39-22.0.1.el10.x86_64.rpm\n",
      "glibc-langpack-ve-2.39-22.0.1.el10.x86_64.rpm\n",
      "glibc-langpack-vi-2.39-22.0.1.el10.x86_64.rpm\n",
      "glibc-langpack-wa-2.39-22.0.1.el10.x86_64.rpm\n",
      "glibc-langpack-wae-2.39-22.0.1.el10.x86_64.rpm\n",
      "glibc-langpack-wal-2.39-22.0.1.el10.x86_64.rpm\n",
      "glibc-langpack-wo-2.39-22.0.1.el10.x86_64.rpm\n",
      "glibc-langpack-xh-2.39-22.0.1.el10.x86_64.rpm\n",
      "glibc-langpack-yi-2.39-22.0.1.el10.x86_64.rpm\n",
      "glibc-langpack-yo-2.39-22.0.1.el10.x86_64.rpm\n",
      "glibc-langpack-yue-2.39-22.0.1.el10.x86_64.rpm\n",
      "glibc-langpack-yuw-2.39-22.0.1.el10.x86_64.rpm\n",
      "glibc-langpack-zh-2.39-22.0.1.el10.x86_64.rpm\n",
      "glibc-langpack-zu-2.39-22.0.1.el10.x86_64.rpm\n",
      "glibc-minimal-langpack-2.39-22.0.1.el10.x86_64.rpm\n",
      "gmp-6.2.1-9.el10.x86_64.rpm\n",
      "gnupg2-2.4.5-1.el10.x86_64.rpm\n",
      "gnutls-3.8.7-3.el10.x86_64.rpm\n",
      "gobject-introspection-1.79.1-5.el10.x86_64.rpm\n",
      "google-noto-fonts-common-20240401-4.el10.noarch.rpm\n",
      "google-noto-sans-mono-vf-fonts-20240401-4.el10.noarch.rpm\n",
      "google-noto-sans-vf-fonts-20240401-4.el10.noarch.rpm\n",
      "google-noto-serif-vf-fonts-20240401-4.el10.noarch.rpm\n",
      "gpgme-1.23.2-5.el10.x86_64.rpm\n",
      "graphite2-1.3.14-16.el10.x86_64.rpm\n",
      "grep-3.11-9.el10.x86_64.rpm\n",
      "groff-base-1.23.0-9.el10.x86_64.rpm\n",
      "grub2-common-2.06-127.0.3.el10.noarch.rpm\n",
      "grub2-efi-aa64-modules-2.06-127.0.3.el10.noarch.rpm\n",
      "grub2-efi-x64-2.06-127.0.3.el10.x86_64.rpm\n",
      "grub2-efi-x64-cdboot-2.06-127.0.3.el10.x86_64.rpm\n",
      "grub2-efi-x64-modules-2.06-127.0.3.el10.noarch.rpm\n",
      "grub2-pc-2.06-127.0.3.el10.x86_64.rpm\n",
      "grub2-pc-modules-2.06-127.0.3.el10.noarch.rpm\n",
      "grub2-tools-2.06-127.0.3.el10.x86_64.rpm\n",
      "grub2-tools-efi-2.06-127.0.3.el10.x86_64.rpm\n",
      "grub2-tools-extra-2.06-127.0.3.el10.x86_64.rpm\n",
      "grub2-tools-minimal-2.06-127.0.3.el10.x86_64.rpm\n",
      "grubby-8.40-76.0.1.el10.x86_64.rpm\n",
      "gsettings-desktop-schemas-47~alpha-1.el10.x86_64.rpm\n",
      "gssproxy-0.9.2-7.el10.x86_64.rpm\n",
      "gzip-1.13-2.el10.x86_64.rpm\n",
      "harfbuzz-8.4.0-4.el10.x86_64.rpm\n",
      "hdparm-9.65-5.el10.x86_64.rpm\n",
      "hostname-3.23-13.el10.x86_64.rpm\n",
      "hwdata-0.379-10.1.el10.noarch.rpm\n",
      "hwloc-2.11.1-2.el10.x86_64.rpm\n",
      "hwloc-libs-2.11.1-2.el10.x86_64.rpm\n",
      "ibacm-51.0-2.el10.x86_64.rpm\n",
      "ima-evm-utils-1.5-5.el10.x86_64.rpm\n",
      "info-7.1-4.el10.x86_64.rpm\n",
      "inih-58-2.el10.x86_64.rpm\n",
      "iniparser-4.1-17.el10.x86_64.rpm\n",
      "initscripts-10.25-1.0.1.el10.x86_64.rpm\n",
      "initscripts-rename-device-10.25-1.0.1.el10.x86_64.rpm\n",
      "initscripts-service-10.25-1.0.1.el10.noarch.rpm\n",
      "integritysetup-2.7.3-2.el10.x86_64.rpm\n",
      "intel-cmt-cat-23.11-5.el10.x86_64.rpm\n",
      "iotop-c-1.26-2.el10.x86_64.rpm\n",
      "ipcalc-1.0.3-11.el10.x86_64.rpm\n",
      "iproute-6.7.0-4.el10.x86_64.rpm\n",
      "iproute-tc-6.7.0-4.el10.x86_64.rpm\n",
      "ipset-7.21-3.el10.x86_64.rpm\n",
      "ipset-libs-7.21-3.el10.x86_64.rpm\n",
      "iptables-libs-1.8.10-8.el10.x86_64.rpm\n",
      "iptables-nft-1.8.10-8.el10.x86_64.rpm\n",
      "iptables-utils-1.8.10-8.el10.x86_64.rpm\n",
      "iptraf-ng-1.2.1-12.el10.x86_64.rpm\n",
      "iputils-20240117-6.el10.x86_64.rpm\n",
      "irqbalance-1.9.4-2.el10.x86_64.rpm\n",
      "iscsi-initiator-utils-6.2.1.9-21.gita65a472.0.1.el10.x86_64.rpm\n",
      "iscsi-initiator-utils-iscsiuio-6.2.1.9-21.gita65a472.0.1.el10.x86_64.rpm\n",
      "isns-utils-0.101-10.el10.x86_64.rpm\n",
      "isns-utils-libs-0.101-10.el10.x86_64.rpm\n",
      "iw-6.9-2.el10.x86_64.rpm\n",
      "iwl100-firmware-39.31.5.1-999.36.el10.noarch.rpm\n",
      "iwl1000-firmware-39.31.5.1-999.36.el10.noarch.rpm\n",
      "iwl105-firmware-18.168.6.1-999.36.el10.noarch.rpm\n",
      "iwl135-firmware-18.168.6.1-999.36.el10.noarch.rpm\n",
      "iwl2000-firmware-18.168.6.1-999.36.el10.noarch.rpm\n",
      "iwl2030-firmware-18.168.6.1-999.36.el10.noarch.rpm\n",
      "iwl3160-firmware-25.30.13.0-999.36.el10.noarch.rpm\n",
      "iwl3945-firmware-15.32.2.9-999.36.el10.noarch.rpm\n",
      "iwl4965-firmware-228.61.2.24-999.36.el10.noarch.rpm\n",
      "iwl5000-firmware-8.83.5.1_1-999.36.el10.noarch.rpm\n",
      "iwl5150-firmware-8.24.2.2-999.36.el10.noarch.rpm\n",
      "iwl6000-firmware-9.221.4.1-999.36.el10.noarch.rpm\n",
      "iwl6000g2a-firmware-18.168.6.1-999.36.el10.noarch.rpm\n",
      "iwl6000g2b-firmware-18.168.6.1-999.36.el10.noarch.rpm\n",
      "iwl6050-firmware-41.28.5.1-999.36.el10.noarch.rpm\n",
      "iwl7260-firmware-25.30.13.0-999.36.el10.noarch.rpm\n",
      "iwlax2xx-firmware-20241213-999.36.el10.noarch.rpm\n",
      "iwpmd-51.0-2.el10.x86_64.rpm\n",
      "jansson-2.14-2.el10.x86_64.rpm\n",
      "jitterentropy-3.5.0-4.el10.x86_64.rpm\n",
      "jq-1.7.1-5.el10.x86_64.rpm\n",
      "json-c-0.17-4.el10.x86_64.rpm\n",
      "json-glib-1.8.0-4.el10.x86_64.rpm\n",
      "kbd-2.6.4-5.el10.x86_64.rpm\n",
      "kbd-legacy-2.6.4-5.el10.noarch.rpm\n",
      "kbd-misc-2.6.4-5.el10.noarch.rpm\n",
      "kdump-utils-1.0.43-1.el10.x86_64.rpm\n",
      "kea-2.6.1-4.el10.x86_64.rpm\n",
      "kea-libs-2.6.1-4.el10.x86_64.rpm\n",
      "kernel-6.11.0-0.rc5.23.el10.x86_64.rpm\n",
      "kernel-abi-stablelists-6.11.0-0.rc5.23.el10.noarch.rpm\n",
      "kernel-core-6.11.0-0.rc5.23.el10.x86_64.rpm\n",
      "kernel-debug-6.11.0-0.rc5.23.el10.x86_64.rpm\n",
      "kernel-debug-core-6.11.0-0.rc5.23.el10.x86_64.rpm\n",
      "kernel-debug-modules-6.11.0-0.rc5.23.el10.x86_64.rpm\n",
      "kernel-debug-modules-core-6.11.0-0.rc5.23.el10.x86_64.rpm\n",
      "kernel-debug-modules-extra-6.11.0-0.rc5.23.el10.x86_64.rpm\n",
      "kernel-debug-uki-virt-6.11.0-0.rc5.23.el10.x86_64.rpm\n",
      "kernel-modules-6.11.0-0.rc5.23.el10.x86_64.rpm\n",
      "kernel-modules-core-6.11.0-0.rc5.23.el10.x86_64.rpm\n",
      "kernel-modules-extra-6.11.0-0.rc5.23.el10.x86_64.rpm\n",
      "kernel-tools-6.11.0-0.rc5.23.el10.x86_64.rpm\n",
      "kernel-tools-libs-6.11.0-0.rc5.23.el10.x86_64.rpm\n",
      "kernel-uki-virt-6.11.0-0.rc5.23.el10.x86_64.rpm\n",
      "kexec-tools-2.0.29-1.0.1.el10.x86_64.rpm\n",
      "keyutils-1.6.3-4.el10.x86_64.rpm\n",
      "keyutils-libs-1.6.3-4.el10.x86_64.rpm\n",
      "kmod-31-8.0.1.el10.x86_64.rpm\n",
      "kmod-libs-31-8.0.1.el10.x86_64.rpm\n",
      "kpartx-0.9.9-1.el10.x86_64.rpm\n",
      "krb5-libs-1.21.3-2.0.1.el10.x86_64.rpm\n",
      "krb5-pkinit-1.21.3-2.0.1.el10.x86_64.rpm\n",
      "krb5-server-1.21.3-2.0.1.el10.x86_64.rpm\n",
      "krb5-server-ldap-1.21.3-2.0.1.el10.x86_64.rpm\n",
      "krb5-workstation-1.21.3-2.0.1.el10.x86_64.rpm\n",
      "ktls-utils-0.11-1.el10.x86_64.rpm\n",
      "ldb-tools-2.9.1-5.el10.x86_64.rpm\n",
      "ledmon-1.0.0-3.el10.x86_64.rpm\n",
      "less-661-2.el10.x86_64.rpm\n",
      "libacl-2.3.2-3.el10.x86_64.rpm\n",
      "libaio-0.3.111-20.el10.x86_64.rpm\n",
      "libarchive-3.7.2-7.el10.x86_64.rpm\n",
      "libassuan-2.5.6-5.el10.x86_64.rpm\n",
      "libatomic-14.2.1-1.el10.x86_64.rpm\n",
      "libattr-2.5.2-4.el10.x86_64.rpm\n",
      "libbabeltrace-1.5.11-8.el10.x86_64.rpm\n",
      "libbasicobjects-0.1.1-57.el10.x86_64.rpm\n",
      "libblkid-2.40.2-4.el10.x86_64.rpm\n",
      "libbpf-1.5.0-2.el10.x86_64.rpm\n",
      "libbrotli-1.1.0-4.el10.x86_64.rpm\n",
      "libcap-2.69-6.el10.x86_64.rpm\n",
      "libcap-ng-0.8.4-5.el10.x86_64.rpm\n",
      "libcap-ng-utils-0.8.4-5.el10.x86_64.rpm\n",
      "libcbor-0.11.0-2.el10.x86_64.rpm\n",
      "libcollection-0.7.0-57.el10.x86_64.rpm\n",
      "libcom_err-1.47.1-2.el10.x86_64.rpm\n",
      "libcomps-0.1.21-2.el10.x86_64.rpm\n",
      "libconfig-1.7.3-9.el10.x86_64.rpm\n",
      "libcpuid-0.6.5-4.el10.x86_64.rpm\n",
      "libcurl-8.9.1-4.el10.x86_64.rpm\n",
      "libcurl-minimal-8.9.1-4.el10.x86_64.rpm\n",
      "libdaemon-0.14-30.el10.x86_64.rpm\n",
      "libdhash-0.5.0-57.el10.x86_64.rpm\n",
      "libdnf-0.73.1-5.0.1.el10.x86_64.rpm\n",
      "libeconf-0.6.2-3.el10.x86_64.rpm\n",
      "libedit-3.1-51.20230828cvs.el10.x86_64.rpm\n",
      "libertas-sd8686-firmware-20241213-999.36.git2cdfe09e.el10.noarch.rpm\n",
      "libertas-sd8787-firmware-20241213-999.36.git2cdfe09e.el10.noarch.rpm\n",
      "libertas-usb8388-firmware-20241213-999.36.git2cdfe09e.el10.noarch.rpm\n",
      "libertas-usb8388-olpc-firmware-20241213-999.36.git2cdfe09e.el10.noarch.rpm\n",
      "libev-4.33-12.el10.x86_64.rpm\n",
      "libevent-2.1.12-15.el10.x86_64.rpm\n",
      "libfdisk-2.40.2-4.el10.x86_64.rpm\n",
      "libffi-3.4.4-8.el10.x86_64.rpm\n",
      "libfido2-1.14.0-5.el10.x86_64.rpm\n",
      "libgcab1-1.6-6.el10.x86_64.rpm\n",
      "libgcc-14.2.1-1.el10.x86_64.rpm\n",
      "libgcrypt-1.11.0-3.el10.x86_64.rpm\n",
      "libgfortran-14.2.1-1.el10.x86_64.rpm\n",
      "libgomp-14.2.1-1.el10.x86_64.rpm\n",
      "libgpg-error-1.50-1.el10.x86_64.rpm\n",
      "libgudev-238-6.el10.x86_64.rpm\n",
      "libgusb-0.4.9-3.el10.x86_64.rpm\n",
      "libibumad-51.0-2.el10.x86_64.rpm\n",
      "libibverbs-51.0-2.el10.x86_64.rpm\n",
      "libibverbs-utils-51.0-2.el10.x86_64.rpm\n",
      "libicu-74.2-2.el10.x86_64.rpm\n",
      "libidn2-2.3.7-2.el10.x86_64.rpm\n",
      "libini_config-1.3.1-57.el10.x86_64.rpm\n",
      "libipa_hbac-2.10.0~beta2-3.0.1.el10.x86_64.rpm\n",
      "libjcat-0.2.1-3.el10.x86_64.rpm\n",
      "libkadm5-1.21.3-2.0.1.el10.x86_64.rpm\n",
      "libkcapi-1.5.0-2.0.1.el10.x86_64.rpm\n",
      "libkcapi-hasher-1.5.0-2.0.1.el10.x86_64.rpm\n",
      "libkcapi-hmaccalc-1.5.0-2.0.1.el10.x86_64.rpm\n",
      "libksba-1.6.7-1.el10.x86_64.rpm\n",
      "libldb-2.9.1-5.el10.x86_64.rpm\n",
      "libmbim-1.30.0-5.el10.x86_64.rpm\n",
      "libmbim-utils-1.30.0-5.el10.x86_64.rpm\n",
      "libmnl-1.0.5-6.el10.x86_64.rpm\n",
      "libmodulemd-2.15.0-11.el10.x86_64.rpm\n",
      "libmount-2.40.2-4.el10.x86_64.rpm\n",
      "libndp-1.9-1.el10.x86_64.rpm\n",
      "libnetapi-4.20.2-104.0.1.el10.x86_64.rpm\n",
      "libnetfilter_conntrack-1.0.9-11.el10.x86_64.rpm\n",
      "libnfnetlink-1.0.1-28.el10.x86_64.rpm\n",
      "libnfsidmap-2.7.1-1.0.1.el10.x86_64.rpm\n",
      "libnftnl-1.2.6-6.el10.x86_64.rpm\n",
      "libnghttp2-1.62.1-1.el10.x86_64.rpm\n",
      "libnl3-3.9.0-4.el10.x86_64.rpm\n",
      "libnl3-cli-3.9.0-4.el10.x86_64.rpm\n",
      "libnsl-2.39-22.0.1.el10.x86_64.rpm\n",
      "libnvme-1.9-4.el10.x86_64.rpm\n",
      "libpath_utils-0.2.1-57.el10.x86_64.rpm\n",
      "libpcap-1.10.4-6.el10.x86_64.rpm\n",
      "libpciaccess-0.16-15.el10.x86_64.rpm\n",
      "libpeas1-1.36.0-7.el10.x86_64.rpm\n",
      "libpipeline-1.5.7-6.el10.x86_64.rpm\n",
      "libpkgconf-2.1.0-2.el10.x86_64.rpm\n",
      "libpng-1.6.40-7.el10.x86_64.rpm\n",
      "libpq-16.1-7.el10.x86_64.rpm\n",
      "libproxy-0.5.5-3.el10.x86_64.rpm\n",
      "libpsl-0.21.5-4.el10.x86_64.rpm\n",
      "libpwquality-1.4.5-11.el10.x86_64.rpm\n",
      "libqmi-1.34.0-7.el10.x86_64.rpm\n",
      "libqmi-utils-1.34.0-7.el10.x86_64.rpm\n",
      "libqrtr-glib-1.2.2-6.el10.x86_64.rpm\n",
      "libquadmath-14.2.1-1.el10.x86_64.rpm\n",
      "librdmacm-51.0-2.el10.x86_64.rpm\n",
      "librdmacm-utils-51.0-2.el10.x86_64.rpm\n",
      "libref_array-0.1.5-57.el10.x86_64.rpm\n",
      "librepo-1.18.0-2.el10.x86_64.rpm\n",
      "librhsm-0.0.3-15.el10.x86_64.rpm\n",
      "libseccomp-2.5.3-9.el10.x86_64.rpm\n",
      "libselinux-3.7-3.el10.x86_64.rpm\n",
      "libselinux-utils-3.7-3.el10.x86_64.rpm\n",
      "libsemanage-3.7-1.el10.x86_64.rpm\n",
      "libsepol-3.7-2.el10.x86_64.rpm\n",
      "libsmartcols-2.40.2-4.el10.x86_64.rpm\n",
      "libsmbclient-4.20.2-104.0.1.el10.x86_64.rpm\n",
      "libsolv-0.7.29-7.el10.x86_64.rpm\n",
      "libss-1.47.1-2.el10.x86_64.rpm\n",
      "libssh-0.10.6-8.el10.x86_64.rpm\n",
      "libssh-config-0.10.6-8.el10.noarch.rpm\n",
      "libsss_autofs-2.10.0~beta2-3.0.1.el10.x86_64.rpm\n",
      "libsss_certmap-2.10.0~beta2-3.0.1.el10.x86_64.rpm\n",
      "libsss_idmap-2.10.0~beta2-3.0.1.el10.x86_64.rpm\n",
      "libsss_nss_idmap-2.10.0~beta2-3.0.1.el10.x86_64.rpm\n",
      "libsss_sudo-2.10.0~beta2-3.0.1.el10.x86_64.rpm\n",
      "libstdc++-14.2.1-1.el10.x86_64.rpm\n",
      "libsysfs-2.1.1-13.el10.x86_64.rpm\n",
      "libtalloc-2.4.2-2.el10.x86_64.rpm\n",
      "libtasn1-4.19.0-7.el10.x86_64.rpm\n",
      "libtdb-1.4.10-2.el10.x86_64.rpm\n",
      "libtevent-0.16.1-2.el10.x86_64.rpm\n",
      "libtirpc-1.3.5-0.el10.x86_64.rpm\n",
      "libtracecmd-1.5.1-4.el10.x86_64.rpm\n",
      "libtraceevent-1.8.2-5.el10.x86_64.rpm\n",
      "libtracefs-1.8.0-5.el10.x86_64.rpm\n",
      "libunistring-1.1-9.el10.x86_64.rpm\n",
      "liburing-2.5-4.el10.x86_64.rpm\n",
      "libusb1-1.0.27-3.el10.x86_64.rpm\n",
      "libuser-0.64-8.el10.x86_64.rpm\n",
      "libutempter-1.2.1-14.el10.x86_64.rpm\n",
      "libuuid-2.40.2-4.el10.x86_64.rpm\n",
      "libverto-0.3.2-9.el10.x86_64.rpm\n",
      "libverto-libev-0.3.2-9.el10.x86_64.rpm\n",
      "libwbclient-4.20.2-104.0.1.el10.x86_64.rpm\n",
      "libxcrypt-4.4.36-9.el10.x86_64.rpm\n",
      "libxml2-2.12.5-2.el10.x86_64.rpm\n",
      "libxmlb-0.3.15-6.el10.x86_64.rpm\n",
      "libyaml-0.2.5-15.el10.x86_64.rpm\n",
      "libzstd-1.5.5-8.el10.x86_64.rpm\n",
      "linux-firmware-20241213-999.36.git2cdfe09e.el10.noarch.rpm\n",
      "linux-firmware-core-20241213-999.36.git2cdfe09e.el10.noarch.rpm\n",
      "linux-firmware-whence-20241213-999.36.git2cdfe09e.el10.noarch.rpm\n",
      "liquidio-firmware-20241213-999.36.git2cdfe09e.el10.noarch.rpm\n",
      "lksctp-tools-1.0.19-7.el10.x86_64.rpm\n",
      "lldpad-1.1.0-11.git85e5583.el10.x86_64.rpm\n",
      "lmdb-libs-0.9.32-2.el10.x86_64.rpm\n",
      "lockdev-1.0.4-0.45.20111007git.el10.x86_64.rpm\n",
      "log4cplus-2.1.1-7.el10.x86_64.rpm\n",
      "logrotate-3.22.0-1.el10.x86_64.rpm\n",
      "lrzsz-0.12.20-65.el10.x86_64.rpm\n",
      "lshw-B.02.20-4.el10.x86_64.rpm\n",
      "lsof-4.98.0-5.el10.x86_64.rpm\n",
      "lsscsi-0.32-12.el10.x86_64.rpm\n",
      "lua-libs-5.4.6-6.el10.x86_64.rpm\n",
      "lvm2-2.03.24-4.el10.x86_64.rpm\n",
      "lvm2-libs-2.03.24-4.el10.x86_64.rpm\n",
      "lz4-1.9.4-7.el10.x86_64.rpm\n",
      "lz4-libs-1.9.4-7.el10.x86_64.rpm\n",
      "lzo-2.10-13.el10.x86_64.rpm\n",
      "lzop-1.04-15.el10.x86_64.rpm\n",
      "mailcap-2.1.54-7.el10.noarch.rpm\n",
      "make-4.4.1-7.el10.x86_64.rpm\n",
      "makedumpfile-1.7.6-1.0.1.el10.x86_64.rpm\n",
      "man-db-2.12.0-7.el10.x86_64.rpm\n",
      "man-pages-6.06-2.el10.noarch.rpm\n",
      "mariadb-connector-c-3.4.1-1.el10.x86_64.rpm\n",
      "mariadb-connector-c-config-3.4.1-1.el10.noarch.rpm\n",
      "mcelog-201-1.0.1.el10.x86_64.rpm\n",
      "mcstrans-3.7-1.el10.x86_64.rpm\n",
      "mdadm-4.3-3.0.1.el10.x86_64.rpm\n",
      "microcode_ctl-20240910-1.el10.noarch.rpm\n",
      "microdnf-3.10.0-6.el10.x86_64.rpm\n",
      "minicom-2.9-3.el10.x86_64.rpm\n",
      "mksh-59c-11.el10.x86_64.rpm\n",
      "mokutil-0.6.0-10.el10.x86_64.rpm\n",
      "mpdecimal-2.5.1-11.el10.x86_64.rpm\n",
      "mpfr-4.2.1-4.el10.x86_64.rpm\n",
      "mtools-4.0.43-6.el10.x86_64.rpm\n",
      "mtr-0.95-9.el10.x86_64.rpm\n",
      "nano-8.1-1.el10.x86_64.rpm\n",
      "ncurses-6.4-13.20240127.el10.x86_64.rpm\n",
      "ncurses-base-6.4-13.20240127.el10.noarch.rpm\n",
      "ncurses-libs-6.4-13.20240127.el10.x86_64.rpm\n",
      "ndctl-78-4.el10.x86_64.rpm\n",
      "ndctl-libs-78-4.el10.x86_64.rpm\n",
      "net-tools-2.0-0.72.20160912git.el10.x86_64.rpm\n",
      "netconsole-service-10.25-1.0.1.el10.noarch.rpm\n",
      "netlabel_tools-0.30.0-19.el10.x86_64.rpm\n",
      "netronome-firmware-20241213-999.36.git2cdfe09e.el10.noarch.rpm\n",
      "nettle-3.10-1.el10.x86_64.rpm\n",
      "newt-0.52.24-4.el10.x86_64.rpm\n",
      "nfs-utils-2.7.1-1.0.1.el10.x86_64.rpm\n",
      "nfs4-acl-tools-0.4.2-6.el10.x86_64.rpm\n",
      "nftables-1.0.9-4.el10.x86_64.rpm\n",
      "npth-1.6-19.el10.x86_64.rpm\n",
      "numactl-2.0.16-6.el10.x86_64.rpm\n",
      "numactl-libs-2.0.16-6.el10.x86_64.rpm\n",
      "numad-0.5-45.20150602git.el10.x86_64.rpm\n",
      "numatop-2.3-10.el10.x86_64.rpm\n",
      "nvme-cli-2.9.1-4.el10.x86_64.rpm\n",
      "nvmetcli-0.7-13.0.1.el10.noarch.rpm\n",
      "ocl-icd-2.3.2-6.el10.x86_64.rpm\n",
      "oniguruma-6.9.9-6.el10.x86_64.rpm\n",
      "opencryptoki-3.23.0-5.el10.x86_64.rpm\n",
      "opencryptoki-icsftok-3.23.0-5.el10.x86_64.rpm\n",
      "opencryptoki-libs-3.23.0-5.el10.x86_64.rpm\n",
      "opencryptoki-swtok-3.23.0-5.el10.x86_64.rpm\n",
      "openldap-2.6.7-5.el10.x86_64.rpm\n",
      "openldap-clients-2.6.7-5.el10.x86_64.rpm\n",
      "openldap-compat-2.6.7-5.el10.x86_64.rpm\n",
      "opensc-0.25.1-4.el10.x86_64.rpm\n",
      "opensm-3.3.24-10.el10.x86_64.rpm\n",
      "opensm-libs-3.3.24-10.el10.x86_64.rpm\n",
      "openssh-9.8p1-6.el10.x86_64.rpm\n",
      "openssh-clients-9.8p1-6.el10.x86_64.rpm\n",
      "openssh-keycat-9.8p1-6.el10.x86_64.rpm\n",
      "openssh-server-9.8p1-6.el10.x86_64.rpm\n",
      "openssl-3.2.2-12.0.2.el10.x86_64.rpm\n",
      "openssl-fips-provider-3.0.7-6.0.1.el10.x86_64.rpm\n",
      "openssl-fips-provider-so-3.0.7-6.0.1.el10.x86_64.rpm\n",
      "openssl-libs-3.2.2-12.0.2.el10.x86_64.rpm\n",
      "oracle-backgrounds-100.1-1.0.2.el10.noarch.rpm\n",
      "oracle-indexhtml-10-1.0.2.el10.noarch.rpm\n",
      "oracle-logos-100.1-1.0.2.el10.x86_64.rpm\n",
      "oracle-logos-httpd-100.1-1.0.2.el10.noarch.rpm\n",
      "oracle-logos-ipa-100.1-1.0.2.el10.noarch.rpm\n",
      "oraclelinux-release-10.0-1.0.7.el10.x86_64.rpm\n",
      "oraclelinux-release-el10-1.0-7.el10.x86_64.rpm\n",
      "os-prober-1.81-7.0.1.el10.x86_64.rpm\n",
      "p11-kit-0.25.5-4.el10.x86_64.rpm\n",
      "p11-kit-trust-0.25.5-4.el10.x86_64.rpm\n",
      "pam-1.6.1-4.el10.x86_64.rpm\n",
      "pam-libs-1.6.1-4.el10.x86_64.rpm\n",
      "parted-3.6-5.el10.x86_64.rpm\n",
      "pciutils-3.13.0-1.el10.x86_64.rpm\n",
      "pciutils-libs-3.13.0-1.el10.x86_64.rpm\n",
      "pcre2-10.44-1.0.1.el10.2.x86_64.rpm\n",
      "pcre2-syntax-10.44-1.0.1.el10.2.noarch.rpm\n",
      "pcsc-lite-2.2.3-1.el10.x86_64.rpm\n",
      "pcsc-lite-ccid-1.6.0-1.el10.x86_64.rpm\n",
      "pcsc-lite-libs-2.2.3-1.el10.x86_64.rpm\n",
      "perftest-23.07.0.0.27-5.el10.x86_64.rpm\n",
      "perl-AutoLoader-5.74-510.el10.noarch.rpm\n",
      "perl-B-1.89-510.el10.x86_64.rpm\n",
      "perl-Carp-1.54-510.el10.noarch.rpm\n",
      "perl-Class-Struct-0.68-510.el10.noarch.rpm\n",
      "perl-Data-Dumper-2.189-511.el10.x86_64.rpm\n",
      "perl-Digest-1.20-510.el10.noarch.rpm\n",
      "perl-Digest-MD5-2.59-5.el10.x86_64.rpm\n",
      "perl-DynaLoader-1.56-510.el10.x86_64.rpm\n",
      "perl-Encode-3.21-510.el10.x86_64.rpm\n",
      "perl-Errno-1.38-510.el10.x86_64.rpm\n",
      "perl-Exporter-5.78-510.el10.noarch.rpm\n",
      "perl-Fcntl-1.18-510.el10.x86_64.rpm\n",
      "perl-File-Basename-2.86-510.el10.noarch.rpm\n",
      "perl-File-Path-2.18-510.el10.noarch.rpm\n",
      "perl-File-Temp-0.231.100-511.el10.noarch.rpm\n",
      "perl-File-stat-1.14-510.el10.noarch.rpm\n",
      "perl-FileHandle-2.05-510.el10.noarch.rpm\n",
      "perl-Getopt-Long-2.58-2.el10.noarch.rpm\n",
      "perl-Getopt-Std-1.14-510.el10.noarch.rpm\n",
      "perl-HTTP-Tiny-0.088-511.el10.noarch.rpm\n",
      "perl-IO-1.55-510.el10.x86_64.rpm\n",
      "perl-IO-Socket-IP-0.42-511.el10.noarch.rpm\n",
      "perl-IO-Socket-SSL-2.085-2.el10.noarch.rpm\n",
      "perl-IPC-Open3-1.22-510.el10.noarch.rpm\n",
      "perl-MIME-Base64-3.16-510.el10.x86_64.rpm\n",
      "perl-Mozilla-CA-20231213-4.el10.noarch.rpm\n",
      "perl-Net-SSLeay-1.94-6.el10.x86_64.rpm\n",
      "perl-POSIX-2.20-510.el10.x86_64.rpm\n",
      "perl-PathTools-3.91-510.el10.x86_64.rpm\n",
      "perl-Pod-Escapes-1.07-510.el10.noarch.rpm\n",
      "perl-Pod-Perldoc-3.28.01-511.el10.noarch.rpm\n",
      "perl-Pod-Simple-3.45-510.el10.noarch.rpm\n",
      "perl-Pod-Usage-2.03-510.el10.noarch.rpm\n",
      "perl-Scalar-List-Utils-1.63-510.el10.x86_64.rpm\n",
      "perl-SelectSaver-1.02-510.el10.noarch.rpm\n",
      "perl-Socket-2.038-510.el10.x86_64.rpm\n",
      "perl-Storable-3.32-510.el10.x86_64.rpm\n",
      "perl-Symbol-1.09-510.el10.noarch.rpm\n",
      "perl-Term-ANSIColor-5.01-511.el10.noarch.rpm\n",
      "perl-Term-Cap-1.18-510.el10.noarch.rpm\n",
      "perl-Text-ParseWords-3.31-510.el10.noarch.rpm\n",
      "perl-Text-Tabs+Wrap-2024.001-510.el10.noarch.rpm\n",
      "perl-Time-Local-1.350-510.el10.noarch.rpm\n",
      "perl-URI-5.27-2.el10.noarch.rpm\n",
      "perl-base-2.27-510.el10.noarch.rpm\n",
      "perl-constant-1.33-511.el10.noarch.rpm\n",
      "perl-if-0.61.000-510.el10.noarch.rpm\n",
      "perl-interpreter-5.40.0-510.el10.x86_64.rpm\n",
      "perl-libnet-3.15-510.el10.noarch.rpm\n",
      "perl-libs-5.40.0-510.el10.x86_64.rpm\n",
      "perl-locale-1.12-510.el10.noarch.rpm\n",
      "perl-mro-1.29-510.el10.x86_64.rpm\n",
      "perl-overload-1.37-510.el10.noarch.rpm\n",
      "perl-overloading-0.02-510.el10.noarch.rpm\n",
      "perl-parent-0.241-511.el10.noarch.rpm\n",
      "perl-podlators-5.01-510.el10.noarch.rpm\n",
      "perl-vars-1.05-510.el10.noarch.rpm\n",
      "pigz-2.8-7.el10.x86_64.rpm\n",
      "pkcs11-provider-0.5-5.el10.x86_64.rpm\n",
      "pkgconf-2.1.0-2.el10.x86_64.rpm\n",
      "pkgconf-m4-2.1.0-2.el10.noarch.rpm\n",
      "pkgconf-pkg-config-2.1.0-2.el10.x86_64.rpm\n",
      "plocate-1.1.22-5.el10.x86_64.rpm\n",
      "policycoreutils-3.7-2.el10.x86_64.rpm\n",
      "policycoreutils-newrole-3.7-2.el10.x86_64.rpm\n",
      "policycoreutils-restorecond-3.7-2.el10.x86_64.rpm\n",
      "polkit-125-2.0.1.el10.x86_64.rpm\n",
      "polkit-libs-125-2.0.1.el10.x86_64.rpm\n",
      "polkit-pkla-compat-0.1-29.el10.x86_64.rpm\n",
      "popt-1.19-7.el10.x86_64.rpm\n",
      "ppp-2.5.0-12.el10.x86_64.rpm\n",
      "prefixdevname-0.2.0-2.el10.x86_64.rpm\n",
      "procps-ng-4.0.4-4.el10.x86_64.rpm\n",
      "procps-ng-i18n-4.0.4-4.el10.noarch.rpm\n",
      "protobuf-c-1.5.0-5.el10.x86_64.rpm\n",
      "psacct-6.6.4-22.el10.x86_64.rpm\n",
      "psmisc-23.6-7.el10.x86_64.rpm\n",
      "publicsuffix-list-dafsa-20240107-4.el10.noarch.rpm\n",
      "python3-3.12.5-2.el10.x86_64.rpm\n",
      "python3-cffi-1.16.0-5.el10.x86_64.rpm\n",
      "python3-charset-normalizer-3.3.2-4.el10.noarch.rpm\n",
      "python3-configshell-1.1.30-7.0.1.el10.noarch.rpm\n",
      "python3-cryptography-43.0.0-2.el10.x86_64.rpm\n",
      "python3-dateutil-2.8.2-14.el10.noarch.rpm\n",
      "python3-dbus-1.3.2-7.el10.x86_64.rpm\n",
      "python3-decorator-5.1.1-11.el10.noarch.rpm\n",
      "python3-dnf-4.20.0-6.0.1.el10.noarch.rpm\n",
      "python3-dnf-plugin-post-transaction-actions-4.7.0-5.0.1.el10.noarch.rpm\n",
      "python3-dnf-plugin-pre-transaction-actions-4.7.0-5.0.1.el10.noarch.rpm\n",
      "python3-dnf-plugin-versionlock-4.7.0-5.0.1.el10.noarch.rpm\n",
      "python3-dnf-plugins-core-4.7.0-5.0.1.el10.noarch.rpm\n",
      "python3-dns-2.6.1-1.el10.noarch.rpm\n",
      "python3-firewall-2.2.1-1.0.1.el10.noarch.rpm\n",
      "python3-gobject-base-3.46.0-6.el10.x86_64.rpm\n",
      "python3-gobject-base-noarch-3.46.0-6.el10.noarch.rpm\n",
      "python3-gpg-1.23.2-5.el10.x86_64.rpm\n",
      "python3-hawkey-0.73.1-5.0.1.el10.x86_64.rpm\n",
      "python3-idna-3.7-2.el10.noarch.rpm\n",
      "python3-iniparse-0.5-9.el10.noarch.rpm\n",
      "python3-inotify-0.9.6-35.el10.noarch.rpm\n",
      "python3-kmod-0.9.2-5.el10.x86_64.rpm\n",
      "python3-ldb-2.9.1-5.el10.x86_64.rpm\n",
      "python3-libcomps-0.1.21-2.el10.x86_64.rpm\n",
      "python3-libdnf-0.73.1-5.0.1.el10.x86_64.rpm\n",
      "python3-libipa_hbac-2.10.0~beta2-3.0.1.el10.x86_64.rpm\n",
      "python3-librepo-1.18.0-2.el10.x86_64.rpm\n",
      "python3-libs-3.12.5-2.el10.x86_64.rpm\n",
      "python3-libsss_nss_idmap-2.10.0~beta2-3.0.1.el10.x86_64.rpm\n",
      "python3-libxml2-2.12.5-2.el10.x86_64.rpm\n",
      "python3-linux-procfs-0.7.3-6.el10.noarch.rpm\n",
      "python3-markdown-3.5.1-5.el10.noarch.rpm\n",
      "python3-nftables-1.0.9-4.el10.x86_64.rpm\n",
      "python3-packaging-23.2-5.el10.noarch.rpm\n",
      "python3-perf-6.11.0-0.rc5.23.el10.x86_64.rpm\n",
      "python3-pexpect-4.9.0-5.el10.noarch.rpm\n",
      "python3-pip-wheel-23.3.2-3.el10.noarch.rpm\n",
      "python3-ply-3.11-24.el10.noarch.rpm\n",
      "python3-ptyprocess-0.7.0-8.el10.noarch.rpm\n",
      "python3-pycparser-2.20-15.el10.noarch.rpm\n",
      "python3-pyparsing-3.1.1-5.el10.noarch.rpm\n",
      "python3-pyudev-0.24.1-9.el10.noarch.rpm\n",
      "python3-pyyaml-6.0.1-18.el10.x86_64.rpm\n",
      "python3-requests-2.32.3-1.el10.noarch.rpm\n",
      "python3-rpm-4.19.1.1-3.el10.x86_64.rpm\n",
      "python3-samba-4.20.2-104.0.1.el10.x86_64.rpm\n",
      "python3-samba-dc-4.20.2-104.0.1.el10.x86_64.rpm\n",
      "python3-setools-4.5.1-3.el10.x86_64.rpm\n",
      "python3-setuptools-69.0.3-5.el10.noarch.rpm\n",
      "python3-six-1.16.0-15.el10.noarch.rpm\n",
      "python3-sss-2.10.0~beta2-3.0.1.el10.x86_64.rpm\n",
      "python3-sss-murmur-2.10.0~beta2-3.0.1.el10.x86_64.rpm\n",
      "python3-sssdconfig-2.10.0~beta2-3.0.1.el10.noarch.rpm\n",
      "python3-systemd-235-10.el10.x86_64.rpm\n",
      "python3-talloc-2.4.2-2.el10.x86_64.rpm\n",
      "python3-tdb-1.4.10-2.el10.x86_64.rpm\n",
      "python3-tevent-0.16.1-2.el10.x86_64.rpm\n",
      "python3-typing-extensions-4.9.0-5.el10.noarch.rpm\n",
      "python3-urllib3-1.26.19-1.el10.noarch.rpm\n",
      "python3-urwid-2.5.3-3.el10.x86_64.rpm\n",
      "python3-wcwidth-0.2.6-4.el10.noarch.rpm\n",
      "quota-4.09-7.el10.x86_64.rpm\n",
      "quota-nls-4.09-7.el10.noarch.rpm\n",
      "rdma-core-51.0-2.el10.x86_64.rpm\n",
      "readline-8.2-9.el10.x86_64.rpm\n",
      "readonly-root-10.25-1.0.1.el10.noarch.rpm\n",
      "realmd-0.17.1-10.el10.x86_64.rpm\n",
      "redhat-mono-vf-fonts-4.0.3-12.el10.noarch.rpm\n",
      "redhat-release-10.0-14.4.0.1.el10.x86_64.rpm\n",
      "redhat-text-vf-fonts-4.0.3-12.el10.noarch.rpm\n",
      "restore-0.4-0.58.b47.el10.x86_64.rpm\n",
      "rmt-1.6-15.el10.x86_64.rpm\n",
      "rng-tools-6.17-3.el10.x86_64.rpm\n",
      "rootfiles-8.1-37.el10.noarch.rpm\n",
      "rpcbind-1.2.7-2.el10.x86_64.rpm\n",
      "rpm-4.19.1.1-3.el10.x86_64.rpm\n",
      "rpm-build-libs-4.19.1.1-3.el10.x86_64.rpm\n",
      "rpm-libs-4.19.1.1-3.el10.x86_64.rpm\n",
      "rpm-plugin-audit-4.19.1.1-3.el10.x86_64.rpm\n",
      "rpm-plugin-selinux-4.19.1.1-3.el10.x86_64.rpm\n",
      "rpm-sequoia-1.6.0-3.el10.x86_64.rpm\n",
      "rpm-sign-4.19.1.1-3.el10.x86_64.rpm\n",
      "rpm-sign-libs-4.19.1.1-3.el10.x86_64.rpm\n",
      "rsync-3.3.0-5.el10.x86_64.rpm\n",
      "samba-4.20.2-104.0.1.el10.x86_64.rpm\n",
      "samba-client-libs-4.20.2-104.0.1.el10.x86_64.rpm\n",
      "samba-common-4.20.2-104.0.1.el10.noarch.rpm\n",
      "samba-common-libs-4.20.2-104.0.1.el10.x86_64.rpm\n",
      "samba-common-tools-4.20.2-104.0.1.el10.x86_64.rpm\n",
      "samba-dc-libs-4.20.2-104.0.1.el10.x86_64.rpm\n",
      "samba-dcerpc-4.20.2-104.0.1.el10.x86_64.rpm\n",
      "samba-ldb-ldap-modules-4.20.2-104.0.1.el10.x86_64.rpm\n",
      "samba-libs-4.20.2-104.0.1.el10.x86_64.rpm\n",
      "samba-tools-4.20.2-104.0.1.el10.x86_64.rpm\n",
      "samba-usershares-4.20.2-104.0.1.el10.x86_64.rpm\n",
      "samba-winbind-4.20.2-104.0.1.el10.x86_64.rpm\n",
      "samba-winbind-modules-4.20.2-104.0.1.el10.x86_64.rpm\n",
      "sed-4.9-2.el10.x86_64.rpm\n",
      "selinux-policy-40.13.9-1.0.2.el10.noarch.rpm\n",
      "selinux-policy-doc-40.13.9-1.0.2.el10.noarch.rpm\n",
      "selinux-policy-mls-40.13.9-1.0.2.el10.noarch.rpm\n",
      "selinux-policy-sandbox-40.13.9-1.0.2.el10.noarch.rpm\n",
      "selinux-policy-targeted-40.13.9-1.0.2.el10.noarch.rpm\n",
      "setools-console-4.5.1-3.el10.x86_64.rpm\n",
      "setserial-2.17-62.el10.x86_64.rpm\n",
      "setup-2.14.5-3.el10.noarch.rpm\n",
      "sg3_utils-1.48-5.el10.x86_64.rpm\n",
      "sg3_utils-libs-1.48-5.el10.x86_64.rpm\n",
      "shadow-utils-4.15.0-3.el10.x86_64.rpm\n",
      "shadow-utils-subid-4.15.0-3.el10.x86_64.rpm\n",
      "shared-mime-info-2.3-7.el10.x86_64.rpm\n",
      "shim-x64-15.8-1.0.4.el10.x86_64.rpm\n",
      "slang-2.3.3-6.el10.x86_64.rpm\n",
      "smartmontools-7.4-6.el10.x86_64.rpm\n",
      "smartmontools-selinux-7.4-6.el10.noarch.rpm\n",
      "snappy-1.1.10-6.el10.x86_64.rpm\n",
      "sos-4.7.2-2.0.1.el10.noarch.rpm\n",
      "sqlite-libs-3.46.1-1.el10.x86_64.rpm\n",
      "squashfs-tools-4.6.1-5.el10.x86_64.rpm\n",
      "srp_daemon-51.0-2.el10.x86_64.rpm\n",
      "sssd-2.10.0~beta2-3.0.1.el10.x86_64.rpm\n",
      "sssd-ad-2.10.0~beta2-3.0.1.el10.x86_64.rpm\n",
      "sssd-client-2.10.0~beta2-3.0.1.el10.x86_64.rpm\n",
      "sssd-common-2.10.0~beta2-3.0.1.el10.x86_64.rpm\n",
      "sssd-common-pac-2.10.0~beta2-3.0.1.el10.x86_64.rpm\n",
      "sssd-dbus-2.10.0~beta2-3.0.1.el10.x86_64.rpm\n",
      "sssd-ipa-2.10.0~beta2-3.0.1.el10.x86_64.rpm\n",
      "sssd-kcm-2.10.0~beta2-3.0.1.el10.x86_64.rpm\n",
      "sssd-krb5-2.10.0~beta2-3.0.1.el10.x86_64.rpm\n",
      "sssd-krb5-common-2.10.0~beta2-3.0.1.el10.x86_64.rpm\n",
      "sssd-ldap-2.10.0~beta2-3.0.1.el10.x86_64.rpm\n",
      "sssd-nfs-idmap-2.10.0~beta2-3.0.1.el10.x86_64.rpm\n",
      "sssd-passkey-2.10.0~beta2-3.0.1.el10.x86_64.rpm\n",
      "sssd-proxy-2.10.0~beta2-3.0.1.el10.x86_64.rpm\n",
      "sssd-tools-2.10.0~beta2-3.0.1.el10.x86_64.rpm\n",
      "sssd-winbind-idmap-2.10.0~beta2-3.0.1.el10.x86_64.rpm\n",
      "strace-6.7-3.el10.x86_64.rpm\n",
      "stunnel-5.72-5.el10.x86_64.rpm\n",
      "sudo-1.9.15-7.p5.el10.x86_64.rpm\n",
      "symlinks-1.7-12.el10.x86_64.rpm\n",
      "syslinux-6.04-0.29.el10.x86_64.rpm\n",
      "syslinux-extlinux-6.04-0.29.el10.x86_64.rpm\n",
      "syslinux-extlinux-nonlinux-6.04-0.29.el10.noarch.rpm\n",
      "syslinux-nonlinux-6.04-0.29.el10.noarch.rpm\n",
      "systemd-256-14.0.1.el10.x86_64.rpm\n",
      "systemd-container-256-14.0.1.el10.x86_64.rpm\n",
      "systemd-libs-256-14.0.1.el10.x86_64.rpm\n",
      "systemd-oomd-256-14.0.1.el10.x86_64.rpm\n",
      "systemd-pam-256-14.0.1.el10.x86_64.rpm\n",
      "systemd-resolved-256-14.0.1.el10.x86_64.rpm\n",
      "systemd-rpm-macros-256-14.0.1.el10.noarch.rpm\n",
      "systemd-udev-256-14.0.1.el10.x86_64.rpm\n",
      "tar-1.35-4.el10.x86_64.rpm\n",
      "tboot-1.11.3-1.el10.x86_64.rpm\n",
      "tcl-8.6.13-3.el10.x86_64.rpm\n",
      "tdb-tools-1.4.10-2.el10.x86_64.rpm\n",
      "time-1.9-24.el10.x86_64.rpm\n",
      "tmux-3.3a-10.el10.x86_64.rpm\n",
      "tpm2-tools-5.7-2.el10.x86_64.rpm\n",
      "tpm2-tss-4.1.3-2.el10.x86_64.rpm\n",
      "tpm2-tss-fapi-4.1.3-2.el10.x86_64.rpm\n",
      "trace-cmd-3.2-4.el10.x86_64.rpm\n",
      "traceroute-2.1.5-3.el10.x86_64.rpm\n",
      "tree-2.1.0-6.el10.x86_64.rpm\n",
      "tss2-2.1.1-4.el10.x86_64.rpm\n",
      "tuna-0.19-8.el10.noarch.rpm\n",
      "tuned-2.24.0-1.0.1.el10.noarch.rpm\n",
      "tuned-profiles-cpu-partitioning-2.24.0-1.0.1.el10.noarch.rpm\n",
      "tzdata-2024a-3.el10.noarch.rpm\n",
      "units-2.22-9.el10.x86_64.rpm\n",
      "unzip-6.0-64.0.1.el10.x86_64.rpm\n",
      "usbutils-017-3.el10.x86_64.rpm\n",
      "usermode-1.114-10.el10.x86_64.rpm\n",
      "userspace-rcu-0.14.0-6.el10.x86_64.rpm\n",
      "util-linux-2.40.2-4.el10.x86_64.rpm\n",
      "util-linux-core-2.40.2-4.el10.x86_64.rpm\n",
      "vdo-8.3.0.71-1.el10.x86_64.rpm\n",
      "vdo-support-8.3.0.71-1.el10.x86_64.rpm\n",
      "veritysetup-2.7.3-2.el10.x86_64.rpm\n",
      "vim-data-9.1.083-2.0.1.el10.noarch.rpm\n",
      "vim-filesystem-9.1.083-2.0.1.el10.noarch.rpm\n",
      "vim-minimal-9.1.083-2.0.1.el10.x86_64.rpm\n",
      "virt-what-1.26-3.el10.x86_64.rpm\n",
      "which-2.21-42.el10.x86_64.rpm\n",
      "wireless-regdb-2024.01.23-2.el10.noarch.rpm\n",
      "words-3.0-46.el10.noarch.rpm\n",
      "wpa_supplicant-2.10-11.el10.x86_64.rpm\n",
      "x3270-4.3ga8-5.el10.x86_64.rpm\n",
      "x3270-text-4.3ga8-5.el10.x86_64.rpm\n",
      "xfsdump-3.1.12-5.el10.x86_64.rpm\n",
      "xfsprogs-6.5.0-4.0.1.el10.x86_64.rpm\n",
      "xz-5.6.2-2.el10.x86_64.rpm\n",
      "xz-libs-5.6.2-2.el10.x86_64.rpm\n",
      "yum-4.20.0-6.0.1.el10.noarch.rpm\n",
      "yum-utils-4.7.0-5.0.1.el10.noarch.rpm\n",
      "zip-3.0-42.el10.x86_64.rpm\n",
      "zlib-ng-compat-2.1.6-3.el10.x86_64.rpm\n",
      "zsh-5.9-14.el10.x86_64.rpm\n",
      "zstd-1.5.5-8.el10.x86_64.rpm\n"
     ]
    }
   ],
   "source": [
    "for var in OLsobj.find_all('a'):\n",
    "    if(re.search('rpm$',var.get('href'))): # line ends with pattern rpm \n",
    "        print(var.string)"
   ]
  },
  {
   "cell_type": "code",
   "execution_count": 460,
   "id": "cb2f1123-1df5-4f1b-9b28-ce406b2e5e54",
   "metadata": {},
   "outputs": [],
   "source": [
    "OL10=[]\n",
    "for var in OLsobj.find_all('a'):\n",
    "    if(re.search('rpm$',var.get('href'))): # line ends with pattern rpm \n",
    "        OL10.append(var.string)#print(var.string)"
   ]
  },
  {
   "cell_type": "code",
   "execution_count": 462,
   "id": "e475c5fd-2dc7-4715-9d82-3b9c3220b9d5",
   "metadata": {},
   "outputs": [
    {
     "data": {
      "text/plain": [
       "989"
      ]
     },
     "execution_count": 462,
     "metadata": {},
     "output_type": "execute_result"
    }
   ],
   "source": [
    "len(OL10)"
   ]
  },
  {
   "cell_type": "code",
   "execution_count": 464,
   "id": "52c08dbe-779a-4784-89c5-ea33cc810db3",
   "metadata": {},
   "outputs": [],
   "source": [
    "d={}\n",
    "d['OL10']=OL10 # dict of list"
   ]
  },
  {
   "cell_type": "code",
   "execution_count": 466,
   "id": "6f4fa893-867d-4262-bf44-e57a851080b1",
   "metadata": {},
   "outputs": [
    {
     "name": "stdout",
     "output_type": "stream",
     "text": [
      "<class 'pandas.core.frame.DataFrame'>\n",
      "RangeIndex: 989 entries, 0 to 988\n",
      "Data columns (total 1 columns):\n",
      " #   Column  Non-Null Count  Dtype \n",
      "---  ------  --------------  ----- \n",
      " 0   OL10    989 non-null    object\n",
      "dtypes: object(1)\n",
      "memory usage: 7.9+ KB\n"
     ]
    }
   ],
   "source": [
    "import pandas \n",
    "df = pandas.DataFrame(d)\n",
    "df.info()"
   ]
  },
  {
   "cell_type": "code",
   "execution_count": 468,
   "id": "ae1c07b5-82fe-4949-8ffb-2f876500044a",
   "metadata": {},
   "outputs": [
    {
     "data": {
      "text/html": [
       "<div>\n",
       "<style scoped>\n",
       "    .dataframe tbody tr th:only-of-type {\n",
       "        vertical-align: middle;\n",
       "    }\n",
       "\n",
       "    .dataframe tbody tr th {\n",
       "        vertical-align: top;\n",
       "    }\n",
       "\n",
       "    .dataframe thead th {\n",
       "        text-align: right;\n",
       "    }\n",
       "</style>\n",
       "<table border=\"1\" class=\"dataframe\">\n",
       "  <thead>\n",
       "    <tr style=\"text-align: right;\">\n",
       "      <th></th>\n",
       "      <th>OL10</th>\n",
       "    </tr>\n",
       "  </thead>\n",
       "  <tbody>\n",
       "    <tr>\n",
       "      <th>0</th>\n",
       "      <td>ModemManager-1.22.0-5.el10.x86_64.rpm</td>\n",
       "    </tr>\n",
       "    <tr>\n",
       "      <th>1</th>\n",
       "      <td>ModemManager-glib-1.22.0-5.el10.x86_64.rpm</td>\n",
       "    </tr>\n",
       "    <tr>\n",
       "      <th>2</th>\n",
       "      <td>NetworkManager-1.48.10-1.0.2.el10.x86_64.rpm</td>\n",
       "    </tr>\n",
       "    <tr>\n",
       "      <th>3</th>\n",
       "      <td>NetworkManager-adsl-1.48.10-1.0.2.el10.x86_64.rpm</td>\n",
       "    </tr>\n",
       "    <tr>\n",
       "      <th>4</th>\n",
       "      <td>NetworkManager-bluetooth-1.48.10-1.0.2.el10.x8...</td>\n",
       "    </tr>\n",
       "  </tbody>\n",
       "</table>\n",
       "</div>"
      ],
      "text/plain": [
       "                                                OL10\n",
       "0              ModemManager-1.22.0-5.el10.x86_64.rpm\n",
       "1         ModemManager-glib-1.22.0-5.el10.x86_64.rpm\n",
       "2       NetworkManager-1.48.10-1.0.2.el10.x86_64.rpm\n",
       "3  NetworkManager-adsl-1.48.10-1.0.2.el10.x86_64.rpm\n",
       "4  NetworkManager-bluetooth-1.48.10-1.0.2.el10.x8..."
      ]
     },
     "execution_count": 468,
     "metadata": {},
     "output_type": "execute_result"
    }
   ],
   "source": [
    "df.head()"
   ]
  },
  {
   "cell_type": "code",
   "execution_count": 474,
   "id": "e6dbb4c0-694a-48a2-b5af-aa59a01cbec9",
   "metadata": {},
   "outputs": [],
   "source": [
    "URL='https://yum.oracle.com/repo/OracleLinux/OL9/baseos/latest/x86_64/index.html'\n",
    "r = requests.get(URL)\n",
    "OLweb = r.text\n",
    "OLsobj = bs4.BeautifulSoup(OLweb)\n",
    "OL9=[]\n",
    "for var in OLsobj.find_all('a'):\n",
    "    if(re.search('rpm$',var.get('href'))): # line ends with pattern rpm\n",
    "        OL9.append(var.string)"
   ]
  },
  {
   "cell_type": "code",
   "execution_count": 476,
   "id": "499bd223-3e2f-4f42-a818-da87c7e5a20e",
   "metadata": {},
   "outputs": [
    {
     "data": {
      "text/plain": [
       "9949"
      ]
     },
     "execution_count": 476,
     "metadata": {},
     "output_type": "execute_result"
    }
   ],
   "source": [
    "len(OL9)"
   ]
  },
  {
   "cell_type": "code",
   "execution_count": 480,
   "id": "d703c2f9-809e-4af0-95d3-4870d68acb5a",
   "metadata": {},
   "outputs": [],
   "source": [
    "ol9 = OL9[:989]"
   ]
  },
  {
   "cell_type": "code",
   "execution_count": 482,
   "id": "932f355b-80cc-48d6-946f-9fda0a703129",
   "metadata": {},
   "outputs": [
    {
     "data": {
      "text/plain": [
       "dict_keys(['OL10'])"
      ]
     },
     "execution_count": 482,
     "metadata": {},
     "output_type": "execute_result"
    }
   ],
   "source": [
    "d.keys()"
   ]
  },
  {
   "cell_type": "code",
   "execution_count": 484,
   "id": "69e38977-099e-4e02-9841-9c76529e968b",
   "metadata": {},
   "outputs": [],
   "source": [
    "d['OL9']=ol9 # adding new data to dict"
   ]
  },
  {
   "cell_type": "code",
   "execution_count": 486,
   "id": "9747a6dc-0be1-4b12-ab17-83e22be20bdf",
   "metadata": {},
   "outputs": [
    {
     "name": "stdout",
     "output_type": "stream",
     "text": [
      "<class 'pandas.core.frame.DataFrame'>\n",
      "RangeIndex: 989 entries, 0 to 988\n",
      "Data columns (total 2 columns):\n",
      " #   Column  Non-Null Count  Dtype \n",
      "---  ------  --------------  ----- \n",
      " 0   OL10    989 non-null    object\n",
      " 1   OL9     989 non-null    object\n",
      "dtypes: object(2)\n",
      "memory usage: 15.6+ KB\n"
     ]
    }
   ],
   "source": [
    "df = pandas.DataFrame(d)\n",
    "df.info()"
   ]
  },
  {
   "cell_type": "code",
   "execution_count": 488,
   "id": "895a06ea-2b50-4730-996f-fabd9b862b90",
   "metadata": {},
   "outputs": [
    {
     "data": {
      "text/html": [
       "<div>\n",
       "<style scoped>\n",
       "    .dataframe tbody tr th:only-of-type {\n",
       "        vertical-align: middle;\n",
       "    }\n",
       "\n",
       "    .dataframe tbody tr th {\n",
       "        vertical-align: top;\n",
       "    }\n",
       "\n",
       "    .dataframe thead th {\n",
       "        text-align: right;\n",
       "    }\n",
       "</style>\n",
       "<table border=\"1\" class=\"dataframe\">\n",
       "  <thead>\n",
       "    <tr style=\"text-align: right;\">\n",
       "      <th></th>\n",
       "      <th>OL10</th>\n",
       "      <th>OL9</th>\n",
       "    </tr>\n",
       "  </thead>\n",
       "  <tbody>\n",
       "    <tr>\n",
       "      <th>0</th>\n",
       "      <td>ModemManager-1.22.0-5.el10.x86_64.rpm</td>\n",
       "      <td>ModemManager-1.18.2-3.el9.x86_64.rpm</td>\n",
       "    </tr>\n",
       "    <tr>\n",
       "      <th>1</th>\n",
       "      <td>ModemManager-glib-1.22.0-5.el10.x86_64.rpm</td>\n",
       "      <td>ModemManager-1.20.2-1.el9.x86_64.rpm</td>\n",
       "    </tr>\n",
       "    <tr>\n",
       "      <th>2</th>\n",
       "      <td>NetworkManager-1.48.10-1.0.2.el10.x86_64.rpm</td>\n",
       "      <td>ModemManager-glib-1.18.2-3.el9.i686.rpm</td>\n",
       "    </tr>\n",
       "    <tr>\n",
       "      <th>3</th>\n",
       "      <td>NetworkManager-adsl-1.48.10-1.0.2.el10.x86_64.rpm</td>\n",
       "      <td>ModemManager-glib-1.18.2-3.el9.x86_64.rpm</td>\n",
       "    </tr>\n",
       "    <tr>\n",
       "      <th>4</th>\n",
       "      <td>NetworkManager-bluetooth-1.48.10-1.0.2.el10.x8...</td>\n",
       "      <td>ModemManager-glib-1.20.2-1.el9.i686.rpm</td>\n",
       "    </tr>\n",
       "  </tbody>\n",
       "</table>\n",
       "</div>"
      ],
      "text/plain": [
       "                                                OL10  \\\n",
       "0              ModemManager-1.22.0-5.el10.x86_64.rpm   \n",
       "1         ModemManager-glib-1.22.0-5.el10.x86_64.rpm   \n",
       "2       NetworkManager-1.48.10-1.0.2.el10.x86_64.rpm   \n",
       "3  NetworkManager-adsl-1.48.10-1.0.2.el10.x86_64.rpm   \n",
       "4  NetworkManager-bluetooth-1.48.10-1.0.2.el10.x8...   \n",
       "\n",
       "                                         OL9  \n",
       "0       ModemManager-1.18.2-3.el9.x86_64.rpm  \n",
       "1       ModemManager-1.20.2-1.el9.x86_64.rpm  \n",
       "2    ModemManager-glib-1.18.2-3.el9.i686.rpm  \n",
       "3  ModemManager-glib-1.18.2-3.el9.x86_64.rpm  \n",
       "4    ModemManager-glib-1.20.2-1.el9.i686.rpm  "
      ]
     },
     "execution_count": 488,
     "metadata": {},
     "output_type": "execute_result"
    }
   ],
   "source": [
    "df.head()"
   ]
  },
  {
   "cell_type": "code",
   "execution_count": 490,
   "id": "bf48b4cf-5bc7-4c74-aa95-ea2a44dcbd78",
   "metadata": {},
   "outputs": [
    {
     "data": {
      "text/plain": [
       "403"
      ]
     },
     "execution_count": 490,
     "metadata": {},
     "output_type": "execute_result"
    }
   ],
   "source": [
    "r = requests.get('https://www.accuweather.com/en/in/bengaluru/204108/weather-forecast/204108')\n",
    "r.status_code"
   ]
  },
  {
   "cell_type": "code",
   "execution_count": 494,
   "id": "2853385e-5033-4fa5-975c-d61c1d2a0d90",
   "metadata": {},
   "outputs": [
    {
     "data": {
      "text/plain": [
       "<list_iterator at 0x2912ba2a4d0>"
      ]
     },
     "execution_count": 494,
     "metadata": {},
     "output_type": "execute_result"
    }
   ],
   "source": [
    "# dict of list\n",
    "# -------------> DataFrame ->table\n",
    "\n",
    "sobj.head\n",
    "sobj.head.children"
   ]
  },
  {
   "cell_type": "code",
   "execution_count": 496,
   "id": "a1c0012b-8a2b-45a8-bfec-a3d963babd29",
   "metadata": {},
   "outputs": [
    {
     "data": {
      "text/plain": [
       "<list_iterator at 0x2912fb1bdc0>"
      ]
     },
     "execution_count": 496,
     "metadata": {},
     "output_type": "execute_result"
    }
   ],
   "source": [
    "sobj.p.children"
   ]
  },
  {
   "cell_type": "code",
   "execution_count": 504,
   "id": "73c2a6a6-44c5-46b1-bd1a-b3bfa7934b71",
   "metadata": {},
   "outputs": [
    {
     "name": "stdout",
     "output_type": "stream",
     "text": [
      "a\n",
      "b\n",
      "c\n"
     ]
    },
    {
     "ename": "StopIteration",
     "evalue": "",
     "output_type": "error",
     "traceback": [
      "\u001b[1;31m---------------------------------------------------------------------------\u001b[0m",
      "\u001b[1;31mStopIteration\u001b[0m                             Traceback (most recent call last)",
      "Cell \u001b[1;32mIn[504], line 6\u001b[0m\n\u001b[0;32m      4\u001b[0m \u001b[38;5;28mprint\u001b[39m(\u001b[38;5;28mnext\u001b[39m(obj))\n\u001b[0;32m      5\u001b[0m \u001b[38;5;28mprint\u001b[39m(\u001b[38;5;28mnext\u001b[39m(obj))\n\u001b[1;32m----> 6\u001b[0m \u001b[38;5;28mprint\u001b[39m(\u001b[38;5;28mnext\u001b[39m(obj))\n",
      "\u001b[1;31mStopIteration\u001b[0m: "
     ]
    }
   ],
   "source": [
    "s='abc'\n",
    "obj = iter(s)\n",
    "print(next(obj))\n",
    "print(next(obj))\n",
    "print(next(obj))\n",
    "print(next(obj))"
   ]
  },
  {
   "cell_type": "code",
   "execution_count": 498,
   "id": "fd076eb3-2dda-4f39-af80-bbf15040d78a",
   "metadata": {},
   "outputs": [
    {
     "data": {
      "text/plain": [
       "['© 2025 - ',\n",
       " <a href=\"/intl/en/policies/privacy/\">Privacy</a>,\n",
       " ' - ',\n",
       " <a href=\"/intl/en/policies/terms/\">Terms</a>]"
      ]
     },
     "execution_count": 498,
     "metadata": {},
     "output_type": "execute_result"
    }
   ],
   "source": [
    "list(sobj.p.children) # generator "
   ]
  },
  {
   "cell_type": "code",
   "execution_count": 500,
   "id": "31886a3b-4e7e-4f1c-84e3-a1cc53a9f4be",
   "metadata": {},
   "outputs": [
    {
     "data": {
      "text/plain": [
       "<span id=\"footer\"><div style=\"font-size:10pt\"><div id=\"WqQANb\" style=\"margin:19px auto;text-align:center\"><a href=\"/intl/en/ads/\">Advertising</a><a href=\"http://www.google.co.in/services/\">Business Solutions</a><a href=\"/intl/en/about.html\">About Google</a><a href=\"https://www.google.com/setprefdomain?prefdom=IN&amp;prev=https://www.google.co.in/&amp;sig=K_MHnfpNBFum7Tr6Nwr3zE3FgkenE%3D\">Google.co.in</a></div></div><p style=\"font-size:8pt;color:#70757a\">© 2025 - <a href=\"/intl/en/policies/privacy/\">Privacy</a> - <a href=\"/intl/en/policies/terms/\">Terms</a></p></span>"
      ]
     },
     "execution_count": 500,
     "metadata": {},
     "output_type": "execute_result"
    }
   ],
   "source": [
    "sobj.p.parent"
   ]
  },
  {
   "cell_type": "raw",
   "id": "340bebe0-1a25-4436-b9b5-a49c74c16267",
   "metadata": {},
   "source": [
    "<a href='url' class='classA' style='head1'>\n",
    "              |                |__righ sibiling\n",
    "  ------------  \n",
    "    leftsibiling "
   ]
  },
  {
   "cell_type": "code",
   "execution_count": 506,
   "id": "50d9d6e3-c251-4cf7-aa9b-06baf12951ab",
   "metadata": {},
   "outputs": [],
   "source": [
    "import sqlite3"
   ]
  },
  {
   "cell_type": "code",
   "execution_count": 508,
   "id": "1bf0cfee-8b77-4036-b909-1ce06c01e581",
   "metadata": {},
   "outputs": [
    {
     "data": {
      "text/plain": [
       "<sqlite3.Connection at 0x291242c1e40>"
      ]
     },
     "execution_count": 508,
     "metadata": {},
     "output_type": "execute_result"
    }
   ],
   "source": [
    "sqlite3.connect(\"test1.db\")"
   ]
  },
  {
   "cell_type": "code",
   "execution_count": 510,
   "id": "d487dad6-e0ec-4575-81c6-a6a2a431afc9",
   "metadata": {},
   "outputs": [
    {
     "data": {
      "text/plain": [
       "<sqlite3.Cursor at 0x2912fa96640>"
      ]
     },
     "execution_count": 510,
     "metadata": {},
     "output_type": "execute_result"
    }
   ],
   "source": [
    "conn = sqlite3.connect(\"test1.db\")\n",
    "conn.cursor()"
   ]
  },
  {
   "cell_type": "code",
   "execution_count": 512,
   "id": "1c2f50e0-e288-4925-a9e3-b996231615d8",
   "metadata": {},
   "outputs": [
    {
     "data": {
      "text/plain": [
       "<sqlite3.Cursor at 0x2912f9fd040>"
      ]
     },
     "execution_count": 512,
     "metadata": {},
     "output_type": "execute_result"
    }
   ],
   "source": [
    "conn = sqlite3.connect(\"test1.db\")\n",
    "sth = conn.cursor()\n",
    "sth.execute('create table products(pid INT,pname TEXT,pcost INT)')"
   ]
  },
  {
   "cell_type": "code",
   "execution_count": 514,
   "id": "91358526-f411-4883-8a50-bbf824d1e603",
   "metadata": {},
   "outputs": [
    {
     "data": {
      "text/plain": [
       "<sqlite3.Cursor at 0x2912f9fd040>"
      ]
     },
     "execution_count": 514,
     "metadata": {},
     "output_type": "execute_result"
    }
   ],
   "source": [
    "sth.execute(\"insert into products(pid,pname,pcost) values(101,'pA',1000)\")"
   ]
  },
  {
   "cell_type": "code",
   "execution_count": 516,
   "id": "3154f763-2a25-4ae4-aeee-f9a1ee218b72",
   "metadata": {},
   "outputs": [
    {
     "data": {
      "text/plain": [
       "<sqlite3.Cursor at 0x2912f9fd040>"
      ]
     },
     "execution_count": 516,
     "metadata": {},
     "output_type": "execute_result"
    }
   ],
   "source": [
    "sth.execute(\"insert into products(pid,pname,pcost) values(102,'pB',2000)\")\n",
    "sth.execute(\"insert into products(pid,pname,pcost) values(103,'pC',3000)\")\n",
    "sth.execute(\"insert into products(pid,pname,pcost) values(104,'pD',4000)\")"
   ]
  },
  {
   "cell_type": "code",
   "execution_count": 518,
   "id": "2623bbd8-5cc5-4a50-b485-fffcd965ad41",
   "metadata": {},
   "outputs": [
    {
     "data": {
      "text/plain": [
       "<sqlite3.Cursor at 0x2912f9fd040>"
      ]
     },
     "execution_count": 518,
     "metadata": {},
     "output_type": "execute_result"
    }
   ],
   "source": [
    "va = 105\n",
    "vb = 'pE'\n",
    "vc = 5000\n",
    "sth.execute(\"insert into products(pid,pname,pcost) values(?,?,?)\",(va,vb,vc))"
   ]
  },
  {
   "cell_type": "code",
   "execution_count": 520,
   "id": "5bacc568-c3c9-4860-8a1e-8d4b11c88454",
   "metadata": {},
   "outputs": [
    {
     "data": {
      "text/plain": [
       "<sqlite3.Cursor at 0x2912f9fd040>"
      ]
     },
     "execution_count": 520,
     "metadata": {},
     "output_type": "execute_result"
    }
   ],
   "source": [
    "sth.execute(\"select *from products\")"
   ]
  },
  {
   "cell_type": "code",
   "execution_count": 522,
   "id": "bbb7a78f-abfb-4d14-876f-338e295093d1",
   "metadata": {},
   "outputs": [
    {
     "data": {
      "text/plain": [
       "(101, 'pA', 1000)"
      ]
     },
     "execution_count": 522,
     "metadata": {},
     "output_type": "execute_result"
    }
   ],
   "source": [
    "sth.fetchone()"
   ]
  },
  {
   "cell_type": "code",
   "execution_count": 524,
   "id": "b123fff2-712b-4f1d-ab96-7d3ed997fc09",
   "metadata": {},
   "outputs": [
    {
     "data": {
      "text/plain": [
       "(102, 'pB', 2000)"
      ]
     },
     "execution_count": 524,
     "metadata": {},
     "output_type": "execute_result"
    }
   ],
   "source": [
    "sth.fetchone()"
   ]
  },
  {
   "cell_type": "code",
   "execution_count": 526,
   "id": "9672f3c2-b287-4ab4-a72f-98050b43b042",
   "metadata": {},
   "outputs": [
    {
     "data": {
      "text/plain": [
       "(103, 'pC', 3000)"
      ]
     },
     "execution_count": 526,
     "metadata": {},
     "output_type": "execute_result"
    }
   ],
   "source": [
    "sth.fetchone()"
   ]
  },
  {
   "cell_type": "code",
   "execution_count": 528,
   "id": "9352f856-277c-440d-b97f-d6997fcb75e3",
   "metadata": {},
   "outputs": [
    {
     "data": {
      "text/plain": [
       "[(101, 'pA', 1000),\n",
       " (102, 'pB', 2000),\n",
       " (103, 'pC', 3000),\n",
       " (104, 'pD', 4000),\n",
       " (105, 'pE', 5000)]"
      ]
     },
     "execution_count": 528,
     "metadata": {},
     "output_type": "execute_result"
    }
   ],
   "source": [
    "sth.execute(\"select *from products\")\n",
    "sth.fetchall()"
   ]
  },
  {
   "cell_type": "code",
   "execution_count": 530,
   "id": "8479092d-5ff4-4f47-96bb-f1c613135e5e",
   "metadata": {},
   "outputs": [
    {
     "data": {
      "text/plain": [
       "[(101, 'pA', 1000),\n",
       " (102, 'pB', 2000),\n",
       " (103, 'pC', 3000),\n",
       " (104, 'pD', 4000),\n",
       " (105, 'pE', 5000)]"
      ]
     },
     "execution_count": 530,
     "metadata": {},
     "output_type": "execute_result"
    }
   ],
   "source": [
    "sth.execute(\"select *from products\")\n",
    "list(sth) # generator"
   ]
  },
  {
   "cell_type": "code",
   "execution_count": 532,
   "id": "19efcfc7-28d5-4175-a96a-ab115351ff39",
   "metadata": {},
   "outputs": [
    {
     "data": {
      "text/plain": [
       "<sqlite3.Cursor at 0x2912f9fd040>"
      ]
     },
     "execution_count": 532,
     "metadata": {},
     "output_type": "execute_result"
    }
   ],
   "source": [
    "records = [(111, 'F1', 2000),\n",
    " (112, 'F2', 3000),\n",
    " (113, 'F3', 4500),\n",
    " (114, 'F4', 5200),\n",
    " (115, 'F5', 6000)]\n",
    "sth.executemany(\"insert into products(pid,pname,pcost) values(?,?,?)\",records)\n",
    "#sth.execute(\"insert into products(pid,pname,pcost) values(?,?,?)\",(va,vb,vc))\n"
   ]
  },
  {
   "cell_type": "code",
   "execution_count": 534,
   "id": "49eae041-adcc-4514-85db-16a983a18146",
   "metadata": {},
   "outputs": [
    {
     "data": {
      "text/plain": [
       "[(114, 'F4', 5200), (115, 'F5', 6000)]"
      ]
     },
     "execution_count": 534,
     "metadata": {},
     "output_type": "execute_result"
    }
   ],
   "source": [
    "sth.execute(\"select *from products where pcost >5000\")\n",
    "list(sth)"
   ]
  },
  {
   "cell_type": "code",
   "execution_count": 536,
   "id": "f4e9c40c-4036-42b5-aef9-66bc2f9f6b20",
   "metadata": {},
   "outputs": [],
   "source": [
    "conn.commit()\n",
    "conn.close()"
   ]
  },
  {
   "cell_type": "code",
   "execution_count": 538,
   "id": "4c0e7270-4610-4f9c-a62a-a68d43769f58",
   "metadata": {},
   "outputs": [
    {
     "data": {
      "text/plain": [
       "[(101, 'pA', 1000),\n",
       " (102, 'pB', 2000),\n",
       " (103, 'pC', 3000),\n",
       " (104, 'pD', 4000),\n",
       " (105, 'pE', 5000),\n",
       " (111, 'F1', 2000),\n",
       " (112, 'F2', 3000),\n",
       " (113, 'F3', 4500),\n",
       " (114, 'F4', 5200),\n",
       " (115, 'F5', 6000)]"
      ]
     },
     "execution_count": 538,
     "metadata": {},
     "output_type": "execute_result"
    }
   ],
   "source": [
    "###\n",
    "db = sqlite3.connect(\"test1.db\")\n",
    "cobj = db.cursor()\n",
    "cobj.execute(\"select *from products\")\n",
    "list(cobj)"
   ]
  },
  {
   "cell_type": "code",
   "execution_count": 540,
   "id": "35479e4c-1d05-4646-ba74-4d99b9007019",
   "metadata": {},
   "outputs": [
    {
     "data": {
      "text/plain": [
       "[10, 2.0, 30, 'data']"
      ]
     },
     "execution_count": 540,
     "metadata": {},
     "output_type": "execute_result"
    }
   ],
   "source": [
    "# list - collection of different types of value\n",
    "L=[10,2.0,30]\n",
    "L.append(\"data\")\n",
    "L"
   ]
  },
  {
   "cell_type": "code",
   "execution_count": 542,
   "id": "7ae26f4e-117d-4201-9857-d30375adcc2b",
   "metadata": {},
   "outputs": [
    {
     "ename": "TypeError",
     "evalue": "can only concatenate list (not \"int\") to list",
     "output_type": "error",
     "traceback": [
      "\u001b[1;31m---------------------------------------------------------------------------\u001b[0m",
      "\u001b[1;31mTypeError\u001b[0m                                 Traceback (most recent call last)",
      "Cell \u001b[1;32mIn[542], line 2\u001b[0m\n\u001b[0;32m      1\u001b[0m L\u001b[38;5;241m=\u001b[39m[\u001b[38;5;241m10\u001b[39m,\u001b[38;5;241m20\u001b[39m,\u001b[38;5;241m30\u001b[39m,\u001b[38;5;241m40\u001b[39m,\u001b[38;5;241m50\u001b[39m]\n\u001b[1;32m----> 2\u001b[0m L\u001b[38;5;241m+\u001b[39m\u001b[38;5;241m100\u001b[39m\n",
      "\u001b[1;31mTypeError\u001b[0m: can only concatenate list (not \"int\") to list"
     ]
    }
   ],
   "source": [
    "L=[10,20,30,40,50]\n",
    "L+100"
   ]
  },
  {
   "cell_type": "code",
   "execution_count": 546,
   "id": "a5d4986c-8481-4ebb-8794-aa0a66d74f57",
   "metadata": {},
   "outputs": [
    {
     "data": {
      "text/plain": [
       "array('i')"
      ]
     },
     "execution_count": 546,
     "metadata": {},
     "output_type": "execute_result"
    }
   ],
   "source": [
    "import array\n",
    "#help(array)\n",
    "array.array('i',)"
   ]
  },
  {
   "cell_type": "code",
   "execution_count": 548,
   "id": "9a802227-3fab-41aa-9148-04dfd05da816",
   "metadata": {},
   "outputs": [],
   "source": [
    "arr = array.array('i',)\n",
    "arr.append(15)\n",
    "arr.append(20)\n",
    "arr.append(30)"
   ]
  },
  {
   "cell_type": "code",
   "execution_count": 550,
   "id": "7c8e3da1-964f-4a3a-9060-ef5e7f716dec",
   "metadata": {},
   "outputs": [
    {
     "data": {
      "text/plain": [
       "array('i', [15, 20, 30])"
      ]
     },
     "execution_count": 550,
     "metadata": {},
     "output_type": "execute_result"
    }
   ],
   "source": [
    "arr"
   ]
  },
  {
   "cell_type": "code",
   "execution_count": 552,
   "id": "c1bf4874-ff14-4024-8d0e-d10944ac4cad",
   "metadata": {},
   "outputs": [
    {
     "data": {
      "text/plain": [
       "15"
      ]
     },
     "execution_count": 552,
     "metadata": {},
     "output_type": "execute_result"
    }
   ],
   "source": [
    "arr[0]"
   ]
  },
  {
   "cell_type": "code",
   "execution_count": 554,
   "id": "1e624707-51d3-4bb7-b504-01b538daee49",
   "metadata": {},
   "outputs": [
    {
     "ename": "TypeError",
     "evalue": "'float' object cannot be interpreted as an integer",
     "output_type": "error",
     "traceback": [
      "\u001b[1;31m---------------------------------------------------------------------------\u001b[0m",
      "\u001b[1;31mTypeError\u001b[0m                                 Traceback (most recent call last)",
      "Cell \u001b[1;32mIn[554], line 1\u001b[0m\n\u001b[1;32m----> 1\u001b[0m arr\u001b[38;5;241m.\u001b[39mappend(\u001b[38;5;241m40.0\u001b[39m)\n",
      "\u001b[1;31mTypeError\u001b[0m: 'float' object cannot be interpreted as an integer"
     ]
    }
   ],
   "source": [
    "arr.append(40.0) # Vs L.append('data') ->OK"
   ]
  },
  {
   "cell_type": "code",
   "execution_count": 562,
   "id": "babc0cf1-177d-40a9-a3ec-fc194e843a9a",
   "metadata": {},
   "outputs": [
    {
     "ename": "TypeError",
     "evalue": "can only append array (not \"int\") to array",
     "output_type": "error",
     "traceback": [
      "\u001b[1;31m---------------------------------------------------------------------------\u001b[0m",
      "\u001b[1;31mTypeError\u001b[0m                                 Traceback (most recent call last)",
      "Cell \u001b[1;32mIn[562], line 2\u001b[0m\n\u001b[0;32m      1\u001b[0m \u001b[38;5;66;03m#help(array)\u001b[39;00m\n\u001b[1;32m----> 2\u001b[0m arr\u001b[38;5;241m+\u001b[39m\u001b[38;5;241m100\u001b[39m\n",
      "\u001b[1;31mTypeError\u001b[0m: can only append array (not \"int\") to array"
     ]
    }
   ],
   "source": [
    "#help(array)\n",
    "arr+100"
   ]
  },
  {
   "cell_type": "code",
   "execution_count": null,
   "id": "519628ae-05af-4f86-8ed2-5abb8ec6b058",
   "metadata": {},
   "outputs": [],
   "source": [
    "numpy\n",
    " - array - muli-dimensional array \n",
    " - ndarray \n",
    " - numpy array ->index ; slicing ; reshape \n",
    " - ufunctions \n",
    " - numerical computing \n",
    "\n",
    "import numpy\n",
    "numpy.array([<list of items>]) ->arrayobject"
   ]
  },
  {
   "cell_type": "code",
   "execution_count": 566,
   "id": "6c462ff6-8958-4f58-8776-2c4d745f7af3",
   "metadata": {},
   "outputs": [
    {
     "name": "stdin",
     "output_type": "stream",
     "text": [
      "Enter a pin Number: 1234\n"
     ]
    },
    {
     "name": "stdout",
     "output_type": "stream",
     "text": [
      "Success - pin is matched - 1\n"
     ]
    }
   ],
   "source": [
    "import atm_pin\n",
    "#help(atm_pin)\n",
    "atm_pin.pin_test(122)"
   ]
  },
  {
   "cell_type": "code",
   "execution_count": null,
   "id": "fbd41ac2-fe8d-4acd-a3b9-f7fddb6d891a",
   "metadata": {},
   "outputs": [],
   "source": [
    "import HtmlTemplate\n",
    "HtmlTemplate.fx()\n",
    "\n",
    "import D1.D2.atm_pin\n",
    "D1.D2.atm_pin.pin_test(123)"
   ]
  },
  {
   "cell_type": "code",
   "execution_count": 568,
   "id": "073cd92b-a180-444f-99a8-fb976bf26703",
   "metadata": {},
   "outputs": [
    {
     "name": "stdin",
     "output_type": "stream",
     "text": [
      "Enter a pin Number: 1234\n"
     ]
    },
    {
     "name": "stdout",
     "output_type": "stream",
     "text": [
      "Success - pin is matched - 1\n"
     ]
    }
   ],
   "source": [
    "import atm_pin as atm\n",
    "atm.pin_test(34)"
   ]
  },
  {
   "cell_type": "raw",
   "id": "299c105a-0fc7-46cb-979f-91c636132616",
   "metadata": {},
   "source": [
    "import D1.D2.atm_pin\n",
    "D1.D2.atm_pin.pin_test(123)\n",
    "\n",
    "import D1.D2.atm_pin as mp\n",
    "mp.pin_test(123)"
   ]
  },
  {
   "cell_type": "code",
   "execution_count": 570,
   "id": "4472c1bf-dcfb-4131-a9e7-825349fd689a",
   "metadata": {},
   "outputs": [
    {
     "data": {
      "text/plain": [
       "array([10, 20, 30, 40, 50])"
      ]
     },
     "execution_count": 570,
     "metadata": {},
     "output_type": "execute_result"
    }
   ],
   "source": [
    "import numpy\n",
    "numpy.array([10,20,30,40,50])"
   ]
  },
  {
   "cell_type": "code",
   "execution_count": 572,
   "id": "f13c62cb-eb39-47d0-b27f-ffbec2380d19",
   "metadata": {},
   "outputs": [
    {
     "data": {
      "text/plain": [
       "array([1, 2, 3])"
      ]
     },
     "execution_count": 572,
     "metadata": {},
     "output_type": "execute_result"
    }
   ],
   "source": [
    "import numpy as xyz\n",
    "xyz.array([1,2,3])"
   ]
  },
  {
   "cell_type": "code",
   "execution_count": 574,
   "id": "443d51e4-4d17-4d0f-b990-acc851311411",
   "metadata": {},
   "outputs": [
    {
     "data": {
      "text/plain": [
       "<module 'numpy' from 'C:\\\\Users\\\\theeba\\\\anaconda3\\\\Lib\\\\site-packages\\\\numpy\\\\__init__.py'>"
      ]
     },
     "execution_count": 574,
     "metadata": {},
     "output_type": "execute_result"
    }
   ],
   "source": [
    "xyz # userdefined"
   ]
  },
  {
   "cell_type": "code",
   "execution_count": 576,
   "id": "8aac9955-adf9-4681-9839-9062515f1c21",
   "metadata": {},
   "outputs": [
    {
     "name": "stdout",
     "output_type": "stream",
     "text": [
      "10\n",
      "[20 30 40 50]\n"
     ]
    }
   ],
   "source": [
    "import numpy as np\n",
    "arr = np.array([10,20,30,40,50])\n",
    "print(arr[0]) # like list\n",
    "print(arr[1:]) # like list"
   ]
  },
  {
   "cell_type": "code",
   "execution_count": 578,
   "id": "5940dda0-5f4e-46c1-b7e0-59b5f7c26c1d",
   "metadata": {},
   "outputs": [
    {
     "data": {
      "text/plain": [
       "array([110, 120, 130, 140, 150])"
      ]
     },
     "execution_count": 578,
     "metadata": {},
     "output_type": "execute_result"
    }
   ],
   "source": [
    "arr+100 # Vs L+100 ->Error array.array() ->arrobj  arrobj+100 ->Error"
   ]
  },
  {
   "cell_type": "code",
   "execution_count": 580,
   "id": "fbed3896-87f8-48bc-a53f-f88c585d3a94",
   "metadata": {},
   "outputs": [
    {
     "data": {
      "text/plain": [
       "array([20., 30., 40., 50., 60.])"
      ]
     },
     "execution_count": 580,
     "metadata": {},
     "output_type": "execute_result"
    }
   ],
   "source": [
    "arr+10.0"
   ]
  },
  {
   "cell_type": "code",
   "execution_count": 582,
   "id": "07d2e75c-a358-4622-842e-6669294f9a23",
   "metadata": {},
   "outputs": [
    {
     "data": {
      "text/plain": [
       "array([False, False, False,  True,  True])"
      ]
     },
     "execution_count": 582,
     "metadata": {},
     "output_type": "execute_result"
    }
   ],
   "source": [
    "arr >35"
   ]
  },
  {
   "cell_type": "code",
   "execution_count": 584,
   "id": "a9334438-a2ca-4523-9d6a-597fdf77c30c",
   "metadata": {},
   "outputs": [
    {
     "data": {
      "text/plain": [
       "dtype('int32')"
      ]
     },
     "execution_count": 584,
     "metadata": {},
     "output_type": "execute_result"
    }
   ],
   "source": [
    "a1 = np.array([10,20,30])\n",
    "a1.dtype"
   ]
  },
  {
   "cell_type": "code",
   "execution_count": 586,
   "id": "292218db-a3f0-419f-bdbc-13d85d90660f",
   "metadata": {},
   "outputs": [
    {
     "data": {
      "text/plain": [
       "dtype('float64')"
      ]
     },
     "execution_count": 586,
     "metadata": {},
     "output_type": "execute_result"
    }
   ],
   "source": [
    "a2 = np.array([10.0,20.0,30.0])\n",
    "a2.dtype"
   ]
  },
  {
   "cell_type": "code",
   "execution_count": 588,
   "id": "73f8fca4-7e96-4e56-b1b8-40c6cc2cbbdd",
   "metadata": {},
   "outputs": [
    {
     "data": {
      "text/plain": [
       "dtype('float64')"
      ]
     },
     "execution_count": 588,
     "metadata": {},
     "output_type": "execute_result"
    }
   ],
   "source": [
    "a3 = np.array([10,20,30.0])\n",
    "a3.dtype"
   ]
  },
  {
   "cell_type": "code",
   "execution_count": 590,
   "id": "be73b094-e3bc-471b-95ac-f3898f62ee7a",
   "metadata": {},
   "outputs": [
    {
     "data": {
      "text/plain": [
       "dtype('bool')"
      ]
     },
     "execution_count": 590,
     "metadata": {},
     "output_type": "execute_result"
    }
   ],
   "source": [
    "a4 = np.array([False, False, False,  True,  True])\n",
    "a4.dtype"
   ]
  },
  {
   "cell_type": "code",
   "execution_count": 594,
   "id": "45948781-468b-49c7-a972-1810e689b50d",
   "metadata": {},
   "outputs": [
    {
     "data": {
      "text/plain": [
       "dtype('float64')"
      ]
     },
     "execution_count": 594,
     "metadata": {},
     "output_type": "execute_result"
    }
   ],
   "source": [
    "np.array([10,True,20.0]).dtype"
   ]
  },
  {
   "cell_type": "code",
   "execution_count": 596,
   "id": "db9b583d-881f-4c01-ade3-c7cde7233d0e",
   "metadata": {},
   "outputs": [
    {
     "data": {
      "text/plain": [
       "dtype('<U2')"
      ]
     },
     "execution_count": 596,
     "metadata": {},
     "output_type": "execute_result"
    }
   ],
   "source": [
    "np.array(['D1','D2']).dtype"
   ]
  },
  {
   "cell_type": "code",
   "execution_count": 598,
   "id": "42e2a4f4-fa16-4c2d-adfd-1313fbab1b10",
   "metadata": {},
   "outputs": [
    {
     "data": {
      "text/plain": [
       "dtype('<U32')"
      ]
     },
     "execution_count": 598,
     "metadata": {},
     "output_type": "execute_result"
    }
   ],
   "source": [
    "np.array([10,10.0,True,'data']).dtype"
   ]
  },
  {
   "cell_type": "code",
   "execution_count": 600,
   "id": "2b8c1684-5f29-44ef-b443-3fbbd042430e",
   "metadata": {},
   "outputs": [
    {
     "ename": "UFuncTypeError",
     "evalue": "ufunc 'add' did not contain a loop with signature matching types (dtype('<U32'), dtype('int32')) -> None",
     "output_type": "error",
     "traceback": [
      "\u001b[1;31m---------------------------------------------------------------------------\u001b[0m",
      "\u001b[1;31mUFuncTypeError\u001b[0m                            Traceback (most recent call last)",
      "Cell \u001b[1;32mIn[600], line 1\u001b[0m\n\u001b[1;32m----> 1\u001b[0m np\u001b[38;5;241m.\u001b[39marray([\u001b[38;5;241m10\u001b[39m,\u001b[38;5;241m10.0\u001b[39m,\u001b[38;5;28;01mTrue\u001b[39;00m,\u001b[38;5;124m'\u001b[39m\u001b[38;5;124mdata\u001b[39m\u001b[38;5;124m'\u001b[39m]) \u001b[38;5;241m+\u001b[39m \u001b[38;5;241m100\u001b[39m\n",
      "\u001b[1;31mUFuncTypeError\u001b[0m: ufunc 'add' did not contain a loop with signature matching types (dtype('<U32'), dtype('int32')) -> None"
     ]
    }
   ],
   "source": [
    "np.array([10,10.0,True,'data']) + 100"
   ]
  },
  {
   "cell_type": "code",
   "execution_count": 602,
   "id": "5dfcfb45-a9ca-4e69-8e8f-1eed1df90fc5",
   "metadata": {},
   "outputs": [
    {
     "data": {
      "text/plain": [
       "array([110., 110., 101.])"
      ]
     },
     "execution_count": 602,
     "metadata": {},
     "output_type": "execute_result"
    }
   ],
   "source": [
    "np.array([10,10.0,True]) + 100 # refer cell 594"
   ]
  },
  {
   "cell_type": "code",
   "execution_count": 604,
   "id": "f01dd9e6-6ff0-4858-a6c9-b635786b562c",
   "metadata": {},
   "outputs": [
    {
     "data": {
      "text/plain": [
       "1"
      ]
     },
     "execution_count": 604,
     "metadata": {},
     "output_type": "execute_result"
    }
   ],
   "source": [
    "np.array([10,20,30]).ndim  #  | 10 | 20 | 30 |"
   ]
  },
  {
   "cell_type": "code",
   "execution_count": 606,
   "id": "a52f13eb-ae8d-40b2-a224-b69d445b094d",
   "metadata": {},
   "outputs": [
    {
     "data": {
      "text/plain": [
       "2"
      ]
     },
     "execution_count": 606,
     "metadata": {},
     "output_type": "execute_result"
    }
   ],
   "source": [
    "np.array([[10,20,30]]).ndim "
   ]
  },
  {
   "cell_type": "code",
   "execution_count": 608,
   "id": "e260881e-5f40-44aa-aee8-a5bc8311cff9",
   "metadata": {},
   "outputs": [
    {
     "data": {
      "text/plain": [
       "3"
      ]
     },
     "execution_count": 608,
     "metadata": {},
     "output_type": "execute_result"
    }
   ],
   "source": [
    "np.array([[[10,20,30]]]).ndim "
   ]
  },
  {
   "cell_type": "code",
   "execution_count": 610,
   "id": "3e9ba44e-85d5-4702-bc7c-46002f08994d",
   "metadata": {},
   "outputs": [
    {
     "data": {
      "text/plain": [
       "6"
      ]
     },
     "execution_count": 610,
     "metadata": {},
     "output_type": "execute_result"
    }
   ],
   "source": [
    "np.array([[[[[[10,20,30]]]]]]).ndim "
   ]
  },
  {
   "cell_type": "code",
   "execution_count": 614,
   "id": "8451c04f-4cdd-4964-b5e1-606d191c994e",
   "metadata": {},
   "outputs": [
    {
     "name": "stdout",
     "output_type": "stream",
     "text": [
      "10\n"
     ]
    }
   ],
   "source": [
    "arr = np.array([[[[[[10,20,30]]]]]])\n",
    "print(arr[0][0][0][0][0][0])"
   ]
  },
  {
   "cell_type": "code",
   "execution_count": 616,
   "id": "7ee9b1b4-c93a-4dd1-8f14-0ff8cd9cc687",
   "metadata": {},
   "outputs": [
    {
     "data": {
      "text/plain": [
       "2"
      ]
     },
     "execution_count": 616,
     "metadata": {},
     "output_type": "execute_result"
    }
   ],
   "source": [
    "arr = np.array([[10,20],[30,40],[50,60]])\n",
    "arr.ndim"
   ]
  },
  {
   "cell_type": "code",
   "execution_count": 618,
   "id": "a3fd8ac3-d6ff-4984-9544-f71efa311504",
   "metadata": {},
   "outputs": [
    {
     "data": {
      "text/plain": [
       "(3, 2)"
      ]
     },
     "execution_count": 618,
     "metadata": {},
     "output_type": "execute_result"
    }
   ],
   "source": [
    "arr.shape"
   ]
  },
  {
   "cell_type": "raw",
   "id": "768c30aa-ceda-4897-a676-2fbcfff3f6d3",
   "metadata": {},
   "source": [
    "(3, 2)\n",
    "\n",
    "3 rows \n",
    "2 cols\n",
    "\n",
    "      C1   C2\n",
    "   R1 10  20\n",
    "  ---------\n",
    "   R2 30  40\n",
    "  ---------\n",
    "   R3 50  60\n",
    "  ---------"
   ]
  },
  {
   "cell_type": "code",
   "execution_count": 620,
   "id": "9128cf2b-b563-40b3-a02f-601eeca4559f",
   "metadata": {},
   "outputs": [
    {
     "data": {
      "text/plain": [
       "40"
      ]
     },
     "execution_count": 620,
     "metadata": {},
     "output_type": "execute_result"
    }
   ],
   "source": [
    "arr[1][1]"
   ]
  },
  {
   "cell_type": "code",
   "execution_count": 622,
   "id": "3e1947af-532b-4d4a-857b-dcfdf8f28ea2",
   "metadata": {},
   "outputs": [
    {
     "data": {
      "text/plain": [
       "40"
      ]
     },
     "execution_count": 622,
     "metadata": {},
     "output_type": "execute_result"
    }
   ],
   "source": [
    "arr[1,1] # same as arr[1][1]"
   ]
  },
  {
   "cell_type": "code",
   "execution_count": 624,
   "id": "b1078c0b-f429-476c-90f3-cf112233173f",
   "metadata": {},
   "outputs": [
    {
     "data": {
      "text/plain": [
       "array([[10, 20],\n",
       "       [30, 40],\n",
       "       [50, 60]])"
      ]
     },
     "execution_count": 624,
     "metadata": {},
     "output_type": "execute_result"
    }
   ],
   "source": [
    "arr"
   ]
  },
  {
   "cell_type": "code",
   "execution_count": 626,
   "id": "a5e79e99-ea45-460a-85b5-345ea802d1b6",
   "metadata": {},
   "outputs": [
    {
     "data": {
      "text/plain": [
       "array([[10, 20, 30],\n",
       "       [40, 50, 60]])"
      ]
     },
     "execution_count": 626,
     "metadata": {},
     "output_type": "execute_result"
    }
   ],
   "source": [
    "arr.reshape(2,3)"
   ]
  },
  {
   "cell_type": "code",
   "execution_count": 628,
   "id": "bf8c644f-ac46-4cf8-89f8-bc2963846cdc",
   "metadata": {},
   "outputs": [
    {
     "data": {
      "text/plain": [
       "array([[10, 20, 30, 40, 50, 60]])"
      ]
     },
     "execution_count": 628,
     "metadata": {},
     "output_type": "execute_result"
    }
   ],
   "source": [
    "arr.reshape(1,6)"
   ]
  },
  {
   "cell_type": "code",
   "execution_count": 630,
   "id": "91480364-b5fd-4c48-9586-a18a63f56f5f",
   "metadata": {},
   "outputs": [
    {
     "data": {
      "text/plain": [
       "array([[10],\n",
       "       [20],\n",
       "       [30],\n",
       "       [40],\n",
       "       [50],\n",
       "       [60]])"
      ]
     },
     "execution_count": 630,
     "metadata": {},
     "output_type": "execute_result"
    }
   ],
   "source": [
    "arr.reshape(6,1)"
   ]
  },
  {
   "cell_type": "code",
   "execution_count": 632,
   "id": "3565befc-e2d1-4b01-b6b1-28f027099ba4",
   "metadata": {},
   "outputs": [
    {
     "ename": "ValueError",
     "evalue": "cannot reshape array of size 6 into shape (4,3)",
     "output_type": "error",
     "traceback": [
      "\u001b[1;31m---------------------------------------------------------------------------\u001b[0m",
      "\u001b[1;31mValueError\u001b[0m                                Traceback (most recent call last)",
      "Cell \u001b[1;32mIn[632], line 1\u001b[0m\n\u001b[1;32m----> 1\u001b[0m arr\u001b[38;5;241m.\u001b[39mreshape(\u001b[38;5;241m4\u001b[39m,\u001b[38;5;241m3\u001b[39m)\n",
      "\u001b[1;31mValueError\u001b[0m: cannot reshape array of size 6 into shape (4,3)"
     ]
    }
   ],
   "source": [
    "arr.reshape(4,3)"
   ]
  },
  {
   "cell_type": "code",
   "execution_count": 634,
   "id": "93cc5c60-371a-459c-b472-30dda3f69d1a",
   "metadata": {},
   "outputs": [
    {
     "data": {
      "text/plain": [
       "array([[0.44069415, 0.243428  , 0.52428807, 0.29804657, 0.5287679 ],\n",
       "       [0.41291223, 0.75501237, 0.5132871 , 0.99260624, 0.6777673 ],\n",
       "       [0.1839532 , 0.37025349, 0.41808479, 0.29764204, 0.61924176]])"
      ]
     },
     "execution_count": 634,
     "metadata": {},
     "output_type": "execute_result"
    }
   ],
   "source": [
    "np.random.rand(3,5) # 3 rows X 5 cols"
   ]
  },
  {
   "cell_type": "code",
   "execution_count": 636,
   "id": "49fd3d8d-ab9b-4919-8ea2-7718319f5c97",
   "metadata": {},
   "outputs": [
    {
     "data": {
      "text/plain": [
       "array([[[[0.64814893, 0.60647204, 0.37405705, 0.21117769, 0.75993717],\n",
       "         [0.26084366, 0.94192663, 0.92894366, 0.2304782 , 0.33012334],\n",
       "         [0.220105  , 0.37596463, 0.09091766, 0.68327089, 0.37518584],\n",
       "         [0.68300417, 0.36246854, 0.91505857, 0.41264635, 0.44700479]],\n",
       "\n",
       "        [[0.96483821, 0.35283928, 0.73120842, 0.51022535, 0.41537343],\n",
       "         [0.49093267, 0.63581139, 0.05952787, 0.21151712, 0.72805343],\n",
       "         [0.16876541, 0.54761333, 0.77745025, 0.20590455, 0.75488265],\n",
       "         [0.26722576, 0.48876014, 0.49324868, 0.820019  , 0.52831151]],\n",
       "\n",
       "        [[0.27489669, 0.58263478, 0.8760554 , 0.76221875, 0.9809754 ],\n",
       "         [0.68202309, 0.77202132, 0.26679707, 0.11309065, 0.30004473],\n",
       "         [0.28125086, 0.64886866, 0.37806923, 0.20865113, 0.02216356],\n",
       "         [0.66618928, 0.91673624, 0.65496172, 0.69716735, 0.41482085]]],\n",
       "\n",
       "\n",
       "       [[[0.67734218, 0.36830971, 0.41896855, 0.20155832, 0.01895048],\n",
       "         [0.40793406, 0.66119892, 0.34744308, 0.51786463, 0.87406381],\n",
       "         [0.91652083, 0.84240618, 0.79646801, 0.3809982 , 0.37437839],\n",
       "         [0.87811807, 0.15875238, 0.88392255, 0.9212662 , 0.6448799 ]],\n",
       "\n",
       "        [[0.8056933 , 0.59288549, 0.75638042, 0.9360718 , 0.48090869],\n",
       "         [0.426093  , 0.98492911, 0.79388265, 0.52140702, 0.9431183 ],\n",
       "         [0.43890942, 0.08826376, 0.17534051, 0.6523187 , 0.61143075],\n",
       "         [0.70425243, 0.81613996, 0.2788333 , 0.55252404, 0.36873781]],\n",
       "\n",
       "        [[0.86118198, 0.66351504, 0.70024865, 0.71955455, 0.07437405],\n",
       "         [0.27572598, 0.48085733, 0.88030747, 0.24395003, 0.38313603],\n",
       "         [0.48819392, 0.51108676, 0.51900714, 0.8708414 , 0.98189417],\n",
       "         [0.14441923, 0.0636655 , 0.20099624, 0.10646046, 0.33925017]]]])"
      ]
     },
     "execution_count": 636,
     "metadata": {},
     "output_type": "execute_result"
    }
   ],
   "source": [
    "\n",
    "np.random.rand(2,3,4,5) # 4 rows X 5 cols"
   ]
  },
  {
   "cell_type": "code",
   "execution_count": 638,
   "id": "f932aaa8-8be9-4d0f-9330-9b020850ac01",
   "metadata": {},
   "outputs": [
    {
     "data": {
      "text/plain": [
       "4"
      ]
     },
     "execution_count": 638,
     "metadata": {},
     "output_type": "execute_result"
    }
   ],
   "source": [
    "arr = np.random.rand(2,3,4,5)\n",
    "arr.ndim"
   ]
  },
  {
   "cell_type": "code",
   "execution_count": 640,
   "id": "344d0c40-a00a-4d86-b3aa-b2630c42cc08",
   "metadata": {},
   "outputs": [
    {
     "data": {
      "text/plain": [
       "array([[[0.31054418, 0.9826182 , 0.83659567, 0.66218005, 0.87208479],\n",
       "        [0.12727589, 0.44580139, 0.38382095, 0.38308906, 0.00822344],\n",
       "        [0.98590817, 0.21283975, 0.71024293, 0.47905693, 0.3027628 ],\n",
       "        [0.03849948, 0.31755032, 0.74675422, 0.06503439, 0.49297831]],\n",
       "\n",
       "       [[0.12940493, 0.38437041, 0.52638469, 0.3262254 , 0.64787978],\n",
       "        [0.15308552, 0.07169533, 0.54064156, 0.20153272, 0.09462493],\n",
       "        [0.47575344, 0.70853627, 0.93298457, 0.68919313, 0.01748545],\n",
       "        [0.80588943, 0.6136255 , 0.66937388, 0.82671797, 0.53279201]],\n",
       "\n",
       "       [[0.97398238, 0.13151458, 0.67078466, 0.39912265, 0.65548053],\n",
       "        [0.45531661, 0.736331  , 0.66745765, 0.46854011, 0.35267917],\n",
       "        [0.43781651, 0.31324614, 0.83674464, 0.67006922, 0.84175721],\n",
       "        [0.81499724, 0.85426399, 0.4280126 , 0.84362908, 0.73781485]]])"
      ]
     },
     "execution_count": 640,
     "metadata": {},
     "output_type": "execute_result"
    }
   ],
   "source": [
    "arr[0]"
   ]
  },
  {
   "cell_type": "code",
   "execution_count": 642,
   "id": "61b4b4df-a35f-4a7b-a918-f8cc8af76fe1",
   "metadata": {},
   "outputs": [
    {
     "data": {
      "text/plain": [
       "array([[0.31054418, 0.9826182 , 0.83659567, 0.66218005, 0.87208479],\n",
       "       [0.12727589, 0.44580139, 0.38382095, 0.38308906, 0.00822344],\n",
       "       [0.98590817, 0.21283975, 0.71024293, 0.47905693, 0.3027628 ],\n",
       "       [0.03849948, 0.31755032, 0.74675422, 0.06503439, 0.49297831]])"
      ]
     },
     "execution_count": 642,
     "metadata": {},
     "output_type": "execute_result"
    }
   ],
   "source": [
    "arr[0][0]"
   ]
  },
  {
   "cell_type": "code",
   "execution_count": 644,
   "id": "eca66aef-3c80-4555-9047-a9b122a4a269",
   "metadata": {},
   "outputs": [
    {
     "data": {
      "text/plain": [
       "array([0.31054418, 0.9826182 , 0.83659567, 0.66218005, 0.87208479])"
      ]
     },
     "execution_count": 644,
     "metadata": {},
     "output_type": "execute_result"
    }
   ],
   "source": [
    "arr[0][0][0]"
   ]
  },
  {
   "cell_type": "code",
   "execution_count": 646,
   "id": "4a09ef58-fc56-4b4f-af9e-9d517e7c317f",
   "metadata": {},
   "outputs": [
    {
     "data": {
      "text/plain": [
       "0.3105441829429678"
      ]
     },
     "execution_count": 646,
     "metadata": {},
     "output_type": "execute_result"
    }
   ],
   "source": [
    "arr[0][0][0][0]"
   ]
  },
  {
   "cell_type": "code",
   "execution_count": 650,
   "id": "f41301b7-422c-49a5-8ccf-3a7c42b3e5e4",
   "metadata": {},
   "outputs": [
    {
     "data": {
      "text/plain": [
       "array([1, 2, 3, 4])"
      ]
     },
     "execution_count": 650,
     "metadata": {},
     "output_type": "execute_result"
    }
   ],
   "source": [
    "np.arange(1,5)"
   ]
  },
  {
   "cell_type": "code",
   "execution_count": 652,
   "id": "8f67427b-bd7f-4488-8d2b-2da70af7cdc0",
   "metadata": {},
   "outputs": [
    {
     "data": {
      "text/plain": [
       "150"
      ]
     },
     "execution_count": 652,
     "metadata": {},
     "output_type": "execute_result"
    }
   ],
   "source": [
    "L=[10,20,30,40,50]\n",
    "\n",
    "total = 0\n",
    "for var in L:\n",
    "    total = total + var\n",
    "total"
   ]
  },
  {
   "cell_type": "code",
   "execution_count": 654,
   "id": "455f1a36-894b-4c9d-a71e-c54684b88100",
   "metadata": {},
   "outputs": [
    {
     "data": {
      "text/plain": [
       "150"
      ]
     },
     "execution_count": 654,
     "metadata": {},
     "output_type": "execute_result"
    }
   ],
   "source": [
    "np.sum(L)"
   ]
  },
  {
   "cell_type": "code",
   "execution_count": 656,
   "id": "40fb2918-837c-4be0-8eeb-ce70dd11c92c",
   "metadata": {},
   "outputs": [
    {
     "data": {
      "text/plain": [
       "50"
      ]
     },
     "execution_count": 656,
     "metadata": {},
     "output_type": "execute_result"
    }
   ],
   "source": [
    "np.max(L)"
   ]
  },
  {
   "cell_type": "code",
   "execution_count": 658,
   "id": "a59a0c9d-7790-4bdc-ba32-3883c5a71a04",
   "metadata": {},
   "outputs": [
    {
     "data": {
      "text/plain": [
       "10"
      ]
     },
     "execution_count": 658,
     "metadata": {},
     "output_type": "execute_result"
    }
   ],
   "source": [
    "np.min(L)"
   ]
  },
  {
   "cell_type": "code",
   "execution_count": 660,
   "id": "7d61ea3c-ba20-4329-bd9c-a266bed05235",
   "metadata": {},
   "outputs": [
    {
     "data": {
      "text/plain": [
       "30.0"
      ]
     },
     "execution_count": 660,
     "metadata": {},
     "output_type": "execute_result"
    }
   ],
   "source": [
    "np.mean(L)"
   ]
  },
  {
   "cell_type": "code",
   "execution_count": 666,
   "id": "12b9d34c-5abd-425e-b8e5-2a2e14b9eadc",
   "metadata": {},
   "outputs": [
    {
     "name": "stdout",
     "output_type": "stream",
     "text": [
      "(2, 3) 2\n"
     ]
    }
   ],
   "source": [
    "arr = np.array([[10,20,30],[40,50,60]])\n",
    "print(arr.shape,arr.ndim)"
   ]
  },
  {
   "cell_type": "code",
   "execution_count": 668,
   "id": "a394173d-8e3f-4e22-87a8-462302243734",
   "metadata": {},
   "outputs": [
    {
     "data": {
      "text/plain": [
       "210"
      ]
     },
     "execution_count": 668,
     "metadata": {},
     "output_type": "execute_result"
    }
   ],
   "source": [
    "np.sum(arr)"
   ]
  },
  {
   "cell_type": "raw",
   "id": "6b598d79-8346-4d06-a021-57c5180ecea4",
   "metadata": {},
   "source": [
    "      C1  C2   C3\n",
    "R1   10   20   30\n",
    "R2   40   50   60"
   ]
  },
  {
   "cell_type": "code",
   "execution_count": 670,
   "id": "53a2e8c5-99cc-44bb-ba55-09c09cd57aa7",
   "metadata": {},
   "outputs": [
    {
     "data": {
      "text/plain": [
       "array([50, 70, 90])"
      ]
     },
     "execution_count": 670,
     "metadata": {},
     "output_type": "execute_result"
    }
   ],
   "source": [
    "np.sum(arr,axis=0)"
   ]
  },
  {
   "cell_type": "code",
   "execution_count": 672,
   "id": "c5b44433-0f5c-4634-8b54-11597b075528",
   "metadata": {},
   "outputs": [
    {
     "data": {
      "text/plain": [
       "array([ 60, 150])"
      ]
     },
     "execution_count": 672,
     "metadata": {},
     "output_type": "execute_result"
    }
   ],
   "source": [
    "np.sum(arr,axis=1)"
   ]
  },
  {
   "cell_type": "code",
   "execution_count": 682,
   "id": "2f5f8523-e010-44f8-98c8-0d90de3a9c30",
   "metadata": {},
   "outputs": [
    {
     "data": {
      "text/plain": [
       "array([False,  True,  True])"
      ]
     },
     "execution_count": 682,
     "metadata": {},
     "output_type": "execute_result"
    }
   ],
   "source": [
    "# boolean index \n",
    "arr[0] >15"
   ]
  },
  {
   "cell_type": "code",
   "execution_count": 690,
   "id": "7a85b831-bcca-4091-ae1b-c22393166f13",
   "metadata": {},
   "outputs": [
    {
     "data": {
      "text/plain": [
       "array([[False,  True,  True],\n",
       "       [ True,  True,  True]])"
      ]
     },
     "execution_count": 690,
     "metadata": {},
     "output_type": "execute_result"
    }
   ],
   "source": [
    "arr > 15"
   ]
  },
  {
   "cell_type": "code",
   "execution_count": 692,
   "id": "a30110d8-4134-467a-acd7-15fe37853888",
   "metadata": {},
   "outputs": [
    {
     "data": {
      "text/plain": [
       "array([20, 30, 40, 50, 60])"
      ]
     },
     "execution_count": 692,
     "metadata": {},
     "output_type": "execute_result"
    }
   ],
   "source": [
    "arr[arr > 15]"
   ]
  },
  {
   "cell_type": "code",
   "execution_count": 696,
   "id": "ca425604-5b17-493d-bd58-d6ef49eaa078",
   "metadata": {},
   "outputs": [
    {
     "data": {
      "text/plain": [
       "array([[False,  True, False],\n",
       "       [False, False, False]])"
      ]
     },
     "execution_count": 696,
     "metadata": {},
     "output_type": "execute_result"
    }
   ],
   "source": [
    "(arr >15) & (arr <25)"
   ]
  },
  {
   "cell_type": "raw",
   "id": "d85caca9-9b27-48ab-ae46-e5498b58e082",
   "metadata": {},
   "source": [
    "& - logical AND\n",
    "| - logical OR"
   ]
  },
  {
   "cell_type": "code",
   "execution_count": 698,
   "id": "56283bde-27ba-46df-abcd-94a063a5cb54",
   "metadata": {},
   "outputs": [
    {
     "data": {
      "text/plain": [
       "array([20])"
      ]
     },
     "execution_count": 698,
     "metadata": {},
     "output_type": "execute_result"
    }
   ],
   "source": [
    "arr[(arr >15) & (arr <25)]"
   ]
  }
 ],
 "metadata": {
  "kernelspec": {
   "display_name": "Python 3 (ipykernel)",
   "language": "python",
   "name": "python3"
  },
  "language_info": {
   "codemirror_mode": {
    "name": "ipython",
    "version": 3
   },
   "file_extension": ".py",
   "mimetype": "text/x-python",
   "name": "python",
   "nbconvert_exporter": "python",
   "pygments_lexer": "ipython3",
   "version": "3.12.3"
  }
 },
 "nbformat": 4,
 "nbformat_minor": 5
}
