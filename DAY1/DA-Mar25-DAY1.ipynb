{
 "cells": [
  {
   "cell_type": "code",
   "execution_count": null,
   "id": "6ce10996-37d4-4302-a9c7-39063af3d7ff",
   "metadata": {},
   "outputs": [],
   "source": [
    "anaconda install python\n",
    "-------------------------\n",
    "1. by default data analytics and ML libs are avaiable \n",
    "2. Ipython - GIL disabled - real multithread\n",
    "                   Vs\n",
    "python.org\n",
    "----------\n",
    " |-> we can do python programming \n",
    "      pip install numpy ....\n",
    " |-> Cpython - GIL - enabled"
   ]
  },
  {
   "cell_type": "code",
   "execution_count": null,
   "id": "e0b8dc56-bef8-4453-8db1-99bc9ffe01bc",
   "metadata": {},
   "outputs": [],
   "source": [
    "In python everything is an object ( class <--> object)\n",
    "          ----------\n",
    "            10 10.0 True False None 'abcdefgh' //object"
   ]
  },
  {
   "cell_type": "code",
   "execution_count": 1,
   "id": "e7a4f63e-cd36-4448-a295-90ef55255522",
   "metadata": {},
   "outputs": [
    {
     "name": "stdout",
     "output_type": "stream",
     "text": [
      "<class 'int'> <class 'float'> <class 'str'>\n"
     ]
    }
   ],
   "source": [
    "print(type(10),type(10.0),type('10'))"
   ]
  },
  {
   "cell_type": "code",
   "execution_count": 5,
   "id": "c3893836-72f9-4c64-ace2-bc44af26386b",
   "metadata": {},
   "outputs": [
    {
     "data": {
      "text/plain": [
       "'0x7ffe0ce85ad8'"
      ]
     },
     "execution_count": 5,
     "metadata": {},
     "output_type": "execute_result"
    }
   ],
   "source": [
    "hex(id(10))"
   ]
  },
  {
   "cell_type": "code",
   "execution_count": 11,
   "id": "50f6e82b-55be-467e-ac4a-ab845c2eb88d",
   "metadata": {},
   "outputs": [
    {
     "name": "stdout",
     "output_type": "stream",
     "text": [
      "0x7ffe0ce85ad8\n",
      "0x7ffe0ce85ad8\n",
      "0x7ffe0ce85ad8\n"
     ]
    }
   ],
   "source": [
    "a=10\n",
    "b=4+6\n",
    "c=3+7\n",
    "print(hex(id(a)))\n",
    "print(hex(id(b)))\n",
    "print(hex(id(c)))"
   ]
  },
  {
   "cell_type": "code",
   "execution_count": 13,
   "id": "35015637-42b1-4c0b-8eff-4f21d4582949",
   "metadata": {},
   "outputs": [
    {
     "name": "stdout",
     "output_type": "stream",
     "text": [
      "0x7ffe0ce85af8\n"
     ]
    }
   ],
   "source": [
    "a=a+1\n",
    "print(hex(id(a)))"
   ]
  },
  {
   "cell_type": "code",
   "execution_count": null,
   "id": "2a84982f-eba2-44bf-bd9f-fbab58e7aa7a",
   "metadata": {},
   "outputs": [],
   "source": [
    "procedure style code - direct approach (ex: var = 10\n",
    "                                            def f1():\n",
    "                                                 ...\n",
    "                                            f1() <== direct call\n",
    "                                            print(var)<== direct call)\n",
    "\n",
    "object oriented style code - object based approach (ex: obj1.var = 10\n",
    "                                                        obj2.var = 10\n",
    "                                                        obj1.fx() <== method Call)\n",
    "\n",
    "\n",
    "functional style code - higher order -> function(anotherfunction,...) \n",
    "---------------------- //Single line code - this is not block style code\n",
    "  fA(fB,...) ->fA result"
   ]
  },
  {
   "cell_type": "code",
   "execution_count": 15,
   "id": "a487a293-7226-48bc-9481-c00a40163159",
   "metadata": {},
   "outputs": [
    {
     "name": "stdout",
     "output_type": "stream",
     "text": [
      "[101, 102, 103, 104, 105, 106, 107, 108, 109, 110]\n"
     ]
    }
   ],
   "source": [
    "L = [] # empty list\n",
    "\n",
    "def f1(a):\n",
    "    return a+100\n",
    "\n",
    "for var in range(1,11):\n",
    "    r = f1(var)\n",
    "    L.append(r)\n",
    "print(L)"
   ]
  },
  {
   "cell_type": "code",
   "execution_count": 19,
   "id": "39f64d3e-e218-4183-911f-aa525b7ad32d",
   "metadata": {},
   "outputs": [
    {
     "data": {
      "text/plain": [
       "[101, 102, 103, 104, 105, 106, 107, 108, 109, 110]"
      ]
     },
     "execution_count": 19,
     "metadata": {},
     "output_type": "execute_result"
    }
   ],
   "source": [
    "list(map(lambda a:a+100,range(1,11)))"
   ]
  },
  {
   "cell_type": "code",
   "execution_count": null,
   "id": "82c709e8-77b1-4ba9-824c-94c994780e84",
   "metadata": {},
   "outputs": [],
   "source": [
    "Python native type - class\n",
    "int float complex\n",
    "bool NoneType\n",
    "str bytes list tuple dict set "
   ]
  },
  {
   "cell_type": "code",
   "execution_count": 25,
   "id": "67eb466c-8f10-4eb2-9df1-ed0c90058936",
   "metadata": {},
   "outputs": [
    {
     "name": "stdout",
     "output_type": "stream",
     "text": [
      "<class 'int'> 10\n",
      "<class 'float'> 10.0\n",
      "<class 'complex'> (1+3j)\n"
     ]
    }
   ],
   "source": [
    "var = 10  # initialization \n",
    "print(type(var),var)\n",
    "print(type(10.0),10.0)\n",
    "print(type(1+3j),1+3j)"
   ]
  },
  {
   "cell_type": "code",
   "execution_count": 27,
   "id": "211b6a67-0f19-4b32-9f89-2c250b7a86a1",
   "metadata": {},
   "outputs": [
    {
     "name": "stdout",
     "output_type": "stream",
     "text": [
      "<class 'int'>\n"
     ]
    }
   ],
   "source": [
    "print(type(1231314241423413253135345345135152132412412342142423423))"
   ]
  },
  {
   "cell_type": "code",
   "execution_count": 29,
   "id": "7e25f53b-b2f9-437e-b626-10b2e17a3475",
   "metadata": {},
   "outputs": [
    {
     "name": "stdout",
     "output_type": "stream",
     "text": [
      "<class 'int'>\n"
     ]
    }
   ],
   "source": [
    "print(type(-1231314241423413253135345345135152132412412342142423423))"
   ]
  },
  {
   "cell_type": "code",
   "execution_count": 31,
   "id": "ab241d80-e6c3-43a3-9984-b915c9aeb00a",
   "metadata": {},
   "outputs": [
    {
     "name": "stdout",
     "output_type": "stream",
     "text": [
      "<class 'float'>\n"
     ]
    }
   ],
   "source": [
    "print(type(1231314241423413253135345345135152132412412342142423423.0))"
   ]
  },
  {
   "cell_type": "code",
   "execution_count": 33,
   "id": "09b05197-332e-4e64-8459-48006eb2eb84",
   "metadata": {},
   "outputs": [
    {
     "name": "stdout",
     "output_type": "stream",
     "text": [
      "30\n",
      "30.0\n"
     ]
    }
   ],
   "source": [
    "# int,float ->int,float\n",
    "print(10+20)\n",
    "print(10+20.0)"
   ]
  },
  {
   "cell_type": "code",
   "execution_count": 35,
   "id": "a17dc924-012e-41c4-bada-6c00a48790ab",
   "metadata": {},
   "outputs": [
    {
     "data": {
      "text/plain": [
       "622.1034"
      ]
     },
     "execution_count": 35,
     "metadata": {},
     "output_type": "execute_result"
    }
   ],
   "source": [
    "cost=3456.13\n",
    "cost * 0.18"
   ]
  },
  {
   "cell_type": "code",
   "execution_count": null,
   "id": "a2043948-5086-47f4-8fb5-291a6e62debf",
   "metadata": {},
   "outputs": [],
   "source": [
    "# typecast to int  ->int()  ->int_value\n",
    "# typecast to float ->float() ->float_Value"
   ]
  },
  {
   "cell_type": "code",
   "execution_count": 37,
   "id": "f05e0ffc-3592-4446-aac2-06b6338fd536",
   "metadata": {},
   "outputs": [
    {
     "name": "stdout",
     "output_type": "stream",
     "text": [
      "45.0\n",
      "123\n"
     ]
    }
   ],
   "source": [
    "print(float(45)) # typecast to float ->float() ->float_Value\n",
    "print(int(123.562)) # typecast to int  ->int()  ->int_value"
   ]
  },
  {
   "cell_type": "code",
   "execution_count": 39,
   "id": "b381be56-a948-4179-8f18-ad3ffdb2a471",
   "metadata": {},
   "outputs": [
    {
     "data": {
      "text/plain": [
       "622"
      ]
     },
     "execution_count": 39,
     "metadata": {},
     "output_type": "execute_result"
    }
   ],
   "source": [
    "cost=3456.13\n",
    "int(cost * 0.18)"
   ]
  },
  {
   "cell_type": "markdown",
   "id": "0aad28d6-1b4e-4158-8532-27c737a0d111",
   "metadata": {},
   "source": [
    "# arithmetic operators \n",
    "# + - * / // **  input_types are: int,float ->int,float"
   ]
  },
  {
   "cell_type": "code",
   "execution_count": 43,
   "id": "d305c4b4-6795-4aaa-b8c3-849415ca96b7",
   "metadata": {},
   "outputs": [
    {
     "name": "stdout",
     "output_type": "stream",
     "text": [
      "<class 'bool'> <class 'bool'>\n",
      "True True True True\n",
      "False False False False False False False\n"
     ]
    }
   ],
   "source": [
    "print(type(True),type(False))\n",
    "print(bool(1),bool(-1),bool(1.0),bool('abc'))\n",
    "print(bool(0),bool(0.0),bool(''),bool([]),bool(()),bool({}),bool(None))"
   ]
  },
  {
   "cell_type": "code",
   "execution_count": 45,
   "id": "e7b0a30f-62b3-4fcf-bbe1-4f897dc341e6",
   "metadata": {},
   "outputs": [
    {
     "name": "stdout",
     "output_type": "stream",
     "text": [
      "Yes-True block\n"
     ]
    }
   ],
   "source": [
    "if(1):\n",
    "    print('Yes-True block')\n",
    "else:\n",
    "    print('False block')"
   ]
  },
  {
   "cell_type": "code",
   "execution_count": 47,
   "id": "4b878105-3aad-4f83-a73a-30308c8c61bd",
   "metadata": {},
   "outputs": [
    {
     "name": "stdout",
     "output_type": "stream",
     "text": [
      "False block\n"
     ]
    }
   ],
   "source": [
    "if(0):\n",
    "    print('Yes-True block')\n",
    "else:\n",
    "    print('False block')"
   ]
  },
  {
   "cell_type": "code",
   "execution_count": 49,
   "id": "135d0213-aa19-496e-9f33-9c3427980691",
   "metadata": {},
   "outputs": [
    {
     "name": "stdin",
     "output_type": "stream",
     "text": [
      "Enter your name: karthik\n"
     ]
    },
    {
     "data": {
      "text/plain": [
       "'karthik'"
      ]
     },
     "execution_count": 49,
     "metadata": {},
     "output_type": "execute_result"
    }
   ],
   "source": [
    "my_name = input('Enter your name:')\n",
    "my_name"
   ]
  },
  {
   "cell_type": "code",
   "execution_count": 51,
   "id": "63d3f6e3-2e74-4f2c-9eb6-6c66daed1f80",
   "metadata": {},
   "outputs": [
    {
     "name": "stdin",
     "output_type": "stream",
     "text": [
      "Enter your name: \n"
     ]
    },
    {
     "data": {
      "text/plain": [
       "''"
      ]
     },
     "execution_count": 51,
     "metadata": {},
     "output_type": "execute_result"
    }
   ],
   "source": [
    "my_name = input('Enter your name:')\n",
    "my_name"
   ]
  },
  {
   "cell_type": "code",
   "execution_count": 53,
   "id": "13561636-1e87-444d-b3ca-137e6cde79e7",
   "metadata": {},
   "outputs": [
    {
     "name": "stdin",
     "output_type": "stream",
     "text": [
      "Enter your name: vijay\n"
     ]
    },
    {
     "name": "stdout",
     "output_type": "stream",
     "text": [
      "Hello ... vijay\n"
     ]
    }
   ],
   "source": [
    "my_name = input('Enter your name:')\n",
    "if(my_name):\n",
    "    print('Hello ...',my_name)\n",
    "else:\n",
    "    print('Sorry your input is missing')"
   ]
  },
  {
   "cell_type": "code",
   "execution_count": 55,
   "id": "f027140b-4745-41ba-aa42-2180338f4a0b",
   "metadata": {},
   "outputs": [
    {
     "name": "stdin",
     "output_type": "stream",
     "text": [
      "Enter your name: \n"
     ]
    },
    {
     "name": "stdout",
     "output_type": "stream",
     "text": [
      "Sorry your input is missing\n"
     ]
    }
   ],
   "source": [
    "my_name = input('Enter your name:')\n",
    "if(my_name):\n",
    "    print('Hello ...',my_name)\n",
    "else:\n",
    "    print('Sorry your input is missing')"
   ]
  },
  {
   "cell_type": "markdown",
   "id": "34e70bfc-3e19-4ba4-bdb6-e3abf594284a",
   "metadata": {},
   "source": [
    "# In python any expression (or) method (or) function ->bool //use conditional statement"
   ]
  },
  {
   "cell_type": "code",
   "execution_count": 57,
   "id": "1740cc8a-5c1c-432e-aeab-23f4cacdbb14",
   "metadata": {},
   "outputs": [],
   "source": [
    "# string - collection of chars ''\n",
    "s1 = 'Hello'\n",
    "s2 = \"python\"\n",
    "s3 = '''this is \n",
    "multiline \n",
    "string'''\n",
    "s4 = \"\"\"list of servers\n",
    "Linux\n",
    "oracle linux\n",
    "redhat linux\"\"\""
   ]
  },
  {
   "cell_type": "code",
   "execution_count": 59,
   "id": "1551a23d-808a-4741-aebb-7b675080fbf1",
   "metadata": {},
   "outputs": [
    {
     "name": "stdout",
     "output_type": "stream",
     "text": [
      "<class 'str'> <class 'str'> <class 'str'> <class 'str'>\n"
     ]
    }
   ],
   "source": [
    "print(type(s1),type(s2),type(s3),type(s4))"
   ]
  },
  {
   "cell_type": "code",
   "execution_count": 61,
   "id": "949d5d8c-40ec-43ea-9e55-868b8aa9a0e3",
   "metadata": {},
   "outputs": [
    {
     "name": "stdout",
     "output_type": "stream",
     "text": [
      "this is \n",
      "multiline \n",
      "string\n"
     ]
    }
   ],
   "source": [
    "print(s3)"
   ]
  },
  {
   "cell_type": "code",
   "execution_count": 63,
   "id": "dee607c7-4ebc-4139-8cf9-84c931564286",
   "metadata": {},
   "outputs": [
    {
     "name": "stdout",
     "output_type": "stream",
     "text": [
      "list of servers\n",
      "Linux\n",
      "oracle linux\n",
      "redhat linux\n"
     ]
    }
   ],
   "source": [
    "print(s4)"
   ]
  },
  {
   "cell_type": "code",
   "execution_count": 67,
   "id": "6282144a-448e-4a2e-95b3-16e6e463864b",
   "metadata": {},
   "outputs": [
    {
     "data": {
      "text/plain": [
       "(47, 0)"
      ]
     },
     "execution_count": 67,
     "metadata": {},
     "output_type": "execute_result"
    }
   ],
   "source": [
    "# len(collection) ->int\n",
    "len(s4),len('')"
   ]
  },
  {
   "cell_type": "code",
   "execution_count": 69,
   "id": "3640f6dd-63fd-4224-a321-a77c24cad2f0",
   "metadata": {},
   "outputs": [
    {
     "name": "stdout",
     "output_type": "stream",
     "text": [
      "30\n",
      "Hellopython3.11version\n"
     ]
    }
   ],
   "source": [
    "# string operators \n",
    "# str1+str2+..strN ->output_str\n",
    "\n",
    "print(10+20)\n",
    "print(\"Hello\"+\"python\"+str(3.11)+\"version\")"
   ]
  },
  {
   "cell_type": "code",
   "execution_count": 71,
   "id": "742b19fb-45d5-4e09-b8c4-17c1dd93e18e",
   "metadata": {},
   "outputs": [
    {
     "data": {
      "text/plain": [
       "'HelloHelloHello'"
      ]
     },
     "execution_count": 71,
     "metadata": {},
     "output_type": "execute_result"
    }
   ],
   "source": [
    "# inputstring * n (int) ->output_str\n",
    "\"Hello\"*3"
   ]
  },
  {
   "cell_type": "code",
   "execution_count": 73,
   "id": "ef9347fe-9c3c-4865-aee2-5e53018dcbc6",
   "metadata": {},
   "outputs": [
    {
     "data": {
      "text/plain": [
       "True"
      ]
     },
     "execution_count": 73,
     "metadata": {},
     "output_type": "execute_result"
    }
   ],
   "source": [
    "# Relational Operators\n",
    "# == != < <= > >= (inputs: int,float,str) ->output: bool\n",
    "1562.31 >0.31"
   ]
  },
  {
   "cell_type": "code",
   "execution_count": 75,
   "id": "243da46a-823a-4ddd-b889-f2f61ae30eb5",
   "metadata": {},
   "outputs": [
    {
     "data": {
      "text/plain": [
       "True"
      ]
     },
     "execution_count": 75,
     "metadata": {},
     "output_type": "execute_result"
    }
   ],
   "source": [
    "# Logical operators\n",
    "# --------------------\n",
    "# and or not (inputs: int,float,str) ->output: bool\n",
    "\n",
    "# In Single conditional statement , test more than one condition //use logical operators\n",
    "\n",
    "# test range of port numbers 5000-5999\n",
    "\n",
    "port = 5690\n",
    "port >5000"
   ]
  },
  {
   "cell_type": "code",
   "execution_count": 77,
   "id": "67cd6f1d-2322-4e63-b1ba-c6a23d34979e",
   "metadata": {},
   "outputs": [
    {
     "data": {
      "text/plain": [
       "True"
      ]
     },
     "execution_count": 77,
     "metadata": {},
     "output_type": "execute_result"
    }
   ],
   "source": [
    "port <6000"
   ]
  },
  {
   "cell_type": "code",
   "execution_count": 79,
   "id": "63857c6e-57a0-460e-bdba-9f750c4bc46a",
   "metadata": {},
   "outputs": [
    {
     "data": {
      "text/plain": [
       "True"
      ]
     },
     "execution_count": 79,
     "metadata": {},
     "output_type": "execute_result"
    }
   ],
   "source": [
    "port >5000 and port <6000"
   ]
  },
  {
   "cell_type": "code",
   "execution_count": 81,
   "id": "cbcd10ad-1e0c-4ac1-8f1e-a0899979e50a",
   "metadata": {},
   "outputs": [
    {
     "name": "stdin",
     "output_type": "stream",
     "text": [
      "Enter a shell name: bash\n"
     ]
    },
    {
     "data": {
      "text/plain": [
       "True"
      ]
     },
     "execution_count": 81,
     "metadata": {},
     "output_type": "execute_result"
    }
   ],
   "source": [
    "sh_name = input('Enter a shell name:')\n",
    "sh_name == 'bash' or sh_name == 'ksh'"
   ]
  },
  {
   "cell_type": "code",
   "execution_count": 83,
   "id": "c6745aa9-2738-449b-a5ee-b0b51c614bfb",
   "metadata": {},
   "outputs": [
    {
     "name": "stdin",
     "output_type": "stream",
     "text": [
      "Enter a shell name: ksh\n"
     ]
    },
    {
     "data": {
      "text/plain": [
       "True"
      ]
     },
     "execution_count": 83,
     "metadata": {},
     "output_type": "execute_result"
    }
   ],
   "source": [
    "sh_name = input('Enter a shell name:')\n",
    "sh_name == 'bash' or sh_name == 'ksh'"
   ]
  },
  {
   "cell_type": "code",
   "execution_count": 85,
   "id": "a1241c80-be8e-4313-8c81-493bd8296403",
   "metadata": {},
   "outputs": [
    {
     "name": "stdin",
     "output_type": "stream",
     "text": [
      "Enter a shell name: csh\n"
     ]
    },
    {
     "data": {
      "text/plain": [
       "False"
      ]
     },
     "execution_count": 85,
     "metadata": {},
     "output_type": "execute_result"
    }
   ],
   "source": [
    "sh_name = input('Enter a shell name:')\n",
    "sh_name == 'bash' or sh_name == 'ksh'"
   ]
  },
  {
   "cell_type": "code",
   "execution_count": 87,
   "id": "4346a479-19dc-432d-8b06-d6d61dff81cb",
   "metadata": {},
   "outputs": [
    {
     "data": {
      "text/plain": [
       "False"
      ]
     },
     "execution_count": 87,
     "metadata": {},
     "output_type": "execute_result"
    }
   ],
   "source": [
    "not True"
   ]
  },
  {
   "cell_type": "code",
   "execution_count": 89,
   "id": "34a336aa-46b3-405a-b7b7-d31254e113d6",
   "metadata": {},
   "outputs": [
    {
     "data": {
      "text/plain": [
       "True"
      ]
     },
     "execution_count": 89,
     "metadata": {},
     "output_type": "execute_result"
    }
   ],
   "source": [
    "not False"
   ]
  },
  {
   "cell_type": "code",
   "execution_count": 91,
   "id": "97b7aeda-bbdd-4ea6-8df5-390def4c816f",
   "metadata": {},
   "outputs": [
    {
     "data": {
      "text/plain": [
       "True"
      ]
     },
     "execution_count": 91,
     "metadata": {},
     "output_type": "execute_result"
    }
   ],
   "source": [
    "# membership operators(inputs are: str,bytes,list,tuple,dict ->output:bool)\n",
    "# in not in\n",
    "\n",
    "# pattern_string in collection ->bool\n",
    "\n",
    "'sales' in '101,raj,sales,pune,1000'"
   ]
  },
  {
   "cell_type": "code",
   "execution_count": 93,
   "id": "8924e989-4475-43e1-8a90-4f5bc6d328d1",
   "metadata": {},
   "outputs": [
    {
     "data": {
      "text/plain": [
       "False"
      ]
     },
     "execution_count": 93,
     "metadata": {},
     "output_type": "execute_result"
    }
   ],
   "source": [
    "'sales' in '101,raj,prod,pune,1000'"
   ]
  },
  {
   "cell_type": "code",
   "execution_count": 95,
   "id": "62eca38c-acc2-40be-bd99-79f46507c52f",
   "metadata": {},
   "outputs": [
    {
     "name": "stdout",
     "output_type": "stream",
     "text": [
      "Yes - dept sales is exists\n"
     ]
    }
   ],
   "source": [
    "if('sales' in '101,raj,sales,pune,1000'):\n",
    "    print('Yes - dept sales is exists')\n",
    "else:\n",
    "    print('Sorry dept sales is not exists')"
   ]
  },
  {
   "cell_type": "markdown",
   "id": "06e0c833-f105-439e-9bd7-8af812df0bbd",
   "metadata": {},
   "source": [
    "Looping statements\n",
    "---------------------\n",
    "1. conditional style - while keyword\n",
    "2. collection style - for keyword\n",
    "\n",
    "1. conditional style - while keyword\n",
    "rule1 : initialization i=0 j=15 k = 50\n",
    "rule2 : condition   i <5   j>10 k <100\n",
    "rule3 : arithmetic  i=i+1  j=j-1 k=k+1 \n",
    "\n",
    "initialization\n",
    "while(condition):\n",
    "    <code block>\n",
    "    arithmetic"
   ]
  },
  {
   "cell_type": "code",
   "execution_count": 97,
   "id": "45934a69-d13f-49ec-a865-4a661ad847c9",
   "metadata": {},
   "outputs": [
    {
     "name": "stdout",
     "output_type": "stream",
     "text": [
      "i value is: 0\n",
      "i value is: 1\n",
      "i value is: 2\n",
      "i value is: 3\n",
      "i value is: 4\n"
     ]
    }
   ],
   "source": [
    "i=0\n",
    "while(i<5):\n",
    "    print('i value is:',i)\n",
    "    i=i+1"
   ]
  },
  {
   "cell_type": "code",
   "execution_count": 99,
   "id": "8269d603-ba25-4d73-8b03-a0cba2e14efe",
   "metadata": {},
   "outputs": [
    {
     "data": {
      "text/plain": [
       "5"
      ]
     },
     "execution_count": 99,
     "metadata": {},
     "output_type": "execute_result"
    }
   ],
   "source": [
    "i"
   ]
  },
  {
   "cell_type": "code",
   "execution_count": 101,
   "id": "0d4a3cbf-0231-4261-8b1f-86ede3edd095",
   "metadata": {},
   "outputs": [
    {
     "data": {
      "text/plain": [
       "False"
      ]
     },
     "execution_count": 101,
     "metadata": {},
     "output_type": "execute_result"
    }
   ],
   "source": [
    "i < 5"
   ]
  },
  {
   "cell_type": "code",
   "execution_count": 103,
   "id": "6c8ba444-31a6-48da-a287-a57e8b442d88",
   "metadata": {},
   "outputs": [],
   "source": [
    "while(False):\n",
    "    print('Hello')"
   ]
  },
  {
   "cell_type": "code",
   "execution_count": null,
   "id": "67bfb02e-8742-49f0-9227-7b355b23b531",
   "metadata": {},
   "outputs": [],
   "source": [
    "break     - exit from loop\n",
    "continue  - won't exit from loop - ignore current iteration - continue the loop"
   ]
  },
  {
   "cell_type": "markdown",
   "id": "bc81465a-d528-4d22-8ad2-6a56df90696f",
   "metadata": {},
   "source": [
    "for variable in <collection>:\n",
    "    <code block>\n",
    "\n",
    "for in - keywords"
   ]
  },
  {
   "cell_type": "code",
   "execution_count": 105,
   "id": "4442c867-aed4-4df5-a026-dee9ab82878b",
   "metadata": {},
   "outputs": [
    {
     "name": "stdout",
     "output_type": "stream",
     "text": [
      "h\n",
      "e\n",
      "l\n",
      "l\n",
      "o\n"
     ]
    }
   ],
   "source": [
    "for v in 'hello':\n",
    "    print(v)"
   ]
  },
  {
   "cell_type": "code",
   "execution_count": null,
   "id": "d13ec901-108e-4041-99a6-b4f4cfc3829a",
   "metadata": {},
   "outputs": [],
   "source": [
    "Write a program:\n",
    "Step 1: initialize the pin number (ex: pin=1234)\n",
    "Step 2: Use while loop to iterate following statement thrice\n",
    "\t(i) Read a pin number from <STDIN>\n",
    "\t(ii) Compare a input pin with existing pin number\n",
    "\t(iii) If both pin numbers are matched , display pin number is matched at count time & exit from loop.\n",
    "\t(iv) If all 3 attempts fails, display message “ your pin is blocked.”\n"
   ]
  },
  {
   "cell_type": "code",
   "execution_count": 107,
   "id": "7a0699d4-51c3-45c5-8ae7-66f9978864d0",
   "metadata": {},
   "outputs": [
    {
     "name": "stdin",
     "output_type": "stream",
     "text": [
      "Enter a pin Number: 1234\n"
     ]
    },
    {
     "name": "stdout",
     "output_type": "stream",
     "text": [
      "Success - pin is matched - 1\n"
     ]
    }
   ],
   "source": [
    "pin = 1234\n",
    "count = 0\n",
    "while(count < 3):\n",
    "    count = count + 1\n",
    "    p = input('Enter a pin Number:')\n",
    "    if(int(p) == pin):\n",
    "        print(f'Success - pin is matched - {count}')\n",
    "        break\n",
    "\n",
    "if(int(p) != pin):\n",
    "    print('Sorry your pin is blocked')"
   ]
  },
  {
   "cell_type": "code",
   "execution_count": 109,
   "id": "f72b07fb-4ab4-41f6-a8eb-1e17c48f4243",
   "metadata": {},
   "outputs": [
    {
     "name": "stdin",
     "output_type": "stream",
     "text": [
      "Enter a pin Number: 1255\n",
      "Enter a pin Number: 1234\n"
     ]
    },
    {
     "name": "stdout",
     "output_type": "stream",
     "text": [
      "Success - pin is matched - 2\n"
     ]
    }
   ],
   "source": [
    "pin = 1234\n",
    "count = 0\n",
    "while(count < 3):\n",
    "    count = count + 1\n",
    "    p = input('Enter a pin Number:')\n",
    "    if(int(p) == pin):\n",
    "        print(f'Success - pin is matched - {count}')\n",
    "        break\n",
    "\n",
    "if(int(p) != pin):\n",
    "    print('Sorry your pin is blocked')"
   ]
  },
  {
   "cell_type": "code",
   "execution_count": 111,
   "id": "1167ecf5-7dfc-4881-9b47-a8a2d8cb8e81",
   "metadata": {},
   "outputs": [
    {
     "name": "stdin",
     "output_type": "stream",
     "text": [
      "Enter a pin Number: 1221\n",
      "Enter a pin Number: 12312\n",
      "Enter a pin Number: 1234\n"
     ]
    },
    {
     "name": "stdout",
     "output_type": "stream",
     "text": [
      "Success - pin is matched - 3\n"
     ]
    }
   ],
   "source": [
    "pin = 1234\n",
    "count = 0\n",
    "while(count < 3):\n",
    "    count = count + 1\n",
    "    p = input('Enter a pin Number:')\n",
    "    if(int(p) == pin):\n",
    "        print(f'Success - pin is matched - {count}')\n",
    "        break\n",
    "\n",
    "if(int(p) != pin):\n",
    "    print('Sorry your pin is blocked')"
   ]
  },
  {
   "cell_type": "code",
   "execution_count": 113,
   "id": "f7a6bed9-22bc-4101-8690-3d9bbf699cd5",
   "metadata": {},
   "outputs": [
    {
     "name": "stdin",
     "output_type": "stream",
     "text": [
      "Enter a pin Number: 12312\n",
      "Enter a pin Number: 12312\n",
      "Enter a pin Number: 12312\n"
     ]
    },
    {
     "name": "stdout",
     "output_type": "stream",
     "text": [
      "Sorry your pin is blocked\n"
     ]
    }
   ],
   "source": [
    "pin = 1234\n",
    "count = 0\n",
    "while(count < 3):\n",
    "    count = count + 1\n",
    "    p = input('Enter a pin Number:')\n",
    "    if(int(p) == pin):\n",
    "        print(f'Success - pin is matched - {count}')\n",
    "        break\n",
    "\n",
    "if(int(p) != pin):\n",
    "    print('Sorry your pin is blocked')"
   ]
  },
  {
   "cell_type": "code",
   "execution_count": 115,
   "id": "4de1a503-eae4-4281-a021-6ad18c442a7b",
   "metadata": {},
   "outputs": [
    {
     "name": "stdout",
     "output_type": "stream",
     "text": [
      "product Name:pA  cost is:1000.35 product ID:101 status:True\n"
     ]
    }
   ],
   "source": [
    "# product\n",
    "#   |-->productName,productCost,productID ....\n",
    "\n",
    "pname = 'pA'\n",
    "pcost = 1000.35\n",
    "pid = 101\n",
    "pstatus = True\n",
    "\n",
    "print(f'product Name:{pname}  cost is:{pcost} product ID:{pid} status:{pstatus}')"
   ]
  },
  {
   "cell_type": "code",
   "execution_count": 117,
   "id": "f00fe854-3fbc-41a3-9fd5-d4d6b9351028",
   "metadata": {},
   "outputs": [
    {
     "data": {
      "text/plain": [
       "['pA', 1000.35, 101, True]"
      ]
     },
     "execution_count": 117,
     "metadata": {},
     "output_type": "execute_result"
    }
   ],
   "source": [
    "# list - Collection of different types of items\n",
    "# list_name = [<list of items>]\n",
    "\n",
    "product_details = [pname,pcost,pid,pstatus]\n",
    "product_details"
   ]
  },
  {
   "cell_type": "code",
   "execution_count": 121,
   "id": "9a3cb610-59e4-4e69-874c-8f7e96b7bae6",
   "metadata": {},
   "outputs": [
    {
     "name": "stdout",
     "output_type": "stream",
     "text": [
      "product Name:pA  cost is:1000.35 \n",
      "product ID:101 status:True\n"
     ]
    }
   ],
   "source": [
    "print(f'''product Name:{product_details[0]}  cost is:{product_details[1]} \n",
    "product ID:{product_details[2]} status:{product_details[3]}''')"
   ]
  },
  {
   "cell_type": "code",
   "execution_count": 123,
   "id": "808ed2ce-bba4-417b-91c7-ea57913f17ff",
   "metadata": {},
   "outputs": [
    {
     "data": {
      "text/plain": [
       "('pA', 1000.35, 101, True)"
      ]
     },
     "execution_count": 123,
     "metadata": {},
     "output_type": "execute_result"
    }
   ],
   "source": [
    "# tuple - Collection of different types of items\n",
    "# tuple_name = (<list of items>)\n",
    "\n",
    "product_details = (pname,pcost,pid,pstatus)\n",
    "product_details"
   ]
  },
  {
   "cell_type": "code",
   "execution_count": 125,
   "id": "ec8a83bc-b825-44c8-9aa1-36753e088c19",
   "metadata": {},
   "outputs": [
    {
     "name": "stdout",
     "output_type": "stream",
     "text": [
      "product Name:pA  cost is:1000.35 \n",
      "product ID:101 status:True\n"
     ]
    }
   ],
   "source": [
    "print(f'''product Name:{product_details[0]}  cost is:{product_details[1]} \n",
    "product ID:{product_details[2]} status:{product_details[3]}''')"
   ]
  },
  {
   "cell_type": "code",
   "execution_count": null,
   "id": "d360dec1-9ab1-416b-9358-80ea6a57e486",
   "metadata": {},
   "outputs": [],
   "source": [
    "# list - mutable - we can add new data; modify an existing data ; delete nth data\n",
    "# tuple - immutable - we can't add/modify/delete "
   ]
  },
  {
   "cell_type": "code",
   "execution_count": 127,
   "id": "38e5141e-e12d-407c-af32-258cae492a5e",
   "metadata": {},
   "outputs": [
    {
     "name": "stdout",
     "output_type": "stream",
     "text": [
      "D1\n",
      "D2\n",
      "D3\n"
     ]
    }
   ],
   "source": [
    "for var in ['D1','D2','D3']:\n",
    "    print(var)"
   ]
  },
  {
   "cell_type": "code",
   "execution_count": 129,
   "id": "cbb271ba-9215-425d-83d7-f525cbc53600",
   "metadata": {},
   "outputs": [
    {
     "name": "stdout",
     "output_type": "stream",
     "text": [
      "D1\n",
      "D2\n",
      "D3\n"
     ]
    }
   ],
   "source": [
    "for var in ('D1','D2','D3'):\n",
    "    print(var)"
   ]
  },
  {
   "cell_type": "markdown",
   "id": "7fe01f05-a407-4f75-8a24-e96a664e8f1a",
   "metadata": {},
   "source": [
    "# list - mutable - we can add new data; modify an existing data ; delete nth data\n",
    "\n",
    "# To add new data => listname.append(value) ->None <or> Listname.insert(index,value) ->None\n",
    "\n",
    "# To modify an existing data => listname[oldIndex]=updated_Value \n",
    "\n",
    "#To delete an existing value => listname.pop(index) ->removed_value \n",
    "                                                Vs \n",
    "                                listname.pop() ->remove_lastindex\n"
   ]
  },
  {
   "cell_type": "markdown",
   "id": "d20a5325-eedf-421e-86c1-d957d97de21b",
   "metadata": {},
   "source": [
    "Q1. write a python program \n",
    "Step 1 : Create a file name : p11.py \n",
    "Step 2: create an empty list\n",
    "Step 3: display size of list \n",
    "Step 4: use while loop  5 times \n",
    "                    i)  To read a hostname from <STDIN>\n",
    "                    ii) To add a input hostname to existing list\n",
    "Step 5: using for loop, display list of elements \n",
    "Step 6: display size of the list \n"
   ]
  },
  {
   "cell_type": "code",
   "execution_count": 131,
   "id": "812537d8-0fb8-47a2-b989-51d7cc4234fc",
   "metadata": {},
   "outputs": [
    {
     "name": "stdout",
     "output_type": "stream",
     "text": [
      "No.of hosts:0\n"
     ]
    },
    {
     "name": "stdin",
     "output_type": "stream",
     "text": [
      "Enter a hostname: host01\n",
      "Enter a hostname: host02.example.com\n",
      "Enter a hostname: host03\n",
      "Enter a hostname: host04\n",
      "Enter a hostname: host05\n"
     ]
    },
    {
     "name": "stdout",
     "output_type": "stream",
     "text": [
      "\n",
      "list of hostname:-\n",
      "Host name is:host01\n",
      "Host name is:host02.example.com\n",
      "Host name is:host03\n",
      "Host name is:host04\n",
      "Host name is:host05\n",
      "No.of hosts:5\n"
     ]
    }
   ],
   "source": [
    "hosts = [] # empty list\n",
    "print(f'No.of hosts:{len(hosts)}')\n",
    "\n",
    "c = 0 \n",
    "while(c < 5):\n",
    "    h = input('Enter a hostname:')\n",
    "    hosts.append(h) # adding new data to an existing list\n",
    "    c=c+1\n",
    "\n",
    "print('\\nlist of hostname:-')\n",
    "for var in hosts:\n",
    "    print(f'Host name is:{var}')\n",
    "\n",
    "print(f'No.of hosts:{len(hosts)}')"
   ]
  },
  {
   "cell_type": "code",
   "execution_count": null,
   "id": "e9dbfa7d-062b-4844-a2e5-a359ad43178e",
   "metadata": {},
   "outputs": [],
   "source": [
    "collection\n",
    "   |--> index based - str,bytes,list,tuple  - list is mutable\n",
    "   |--> key based  - dict - key:value //data - dict is mutable \n",
    "                     set - collection of keys // Not index ; Not Key:Value "
   ]
  },
  {
   "cell_type": "code",
   "execution_count": 135,
   "id": "390caaa8-197c-43ac-a1ca-9a4967328a9a",
   "metadata": {},
   "outputs": [
    {
     "data": {
      "text/plain": [
       "{'K1': 'pA', 'K2': 101, 'K3': True, 'K4': 1000.35}"
      ]
     },
     "execution_count": 135,
     "metadata": {},
     "output_type": "execute_result"
    }
   ],
   "source": [
    "pname = 'pA'\n",
    "pcost = 1000.35\n",
    "pid = 101\n",
    "pstatus = True\n",
    "\n",
    "product_details1 = [pname,pcost,pid,pstatus]\n",
    "\n",
    "product_details2 = (pname,pcost,pid,pstatus)\n",
    "\n",
    "product_details3 = {'K1':pname,'K2':pid,'K3':pstatus,'K4':pcost} # dict\n",
    "product_details3"
   ]
  },
  {
   "cell_type": "code",
   "execution_count": 137,
   "id": "715544c0-9733-4a01-b405-d165df92dd3a",
   "metadata": {},
   "outputs": [
    {
     "name": "stdout",
     "output_type": "stream",
     "text": [
      "pA\n",
      "pA\n"
     ]
    }
   ],
   "source": [
    "print(product_details1[0])\n",
    "print(product_details3['K1'])"
   ]
  },
  {
   "cell_type": "code",
   "execution_count": 139,
   "id": "f9b456c6-73df-4a83-b302-d0944e056ceb",
   "metadata": {},
   "outputs": [],
   "source": [
    "product_details1[1] = 2456.42 # modification\n",
    "product_details3['K4'] = 2456.42 # modification"
   ]
  },
  {
   "cell_type": "code",
   "execution_count": 141,
   "id": "f51bd1fb-0dfc-4afa-b4c9-8a180cec76b2",
   "metadata": {},
   "outputs": [
    {
     "data": {
      "text/plain": [
       "['pA', 2456.42, 101, True]"
      ]
     },
     "execution_count": 141,
     "metadata": {},
     "output_type": "execute_result"
    }
   ],
   "source": [
    "product_details1"
   ]
  },
  {
   "cell_type": "code",
   "execution_count": 145,
   "id": "487beec0-a7a8-4d0d-a6f5-5f96ec5547d9",
   "metadata": {},
   "outputs": [
    {
     "data": {
      "text/plain": [
       "{'K1': 'pA', 'K2': 101, 'K3': True, 'K4': 2456.42}"
      ]
     },
     "execution_count": 145,
     "metadata": {},
     "output_type": "execute_result"
    }
   ],
   "source": [
    "product_details3"
   ]
  },
  {
   "cell_type": "code",
   "execution_count": null,
   "id": "dad5032f-66bc-4e7c-b8f1-482634e7876b",
   "metadata": {},
   "outputs": [],
   "source": [
    "# To add new data to dict\n",
    "\n",
    "dictName['newKey'] = newValue  ->(1)   Vs  dictName['oldKey'] = updated_Value  <== modification\n",
    "     <or>\n",
    "dictName.setdefault(newKey,newValue) ->(2)\n",
    "\n",
    "# To delete an existing value from dict\n",
    "dictName.pop('oldKey') ->removed_Value"
   ]
  },
  {
   "cell_type": "code",
   "execution_count": 147,
   "id": "bc2d5176-5a6c-4a2f-9acf-b035fe319167",
   "metadata": {},
   "outputs": [
    {
     "data": {
      "text/plain": [
       "{'eid': 'A101', 'ename': 'arun', 'edept': 'sales'}"
      ]
     },
     "execution_count": 147,
     "metadata": {},
     "output_type": "execute_result"
    }
   ],
   "source": [
    "emp={} # empty dict\n",
    "emp['eid'] = 'A101'\n",
    "emp['ename'] = 'arun'\n",
    "emp['edept'] = 'sales'\n",
    "emp"
   ]
  },
  {
   "cell_type": "code",
   "execution_count": 149,
   "id": "d0b5a792-4c71-48e6-8723-3ab4604b742b",
   "metadata": {},
   "outputs": [],
   "source": [
    "emp['edept'] = 'production' # modification"
   ]
  },
  {
   "cell_type": "code",
   "execution_count": 151,
   "id": "1ea95a8c-b8ed-42de-997f-3f6647540e06",
   "metadata": {},
   "outputs": [
    {
     "data": {
      "text/plain": [
       "{'eid': 'A101', 'ename': 'arun', 'edept': 'production'}"
      ]
     },
     "execution_count": 151,
     "metadata": {},
     "output_type": "execute_result"
    }
   ],
   "source": [
    "emp"
   ]
  },
  {
   "cell_type": "code",
   "execution_count": null,
   "id": "26a1f500-316c-46ed-b6bd-c0f947bb17e0",
   "metadata": {},
   "outputs": [],
   "source": [
    "list,tuple,dict\n",
    "|    |      |\n",
    "\n",
    "list of list/tuple/dict =>  [ [],(),{} ]\n",
    "tuple of list/tuple/dict => ( [],(),{} )\n",
    "dict of list/tuple/dict =>  {'Key1':[],'Key2':(),'Key3':{'K1':Value,'K2':Value}}\n",
    "----   ================="
   ]
  },
  {
   "cell_type": "code",
   "execution_count": 159,
   "id": "33937687-c3f5-426b-9b8c-485333e031ec",
   "metadata": {},
   "outputs": [
    {
     "data": {
      "text/plain": [
       "{'eid': [], 'edept': [], 'place': []}"
      ]
     },
     "execution_count": 159,
     "metadata": {},
     "output_type": "execute_result"
    }
   ],
   "source": [
    "emp={}\n",
    "emp['eid']=[]\n",
    "emp['edept']=[]\n",
    "emp['place']=[]\n",
    "# dict of list\n",
    "emp"
   ]
  },
  {
   "cell_type": "code",
   "execution_count": 161,
   "id": "02f61abe-a73b-4dfb-9de7-935f09c99240",
   "metadata": {},
   "outputs": [
    {
     "name": "stdout",
     "output_type": "stream",
     "text": [
      "<class 'dict'> <class 'list'>\n"
     ]
    }
   ],
   "source": [
    "print(type(emp),type(emp['eid']))"
   ]
  },
  {
   "cell_type": "code",
   "execution_count": 163,
   "id": "77e957a3-7529-431e-9633-26607ebdaada",
   "metadata": {},
   "outputs": [],
   "source": [
    "emp['eid'].append('A101')\n",
    "emp['eid'].append('A102')\n",
    "emp['eid'].append('A103')\n"
   ]
  },
  {
   "cell_type": "code",
   "execution_count": 165,
   "id": "3f683914-4f19-401e-b460-ce3281058d3d",
   "metadata": {},
   "outputs": [],
   "source": [
    "emp['edept'].append('Sales')\n",
    "emp['edept'].append('prod')\n",
    "emp['edept'].append('QA')"
   ]
  },
  {
   "cell_type": "code",
   "execution_count": 167,
   "id": "b4b807b0-1ee7-4be4-933a-5765d506a5ce",
   "metadata": {},
   "outputs": [],
   "source": [
    "emp['place'].append('City1')\n",
    "emp['place'].append('City2')\n",
    "emp['place'].append('City3')"
   ]
  },
  {
   "cell_type": "code",
   "execution_count": 169,
   "id": "33620869-f632-49d0-bd63-a1a7c6fc6136",
   "metadata": {},
   "outputs": [
    {
     "data": {
      "text/plain": [
       "{'eid': ['A101', 'A102', 'A103'],\n",
       " 'edept': ['Sales', 'prod', 'QA'],\n",
       " 'place': ['City1', 'City2', 'City3']}"
      ]
     },
     "execution_count": 169,
     "metadata": {},
     "output_type": "execute_result"
    }
   ],
   "source": [
    "emp"
   ]
  },
  {
   "cell_type": "code",
   "execution_count": 171,
   "id": "3d750bc3-cd80-4d7f-bf89-e23de350a6dc",
   "metadata": {},
   "outputs": [
    {
     "data": {
      "text/plain": [
       "'A101'"
      ]
     },
     "execution_count": 171,
     "metadata": {},
     "output_type": "execute_result"
    }
   ],
   "source": [
    "emp['eid'][0]"
   ]
  },
  {
   "cell_type": "code",
   "execution_count": 173,
   "id": "4bbceb2b-8942-4827-9de5-bce18d3c569c",
   "metadata": {},
   "outputs": [
    {
     "data": {
      "text/plain": [
       "'Sales'"
      ]
     },
     "execution_count": 173,
     "metadata": {},
     "output_type": "execute_result"
    }
   ],
   "source": [
    "emp['edept'][0]"
   ]
  },
  {
   "cell_type": "code",
   "execution_count": 175,
   "id": "3f80cfe1-8119-4121-b23a-849844088b8a",
   "metadata": {},
   "outputs": [
    {
     "data": {
      "text/plain": [
       "[[], ('D1', 'D2'), {'K1': 'V1'}]"
      ]
     },
     "execution_count": 175,
     "metadata": {},
     "output_type": "execute_result"
    }
   ],
   "source": [
    "L=[[],('D1','D2'),{'K1':'V1'}]\n",
    "L"
   ]
  },
  {
   "cell_type": "code",
   "execution_count": 177,
   "id": "dde7d07c-5c02-4af5-92b7-bbe32d141cb0",
   "metadata": {},
   "outputs": [],
   "source": [
    "L[0].append('dA')\n",
    "L[0].append('dB')\n",
    "L[0].append('dC')"
   ]
  },
  {
   "cell_type": "code",
   "execution_count": 179,
   "id": "bdb937fe-706a-4617-b175-7136f172eb58",
   "metadata": {},
   "outputs": [
    {
     "ename": "AttributeError",
     "evalue": "'tuple' object has no attribute 'append'",
     "output_type": "error",
     "traceback": [
      "\u001b[1;31m---------------------------------------------------------------------------\u001b[0m",
      "\u001b[1;31mAttributeError\u001b[0m                            Traceback (most recent call last)",
      "Cell \u001b[1;32mIn[179], line 1\u001b[0m\n\u001b[1;32m----> 1\u001b[0m L[\u001b[38;5;241m1\u001b[39m]\u001b[38;5;241m.\u001b[39mappend(\u001b[38;5;124m'\u001b[39m\u001b[38;5;124mD3\u001b[39m\u001b[38;5;124m'\u001b[39m)\n",
      "\u001b[1;31mAttributeError\u001b[0m: 'tuple' object has no attribute 'append'"
     ]
    }
   ],
   "source": [
    "L[1].append('D3')"
   ]
  },
  {
   "cell_type": "code",
   "execution_count": 183,
   "id": "e9ccc4a4-ae95-4738-a23f-60f103f2f982",
   "metadata": {},
   "outputs": [
    {
     "name": "stdout",
     "output_type": "stream",
     "text": [
      "<class 'list'> <class 'tuple'>\n"
     ]
    }
   ],
   "source": [
    "print(type(L),type(L[1]))"
   ]
  },
  {
   "cell_type": "code",
   "execution_count": 185,
   "id": "8dc81bb6-050f-4f77-963e-0a30dadc8580",
   "metadata": {},
   "outputs": [
    {
     "data": {
      "text/plain": [
       "[['dA', 'dB', 'dC'], ('D1', 'D2'), {'K1': 'V1'}]"
      ]
     },
     "execution_count": 185,
     "metadata": {},
     "output_type": "execute_result"
    }
   ],
   "source": [
    "L"
   ]
  },
  {
   "cell_type": "code",
   "execution_count": 187,
   "id": "307c884c-da31-4f98-9038-8475a264b449",
   "metadata": {},
   "outputs": [
    {
     "data": {
      "text/plain": [
       "'V1'"
      ]
     },
     "execution_count": 187,
     "metadata": {},
     "output_type": "execute_result"
    }
   ],
   "source": [
    "L[2]['K1']"
   ]
  },
  {
   "cell_type": "code",
   "execution_count": 189,
   "id": "c9bb6388-a189-4892-bc8d-a3b635ed2cc7",
   "metadata": {},
   "outputs": [
    {
     "data": {
      "text/plain": [
       "[['dA', 'dB', 'dC'], ('D1', 'D2'), {'K1': 'Value-1', 'K2': 'Value-2'}]"
      ]
     },
     "execution_count": 189,
     "metadata": {},
     "output_type": "execute_result"
    }
   ],
   "source": [
    "L[2]['K1']='Value-1' # we can modify\n",
    "L[2]['K2']='Value-2' # we can add new data\n",
    "L"
   ]
  },
  {
   "cell_type": "code",
   "execution_count": 193,
   "id": "df9f5060-8534-4b36-ad57-561bfb1087d4",
   "metadata": {},
   "outputs": [
    {
     "name": "stdout",
     "output_type": "stream",
     "text": [
      "<class 'dict'>\n"
     ]
    }
   ],
   "source": [
    "d = {\"pull_request\": {\n",
    "      \"url\": \"https://api.github.com/repos/tidyverse/ggplot2/pulls/6364\",\n",
    "      \"html_url\": \"https://github.com/tidyverse/ggplot2/pull/6364\",\n",
    "      \"diff_url\": \"https://github.com/tidyverse/ggplot2/pull/6364.diff\",\n",
    "      \"patch_url\": \"https://github.com/tidyverse/ggplot2/pull/6364.patch\",\n",
    "      \"merged_at\": None\n",
    "    }}\n",
    "print(type(d))"
   ]
  },
  {
   "cell_type": "code",
   "execution_count": 195,
   "id": "6b291407-1370-47a9-83b3-4c45d734fbc8",
   "metadata": {},
   "outputs": [],
   "source": [
    "import json"
   ]
  },
  {
   "cell_type": "code",
   "execution_count": 197,
   "id": "00bab0dd-b2cf-4a49-8dba-26a37f8689d2",
   "metadata": {},
   "outputs": [],
   "source": [
    "js_obj  = json.dumps(d) # convert from python to json\n"
   ]
  },
  {
   "cell_type": "code",
   "execution_count": 199,
   "id": "1ba6762b-4ecc-4020-ba8e-90f42d89502e",
   "metadata": {},
   "outputs": [
    {
     "data": {
      "text/plain": [
       "{'pull_request': {'url': 'https://api.github.com/repos/tidyverse/ggplot2/pulls/6364',\n",
       "  'html_url': 'https://github.com/tidyverse/ggplot2/pull/6364',\n",
       "  'diff_url': 'https://github.com/tidyverse/ggplot2/pull/6364.diff',\n",
       "  'patch_url': 'https://github.com/tidyverse/ggplot2/pull/6364.patch',\n",
       "  'merged_at': None}}"
      ]
     },
     "execution_count": 199,
     "metadata": {},
     "output_type": "execute_result"
    }
   ],
   "source": [
    "json.loads(js_obj) # convert from json to python"
   ]
  },
  {
   "cell_type": "code",
   "execution_count": 201,
   "id": "1daca474-ab3d-4996-a1ac-3de46c701830",
   "metadata": {},
   "outputs": [
    {
     "name": "stdout",
     "output_type": "stream",
     "text": [
      "{'pull_request': {'diff_url': 'https://github.com/tidyverse/ggplot2/pull/6364.diff',\n",
      "                  'html_url': 'https://github.com/tidyverse/ggplot2/pull/6364',\n",
      "                  'merged_at': None,\n",
      "                  'patch_url': 'https://github.com/tidyverse/ggplot2/pull/6364.patch',\n",
      "                  'url': 'https://api.github.com/repos/tidyverse/ggplot2/pulls/6364'}}\n"
     ]
    }
   ],
   "source": [
    "python_stru = json.loads(js_obj) # convert from json to python\n",
    "import pprint\n",
    "pprint.pprint(python_stru)"
   ]
  },
  {
   "cell_type": "code",
   "execution_count": 205,
   "id": "7374b74b-8881-4f8b-b76d-50d6ae3ea707",
   "metadata": {},
   "outputs": [
    {
     "data": {
      "text/plain": [
       "'https://github.com/tidyverse/ggplot2/pull/6364.diff'"
      ]
     },
     "execution_count": 205,
     "metadata": {},
     "output_type": "execute_result"
    }
   ],
   "source": [
    "python_stru['pull_request']['diff_url'] # dict of dict"
   ]
  },
  {
   "cell_type": "code",
   "execution_count": null,
   "id": "6a911d55-667b-466f-aae1-c8f8f3e95b2c",
   "metadata": {},
   "outputs": [],
   "source": [
    "# list and dict"
   ]
  },
  {
   "cell_type": "code",
   "execution_count": 207,
   "id": "760229ee-2350-40de-879b-2aee602f4f31",
   "metadata": {},
   "outputs": [
    {
     "data": {
      "text/plain": [
       "2"
      ]
     },
     "execution_count": 207,
     "metadata": {},
     "output_type": "execute_result"
    }
   ],
   "source": [
    "T=([],[]) # tuple of list\n",
    "len(T)"
   ]
  },
  {
   "cell_type": "code",
   "execution_count": 211,
   "id": "c403ed97-8ab9-4a70-9dca-4a843b38735c",
   "metadata": {},
   "outputs": [
    {
     "name": "stdout",
     "output_type": "stream",
     "text": [
      "<class 'tuple'>\n",
      "<class 'list'>\n"
     ]
    }
   ],
   "source": [
    "print(type(T))\n",
    "print(type(T[0]))"
   ]
  },
  {
   "cell_type": "code",
   "execution_count": 213,
   "id": "df952f9e-b4c6-415b-b4ef-09abe3757c24",
   "metadata": {},
   "outputs": [],
   "source": [
    "T[0].append('D1')\n",
    "T[0].append('D2')\n",
    "T[0].append('D3')\n",
    "T[0].append('D4')\n",
    "T[0].append('D5')\n",
    "T[0].append('D6')\n",
    "T[1].append('D11')\n",
    "T[1].append('D12')\n",
    "T[1].append('D13')"
   ]
  },
  {
   "cell_type": "code",
   "execution_count": 215,
   "id": "d06d03fb-69de-4b4a-9287-031466e8f981",
   "metadata": {},
   "outputs": [
    {
     "data": {
      "text/plain": [
       "2"
      ]
     },
     "execution_count": 215,
     "metadata": {},
     "output_type": "execute_result"
    }
   ],
   "source": [
    "len(T)"
   ]
  },
  {
   "cell_type": "code",
   "execution_count": 217,
   "id": "31710262-8826-4104-b69d-39db70aca6ee",
   "metadata": {},
   "outputs": [
    {
     "data": {
      "text/plain": [
       "(['D1', 'D2', 'D3', 'D4', 'D5', 'D6'], ['D11', 'D12', 'D13'])"
      ]
     },
     "execution_count": 217,
     "metadata": {},
     "output_type": "execute_result"
    }
   ],
   "source": [
    "T"
   ]
  },
  {
   "cell_type": "code",
   "execution_count": null,
   "id": "f9fae5d3-92da-49db-a058-3c8b0c329d8e",
   "metadata": {},
   "outputs": [],
   "source": [
    "set - not for storage use case\n",
    "    - keep unique item ; there is no duplicate item\n",
    "    - not index based ; not key:value based  - we can add new data ; we can delete it\n",
    "                                             - we can't modify "
   ]
  },
  {
   "cell_type": "code",
   "execution_count": 219,
   "id": "a65e65d2-825c-49b9-b61e-226aca98f221",
   "metadata": {},
   "outputs": [
    {
     "data": {
      "text/plain": [
       "dict"
      ]
     },
     "execution_count": 219,
     "metadata": {},
     "output_type": "execute_result"
    }
   ],
   "source": [
    "type({})"
   ]
  },
  {
   "cell_type": "code",
   "execution_count": 221,
   "id": "49eaae9a-c7b7-441d-9c69-8c9e91b1278c",
   "metadata": {},
   "outputs": [
    {
     "name": "stdout",
     "output_type": "stream",
     "text": [
      "<class 'set'> 6\n"
     ]
    }
   ],
   "source": [
    "s={10,20,'K1','K2','V1','V2',10,20,10,20,'K1','V1','K2','V2'}  # Vs d={\"Key\":Value}\n",
    "print(type(s),len(s))"
   ]
  },
  {
   "cell_type": "code",
   "execution_count": 223,
   "id": "8deb8a26-732d-4c0e-a33c-90a9b0d7d64d",
   "metadata": {},
   "outputs": [
    {
     "data": {
      "text/plain": [
       "{10, 20, 'K1', 'K2', 'V1', 'V2'}"
      ]
     },
     "execution_count": 223,
     "metadata": {},
     "output_type": "execute_result"
    }
   ],
   "source": [
    "s"
   ]
  },
  {
   "cell_type": "code",
   "execution_count": 225,
   "id": "45946073-038a-4331-a6c2-04705a590f35",
   "metadata": {},
   "outputs": [
    {
     "data": {
      "text/plain": [
       "{'D1', 'D2', 'D3'}"
      ]
     },
     "execution_count": 225,
     "metadata": {},
     "output_type": "execute_result"
    }
   ],
   "source": [
    "L = ['D1','D2','D1','D3','D2','D1','D2','D1','D1']\n",
    "set(L) # type cast to set - omitt the duplicate values"
   ]
  },
  {
   "cell_type": "code",
   "execution_count": 227,
   "id": "f1dcbc89-164e-4f6d-b6c6-de1f2d2b304e",
   "metadata": {},
   "outputs": [
    {
     "data": {
      "text/plain": [
       "['D2', 'D3', 'D1']"
      ]
     },
     "execution_count": 227,
     "metadata": {},
     "output_type": "execute_result"
    }
   ],
   "source": [
    "list(set(L)) # again convert to list"
   ]
  },
  {
   "cell_type": "markdown",
   "id": "5b315bda-de8e-43e5-8407-af560588b834",
   "metadata": {},
   "source": [
    "set operation\n",
    "union intersection difference symmetricdifference\n",
    "|         &           -                   ^   <== set operators\n",
    "         <or>\n",
    "union() intersection() difference()  symmetric_difference() <== methods"
   ]
  },
  {
   "cell_type": "code",
   "execution_count": 229,
   "id": "6765cf8c-6339-4229-8b66-168a2bd39e9f",
   "metadata": {},
   "outputs": [
    {
     "data": {
      "text/plain": [
       "<_io.TextIOWrapper name='emp.csv' mode='r' encoding='cp1252'>"
      ]
     },
     "execution_count": 229,
     "metadata": {},
     "output_type": "execute_result"
    }
   ],
   "source": [
    "#File Handling\n",
    "#---------------\n",
    "open('emp.csv')"
   ]
  },
  {
   "cell_type": "code",
   "execution_count": 231,
   "id": "055dffcd-89e3-4fce-91ab-7480d62522ae",
   "metadata": {},
   "outputs": [
    {
     "data": {
      "text/plain": [
       "<_io.TextIOWrapper name='emp.csv' mode='r' encoding='cp1252'>"
      ]
     },
     "execution_count": 231,
     "metadata": {},
     "output_type": "execute_result"
    }
   ],
   "source": [
    "open('emp.csv','r')"
   ]
  },
  {
   "cell_type": "code",
   "execution_count": null,
   "id": "b767be88-f2a1-486b-9116-ced2a3fafcfb",
   "metadata": {},
   "outputs": [],
   "source": [
    "open('E:\\\\project\\\\DAY1\\\\FN\\\\emp.csv','r') \n",
    "open('/home/userA/project/DAY1/FN/emp.csv','r')"
   ]
  },
  {
   "cell_type": "code",
   "execution_count": 233,
   "id": "83c4543f-3ada-45c4-968a-6bc8fec3222e",
   "metadata": {},
   "outputs": [
    {
     "data": {
      "text/plain": [
       "'C:\\\\Users\\\\theeba'"
      ]
     },
     "execution_count": 233,
     "metadata": {},
     "output_type": "execute_result"
    }
   ],
   "source": [
    "import os\n",
    "os.getcwd()"
   ]
  },
  {
   "cell_type": "code",
   "execution_count": 237,
   "id": "1cf0aeb3-66f1-4c49-8dc1-3e089d0fb069",
   "metadata": {},
   "outputs": [],
   "source": [
    "# open('E:\\\\emp.csv','r') ->FileNotFoundError: [Errno 2] No such file or directory: 'E:\\\\emp.csv'"
   ]
  },
  {
   "cell_type": "code",
   "execution_count": 239,
   "id": "47c20722-60b7-434f-be72-f62e458b2623",
   "metadata": {},
   "outputs": [
    {
     "data": {
      "text/plain": [
       "'eid,ename,edept,eplace,ecost\\n101,ram,sales,pune,1000\\n102,leo,prod,bglore,2000\\n103,anu,HR,hyd,3000\\n104,paul,sales,bglore,3200\\n423,zio,sales,pune,3420\\n142,anu,prod,chennai,4300\\n949,karthik,sales,bglore,3100\\n848,tom,hr,chennai,3940\\n931,vijay,prod,chennai,3411'"
      ]
     },
     "execution_count": 239,
     "metadata": {},
     "output_type": "execute_result"
    }
   ],
   "source": [
    "fobj = open('emp.csv','r')\n",
    "fobj.read()"
   ]
  },
  {
   "cell_type": "code",
   "execution_count": 241,
   "id": "8c06c393-19aa-4d2b-b926-801a161eda07",
   "metadata": {},
   "outputs": [
    {
     "data": {
      "text/plain": [
       "['eid,ename,edept,eplace,ecost\\n',\n",
       " '101,ram,sales,pune,1000\\n',\n",
       " '102,leo,prod,bglore,2000\\n',\n",
       " '103,anu,HR,hyd,3000\\n',\n",
       " '104,paul,sales,bglore,3200\\n',\n",
       " '423,zio,sales,pune,3420\\n',\n",
       " '142,anu,prod,chennai,4300\\n',\n",
       " '949,karthik,sales,bglore,3100\\n',\n",
       " '848,tom,hr,chennai,3940\\n',\n",
       " '931,vijay,prod,chennai,3411']"
      ]
     },
     "execution_count": 241,
     "metadata": {},
     "output_type": "execute_result"
    }
   ],
   "source": [
    "fobj = open('emp.csv','r')\n",
    "fobj.readlines()"
   ]
  },
  {
   "cell_type": "code",
   "execution_count": 243,
   "id": "cabd6d3a-88b1-4747-99c2-a6aa08d38a3a",
   "metadata": {},
   "outputs": [],
   "source": [
    "fobj = open('emp.csv','r')\n",
    "s = fobj.read()\n",
    "fobj.close()"
   ]
  },
  {
   "cell_type": "code",
   "execution_count": 245,
   "id": "dca817fe-b31a-44ab-bde2-f8a2bdbe74ee",
   "metadata": {},
   "outputs": [],
   "source": [
    "fobj = open('emp.csv','r')\n",
    "L = fobj.readlines()\n",
    "fobj.close()"
   ]
  },
  {
   "cell_type": "code",
   "execution_count": 247,
   "id": "ed642cf2-1148-4daf-90f1-2a720fc87033",
   "metadata": {},
   "outputs": [
    {
     "name": "stdout",
     "output_type": "stream",
     "text": [
      "['eid,ename,edept,eplace,ecost\\n', '101,ram,sales,pune,1000\\n', '102,leo,prod,bglore,2000\\n', '103,anu,HR,hyd,3000\\n', '104,paul,sales,bglore,3200\\n', '423,zio,sales,pune,3420\\n', '142,anu,prod,chennai,4300\\n', '949,karthik,sales,bglore,3100\\n', '848,tom,hr,chennai,3940\\n', '931,vijay,prod,chennai,3411']\n"
     ]
    }
   ],
   "source": [
    "print(L)"
   ]
  },
  {
   "cell_type": "code",
   "execution_count": 249,
   "id": "64b80c04-7dc7-437a-b8df-8831a85363d9",
   "metadata": {},
   "outputs": [
    {
     "data": {
      "text/plain": [
       "10"
      ]
     },
     "execution_count": 249,
     "metadata": {},
     "output_type": "execute_result"
    }
   ],
   "source": [
    "len(L)"
   ]
  },
  {
   "cell_type": "code",
   "execution_count": 251,
   "id": "093fb62c-90fd-47dc-8f85-85caad687186",
   "metadata": {},
   "outputs": [
    {
     "data": {
      "text/plain": [
       "'eid,ename,edept,eplace,ecost'"
      ]
     },
     "execution_count": 251,
     "metadata": {},
     "output_type": "execute_result"
    }
   ],
   "source": [
    "'eid,ename,edept,eplace,ecost\\n'.strip() # remove \\n"
   ]
  },
  {
   "cell_type": "code",
   "execution_count": 259,
   "id": "06787505-0ac3-4929-a726-b071eb3b4bb1",
   "metadata": {},
   "outputs": [],
   "source": [
    "# python ->create a newFile\n",
    "#                   --------//if file is already exists ->overwrite existing content\n",
    "#                       |___ write data to file\n",
    "#                               |__ write('SingleString\\n')\n",
    "\n",
    "#open('r1.log','w')"
   ]
  },
  {
   "cell_type": "code",
   "execution_count": 261,
   "id": "c5adf3ca-ecbc-4cf4-b8a0-7f12166a5d68",
   "metadata": {},
   "outputs": [],
   "source": [
    "wobj = open('r1.log','w') # create a newFile \n",
    "wobj.write('Data1\\n')    #--------------------------------------------------------\n",
    "wobj.write('Product Cost is:4589.24\\n')\n",
    "pcost = 12434.32\n",
    "pcode = 314\n",
    "#wobj.write(pcost) # Error - argument must be string type\n",
    "wobj.write(str(pcost)+\"\\n\") #OK                                          write data to FILE\n",
    "wobj.write(f\"product cost is:{str(pcost)} product Code:{str(pcode)}\\n\") #--------------\n",
    "wobj.close() # close your file object"
   ]
  },
  {
   "cell_type": "code",
   "execution_count": 263,
   "id": "7060963d-68db-4af4-9b48-57e619374412",
   "metadata": {},
   "outputs": [
    {
     "name": "stdout",
     "output_type": "stream",
     "text": [
      "Data1\n",
      "Product Cost is:4589.24\n",
      "12434.32\n",
      "product cost is:12434.32 product Code:314\n",
      "\n"
     ]
    }
   ],
   "source": [
    "fobj = open('r1.log','r')\n",
    "s = fobj.read()\n",
    "fobj.close()\n",
    "print(s)"
   ]
  },
  {
   "cell_type": "code",
   "execution_count": null,
   "id": "187964af-b05a-4d93-922c-aed93a0b0047",
   "metadata": {},
   "outputs": [],
   "source": [
    "#open('r1.log','w') # overwrite an existing content \n",
    "#open('r1.log','a') # won't overwrite an existing content - a - append"
   ]
  },
  {
   "cell_type": "code",
   "execution_count": null,
   "id": "b8e4da3d-c66d-4de7-a632-b152a74ddac8",
   "metadata": {},
   "outputs": [],
   "source": [
    "fobj = open('inputfile1','r')\n",
    "\n",
    "wobj = open('resultfile','w')\n",
    "\n",
    "s = fobj.read() # reading data from <FILE>\n",
    "wobj.write(s)   # write data to FILE\n",
    "\n",
    "fobj.close()\n",
    "wobj.close()\n",
    "# like cp inputfile1 resultfile"
   ]
  },
  {
   "cell_type": "code",
   "execution_count": 265,
   "id": "3a99ff91-7097-4af8-bed0-b77798c3839c",
   "metadata": {},
   "outputs": [
    {
     "data": {
      "text/plain": [
       "'Mon Mar 24 14:37:44 2025'"
      ]
     },
     "execution_count": 265,
     "metadata": {},
     "output_type": "execute_result"
    }
   ],
   "source": [
    "import time\n",
    "time.ctime()"
   ]
  },
  {
   "cell_type": "markdown",
   "id": "efa2fb30-9457-40da-b820-8bd2e71d21a6",
   "metadata": {},
   "source": [
    "modify pin example\n",
    "- create a new file - pin_history.log - append mode\n",
    "- write user input pin(success/failed/blocked - both) - count - date/time\n",
    "|\n",
    "open pin_history.log - see the input details"
   ]
  },
  {
   "cell_type": "code",
   "execution_count": 267,
   "id": "8348b5dc-9d2e-4093-833e-d6d8ed0df27f",
   "metadata": {},
   "outputs": [
    {
     "name": "stdin",
     "output_type": "stream",
     "text": [
      "Enter a pin Number: 1234\n"
     ]
    },
    {
     "name": "stdout",
     "output_type": "stream",
     "text": [
      "Success - pin is matched - 1\n"
     ]
    }
   ],
   "source": [
    "wobj = open('pin_history.log','a')\n",
    "\n",
    "pin = 1234\n",
    "count = 0\n",
    "while(count < 3):\n",
    "    count = count + 1\n",
    "    p = input('Enter a pin Number:')\n",
    "    if(int(p) == pin):\n",
    "        wobj.write(f'Success - pin {p} is matched at {count} date/time:{time.ctime()}\\n')\n",
    "        print(f'Success - pin is matched - {count}')\n",
    "        break\n",
    "    else:\n",
    "        wobj.write(f'Failed - user input pin:{p}  not matched - {count} date/time:{time.ctime()}\\n')\n",
    "\n",
    "if(int(p) != pin):\n",
    "    print('Sorry your pin is blocked')\n",
    "    wobj.write(f'Sorry your pin is blocked - {count} date/time:{time.ctime()}\\n')\n",
    "\n",
    "wobj.close()"
   ]
  },
  {
   "cell_type": "code",
   "execution_count": 269,
   "id": "3996aba9-7f1c-484f-ba11-f85049360a03",
   "metadata": {},
   "outputs": [
    {
     "name": "stdin",
     "output_type": "stream",
     "text": [
      "Enter a pin Number: 2123\n",
      "Enter a pin Number: 2341\n",
      "Enter a pin Number: 1234\n"
     ]
    },
    {
     "name": "stdout",
     "output_type": "stream",
     "text": [
      "Success - pin is matched - 3\n"
     ]
    }
   ],
   "source": [
    "wobj = open('pin_history.log','a')\n",
    "\n",
    "pin = 1234\n",
    "count = 0\n",
    "while(count < 3):\n",
    "    count = count + 1\n",
    "    p = input('Enter a pin Number:')\n",
    "    if(int(p) == pin):\n",
    "        wobj.write(f'Success - pin {p} is matched at {count} date/time:{time.ctime()}\\n')\n",
    "        print(f'Success - pin is matched - {count}')\n",
    "        break\n",
    "    else:\n",
    "        wobj.write(f'Failed - user input pin:{p}  not matched - {count} date/time:{time.ctime()}\\n')\n",
    "\n",
    "if(int(p) != pin):\n",
    "    print('Sorry your pin is blocked')\n",
    "    wobj.write(f'Sorry your pin is blocked - {count} date/time:{time.ctime()}\\n')\n",
    "\n",
    "wobj.close()"
   ]
  },
  {
   "cell_type": "code",
   "execution_count": 271,
   "id": "3fd4eb70-9b2a-4117-b624-5ad2eb54bc81",
   "metadata": {},
   "outputs": [
    {
     "name": "stdin",
     "output_type": "stream",
     "text": [
      "Enter a pin Number: 13131\n",
      "Enter a pin Number: 12213\n",
      "Enter a pin Number: 1232131\n"
     ]
    },
    {
     "name": "stdout",
     "output_type": "stream",
     "text": [
      "Sorry your pin is blocked\n"
     ]
    }
   ],
   "source": [
    "wobj = open('pin_history.log','a')\n",
    "\n",
    "pin = 1234\n",
    "count = 0\n",
    "while(count < 3):\n",
    "    count = count + 1\n",
    "    p = input('Enter a pin Number:')\n",
    "    if(int(p) == pin):\n",
    "        wobj.write(f'Success - pin {p} is matched at {count} date/time:{time.ctime()}\\n')\n",
    "        print(f'Success - pin is matched - {count}')\n",
    "        break\n",
    "    else:\n",
    "        wobj.write(f'Failed - user input pin:{p}  not matched - {count} date/time:{time.ctime()}\\n')\n",
    "\n",
    "if(int(p) != pin):\n",
    "    print('Sorry your pin is blocked')\n",
    "    wobj.write(f'Sorry your pin is blocked - {count} date/time:{time.ctime()}\\n')\n",
    "\n",
    "wobj.close()"
   ]
  },
  {
   "cell_type": "markdown",
   "id": "1236d4e4-b00d-4452-bb6a-4d95878974c3",
   "metadata": {},
   "source": [
    "function             Vs method\n",
    "|                          |->oops style\n",
    "f1()//functionCall        obj.f1() //methodCall\n",
    "|\n",
    "|->Code block - set of operation\n",
    "|->avoid code duplication\n",
    "\n",
    "|->function definition\n",
    "|->Invoke a definition - functionCall()\n",
    "\n",
    "def functionName():\n",
    "    '''Code block'''\n",
    "\n",
    "functionName() "
   ]
  },
  {
   "cell_type": "code",
   "execution_count": 273,
   "id": "89d756df-5466-4d06-b42d-32f4d5abe3ff",
   "metadata": {},
   "outputs": [
    {
     "name": "stdout",
     "output_type": "stream",
     "text": [
      "user= admin password= Abc@1234\n",
      "db= mysql port= 3306\n"
     ]
    }
   ],
   "source": [
    "def display(user,password,db,port): # required arguments\n",
    "    print(\"user=\",user,\"password=\",password)\n",
    "    print(\"db=\",db,\"port=\",port)\n",
    "\n",
    "display('admin','Abc@1234','mysql',3306)"
   ]
  },
  {
   "cell_type": "code",
   "execution_count": 281,
   "id": "b5b51402-c2e1-458e-9001-084a2207b562",
   "metadata": {},
   "outputs": [],
   "source": [
    "#display() \n",
    "#TypeError: display() missing 4 required positional arguments: 'user', 'password', 'db', and 'port'\n",
    "\n",
    "#display('root')\n",
    "#TypeError: display() missing 3 required positional arguments: 'password', 'db', and 'port'\n",
    "\n",
    "# display('a','b','c','d','e')\n",
    "#TypeError: display() takes 4 positional arguments but 5 were given"
   ]
  },
  {
   "cell_type": "code",
   "execution_count": 295,
   "id": "3a88a21e-26a9-4fc5-983b-f0cf19f4ef6f",
   "metadata": {},
   "outputs": [
    {
     "name": "stdout",
     "output_type": "stream",
     "text": [
      "user= test password= abc123\n",
      "db= testdb port= 1234\n",
      "user= userA password= abc123\n",
      "db= testdb port= 1234\n",
      "user= userB password= xyz123\n",
      "db= testdb port= 1234\n",
      "user= userC password= xyz2343\n",
      "db= test1db port= 1234\n",
      "user= userC password= xyz2343\n",
      "db= test1db port= 3333\n"
     ]
    }
   ],
   "source": [
    "def display(user='test',password='abc123',db='testdb',port=1234): # default arguments\n",
    "    print(\"user=\",user,\"password=\",password)\n",
    "    print(\"db=\",db,\"port=\",port)\n",
    "\n",
    "display()\n",
    "display('userA')\n",
    "display('userB','xyz123')\n",
    "display('userC','xyz2343','test1db')\n",
    "display('userC','xyz2343','test1db',3333)\n",
    "#display('a','b','c','d','e')\n",
    "#TypeError: display() takes from 0 to 4 positional arguments but 5 were given"
   ]
  },
  {
   "cell_type": "code",
   "execution_count": 297,
   "id": "9f15b2d0-0af6-4310-860d-86bae1645055",
   "metadata": {},
   "outputs": [
    {
     "ename": "SyntaxError",
     "evalue": "parameter without a default follows parameter with a default (146432010.py, line 1)",
     "output_type": "error",
     "traceback": [
      "\u001b[1;36m  Cell \u001b[1;32mIn[297], line 1\u001b[1;36m\u001b[0m\n\u001b[1;33m    def display(user,password,db='testdb',port):\u001b[0m\n\u001b[1;37m                                          ^\u001b[0m\n\u001b[1;31mSyntaxError\u001b[0m\u001b[1;31m:\u001b[0m parameter without a default follows parameter with a default\n"
     ]
    }
   ],
   "source": [
    "def display(user,password,db='testdb',port):\n",
    "    print(\"OK\")"
   ]
  },
  {
   "cell_type": "code",
   "execution_count": 299,
   "id": "60a4fdb0-abb9-4081-a79e-16698e109cfe",
   "metadata": {},
   "outputs": [],
   "source": [
    "def display(user,password,db='testdb',port=0):\n",
    "    print(\"OK\")"
   ]
  },
  {
   "cell_type": "code",
   "execution_count": 301,
   "id": "66abc3bb-2608-48e7-88da-b68a25c14ea7",
   "metadata": {},
   "outputs": [
    {
     "ename": "TypeError",
     "evalue": "display() missing 2 required positional arguments: 'user' and 'password'",
     "output_type": "error",
     "traceback": [
      "\u001b[1;31m---------------------------------------------------------------------------\u001b[0m",
      "\u001b[1;31mTypeError\u001b[0m                                 Traceback (most recent call last)",
      "Cell \u001b[1;32mIn[301], line 1\u001b[0m\n\u001b[1;32m----> 1\u001b[0m display()\n",
      "\u001b[1;31mTypeError\u001b[0m: display() missing 2 required positional arguments: 'user' and 'password'"
     ]
    }
   ],
   "source": [
    "display()"
   ]
  },
  {
   "cell_type": "code",
   "execution_count": 303,
   "id": "ffacafc2-3afe-491f-a720-9ba8960aba8c",
   "metadata": {},
   "outputs": [],
   "source": [
    "def display(user,password,port,db='testdb'):\n",
    "    print(\"OK\")"
   ]
  },
  {
   "cell_type": "code",
   "execution_count": 305,
   "id": "286df410-7e5c-4679-9d5d-4c2a77a1e49f",
   "metadata": {},
   "outputs": [
    {
     "name": "stdout",
     "output_type": "stream",
     "text": [
      "()\n",
      "(10, 20, 30, 40)\n",
      "('D1', 'D2')\n"
     ]
    },
    {
     "ename": "TypeError",
     "evalue": "f1() got an unexpected keyword argument 'db'",
     "output_type": "error",
     "traceback": [
      "\u001b[1;31m---------------------------------------------------------------------------\u001b[0m",
      "\u001b[1;31mTypeError\u001b[0m                                 Traceback (most recent call last)",
      "Cell \u001b[1;32mIn[305], line 7\u001b[0m\n\u001b[0;32m      5\u001b[0m f1(\u001b[38;5;241m10\u001b[39m,\u001b[38;5;241m20\u001b[39m,\u001b[38;5;241m30\u001b[39m,\u001b[38;5;241m40\u001b[39m)\n\u001b[0;32m      6\u001b[0m f1(\u001b[38;5;124m'\u001b[39m\u001b[38;5;124mD1\u001b[39m\u001b[38;5;124m'\u001b[39m,\u001b[38;5;124m'\u001b[39m\u001b[38;5;124mD2\u001b[39m\u001b[38;5;124m'\u001b[39m)\n\u001b[1;32m----> 7\u001b[0m f1(db\u001b[38;5;241m=\u001b[39m\u001b[38;5;124m'\u001b[39m\u001b[38;5;124mmysql\u001b[39m\u001b[38;5;124m'\u001b[39m)\n",
      "\u001b[1;31mTypeError\u001b[0m: f1() got an unexpected keyword argument 'db'"
     ]
    }
   ],
   "source": [
    "def f1(*a):\n",
    "    print(a)\n",
    "\n",
    "f1()\n",
    "f1(10,20,30,40)\n",
    "f1('D1','D2')\n",
    "f1(db='mysql')"
   ]
  },
  {
   "cell_type": "code",
   "execution_count": 307,
   "id": "7c1a51bd-6219-4be7-81fb-9b3545a6edeb",
   "metadata": {},
   "outputs": [
    {
     "name": "stdout",
     "output_type": "stream",
     "text": [
      "Help on function sub in module re:\n",
      "\n",
      "sub(pattern, repl, string, count=0, flags=0)\n",
      "    Return the string obtained by replacing the leftmost\n",
      "    non-overlapping occurrences of the pattern in string by the\n",
      "    replacement repl.  repl can be either a string or a callable;\n",
      "    if a string, backslash escapes in it are processed.  If it is\n",
      "    a callable, it's passed the Match object and must return\n",
      "    a replacement string to be used.\n",
      "\n"
     ]
    }
   ],
   "source": [
    "import re\n",
    "help(re.sub)"
   ]
  },
  {
   "cell_type": "code",
   "execution_count": 309,
   "id": "0bc92f2a-fb0d-40f8-a9b7-2ea389f789f1",
   "metadata": {},
   "outputs": [
    {
     "data": {
      "text/plain": [
       "'C:\\\\Users\\\\theeba'"
      ]
     },
     "execution_count": 309,
     "metadata": {},
     "output_type": "execute_result"
    }
   ],
   "source": [
    "import os\n",
    "os.getcwd()"
   ]
  },
  {
   "cell_type": "code",
   "execution_count": 311,
   "id": "80116aef-0a57-4a46-b0f3-fe7d73c14e3d",
   "metadata": {},
   "outputs": [
    {
     "data": {
      "text/plain": [
       "'null'"
      ]
     },
     "execution_count": 311,
     "metadata": {},
     "output_type": "execute_result"
    }
   ],
   "source": [
    "import json\n",
    "json.dumps(None) # from python ->json"
   ]
  },
  {
   "cell_type": "code",
   "execution_count": 313,
   "id": "a60d5f0c-69f5-43c7-ab7a-458a4a99c784",
   "metadata": {},
   "outputs": [
    {
     "data": {
      "text/plain": [
       "<module 'os' from 'C:\\\\Users\\\\theeba\\\\anaconda3\\\\Lib\\\\os.py'>"
      ]
     },
     "execution_count": 313,
     "metadata": {},
     "output_type": "execute_result"
    }
   ],
   "source": [
    "os"
   ]
  },
  {
   "cell_type": "code",
   "execution_count": 315,
   "id": "80b914b7-1a33-4632-bce1-4c713ddf5235",
   "metadata": {},
   "outputs": [
    {
     "data": {
      "text/plain": [
       "<module 'json' from 'C:\\\\Users\\\\theeba\\\\anaconda3\\\\Lib\\\\json\\\\__init__.py'>"
      ]
     },
     "execution_count": 315,
     "metadata": {},
     "output_type": "execute_result"
    }
   ],
   "source": [
    "json"
   ]
  },
  {
   "cell_type": "markdown",
   "id": "01508771-229b-498f-b0d8-6d7e78893a5b",
   "metadata": {},
   "source": [
    "\n",
    "project/\n",
    "        p1.py\n",
    "            |_____def f1()   def f2()  def f3() ... def f6()\n",
    "        p2.py\n",
    "             |___def fx()\n",
    "\n",
    "        L1/\n",
    "           |___p30.py p31.py...p50.py\n",
    "\tL2/\n",
    "\t  |__Sub1/\n",
    "\t\t|___p51.py p52.py p53.py\n",
    "----------\n",
    "|\n",
    "|\n",
    "import project.L1.p30\n",
    "project.L1.p30.fg()//OK\n",
    "\n",
    "Vs \n",
    "import project\n",
    "project.f1() //OK\n",
    "\n",
    ".pyc\n",
    "\n",
    "__pycache__/.pyc \n",
    "\n",
    "package\n",
    "----------\n",
    " |->directory (or) folder \n",
    "\n",
    " |-> create a folder/directory\n",
    " |-> copy list of python files into folder/directory\n",
    " |-> create __init__.py <== package initialization file\n",
    " |-> copy external symbols to __init__.py file\n",
    " |                 .......(variable,function,class) =>from module import <member>\n",
    " |-> test your directory -> import project\n",
    "\t\t\t    project.function()\n",
    "\n",
    "SymbolTable \n",
    "\n",
    "file: ab.py\t\t\t\t\tfile: pb.py\n",
    "---------------\t\t\t\t----------------------\n",
    "var = 10\t\t\t\t\timport ab\n",
    "def f1():\t\t\t\t\tmycode = 3045\n",
    "   print(\"OK\")\t\t\t\t\tdef f2():\n",
    "---------------\t\t\t\t\t\tprint(\"OK\")\n",
    "\t\t\t\t\t\tprint(mycode)\n",
    "__main__.var  | 10\t\t\t\tprint(var) ->Error Vs print(ab.var) ->10\n",
    "__main__.f1   | 0x12345\t\t\t\tf1() ->Error Vs ab.f1() ->OK\n",
    "\t\t\t\t\t-----------------------------\n",
    "\n",
    "\t\t\t\t\t\t__main__.mycode | 3045\n",
    "\t\t\t\t\t\t__main__.f2     | 0x123124\n",
    "\t\t\t\t\t\tab.var          |  10\n",
    "\t\t\t\t\t\tab.f1           | 0x12345\n",
    "\t\t\t\t\t--------------------------------------\n"
   ]
  },
  {
   "cell_type": "code",
   "execution_count": null,
   "id": "e92a6b24-035b-47e8-9805-24b5a596ae63",
   "metadata": {},
   "outputs": [],
   "source": [
    "# Functional style code - Single line Code or Expression style\n",
    "# ----------------------------------------------------------------\n",
    "lambda \n",
    "comprehension\n",
    "generator\n",
    "|\n",
    "map,filter,enumerate\n",
    "|->expression <or> evaluation "
   ]
  },
  {
   "cell_type": "markdown",
   "id": "cd85db00-ea76-41b5-8caf-17644a70bb10",
   "metadata": {},
   "source": [
    "lambda \n",
    "- unnamed function \n",
    "- function call with args return some value\n",
    "- lambda <list of args>: basic operation"
   ]
  },
  {
   "cell_type": "code",
   "execution_count": 317,
   "id": "acef9d22-e1e5-4f21-90ed-2dc14aafdccc",
   "metadata": {},
   "outputs": [
    {
     "data": {
      "text/plain": [
       "30"
      ]
     },
     "execution_count": 317,
     "metadata": {},
     "output_type": "execute_result"
    }
   ],
   "source": [
    "'''named function'''\n",
    "def f1(a1,a2):\n",
    "    return a1+a2\n",
    "\n",
    "f1(10,20)"
   ]
  },
  {
   "cell_type": "code",
   "execution_count": 321,
   "id": "1a8ac4f3-45de-49a6-a570-2ded8d84b5f6",
   "metadata": {},
   "outputs": [
    {
     "data": {
      "text/plain": [
       "30"
      ]
     },
     "execution_count": 321,
     "metadata": {},
     "output_type": "execute_result"
    }
   ],
   "source": [
    "'''unnamed function'''\n",
    "f2=lambda a1,a2:a1+a2\n",
    "f2(10,20)"
   ]
  },
  {
   "cell_type": "code",
   "execution_count": 323,
   "id": "63983726-d97f-4c75-b4ae-6794898b4925",
   "metadata": {},
   "outputs": [
    {
     "data": {
      "text/plain": [
       "'HELLO'"
      ]
     },
     "execution_count": 323,
     "metadata": {},
     "output_type": "execute_result"
    }
   ],
   "source": [
    "def f3(a):\n",
    "    return a.upper()\n",
    "\n",
    "f3('hello')"
   ]
  },
  {
   "cell_type": "code",
   "execution_count": 325,
   "id": "378c5a02-3fed-46c7-a395-a7b7d88de844",
   "metadata": {},
   "outputs": [
    {
     "data": {
      "text/plain": [
       "'HELLO'"
      ]
     },
     "execution_count": 325,
     "metadata": {},
     "output_type": "execute_result"
    }
   ],
   "source": [
    "f4 = lambda a:a.upper()\n",
    "f4('hello')"
   ]
  },
  {
   "cell_type": "code",
   "execution_count": 327,
   "id": "7f429da8-a5b4-4453-9df3-4365a817aa9a",
   "metadata": {},
   "outputs": [
    {
     "data": {
      "text/plain": [
       "False"
      ]
     },
     "execution_count": 327,
     "metadata": {},
     "output_type": "execute_result"
    }
   ],
   "source": [
    "f5 = lambda a1,a2:a1 > a2\n",
    "f5(10,20)"
   ]
  },
  {
   "cell_type": "code",
   "execution_count": 329,
   "id": "3db83d0c-f9d3-41a4-b254-24e47085747e",
   "metadata": {},
   "outputs": [
    {
     "data": {
      "text/plain": [
       "True"
      ]
     },
     "execution_count": 329,
     "metadata": {},
     "output_type": "execute_result"
    }
   ],
   "source": [
    "f5(60,30)"
   ]
  },
  {
   "cell_type": "code",
   "execution_count": 331,
   "id": "a3ea0767-f67f-4154-93e3-605a15611b0d",
   "metadata": {},
   "outputs": [],
   "source": [
    "def fx(a):\n",
    "    if(a >100):\n",
    "        return a+100\n",
    "    elif(a >50 and a<60):\n",
    "        return a+200\n",
    "    else:\n",
    "        return a+300"
   ]
  },
  {
   "cell_type": "code",
   "execution_count": 333,
   "id": "a1c5a21a-6dbb-4b8b-a53d-ec15956d2cc4",
   "metadata": {},
   "outputs": [
    {
     "data": {
      "text/plain": [
       "250"
      ]
     },
     "execution_count": 333,
     "metadata": {},
     "output_type": "execute_result"
    }
   ],
   "source": [
    "f6 = lambda a:fx(a)\n",
    "f6(150)"
   ]
  },
  {
   "cell_type": "code",
   "execution_count": 335,
   "id": "fa0398b1-eaef-4a65-9bd0-0750b4206e62",
   "metadata": {},
   "outputs": [
    {
     "data": {
      "text/plain": [
       "255"
      ]
     },
     "execution_count": 335,
     "metadata": {},
     "output_type": "execute_result"
    }
   ],
   "source": [
    "f6(55)"
   ]
  },
  {
   "cell_type": "code",
   "execution_count": 337,
   "id": "ea3a8866-9e00-422c-ad1e-1f3b7d84899f",
   "metadata": {},
   "outputs": [
    {
     "data": {
      "text/plain": [
       "310"
      ]
     },
     "execution_count": 337,
     "metadata": {},
     "output_type": "execute_result"
    }
   ],
   "source": [
    "f6(10)"
   ]
  },
  {
   "cell_type": "code",
   "execution_count": 339,
   "id": "9aad8949-69e1-40c6-b766-5e8f25c0f15c",
   "metadata": {},
   "outputs": [
    {
     "data": {
      "text/plain": [
       "[101, 102, 103, 104, 105]"
      ]
     },
     "execution_count": 339,
     "metadata": {},
     "output_type": "execute_result"
    }
   ],
   "source": [
    "# list comprehension ->list append operation\n",
    "\n",
    "L = []\n",
    "for var in range(1,6):\n",
    "    r = var+100\n",
    "    L.append(r)\n",
    "\n",
    "L"
   ]
  },
  {
   "cell_type": "markdown",
   "id": "34ebe3da-f06e-4ea2-91ac-0d6ead9e305b",
   "metadata": {},
   "source": [
    "[value   for variable in collection]\n",
    " --(2)-- --------(1)----------"
   ]
  },
  {
   "cell_type": "code",
   "execution_count": 341,
   "id": "094af6a1-809d-4407-ad3e-3459208addc7",
   "metadata": {},
   "outputs": [
    {
     "data": {
      "text/plain": [
       "[101, 102, 103, 104, 105]"
      ]
     },
     "execution_count": 341,
     "metadata": {},
     "output_type": "execute_result"
    }
   ],
   "source": [
    "[var+100 for var in range(1,6)]"
   ]
  },
  {
   "cell_type": "code",
   "execution_count": 343,
   "id": "e14d6395-4f4c-46e9-854a-dd4e6d772f9f",
   "metadata": {},
   "outputs": [
    {
     "data": {
      "text/plain": [
       "{'K1': [101, 102, 103, 104, 105]}"
      ]
     },
     "execution_count": 343,
     "metadata": {},
     "output_type": "execute_result"
    }
   ],
   "source": [
    "d={}\n",
    "d['K1']=[var+100 for var in range(1,6)]\n",
    "d"
   ]
  },
  {
   "cell_type": "code",
   "execution_count": 345,
   "id": "4497b46d-7369-4e76-b75e-90cf6e5a09e4",
   "metadata": {},
   "outputs": [
    {
     "data": {
      "text/plain": [
       "[104, 105]"
      ]
     },
     "execution_count": 345,
     "metadata": {},
     "output_type": "execute_result"
    }
   ],
   "source": [
    "L = []\n",
    "for var in range(1,6):\n",
    "    if(var >3):\n",
    "        r = var+100\n",
    "        L.append(r)\n",
    "L"
   ]
  },
  {
   "cell_type": "code",
   "execution_count": 347,
   "id": "3b5e6a3a-c35f-4046-8e17-e380dbf82d15",
   "metadata": {},
   "outputs": [
    {
     "data": {
      "text/plain": [
       "[104, 105]"
      ]
     },
     "execution_count": 347,
     "metadata": {},
     "output_type": "execute_result"
    }
   ],
   "source": [
    "[var+100 for var in range(1,6) if var>3]"
   ]
  },
  {
   "cell_type": "code",
   "execution_count": 349,
   "id": "84ebe1b6-378b-425b-9b2b-c5183b5bfc4f",
   "metadata": {},
   "outputs": [
    {
     "data": {
      "text/plain": [
       "[301, 302, 303, 104, 105]"
      ]
     },
     "execution_count": 349,
     "metadata": {},
     "output_type": "execute_result"
    }
   ],
   "source": [
    "L = []\n",
    "for var in range(1,6):\n",
    "    if(var >3):\n",
    "        r = var+100\n",
    "        L.append(r)\n",
    "    else:\n",
    "        r = var+300\n",
    "        L.append(r)\n",
    "L"
   ]
  },
  {
   "cell_type": "code",
   "execution_count": 351,
   "id": "675e8640-f356-41c0-894a-5e8142d238d8",
   "metadata": {},
   "outputs": [
    {
     "data": {
      "text/plain": [
       "[301, 302, 303, 104, 105]"
      ]
     },
     "execution_count": 351,
     "metadata": {},
     "output_type": "execute_result"
    }
   ],
   "source": [
    "[var+100 if var >3 else var+300 for var in range(1,6)]"
   ]
  },
  {
   "cell_type": "markdown",
   "id": "1e01eb75-e5fb-4e16-90b5-272b6c7fa2cf",
   "metadata": {},
   "source": [
    "# Generator\n",
    "# -----------\n",
    "function - returns an address - generator\n",
    "           --------yield----------"
   ]
  },
  {
   "cell_type": "code",
   "execution_count": 353,
   "id": "a3c3ef42-8791-4b41-a23a-78d4cc1ba8e5",
   "metadata": {},
   "outputs": [
    {
     "name": "stdout",
     "output_type": "stream",
     "text": [
      "<class 'function'> <class 'function'>\n"
     ]
    }
   ],
   "source": [
    "def fa():\n",
    "    return 10\n",
    "\n",
    "def fb():\n",
    "    yield 10\n",
    "\n",
    "print(type(fa),type(fb))"
   ]
  },
  {
   "cell_type": "code",
   "execution_count": 355,
   "id": "15e4b40a-2b2b-4e0d-bef0-f8a23c66004f",
   "metadata": {},
   "outputs": [
    {
     "name": "stdout",
     "output_type": "stream",
     "text": [
      "<class 'int'> <class 'generator'>\n"
     ]
    }
   ],
   "source": [
    "print(type(fa()),type(fb()))"
   ]
  },
  {
   "cell_type": "code",
   "execution_count": 357,
   "id": "12669d8c-6079-4369-aa62-8f736ed8ccac",
   "metadata": {},
   "outputs": [
    {
     "data": {
      "text/plain": [
       "10"
      ]
     },
     "execution_count": 357,
     "metadata": {},
     "output_type": "execute_result"
    }
   ],
   "source": [
    "fa()"
   ]
  },
  {
   "cell_type": "code",
   "execution_count": 359,
   "id": "e8b1f386-ae9e-4566-a28b-eb0b880edef0",
   "metadata": {},
   "outputs": [
    {
     "data": {
      "text/plain": [
       "<generator object fb at 0x00000201AFE74930>"
      ]
     },
     "execution_count": 359,
     "metadata": {},
     "output_type": "execute_result"
    }
   ],
   "source": [
    "fb()"
   ]
  },
  {
   "cell_type": "markdown",
   "id": "e317ab9b-5239-4da8-9534-53ae2d2c3247",
   "metadata": {},
   "source": [
    "1. next(genobj) ->value...StopIteration\n",
    "2. for loop -> for var in geobj: ..\n",
    "3. type cast to list -> list(genobj)"
   ]
  },
  {
   "cell_type": "code",
   "execution_count": 361,
   "id": "6439da57-7759-4e28-9402-c542c75be866",
   "metadata": {},
   "outputs": [],
   "source": [
    "def fb():\n",
    "    yield 10\n",
    "    yield \"D1\",\"D2\"\n",
    "    yield \"D1\",[\"F1\",\"F2\"],[\"F3\",\"F4\"]\n",
    "    yield 10+20*30"
   ]
  },
  {
   "cell_type": "code",
   "execution_count": 363,
   "id": "3de189d1-3520-4929-a2ae-1214791d05ff",
   "metadata": {},
   "outputs": [],
   "source": [
    "gen_obj = fb()"
   ]
  },
  {
   "cell_type": "code",
   "execution_count": 365,
   "id": "d0057026-2290-4263-87a6-87a5189c2253",
   "metadata": {},
   "outputs": [
    {
     "name": "stdout",
     "output_type": "stream",
     "text": [
      "10\n",
      "('D1', 'D2')\n",
      "('D1', ['F1', 'F2'], ['F3', 'F4'])\n",
      "610\n"
     ]
    },
    {
     "ename": "StopIteration",
     "evalue": "",
     "output_type": "error",
     "traceback": [
      "\u001b[1;31m---------------------------------------------------------------------------\u001b[0m",
      "\u001b[1;31mStopIteration\u001b[0m                             Traceback (most recent call last)",
      "Cell \u001b[1;32mIn[365], line 5\u001b[0m\n\u001b[0;32m      3\u001b[0m \u001b[38;5;28mprint\u001b[39m(\u001b[38;5;28mnext\u001b[39m(gen_obj))\n\u001b[0;32m      4\u001b[0m \u001b[38;5;28mprint\u001b[39m(\u001b[38;5;28mnext\u001b[39m(gen_obj))\n\u001b[1;32m----> 5\u001b[0m \u001b[38;5;28mprint\u001b[39m(\u001b[38;5;28mnext\u001b[39m(gen_obj))\n",
      "\u001b[1;31mStopIteration\u001b[0m: "
     ]
    }
   ],
   "source": [
    "print(next(gen_obj))\n",
    "print(next(gen_obj))\n",
    "print(next(gen_obj))\n",
    "print(next(gen_obj))\n",
    "print(next(gen_obj))"
   ]
  },
  {
   "cell_type": "code",
   "execution_count": 367,
   "id": "e9770f17-a643-4c56-8a70-aa37eeac7482",
   "metadata": {},
   "outputs": [
    {
     "name": "stdout",
     "output_type": "stream",
     "text": [
      "10\n",
      "('D1', 'D2')\n",
      "('D1', ['F1', 'F2'], ['F3', 'F4'])\n",
      "610\n"
     ]
    }
   ],
   "source": [
    "gen_obj = fb()\n",
    "for var in gen_obj:\n",
    "    print(var)"
   ]
  },
  {
   "cell_type": "code",
   "execution_count": 369,
   "id": "ad893f71-34cd-4006-ac48-e2df48a4f5f4",
   "metadata": {},
   "outputs": [
    {
     "data": {
      "text/plain": [
       "[10, ('D1', 'D2'), ('D1', ['F1', 'F2'], ['F3', 'F4']), 610]"
      ]
     },
     "execution_count": 369,
     "metadata": {},
     "output_type": "execute_result"
    }
   ],
   "source": [
    "gen_obj = fb()\n",
    "list(gen_obj)"
   ]
  },
  {
   "cell_type": "code",
   "execution_count": null,
   "id": "dcaba52b-34a3-4ce6-b050-700f0ff6b22e",
   "metadata": {},
   "outputs": [],
   "source": [
    ">>> import os\n",
    ">>> os.listdir(\"D1\")\n",
    "['D2', 'L1', 'L2', 'p1.log']\n",
    ">>>\n",
    ">>> os.walk(\"D1\")\n",
    "<generator object walk at 0x000002A49F244320>\n",
    ">>> gen_obj = os.walk(\"D1\")\n",
    ">>> for var in gen_obj:\n",
    "...     print(var)\n",
    "...\n",
    "('D1', ['D2', 'L1', 'L2'], ['p1.log'])\n",
    "('D1\\\\D2', ['D3'], ['ab.txt'])\n",
    "('D1\\\\D2\\\\D3', ['D4', 'Dx'], ['p1.log'])\n",
    "('D1\\\\D2\\\\D3\\\\D4', [], ['ab.log'])\n",
    "('D1\\\\D2\\\\D3\\\\Dx', [], [])\n",
    "('D1\\\\L1', [], [])\n",
    "('D1\\\\L2', [], ['p.txt'])\n",
    ">>> bool([])\n",
    "False\n",
    ">>>\n",
    "$ ls -R D1  <== Linux Commandline \n",
    "D1:\n",
    "D2/  L1/  L2/  p1.log\n",
    "\n",
    "D1/D2:\n",
    "D3/  ab.txt\n",
    "\n",
    "D1/D2/D3:\n",
    "D4/  Dx/  p1.log\n",
    "\n",
    "D1/D2/D3/D4:\n",
    "ab.log\n",
    "\n",
    "D1/D2/D3/Dx:\n",
    "\n",
    "D1/L1:\n",
    "\n",
    "D1/L2:\n",
    "p.txt\n"
   ]
  },
  {
   "cell_type": "code",
   "execution_count": null,
   "id": "5f1e5420-fcfd-4eda-aaf8-b90f042c7076",
   "metadata": {},
   "outputs": [],
   "source": [
    "map,filter\n",
    "|\n",
    "map(function,collection) -> generator\n",
    "    |          |\n",
    "   lambda     comprehension/iterable/open(inputFile)"
   ]
  },
  {
   "cell_type": "code",
   "execution_count": 371,
   "id": "59a9f1aa-1582-403a-b16d-1a65ea5257c8",
   "metadata": {},
   "outputs": [
    {
     "data": {
      "text/plain": [
       "[101, 102, 103, 104, 105]"
      ]
     },
     "execution_count": 371,
     "metadata": {},
     "output_type": "execute_result"
    }
   ],
   "source": [
    "L=[]\n",
    "def f1(a):\n",
    "    return a+100\n",
    "\n",
    "for var in range(1,6):\n",
    "    r = f1(var)\n",
    "    L.append(r)\n",
    "\n",
    "L"
   ]
  },
  {
   "cell_type": "code",
   "execution_count": 373,
   "id": "472edb4b-2bea-4081-9c36-f59c41fcfdfa",
   "metadata": {},
   "outputs": [
    {
     "data": {
      "text/plain": [
       "<map at 0x201ae7c4100>"
      ]
     },
     "execution_count": 373,
     "metadata": {},
     "output_type": "execute_result"
    }
   ],
   "source": [
    "map(lambda a:a+100,range(1,6))"
   ]
  },
  {
   "cell_type": "code",
   "execution_count": 375,
   "id": "474bf096-22c2-4607-a659-893a3d800a1c",
   "metadata": {},
   "outputs": [
    {
     "data": {
      "text/plain": [
       "[101, 102, 103, 104, 105]"
      ]
     },
     "execution_count": 375,
     "metadata": {},
     "output_type": "execute_result"
    }
   ],
   "source": [
    "list(map(lambda a:a+100,range(1,6)))"
   ]
  },
  {
   "cell_type": "code",
   "execution_count": 379,
   "id": "5df5ed82-c469-440f-857c-3a7e012f3058",
   "metadata": {},
   "outputs": [
    {
     "data": {
      "text/plain": [
       "[[101, 102, 103, 104, 105]]"
      ]
     },
     "execution_count": 379,
     "metadata": {},
     "output_type": "execute_result"
    }
   ],
   "source": [
    "d={}\n",
    "d['K1']=list(map(lambda a:a+100,range(1,6)))\n",
    "L=[]\n",
    "L.append(list(map(lambda a:a+100,range(1,6))))\n",
    "L\n",
    "#for var in list(map(lambda a:a+100,range(1,6))):\n",
    "#   ..."
   ]
  },
  {
   "cell_type": "markdown",
   "id": "67d4ac04-db66-49ad-837a-37143df27e71",
   "metadata": {},
   "source": [
    "map(function,collection) -> generator\n",
    "|\n",
    "filter(function,collection) ->generator \n",
    "------// returns True value only"
   ]
  },
  {
   "cell_type": "code",
   "execution_count": 383,
   "id": "cedcd83f-6dda-4d48-928d-220f6059bda0",
   "metadata": {},
   "outputs": [
    {
     "data": {
      "text/plain": [
       "[False, False, True, True, True]"
      ]
     },
     "execution_count": 383,
     "metadata": {},
     "output_type": "execute_result"
    }
   ],
   "source": [
    "list(map(lambda a1:a1 >15,[10,15,20,30,45]))"
   ]
  },
  {
   "cell_type": "code",
   "execution_count": 385,
   "id": "81334e03-aff0-40e3-ae92-c2bd55c3b0ba",
   "metadata": {},
   "outputs": [
    {
     "data": {
      "text/plain": [
       "[20, 30, 45]"
      ]
     },
     "execution_count": 385,
     "metadata": {},
     "output_type": "execute_result"
    }
   ],
   "source": [
    "list(filter(lambda a1:a1 >15,[10,15,20,30,45]))"
   ]
  },
  {
   "cell_type": "code",
   "execution_count": 389,
   "id": "a1570992-3c74-44c5-ac0f-4c57361398aa",
   "metadata": {},
   "outputs": [
    {
     "data": {
      "text/plain": [
       "[10, 15, 20, 30, 45]"
      ]
     },
     "execution_count": 389,
     "metadata": {},
     "output_type": "execute_result"
    }
   ],
   "source": [
    "list(filter(lambda a1:a1+100,[10,15,20,30,45]))\n",
    "# filter won't support arithemetic "
   ]
  },
  {
   "cell_type": "raw",
   "id": "16dc99a4-0fd4-45aa-a1d6-804bcbda0072",
   "metadata": {},
   "source": [
    "#####################  Thank you ################"
   ]
  }
 ],
 "metadata": {
  "kernelspec": {
   "display_name": "Python 3 (ipykernel)",
   "language": "python",
   "name": "python3"
  },
  "language_info": {
   "codemirror_mode": {
    "name": "ipython",
    "version": 3
   },
   "file_extension": ".py",
   "mimetype": "text/x-python",
   "name": "python",
   "nbconvert_exporter": "python",
   "pygments_lexer": "ipython3",
   "version": "3.12.3"
  }
 },
 "nbformat": 4,
 "nbformat_minor": 5
}
